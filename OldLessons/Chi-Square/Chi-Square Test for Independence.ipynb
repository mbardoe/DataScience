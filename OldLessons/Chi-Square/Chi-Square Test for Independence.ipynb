{
 "cells": [
  {
   "cell_type": "raw",
   "metadata": {
    "collapsed": false
   },
   "source": [
   ]
  }
 ],
 "metadata": {
  "kernelspec": {
   "display_name": "R (SageMath)",
   "language": "r",
   "metadata": {
    "cocalc": {
     "description": "SageMath's R language environment",
     "priority": 0,
     "url": "https://www.sagemath.org/"
    }
   },
   "name": "ir-sage"
  },
  "language_info": {
   "codemirror_mode": "r",
   "file_extension": ".r",
   "mimetype": "text/x-r-source",
   "name": "R",
   "pygments_lexer": "r",
   "version": "3.4.4"
  }
 },
 "nbformat": 4,
 "nbformat_minor": 0
}