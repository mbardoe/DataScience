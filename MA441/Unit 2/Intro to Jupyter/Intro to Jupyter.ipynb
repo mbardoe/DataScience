{
 "cells": [
  {
   "cell_type": "markdown",
   "metadata": {
    "collapsed": false
   },
   "source": [
    "# Intro to Markdown, Jupyter Notebook, and R\n",
    "\n",
    "## R Packages\n",
    "\n",
    "R is an open-source programming language, meaning that users can contribute\n",
    "packages that make our lives easier, and we can use them for free. For this lab,\n",
    "and many others in the future, we will use the following R packages:\n",
    "\n",
    "- `dplyr`: for data wrangling\n",
    "- `ggplot2`: for data visualization\n",
    "\n",
    "Next, you need to load the packages in your working environment. We do this with\n",
    "the `library` function. Note that you only need to **install** packages once, but\n",
    "you need to **load** them each time.\n",
    "\n",
    "```{r load-packages, message = FALSE}\n",
    "library(dplyr)\n",
    "library(ggplot2)\n",
    "```\n"
   ]
  },
  {
   "cell_type": "code",
   "execution_count": 0,
   "metadata": {
    "collapsed": false
   },
   "outputs": [
   ],
   "source": [
    "\n",
    "\n",
    "\n"
   ]
  },
  {
   "cell_type": "markdown",
   "metadata": {
    "collapsed": false
   },
   "source": [
    "Going forward you will be asked to load any relevant packages at the beginning\n",
    "of each lab.\n",
    "\n",
    "## Dataset 1: Dr. Arbuthnot's Baptism Records\n",
    "\n",
    "To get you started, enter the following command at the R prompt.\n",
    "```{r load-abrbuthnot-data}\n",
    "source(\"http://www.openintro.org/stat/data/arbuthnot.R\")\n",
    "```"
   ]
  },
  {
   "cell_type": "code",
   "execution_count": 0,
   "metadata": {
    "collapsed": false
   },
   "outputs": [
   ],
   "source": [
   ]
  },
  {
   "cell_type": "markdown",
   "metadata": {
    "collapsed": false
   },
   "source": [
    "This command instructs R to load some data. The Arbuthnot baptism counts for boys \n",
    "and girls. \n",
    "\n",
    "The Arbuthnot data set refers to Dr. John Arbuthnot, an 18<sup>th</sup> century \n",
    "physician, writer, and mathematician. He was interested in the ratio of newborn\n",
    "boys to newborn girls, so he gathered the baptism records for children born in\n",
    "London for every year from 1629 to 1710. We can take a look at the data by \n",
    "typing its name into an active R cell.\n",
    "\n",
    "```{r view-data}\n",
    "arbuthnot\n",
    "```\n",
    "\n"
   ]
  },
  {
   "cell_type": "code",
   "execution_count": 0,
   "metadata": {
    "collapsed": false,
    "scrolled": true
   },
   "outputs": [
   ],
   "source": [
   ]
  },
  {
   "cell_type": "markdown",
   "metadata": {
    "collapsed": false
   },
   "source": [
    "However printing the whole dataset in the cell is not that useful. Arbuthnot's data in a kind of spreadsheet or table called a *data frame*.\n",
    "\n",
    "You can see the dimensions of this data frame by typing:\n",
    "\n",
    "```{r dim-data}\n",
    "dim(arbuthnot)\n",
    "```\n",
    "\n",
    "And you can see just the top part of a dataset by using the *head* command:\n",
    "\n",
    "```{r head-data}\n",
    "head(arbuthnot)\n",
    "```"
   ]
  },
  {
   "cell_type": "code",
   "execution_count": 0,
   "metadata": {
    "collapsed": false
   },
   "outputs": [
   ],
   "source": [
   ]
  },
  {
   "cell_type": "code",
   "execution_count": 0,
   "metadata": {
    "collapsed": false
   },
   "outputs": [
   ],
   "source": [
   ]
  },
  {
   "cell_type": "markdown",
   "metadata": {
    "collapsed": false
   },
   "source": [
    "The *dim* command should output `82 3`, indicating that there are 82 rows and 3 \n",
    "columns. You can see the names of these columns (or \n",
    "variables) by typing:\n",
    "\n",
    "```{r names-data}\n",
    "names(arbuthnot)\n",
    "```\n"
   ]
  },
  {
   "cell_type": "code",
   "execution_count": 0,
   "metadata": {
    "collapsed": false
   },
   "outputs": [
   ],
   "source": [
   ]
  },
  {
   "cell_type": "markdown",
   "metadata": {
    "collapsed": false
   },
   "source": [
    "You should see that the data frame contains the columns `year`,  `boys`, and \n",
    "`girls`. At this point, you might notice that many of the commands in R look a \n",
    "lot like functions from math class; that is, invoking R commands means supplying\n",
    "a function with some number of arguments. The `dim` and `names` commands, for \n",
    "example, each took a single argument, the name of a data frame.\n"
   ]
  },
  {
   "cell_type": "markdown",
   "metadata": {
    "collapsed": false
   },
   "source": [
    "### Some Exploration\n",
    "\n",
    "Let's start to examine the data a little more closely. We can access the data in\n",
    "a single column of a data frame separately using a command like\n",
    "\n",
    "```{r view-boys}\n",
    "arbuthnot$boys\n",
    "```\n",
    "\n",
    "This command will only show the number of boys baptized each year. The dollar\n",
    "sign basically says \"go to the data frame that comes before me, and find the \n",
    "variable that comes after me\".\n"
   ]
  },
  {
   "cell_type": "code",
   "execution_count": 0,
   "metadata": {
    "collapsed": false
   },
   "outputs": [
   ],
   "source": [
   ]
  },
  {
   "cell_type": "code",
   "execution_count": 0,
   "metadata": {
    "collapsed": false
   },
   "outputs": [
   ],
   "source": [
   ]
  },
  {
   "cell_type": "markdown",
   "metadata": {
    "collapsed": false
   },
   "source": [
    "Notice that the way R has printed these data is different. When we looked at the\n",
    "complete data frame, we saw 82 rows, one on each line of the display. These data\n",
    "are no longer structured in a table with other variables, so they are displayed \n",
    "one right after another. Objects that print out in this way are called vectors; \n",
    "they represent a set of numbers. \n",
    "\n",
    "R has some powerful functions for making graphics. We can create a simple plot \n",
    "of the number of girls baptized per year with the command\n",
    "\n",
    "```{r plot-girls-vs-year}\n",
    "ggplot(data = arbuthnot, aes(x = year, y = girls)) +\n",
    "  geom_point()\n",
    "```"
   ]
  },
  {
   "cell_type": "code",
   "execution_count": 0,
   "metadata": {
    "collapsed": false
   },
   "outputs": [
   ],
   "source": [
   ]
  },
  {
   "cell_type": "markdown",
   "metadata": {
    "collapsed": false
   },
   "source": [
    "Before we review the code for this plot, let's summarize the trends we see in the \n",
    "data. Go the 'Cell' option above and change the type of the following cell to 'markdown'. Markdown is a way to format your text to make it look nice. Write your name and short description of the plot above. Then go online and find how to format your text in markdown to make your name in __bold__. "
   ]
  },
  {
   "cell_type": "code",
   "execution_count": 0,
   "metadata": {
    "collapsed": false
   },
   "outputs": [
   ],
   "source": [
   ]
  },
  {
   "cell_type": "markdown",
   "metadata": {
    "collapsed": false
   },
   "source": [
    "Back to the code... We use the `ggplot()` function to build plots. If you run the \n",
    "plotting code in your console, you should see the plot appear under the *Plots* tab \n",
    "of the lower right panel of RStudio. Notice that the command above again looks like \n",
    "a function, this time with arguments separated by commas. \n",
    "\n",
    "- The first argument is always the dataset. \n",
    "- Next, we provide thevariables from the dataset to be assigned to `aes`thetic \n",
    "elements of the plot, e.g. the x and the y axes. \n",
    "- Finally, we use another layer, separated by a `+` to specify the `geom`etric \n",
    "object for the plot. Since we want to scatterplot, we use `geom_point`.\n",
    "\n",
    "You might wonder how you are supposed to know the syntax for the `ggplot` function. \n",
    "Thankfully, R documents all of its functions extensively. To read what a function \n",
    "does and learn the arguments that are available to you, just type in a question mark \n",
    "followed by the name of the function that you're interested in. Try the following in\n",
    "your console:\n",
    "\n",
    "```{r plot-help, tidy = FALSE}\n",
    "?ggplot\n",
    "```\n"
   ]
  },
  {
   "cell_type": "code",
   "execution_count": 0,
   "metadata": {
    "collapsed": false
   },
   "outputs": [
   ],
   "source": [
   ]
  },
  {
   "cell_type": "markdown",
   "metadata": {
    "collapsed": false
   },
   "source": [
    "### R as a big calculator\n",
    "\n",
    "Now, suppose we want to plot the total number of baptisms. To compute this, we \n",
    "could use the fact that R is really just a big calculator. We can type in \n",
    "mathematical expressions like\n",
    "\n",
    "```{r calc-total-bapt-numbers}\n",
    "5218 + 4683\n",
    "```\n",
    "\n",
    "to see the total number of baptisms in 1629. We could repeat this once for each \n",
    "year, but there is a faster way. If we add the vector for baptisms for boys to \n",
    "that of girls, R will compute all sums simultaneously.\n",
    "\n",
    "```{r calc-total-bapt-vars}\n",
    "arbuthnot$boys + arbuthnot$girls\n",
    "```"
   ]
  },
  {
   "cell_type": "code",
   "execution_count": 0,
   "metadata": {
    "collapsed": false
   },
   "outputs": [
   ],
   "source": [
   ]
  },
  {
   "cell_type": "code",
   "execution_count": 0,
   "metadata": {
    "collapsed": false
   },
   "outputs": [
   ],
   "source": [
   ]
  },
  {
   "cell_type": "code",
   "execution_count": 0,
   "metadata": {
    "collapsed": false
   },
   "outputs": [
   ],
   "source": [
   ]
  },
  {
   "cell_type": "markdown",
   "metadata": {
    "collapsed": false
   },
   "source": [
    "What you will see are 82 numbers (in that packed display, because we aren’t \n",
    "looking at a data frame here), each one representing the sum we’re after. Take a\n",
    "look at a few of them and verify that they are right.\n",
    "\n",
    "### Adding a new variable to the data frame\n",
    "\n",
    "We'll be using this new vector to generate some plots, so we'll want to save it \n",
    "as a permanent column in our data frame.\n",
    "\n",
    "```{r calc-total-bapt-vars-save}\n",
    "arbuthnot <- arbuthnot %>%\n",
    "  mutate(total = boys + girls)\n",
    "```\n"
   ]
  },
  {
   "cell_type": "code",
   "execution_count": 0,
   "metadata": {
    "collapsed": false
   },
   "outputs": [
   ],
   "source": [
   ]
  },
  {
   "cell_type": "code",
   "execution_count": 0,
   "metadata": {
    "collapsed": false
   },
   "outputs": [
   ],
   "source": [
   ]
  },
  {
   "cell_type": "code",
   "execution_count": 0,
   "metadata": {
    "collapsed": false
   },
   "outputs": [
   ],
   "source": [
   ]
  },
  {
   "cell_type": "markdown",
   "metadata": {
    "collapsed": false
   },
   "source": [
    "What in the world is going on here? The `%>%` operator is called the **piping** \n",
    "operator. Basically, it takes the output of the current line and pipes it into \n",
    "the following line of code.\n"
   ]
  },
  {
   "cell_type": "markdown",
   "metadata": {
    "collapsed": false
   },
   "source": [
    "**A note on piping: ** Note that we can read these three lines of code as the following: \n",
    "\n",
    "*\"Take the `arbuthnot` dataset and **pipe** it into the `mutate` function. \n",
    "Using this mutate a new variable called `total` that is the sum of the variables\n",
    "called `boys` and `girls`. Then assign this new resulting dataset to the object\n",
    "called `arbuthnot`, i.e. overwrite the old `arbuthnot` dataset with the new one\n",
    "containing the new variable.\"*\n",
    "\n",
    "This is essentially equivalent to going through each row and adding up the boys \n",
    "and girls counts for that year and recording that value in a new column called\n",
    "total."
   ]
  },
  {
   "cell_type": "markdown",
   "metadata": {
    "collapsed": false
   },
   "source": [
    "**Where is the new variable? ** When you make changes to variables in your dataset, \n",
    "click on the name of the dataset again to update it in the data viewer.\n",
    "\n",
    "```{r names-data}\n",
    "names(arbuthnot)\n",
    "```"
   ]
  },
  {
   "cell_type": "code",
   "execution_count": 0,
   "metadata": {
    "collapsed": false
   },
   "outputs": [
   ],
   "source": [
   ]
  },
  {
   "cell_type": "markdown",
   "metadata": {
    "collapsed": false
   },
   "source": [
    "You'll see that there is now a new column called `total` that has been tacked on\n",
    "to the data frame. The special symbol `<-` performs an *assignment*, taking the \n",
    "output of one line of code and saving it into an object in your workspace. In \n",
    "this case, you already have an object called `arbuthnot`, so this command updates\n",
    "that data set with the new mutated column.\n",
    "\n",
    "We can make a plot of the total number of baptisms per year with the following command.\n",
    "\n",
    "```{r plot-total-vs-year-line}\n",
    "ggplot(data = arbuthnot, aes(x = year, y = total)) +\n",
    "  geom_line()"
   ]
  },
  {
   "cell_type": "code",
   "execution_count": 0,
   "metadata": {
    "collapsed": false
   },
   "outputs": [
   ],
   "source": [
   ]
  },
  {
   "cell_type": "markdown",
   "metadata": {
    "collapsed": false
   },
   "source": [
    "Note that using `geom_line()` instead of `geom_point()` results in a line plot instead\n",
    "of a scatter plot. You want both? Just layer them on:\n",
    "\n",
    "```{r plot-total-vs-year-line-and-point}\n",
    "ggplot(data = arbuthnot, aes(x = year, y = total)) +\n",
    "  geom_line() +\n",
    "  geom_point()\n",
    "```\n",
    "\n",
    "**Exercise**: Now, generate a plot of the proportion of boys born over time. What \n",
    "do you see? Write your answer in markdown below. Feel free to insert a cell.\n",
    "\n",
    "```{r plot-proportion-of-boys-over-time}\n",
    "\n",
    "ggplot(data = arbuthnot, aes(x = year, y = boys/total)) +\n",
    "  \n",
    "  geom_point()\n",
    "```\n",
    "\n"
   ]
  },
  {
   "cell_type": "code",
   "execution_count": 0,
   "metadata": {
    "collapsed": false
   },
   "outputs": [
   ],
   "source": [
   ]
  },
  {
   "cell_type": "markdown",
   "metadata": {
    "collapsed": false
   },
   "source": [
    "Finally, in addition to simple mathematical operators like subtraction and \n",
    "division, you can ask R to make comparisons like greater than, `>`, less than,\n",
    "`<`, and equality, `==`. For example, we can ask if boys outnumber girls in each \n",
    "year with the expression\n",
    "\n",
    "```{r boys-more-than-girls}\n",
    "arbuthnot <- arbuthnot %>%\n",
    "  mutate(more_boys = boys > girls)\n",
    "```"
   ]
  },
  {
   "cell_type": "code",
   "execution_count": 0,
   "metadata": {
    "collapsed": false
   },
   "outputs": [
   ],
   "source": [
   ]
  },
  {
   "cell_type": "markdown",
   "metadata": {
    "collapsed": false
   },
   "source": [
    "This command adds a new variable to the `arbuthnot` data frame containing the values\n",
    "of either `TRUE` if that year had more boys than girls, or `FALSE` if that year \n",
    "did not (the answer may surprise you). This variable contains different kind of \n",
    "data than we have considered so far. All other columns in the `arbuthnot` data \n",
    "frame have values are numerical (the year, the number of boys and girls). Here, \n",
    "we've asked R to create *logical* data, data where the values are either `TRUE` \n",
    "or `FALSE`. In general, data analysis will involve many different kinds of data \n",
    "types, and one reason for using R is that it is able to represent and compute \n",
    "with many of them."
   ]
  },
  {
   "cell_type": "markdown",
   "metadata": {
    "collapsed": false
   },
   "source": [
    "## Dataset 2: Present birth records\n",
    "\n",
    "In the previous few pages, you recreated some of the displays and preliminary \n",
    "analysis of Arbuthnot's baptism data. Next you will do a similar analysis, \n",
    "but for present day birth records in the United States. Load up the \n",
    "present day data with the following command.\n",
    "\n",
    "\n",
    "```{r load-present-data}\n",
    "present<-read.csv(\"present.csv\")\n",
    "```"
   ]
  },
  {
   "cell_type": "code",
   "execution_count": 0,
   "metadata": {
    "collapsed": false
   },
   "outputs": [
   ],
   "source": [
   ]
  },
  {
   "cell_type": "markdown",
   "metadata": {
    "collapsed": false
   },
   "source": [
    "The data are stored in a data frame called `present` which should now be loaded in \n",
    "your workspace.\n",
    "\n",
    "4. How many variables are included in this data set?\n",
    "<ol>\n",
    "<li> 2 </li>\n",
    "<li> 3 </li>\n",
    "<li> 4 </li>\n",
    "<li> 74 </li>\n",
    "<li> 2013 </li>\n",
    "</ol>"
   ]
  },
  {
   "cell_type": "code",
   "execution_count": 0,
   "metadata": {
    "collapsed": false
   },
   "outputs": [
   ],
   "source": [
   ]
  },
  {
   "cell_type": "code",
   "execution_count": 0,
   "metadata": {
    "collapsed": false
   },
   "outputs": [
   ],
   "source": [
    "\n"
   ]
  },
  {
   "cell_type": "markdown",
   "metadata": {
    "collapsed": false
   },
   "source": [
    "**Exercise**: What years are included in this dataset? **Hint:** Use the `range` \n",
    "function and `present$year` as its argument."
   ]
  },
  {
   "cell_type": "code",
   "execution_count": 0,
   "metadata": {
    "collapsed": false
   },
   "outputs": [
   ],
   "source": [
   ]
  },
  {
   "cell_type": "code",
   "execution_count": 0,
   "metadata": {
    "collapsed": false
   },
   "outputs": [
   ],
   "source": [
   ]
  },
  {
   "cell_type": "markdown",
   "metadata": {
    "collapsed": false
   },
   "source": [
    "Calculate the total number of births for each year and store these values in a new \n",
    "variable called `total` in the `present` dataset. Then, calculate the proportion of \n",
    "boys born each year and store these values in a new variable called `prop_boys` in \n",
    "the same dataset. Plot these values over time and based on the plot determine if the \n",
    "following statement is true or false: The proportion of boys born in the US has \n",
    "decreased over time. \n",
    "<ol>\n",
    "<li> True </li>\n",
    "<li> False </li>\n",
    "</ol>"
   ]
  },
  {
   "cell_type": "code",
   "execution_count": 0,
   "metadata": {
    "collapsed": false
   },
   "outputs": [
   ],
   "source": [
   ]
  },
  {
   "cell_type": "code",
   "execution_count": 0,
   "metadata": {
    "collapsed": false
   },
   "outputs": [
   ],
   "source": [
   ]
  },
  {
   "cell_type": "code",
   "execution_count": 0,
   "metadata": {
    "collapsed": false
   },
   "outputs": [
   ],
   "source": [
   ]
  },
  {
   "cell_type": "markdown",
   "metadata": {
    "collapsed": false
   },
   "source": [
    "Create a new variable called `more_boys` which contains the value of either `TRUE` \n",
    "if that year had more boys than girls, or `FALSE` if that year did not. Based on this \n",
    "variable which of the following statements is true? \n",
    "<ol>\n",
    "<li> Every year there are more girls born than boys. </li>\n",
    "<li> Every year there are more boys born than girls. </li>\n",
    "<li> Half of the years there are more boys born, and the other half more girls born. </li>\n",
    "</ol>"
   ]
  },
  {
   "cell_type": "code",
   "execution_count": 0,
   "metadata": {
    "collapsed": false
   },
   "outputs": [
   ],
   "source": [
   ]
  },
  {
   "cell_type": "markdown",
   "metadata": {
    "collapsed": false
   },
   "source": [
    "Calculate the boy-to-girl ratio each year, and store these values in a new variable called `prop_boy_girl` in the `present` dataset. Plot these values over time. Which of the following best describes the trend? \n",
    "<ol>\n",
    "<li> There appears to be no trend in the boy-to-girl ratio from 1940 to 2013. </li>\n",
    "<li> There is initially an increase in boy-to-girl ratio, which peaks around 1960. After 1960 there is a decrease in the boy-to-girl ratio, but the number begins to increase in the mid 1970s. </li>\n",
    "<li> There is initially a decrease in the boy-to-girl ratio, and then an increase between 1960 and 1970, followed by a decrease. </li>\n",
    "<li> The boy-to-girl ratio has increased over time. </li>\n",
    "<li> There is an initial decrease in the boy-to-girl ratio born but this number appears to level around 1960 and remain constant since then. </li>\n",
    "</ol>"
   ]
  },
  {
   "cell_type": "code",
   "execution_count": 0,
   "metadata": {
    "collapsed": false
   },
   "outputs": [
   ],
   "source": [
   ]
  },
  {
   "cell_type": "markdown",
   "metadata": {
    "collapsed": false
   },
   "source": [
    "In what year did we see the most total number of births in the U.S.? *Hint:* Sort \n",
    "your dataset in descending order based on the `total` column. \n",
    "<ol>\n",
    "<li> 1940 </li>\n",
    "<li> 1957 </li>\n",
    "<li> 1961 </li>\n",
    "<li> 1991 </li>\n",
    "<li> 2007 </li>\n",
    "</ol>\n"
   ]
  },
  {
   "cell_type": "code",
   "execution_count": 0,
   "metadata": {
    "collapsed": false,
    "scrolled": true
   },
   "outputs": [
   ],
   "source": [
   ]
  },
  {
   "cell_type": "code",
   "execution_count": 0,
   "metadata": {
    "collapsed": false
   },
   "outputs": [
   ],
   "source": [
   ]
  },
  {
   "cell_type": "markdown",
   "metadata": {
    "collapsed": false
   },
   "source": [
    "## Resources for learning R \n",
    "\n",
    "That was a short introduction to R , but we will provide you with more\n",
    "functions and a more complete sense of the language as the course progresses. You \n",
    "might find the following tips and resources helpful.\n",
    "\n",
    "- In this course we will be using the `dplyr` (for data wrangling) and `ggplot2` (for \n",
    "data visualization) extensively. If you are googling for R code, make sure\n",
    "to also include these package names in your search query. For example, instead\n",
    "of googling \"scatterplot in R\", google \"scatterplot in R with ggplot2\".\n",
    "\n",
    "- The following cheathseets may come in handy throughout the course. Note that some \n",
    "of the code on these cheatsheets may be too advanced for this course, however \n",
    "majority of it will become useful as you progress through the course material.\n",
    "    - [Data wrangling cheatsheet](http://www.rstudio.com/wp-content/uploads/2015/02/data-wrangling-cheatsheet.pdf)\n",
    "    - [Data visualization cheatsheet](http://www.rstudio.com/wp-content/uploads/2015/12/ggplot2-cheatsheet-2.0.pdf)\n",
    "\n",
    "\n"
   ]
  },
  {
   "cell_type": "code",
   "execution_count": 0,
   "metadata": {
    "collapsed": false
   },
   "outputs": [
   ],
   "source": [
   ]
  },
  {
   "cell_type": "code",
   "execution_count": 0,
   "metadata": {
    "collapsed": false
   },
   "outputs": [
   ],
   "source": [
   ]
  }
 ],
 "metadata": {
  "kernelspec": {
   "display_name": "R (SageMath)",
   "language": "r",
   "metadata": {
    "cocalc": {
     "description": "SageMath's R language environment",
     "priority": 0,
     "url": "https://www.sagemath.org/"
    }
   },
   "name": "ir-sage"
  },
  "language_info": {
   "codemirror_mode": "r",
   "file_extension": ".r",
   "mimetype": "text/x-r-source",
   "name": "R",
   "pygments_lexer": "r",
   "version": "3.5.2"
  }
 },
 "nbformat": 4,
 "nbformat_minor": 0
}