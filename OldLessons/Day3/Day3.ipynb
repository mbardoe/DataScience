{
 "cells": [
  {
   "cell_type": "markdown",
   "metadata": {
    "collapsed": false
   },
   "source": [
    "# Introduction to Linear Regression"
   ]
  },
  {
   "cell_type": "code",
   "execution_count": 1,
   "metadata": {
    "collapsed": false,
    "scrolled": true
   },
   "outputs": [
    {
     "name": "stderr",
     "output_type": "stream",
     "text": [
      "WARNING: Some output was deleted.\n"
     ]
    }
   ],
   "source": [
    "data()"
   ]
  },
  {
   "cell_type": "code",
   "execution_count": 2,
   "metadata": {
    "collapsed": false
   },
   "outputs": [
   ],
   "source": [
    "data(precip)"
   ]
  },
  {
   "cell_type": "code",
   "execution_count": 3,
   "metadata": {
    "collapsed": false
   },
   "outputs": [
    {
     "data": {
      "text/html": [
       "\n",
       "<table width=\"100%\" summary=\"page for precip {datasets}\"><tr><td>precip {datasets}</td><td style=\"text-align: right;\">R Documentation</td></tr></table>\n",
       "\n",
       "<h2>Annual Precipitation in US Cities</h2>\n",
       "\n",
       "<h3>Description</h3>\n",
       "\n",
       "<p>The average amount of precipitation (rainfall) in inches for each of\n",
       "70 United States (and Puerto Rico) cities.\n",
       "</p>\n",
       "\n",
       "\n",
       "<h3>Usage</h3>\n",
       "\n",
       "<pre>precip</pre>\n",
       "\n",
       "\n",
       "<h3>Format</h3>\n",
       "\n",
       "<p>A named vector of length 70.\n",
       "</p>\n",
       "\n",
       "\n",
       "<h3>Note</h3>\n",
       "\n",
       "<p>The dataset version up to Nov.16, 2016 had a typo in <code>\"Cincinnati\"</code>'s\n",
       "name.  The examples show how to recreate that version.\n",
       "</p>\n",
       "\n",
       "\n",
       "<h3>Source</h3>\n",
       "\n",
       "<p>Statistical Abstracts of the United States, 1975.\n",
       "</p>\n",
       "\n",
       "\n",
       "<h3>References</h3>\n",
       "\n",
       "<p>McNeil, D. R. (1977)\n",
       "<em>Interactive Data Analysis</em>.\n",
       "New York: Wiley.\n",
       "</p>\n",
       "\n",
       "\n",
       "<h3>Examples</h3>\n",
       "\n",
       "<pre>\n",
       "require(graphics)\n",
       "dotchart(precip[order(precip)], main = \"precip data\")\n",
       "title(sub = \"Average annual precipitation (in.)\")\n",
       "\n",
       "## Old (\"wrong\") version of dataset (just name change):\n",
       "precip.O &lt;- local({\n",
       "   p &lt;- precip; names(p)[names(p) == \"Cincinnati\"] &lt;- \"Cincinati\" ; p })\n",
       "stopifnot(all(precip == precip.O),\n",
       "\t  match(\"Cincinnati\", names(precip)) == 46,\n",
       "\t  identical(names(precip)[-46], names(precip.O)[-46]))\n",
       "</pre>\n",
       "\n",
       "<hr /><div style=\"text-align: center;\">[Package <em>datasets</em> version 3.4.4 ]</div>"
      ]
     },
     "execution_count": 3,
     "metadata": {
     },
     "output_type": "execute_result"
    }
   ],
   "source": [
    "?precip"
   ]
  },
  {
   "cell_type": "code",
   "execution_count": 0,
   "metadata": {
    "collapsed": false
   },
   "outputs": [
   ],
   "source": [
   ]
  }
 ],
 "metadata": {
  "kernelspec": {
   "display_name": "R (SageMath)",
   "language": "r",
   "metadata": {
    "cocalc": {
     "description": "SageMath's R language environment",
     "priority": 0,
     "url": "https://www.sagemath.org/"
    }
   },
   "name": "ir-sage"
  }
 },
 "nbformat": 4,
 "nbformat_minor": 0
}