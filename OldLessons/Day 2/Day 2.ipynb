{
 "cells": [
  {
   "cell_type": "markdown",
   "metadata": {
    "collapsed": false
   },
   "source": [
    "# Day 2: More working with data\n",
    "Review from Day 1:\n",
    "\n",
    "You should have knowledge about the following **R** commands:\n",
    "\n",
    "1. ```head```\n",
    "2. ```dim```\n",
    "3. ```summary```\n",
    "4. ```range```\n",
    "5. Also know how to create a new column from other columns (```mutate```).\n",
    "6. Create a column that expresses TRUE an FALSE data.\n",
    "7. Create a scatterplot\n",
    "\n",
    "\n",
    "In this lesson you will learn how to:\n",
    "\n",
    "1. Create a histogram\n",
    "2. Create a boxplot\n",
    "3. Find the standard deviation\n",
    "4. Calculate z-scores\n",
    "5. Sort a Dataframe\n",
    "6. Filter a Dataframe\n",
    "\n",
    "\n",
    "First we need to load the helpful libraries of ```dplyr``` and ```ggplot2```. We will do this everytime we start working with **R**. We need those libraries!\n",
    "\n",
    "```\n",
    "library(dplyr)\n",
    "library(ggplot2)\n",
    "```\n",
    "\n"
   ]
  },
  {
   "cell_type": "code",
   "execution_count": 1,
   "metadata": {
    "collapsed": false
   },
   "outputs": [
    {
     "name": "stderr",
     "output_type": "stream",
     "text": [
      "\n",
      "Attaching package: ‘dplyr’\n",
      "\n"
     ]
    },
    {
     "name": "stderr",
     "output_type": "stream",
     "text": [
      "The following objects are masked from ‘package:stats’:\n",
      "\n",
      "    filter, lag\n",
      "\n"
     ]
    },
    {
     "name": "stderr",
     "output_type": "stream",
     "text": [
      "The following objects are masked from ‘package:base’:\n",
      "\n",
      "    intersect, setdiff, setequal, union\n",
      "\n"
     ]
    }
   ],
   "source": [
    "library(dplyr)\n",
    "library(ggplot2)"
   ]
  },
  {
   "cell_type": "markdown",
   "metadata": {
    "collapsed": false
   },
   "source": [
    "Let's first load some data. **R** comes with several datasets lets look at the ```mtcars``` data set. Do this with the ```data``` command:\n",
    "\n",
    "```data(mtcars)```"
   ]
  },
  {
   "cell_type": "code",
   "execution_count": 2,
   "metadata": {
    "collapsed": false
   },
   "outputs": [
   ],
   "source": [
    "data(mtcars)"
   ]
  },
  {
   "cell_type": "markdown",
   "metadata": {
    "collapsed": false
   },
   "source": [
    "Let's see more about this dataset. Type: \n",
    "\n",
    "```\n",
    "?mtcars\n",
    "head(mtcars)\n",
    "dim(mtcars)\n",
    "```"
   ]
  },
  {
   "cell_type": "code",
   "execution_count": 3,
   "metadata": {
    "collapsed": false
   },
   "outputs": [
    {
     "data": {
      "text/html": [
       "<table>\n",
       "<thead><tr><th></th><th scope=col>mpg</th><th scope=col>cyl</th><th scope=col>disp</th><th scope=col>hp</th><th scope=col>drat</th><th scope=col>wt</th><th scope=col>qsec</th><th scope=col>vs</th><th scope=col>am</th><th scope=col>gear</th><th scope=col>carb</th></tr></thead>\n",
       "<tbody>\n",
       "\t<tr><th scope=row>Mazda RX4</th><td>21.0 </td><td>6    </td><td>160  </td><td>110  </td><td>3.90 </td><td>2.620</td><td>16.46</td><td>0    </td><td>1    </td><td>4    </td><td>4    </td></tr>\n",
       "\t<tr><th scope=row>Mazda RX4 Wag</th><td>21.0 </td><td>6    </td><td>160  </td><td>110  </td><td>3.90 </td><td>2.875</td><td>17.02</td><td>0    </td><td>1    </td><td>4    </td><td>4    </td></tr>\n",
       "\t<tr><th scope=row>Datsun 710</th><td>22.8 </td><td>4    </td><td>108  </td><td> 93  </td><td>3.85 </td><td>2.320</td><td>18.61</td><td>1    </td><td>1    </td><td>4    </td><td>1    </td></tr>\n",
       "\t<tr><th scope=row>Hornet 4 Drive</th><td>21.4 </td><td>6    </td><td>258  </td><td>110  </td><td>3.08 </td><td>3.215</td><td>19.44</td><td>1    </td><td>0    </td><td>3    </td><td>1    </td></tr>\n",
       "\t<tr><th scope=row>Hornet Sportabout</th><td>18.7 </td><td>8    </td><td>360  </td><td>175  </td><td>3.15 </td><td>3.440</td><td>17.02</td><td>0    </td><td>0    </td><td>3    </td><td>2    </td></tr>\n",
       "\t<tr><th scope=row>Valiant</th><td>18.1 </td><td>6    </td><td>225  </td><td>105  </td><td>2.76 </td><td>3.460</td><td>20.22</td><td>1    </td><td>0    </td><td>3    </td><td>1    </td></tr>\n",
       "</tbody>\n",
       "</table>\n"
      ]
     },
     "execution_count": 3,
     "metadata": {
     },
     "output_type": "execute_result"
    },
    {
     "data": {
      "text/html": [
       "<ol class=list-inline>\n",
       "\t<li>32</li>\n",
       "\t<li>11</li>\n",
       "</ol>\n"
      ]
     },
     "execution_count": 3,
     "metadata": {
     },
     "output_type": "execute_result"
    },
    {
     "data": {
      "text/html": [
       "\n",
       "<table width=\"100%\" summary=\"page for mtcars {datasets}\"><tr><td>mtcars {datasets}</td><td style=\"text-align: right;\">R Documentation</td></tr></table>\n",
       "\n",
       "<h2>Motor Trend Car Road Tests</h2>\n",
       "\n",
       "<h3>Description</h3>\n",
       "\n",
       "<p>The data was extracted from the 1974 <em>Motor Trend</em> US magazine,\n",
       "and comprises fuel consumption and 10 aspects of\n",
       "automobile design and performance for 32 automobiles (1973&ndash;74\n",
       "models).\n",
       "</p>\n",
       "\n",
       "\n",
       "<h3>Usage</h3>\n",
       "\n",
       "<pre>mtcars</pre>\n",
       "\n",
       "\n",
       "<h3>Format</h3>\n",
       "\n",
       "<p>A data frame with 32 observations on 11 variables.\n",
       "</p>\n",
       "\n",
       "<table summary=\"Rd table\">\n",
       "<tr>\n",
       " <td style=\"text-align: right;\">\n",
       "    [, 1] </td><td style=\"text-align: left;\"> mpg  </td><td style=\"text-align: left;\"> Miles/(US) gallon </td>\n",
       "</tr>\n",
       "<tr>\n",
       " <td style=\"text-align: right;\">\n",
       "    [, 2] </td><td style=\"text-align: left;\"> cyl  </td><td style=\"text-align: left;\"> Number of cylinders </td>\n",
       "</tr>\n",
       "<tr>\n",
       " <td style=\"text-align: right;\">\n",
       "    [, 3] </td><td style=\"text-align: left;\"> disp </td><td style=\"text-align: left;\"> Displacement (cu.in.) </td>\n",
       "</tr>\n",
       "<tr>\n",
       " <td style=\"text-align: right;\">\n",
       "    [, 4] </td><td style=\"text-align: left;\"> hp   </td><td style=\"text-align: left;\"> Gross horsepower </td>\n",
       "</tr>\n",
       "<tr>\n",
       " <td style=\"text-align: right;\">\n",
       "    [, 5] </td><td style=\"text-align: left;\"> drat </td><td style=\"text-align: left;\"> Rear axle ratio </td>\n",
       "</tr>\n",
       "<tr>\n",
       " <td style=\"text-align: right;\">\n",
       "    [, 6] </td><td style=\"text-align: left;\"> wt   </td><td style=\"text-align: left;\"> Weight (1000 lbs) </td>\n",
       "</tr>\n",
       "<tr>\n",
       " <td style=\"text-align: right;\">\n",
       "    [, 7] </td><td style=\"text-align: left;\"> qsec </td><td style=\"text-align: left;\"> 1/4 mile time </td>\n",
       "</tr>\n",
       "<tr>\n",
       " <td style=\"text-align: right;\">\n",
       "    [, 8] </td><td style=\"text-align: left;\"> vs   </td><td style=\"text-align: left;\"> V/S </td>\n",
       "</tr>\n",
       "<tr>\n",
       " <td style=\"text-align: right;\">\n",
       "    [, 9] </td><td style=\"text-align: left;\"> am   </td><td style=\"text-align: left;\"> Transmission (0 = automatic, 1 = manual) </td>\n",
       "</tr>\n",
       "<tr>\n",
       " <td style=\"text-align: right;\">\n",
       "    [,10] </td><td style=\"text-align: left;\"> gear </td><td style=\"text-align: left;\"> Number of forward gears </td>\n",
       "</tr>\n",
       "<tr>\n",
       " <td style=\"text-align: right;\">\n",
       "    [,11] </td><td style=\"text-align: left;\"> carb </td><td style=\"text-align: left;\"> Number of carburetors\n",
       "  </td>\n",
       "</tr>\n",
       "\n",
       "</table>\n",
       "\n",
       "\n",
       "\n",
       "<h3>Source</h3>\n",
       "\n",
       "<p>Henderson and Velleman (1981),\n",
       "Building multiple regression models interactively.\n",
       "<em>Biometrics</em>, <b>37</b>, 391&ndash;411.\n",
       "</p>\n",
       "\n",
       "\n",
       "<h3>Examples</h3>\n",
       "\n",
       "<pre>\n",
       "require(graphics)\n",
       "pairs(mtcars, main = \"mtcars data\")\n",
       "coplot(mpg ~ disp | as.factor(cyl), data = mtcars,\n",
       "       panel = panel.smooth, rows = 1)\n",
       "</pre>\n",
       "\n",
       "<hr /><div style=\"text-align: center;\">[Package <em>datasets</em> version 3.4.4 ]</div>"
      ]
     },
     "execution_count": 3,
     "metadata": {
     },
     "output_type": "execute_result"
    }
   ],
   "source": [
    "?mtcars\n",
    "head(mtcars)\n",
    "dim(mtcars)"
   ]
  },
  {
   "cell_type": "markdown",
   "metadata": {
    "collapsed": false
   },
   "source": [
    "One thing that we saw yesterday was the power that **R** had to compute 5-number summaries. Let's try that not a single column, but on the whole dataframe this time. Creating summaries is an important way to understand the data that you are looking at. It gives the range and the typical numbers (mean and median), but also give a sense of the variation with the inclusion of Q1 and Q3. \n",
    "\n",
    "```\n",
    "summary(mtcars)\n",
    "```\n"
   ]
  },
  {
   "cell_type": "code",
   "execution_count": 4,
   "metadata": {
    "collapsed": false
   },
   "outputs": [
    {
     "data": {
      "text/plain": [
       "      mpg             cyl             disp             hp       \n",
       " Min.   :10.40   Min.   :4.000   Min.   : 71.1   Min.   : 52.0  \n",
       " 1st Qu.:15.43   1st Qu.:4.000   1st Qu.:120.8   1st Qu.: 96.5  \n",
       " Median :19.20   Median :6.000   Median :196.3   Median :123.0  \n",
       " Mean   :20.09   Mean   :6.188   Mean   :230.7   Mean   :146.7  \n",
       " 3rd Qu.:22.80   3rd Qu.:8.000   3rd Qu.:326.0   3rd Qu.:180.0  \n",
       " Max.   :33.90   Max.   :8.000   Max.   :472.0   Max.   :335.0  \n",
       "      drat             wt             qsec             vs        \n",
       " Min.   :2.760   Min.   :1.513   Min.   :14.50   Min.   :0.0000  \n",
       " 1st Qu.:3.080   1st Qu.:2.581   1st Qu.:16.89   1st Qu.:0.0000  \n",
       " Median :3.695   Median :3.325   Median :17.71   Median :0.0000  \n",
       " Mean   :3.597   Mean   :3.217   Mean   :17.85   Mean   :0.4375  \n",
       " 3rd Qu.:3.920   3rd Qu.:3.610   3rd Qu.:18.90   3rd Qu.:1.0000  \n",
       " Max.   :4.930   Max.   :5.424   Max.   :22.90   Max.   :1.0000  \n",
       "       am              gear            carb      \n",
       " Min.   :0.0000   Min.   :3.000   Min.   :1.000  \n",
       " 1st Qu.:0.0000   1st Qu.:3.000   1st Qu.:2.000  \n",
       " Median :0.0000   Median :4.000   Median :2.000  \n",
       " Mean   :0.4062   Mean   :3.688   Mean   :2.812  \n",
       " 3rd Qu.:1.0000   3rd Qu.:4.000   3rd Qu.:4.000  \n",
       " Max.   :1.0000   Max.   :5.000   Max.   :8.000  "
      ]
     },
     "execution_count": 4,
     "metadata": {
     },
     "output_type": "execute_result"
    }
   ],
   "source": [
    "summary(mtcars)"
   ]
  },
  {
   "cell_type": "markdown",
   "metadata": {
    "collapsed": false
   },
   "source": [
    "## Creating a Histogram\n",
    "\n",
    "We can use the graphing capability of **R** to create histograms of any of the quantitative information in our data frame. So let's create a histogram of the fuel efficiencies of the cars listed in our data. The fuel efficiency is in the ```mpg``` field of our data frame. \n",
    "\n",
    "To make a histogram in **R** we use the command:\n",
    "\n",
    "```\n",
    "ggplot(data=mtcars, aes(mpg)) + \n",
    "  geom_histogram(breaks=seq(10,40,2.5))\n",
    "  ```\n",
    "The ```breaks=seq(10,40, 2.5)``` command sets up the bins of the histogram. The way that works is that the first number in the ```seq``` command is the left most x coordinate of the histogram and the second number is the right endpoint of the x-axis. The third number is the width of each bin. \n",
    "\n",
    "**Exercise** Try changing the 2.5 to see how the histogram changes.\n",
    "\n",
    "**Analysis:** And then describe the distribution of fuel efficiencies. Discuss the shape center and spread of the data. "
   ]
  },
  {
   "cell_type": "code",
   "execution_count": 7,
   "metadata": {
    "collapsed": false
   },
   "outputs": [
    {
     "data": {
      "image/svg+xml": "6735997c82c887570014049e59b96758c430f210"
     },
     "metadata": {
      "image/svg+xml": {
       "isolated": true
      }
     },
     "output_type": "execute_result"
    }
   ],
   "source": [
    "ggplot(data=mtcars, aes(mpg)) + \n",
    "  geom_histogram(breaks=seq(10,40,10))"
   ]
  },
  {
   "cell_type": "markdown",
   "metadata": {
    "collapsed": false
   },
   "source": [
    "Write in here about **Center, Shape, and Spread** of the mileage. ***Answer:*** The typical mileage is around 16 to 18. The mileage is distributed in skew right (or symmetric) unimodal fashion. The range is from 10 to 35. "
   ]
  },
  {
   "cell_type": "markdown",
   "metadata": {
    "collapsed": false
   },
   "source": [
    "## Creating Boxplots\n",
    "\n",
    "Five number summaries are great, but a boxplot is a lot more helpful to really visualizing the data, and getting a sense if the data is skewed or symmetric. Boxplots are also very useful in determining if there are any outliers. As usual we will be using commands that are derived from the _ggplot2_ library. \n",
    "\n",
    "```\n",
    "ggplot(mtcars, aes( y=mpg)) + \n",
    "  geom_boxplot()\n",
    "  ```"
   ]
  },
  {
   "cell_type": "code",
   "execution_count": 8,
   "metadata": {
    "collapsed": false
   },
   "outputs": [
    {
     "data": {
      "image/svg+xml": "f1094e97ebe71532436870b6c41209f89a022e0c"
     },
     "metadata": {
      "image/svg+xml": {
       "isolated": true
      }
     },
     "output_type": "execute_result"
    }
   ],
   "source": [
    "ggplot(mtcars, aes( y=mpg)) + \n",
    "  geom_boxplot()"
   ]
  },
  {
   "cell_type": "markdown",
   "metadata": {
    "collapsed": false
   },
   "source": [
    "We can breakdown by a categorical variable as well to create a comparative boxplot.\n",
    "\n",
    "```\n",
    "ggplot(mtcars, aes(x=carb, y=mpg, group=carb)) + \n",
    "  geom_boxplot()"
   ]
  },
  {
   "cell_type": "code",
   "execution_count": 11,
   "metadata": {
    "collapsed": false
   },
   "outputs": [
    {
     "data": {
      "image/svg+xml": "6857358452ad0643555cf5269b9abbc5838f3a29"
     },
     "metadata": {
      "image/svg+xml": {
       "isolated": true
      }
     },
     "output_type": "execute_result"
    }
   ],
   "source": [
    "ggplot(mtcars, aes(x=carb, y=mpg, group=carb)) + \n",
    "  geom_boxplot()"
   ]
  },
  {
   "cell_type": "markdown",
   "metadata": {
    "collapsed": false
   },
   "source": [
    "**Analysis:** Take a moment and compare and contrast the distribution of fuel economy based on the number of cylinders a car has. Describe the shape center and spread of 4, 6, and 8 cylinder cars."
   ]
  },
  {
   "cell_type": "markdown",
   "metadata": {
    "collapsed": false
   },
   "source": [
    "**Analysis:** What is going on here. What is the connection between carburetors and mileage????"
   ]
  },
  {
   "cell_type": "markdown",
   "metadata": {
    "collapsed": false
   },
   "source": [
    "## Calculate Standard Deviation and z-scores\n",
    "\n",
    "Because **R** is a statistics programming environment. It naturally has functions that calculate the standard deviation. If we want to determine the standard deviation of a variable in our data set we simply use the function ```sd```. For example:\n",
    "\n",
    "```\n",
    "sd(mtcars$mpg)\n",
    "```"
   ]
  },
  {
   "cell_type": "code",
   "execution_count": 14,
   "metadata": {
    "collapsed": false
   },
   "outputs": [
    {
     "data": {
      "text/html": [
       "6.0269480520891"
      ]
     },
     "execution_count": 14,
     "metadata": {
     },
     "output_type": "execute_result"
    },
    {
     "data": {
      "text/html": [
       "20.090625"
      ]
     },
     "execution_count": 14,
     "metadata": {
     },
     "output_type": "execute_result"
    }
   ],
   "source": [
    "sd(mtcars$mpg)\n",
    "mean(mtcars$mpg)"
   ]
  },
  {
   "cell_type": "markdown",
   "metadata": {
    "collapsed": false
   },
   "source": [
    "### z-scores\n",
    "\n",
    "To transform a vector of values to it's z-scores you can utilize ```mean``` and ```sd``` fucntions together. For instance if I would like to add a column to my data frame that had the standardized fuel economies. I could do the following:\n",
    "\n",
    "```\n",
    "mtcars <- mtcars %>%\n",
    "  mutate(zmpg = (mpg-mean(mpg)) / sd(mpg))\n",
    "head(mtcars)\n",
    "  ```"
   ]
  },
  {
   "cell_type": "code",
   "execution_count": 15,
   "metadata": {
    "collapsed": false
   },
   "outputs": [
    {
     "data": {
      "text/html": [
       "<table>\n",
       "<thead><tr><th scope=col>mpg</th><th scope=col>cyl</th><th scope=col>disp</th><th scope=col>hp</th><th scope=col>drat</th><th scope=col>wt</th><th scope=col>qsec</th><th scope=col>vs</th><th scope=col>am</th><th scope=col>gear</th><th scope=col>carb</th><th scope=col>zmpg</th></tr></thead>\n",
       "<tbody>\n",
       "\t<tr><td>21.0      </td><td>6         </td><td>160       </td><td>110       </td><td>3.90      </td><td>2.620     </td><td>16.46     </td><td>0         </td><td>1         </td><td>4         </td><td>4         </td><td> 0.1508848</td></tr>\n",
       "\t<tr><td>21.0      </td><td>6         </td><td>160       </td><td>110       </td><td>3.90      </td><td>2.875     </td><td>17.02     </td><td>0         </td><td>1         </td><td>4         </td><td>4         </td><td> 0.1508848</td></tr>\n",
       "\t<tr><td>22.8      </td><td>4         </td><td>108       </td><td> 93       </td><td>3.85      </td><td>2.320     </td><td>18.61     </td><td>1         </td><td>1         </td><td>4         </td><td>1         </td><td> 0.4495434</td></tr>\n",
       "\t<tr><td>21.4      </td><td>6         </td><td>258       </td><td>110       </td><td>3.08      </td><td>3.215     </td><td>19.44     </td><td>1         </td><td>0         </td><td>3         </td><td>1         </td><td> 0.2172534</td></tr>\n",
       "\t<tr><td>18.7      </td><td>8         </td><td>360       </td><td>175       </td><td>3.15      </td><td>3.440     </td><td>17.02     </td><td>0         </td><td>0         </td><td>3         </td><td>2         </td><td>-0.2307345</td></tr>\n",
       "\t<tr><td>18.1      </td><td>6         </td><td>225       </td><td>105       </td><td>2.76      </td><td>3.460     </td><td>20.22     </td><td>1         </td><td>0         </td><td>3         </td><td>1         </td><td>-0.3302874</td></tr>\n",
       "</tbody>\n",
       "</table>\n"
      ]
     },
     "execution_count": 15,
     "metadata": {
     },
     "output_type": "execute_result"
    }
   ],
   "source": [
    "mtcars <- mtcars %>%\n",
    "  mutate(zmpg = (mpg-mean(mpg)) / sd(mpg))\n",
    "head(mtcars)"
   ]
  },
  {
   "cell_type": "markdown",
   "metadata": {
    "collapsed": false
   },
   "source": [
    "## Sort a Data Frame\n",
    "\n",
    "Although sorting isn't always very necessary in a data frame (we are much more likely to make a graph that will allow us to see the whole dataset) it might be good to be able to order it in some cases. Let's try to order the ```mtcars``` data frame by horsepower. This can be done using the ```arrange``` command. \n",
    "\n",
    "```\n",
    "mtcars<-arrange(mtcars, hp)\n",
    "head(mtcars)\n",
    "```"
   ]
  },
  {
   "cell_type": "code",
   "execution_count": 16,
   "metadata": {
    "collapsed": false
   },
   "outputs": [
    {
     "data": {
      "text/html": [
       "<table>\n",
       "<thead><tr><th scope=col>mpg</th><th scope=col>cyl</th><th scope=col>disp</th><th scope=col>hp</th><th scope=col>drat</th><th scope=col>wt</th><th scope=col>qsec</th><th scope=col>vs</th><th scope=col>am</th><th scope=col>gear</th><th scope=col>carb</th><th scope=col>zmpg</th></tr></thead>\n",
       "<tbody>\n",
       "\t<tr><td>30.4     </td><td>4        </td><td> 75.7    </td><td>52       </td><td>4.93     </td><td>1.615    </td><td>18.52    </td><td>1        </td><td>1        </td><td>4        </td><td>2        </td><td>1.7105465</td></tr>\n",
       "\t<tr><td>24.4     </td><td>4        </td><td>146.7    </td><td>62       </td><td>3.69     </td><td>3.190    </td><td>20.00    </td><td>1        </td><td>0        </td><td>4        </td><td>2        </td><td>0.7150178</td></tr>\n",
       "\t<tr><td>33.9     </td><td>4        </td><td> 71.1    </td><td>65       </td><td>4.22     </td><td>1.835    </td><td>19.90    </td><td>1        </td><td>1        </td><td>4        </td><td>1        </td><td>2.2912716</td></tr>\n",
       "\t<tr><td>32.4     </td><td>4        </td><td> 78.7    </td><td>66       </td><td>4.08     </td><td>2.200    </td><td>19.47    </td><td>1        </td><td>1        </td><td>4        </td><td>1        </td><td>2.0423894</td></tr>\n",
       "\t<tr><td>27.3     </td><td>4        </td><td> 79.0    </td><td>66       </td><td>4.08     </td><td>1.935    </td><td>18.90    </td><td>1        </td><td>1        </td><td>4        </td><td>1        </td><td>1.1961900</td></tr>\n",
       "\t<tr><td>26.0     </td><td>4        </td><td>120.3    </td><td>91       </td><td>4.43     </td><td>2.140    </td><td>16.70    </td><td>0        </td><td>1        </td><td>5        </td><td>2        </td><td>0.9804921</td></tr>\n",
       "</tbody>\n",
       "</table>\n"
      ]
     },
     "execution_count": 16,
     "metadata": {
     },
     "output_type": "execute_result"
    }
   ],
   "source": [
    "mtcars<-arrange(mtcars, hp)\n",
    "head(mtcars)\n"
   ]
  },
  {
   "cell_type": "markdown",
   "metadata": {
    "collapsed": false
   },
   "source": [
    "### Arrange in descending order\n",
    "\n",
    "If you want to arrange the data frame so that the biggest numbers are at the top, you use the ```desc``` command on the variable in question.\n",
    "\n",
    "```\n",
    "mtcars<-arrange(mtcars, desc(hp))\n",
    "head(mtcars)\n",
    "```\n"
   ]
  },
  {
   "cell_type": "code",
   "execution_count": 17,
   "metadata": {
    "collapsed": false
   },
   "outputs": [
    {
     "data": {
      "text/html": [
       "<table>\n",
       "<thead><tr><th scope=col>mpg</th><th scope=col>cyl</th><th scope=col>disp</th><th scope=col>hp</th><th scope=col>drat</th><th scope=col>wt</th><th scope=col>qsec</th><th scope=col>vs</th><th scope=col>am</th><th scope=col>gear</th><th scope=col>carb</th><th scope=col>zmpg</th></tr></thead>\n",
       "<tbody>\n",
       "\t<tr><td>15.0      </td><td>8         </td><td>301       </td><td>335       </td><td>3.54      </td><td>3.570     </td><td>14.60     </td><td>0         </td><td>1         </td><td>5         </td><td>8         </td><td>-0.8446439</td></tr>\n",
       "\t<tr><td>15.8      </td><td>8         </td><td>351       </td><td>264       </td><td>4.22      </td><td>3.170     </td><td>14.50     </td><td>0         </td><td>1         </td><td>5         </td><td>4         </td><td>-0.7119067</td></tr>\n",
       "\t<tr><td>14.3      </td><td>8         </td><td>360       </td><td>245       </td><td>3.21      </td><td>3.570     </td><td>15.84     </td><td>0         </td><td>0         </td><td>3         </td><td>4         </td><td>-0.9607889</td></tr>\n",
       "\t<tr><td>13.3      </td><td>8         </td><td>350       </td><td>245       </td><td>3.73      </td><td>3.840     </td><td>15.41     </td><td>0         </td><td>0         </td><td>3         </td><td>4         </td><td>-1.1267104</td></tr>\n",
       "\t<tr><td>14.7      </td><td>8         </td><td>440       </td><td>230       </td><td>3.23      </td><td>5.345     </td><td>17.42     </td><td>0         </td><td>0         </td><td>3         </td><td>4         </td><td>-0.8944204</td></tr>\n",
       "\t<tr><td>10.4      </td><td>8         </td><td>460       </td><td>215       </td><td>3.00      </td><td>5.424     </td><td>17.82     </td><td>0         </td><td>0         </td><td>3         </td><td>4         </td><td>-1.6078826</td></tr>\n",
       "</tbody>\n",
       "</table>\n"
      ]
     },
     "execution_count": 17,
     "metadata": {
     },
     "output_type": "execute_result"
    }
   ],
   "source": [
    "mtcars<-arrange(mtcars, desc(hp))\n",
    "head(mtcars)"
   ]
  },
  {
   "cell_type": "code",
   "execution_count": 18,
   "metadata": {
    "collapsed": false
   },
   "outputs": [
    {
     "data": {
      "image/svg+xml": "0e7f6ef902fb44e65fba887c3d0e3993648201c2"
     },
     "metadata": {
      "image/svg+xml": {
       "isolated": true
      }
     },
     "output_type": "execute_result"
    }
   ],
   "source": [
    "ggplot(data = mtcars, aes(x = hp, y = mpg)) +\n",
    "  geom_point()\n"
   ]
  },
  {
   "cell_type": "code",
   "execution_count": 0,
   "metadata": {
    "collapsed": false
   },
   "outputs": [
   ],
   "source": [
   ]
  },
  {
   "cell_type": "markdown",
   "metadata": {
    "collapsed": false
   },
   "source": [
    "## Filter a Data Frame to make a new smaller Data Frame\n",
    "\n",
    "Many times it is important to look not at all the data but just a particular subset of the data. Now, we will show you how to create new data frames from old by filtering out particular rows that satisfy certain descriptions.\n",
    "\n",
    "In the ```mtcars``` data frame we have some cars that have automatic transmissions. Every car that has an automatics transmission has a 1 in ```mtcars$am```:\n",
    "\n",
    "```\n",
    "autotransmission <- filter(mtcars, am==1)\n",
    "dim(autotransmission)\n",
    "head(autotransmission)\n",
    "```"
   ]
  },
  {
   "cell_type": "code",
   "execution_count": 19,
   "metadata": {
    "collapsed": false
   },
   "outputs": [
    {
     "data": {
      "text/html": [
       "<ol class=list-inline>\n",
       "\t<li>19</li>\n",
       "\t<li>12</li>\n",
       "</ol>\n"
      ]
     },
     "execution_count": 19,
     "metadata": {
     },
     "output_type": "execute_result"
    },
    {
     "data": {
      "text/html": [
       "<table>\n",
       "<thead><tr><th scope=col>mpg</th><th scope=col>cyl</th><th scope=col>disp</th><th scope=col>hp</th><th scope=col>drat</th><th scope=col>wt</th><th scope=col>qsec</th><th scope=col>vs</th><th scope=col>am</th><th scope=col>gear</th><th scope=col>carb</th><th scope=col>zmpg</th></tr></thead>\n",
       "<tbody>\n",
       "\t<tr><td>14.3      </td><td>8         </td><td>360.0     </td><td>245       </td><td>3.21      </td><td>3.570     </td><td>15.84     </td><td>0         </td><td>0         </td><td>3         </td><td>4         </td><td>-0.9607889</td></tr>\n",
       "\t<tr><td>13.3      </td><td>8         </td><td>350.0     </td><td>245       </td><td>3.73      </td><td>3.840     </td><td>15.41     </td><td>0         </td><td>0         </td><td>3         </td><td>4         </td><td>-1.1267104</td></tr>\n",
       "\t<tr><td>14.7      </td><td>8         </td><td>440.0     </td><td>230       </td><td>3.23      </td><td>5.345     </td><td>17.42     </td><td>0         </td><td>0         </td><td>3         </td><td>4         </td><td>-0.8944204</td></tr>\n",
       "\t<tr><td>10.4      </td><td>8         </td><td>460.0     </td><td>215       </td><td>3.00      </td><td>5.424     </td><td>17.82     </td><td>0         </td><td>0         </td><td>3         </td><td>4         </td><td>-1.6078826</td></tr>\n",
       "\t<tr><td>10.4      </td><td>8         </td><td>472.0     </td><td>205       </td><td>2.93      </td><td>5.250     </td><td>17.98     </td><td>0         </td><td>0         </td><td>3         </td><td>4         </td><td>-1.6078826</td></tr>\n",
       "\t<tr><td>16.4      </td><td>8         </td><td>275.8     </td><td>180       </td><td>3.07      </td><td>4.070     </td><td>17.40     </td><td>0         </td><td>0         </td><td>3         </td><td>3         </td><td>-0.6123539</td></tr>\n",
       "</tbody>\n",
       "</table>\n"
      ]
     },
     "execution_count": 19,
     "metadata": {
     },
     "output_type": "execute_result"
    }
   ],
   "source": [
    "autotransmission <- filter(mtcars, am==0)\n",
    "dim(autotransmission)\n",
    "head(autotransmission)"
   ]
  },
  {
   "cell_type": "code",
   "execution_count": 0,
   "metadata": {
    "collapsed": false,
    "scrolled": true
   },
   "outputs": [
   ],
   "source": [
   ]
  },
  {
   "cell_type": "markdown",
   "metadata": {
    "collapsed": false
   },
   "source": [
    "We see that we have only cars that have ```am==1```. You need to notice that we use **two** equals signs. This is a common thing in programming. It turns out that double equals means that we are asking the question if two things are equal, and that a single equals means that we are telling the computer that two things are to be made equal. "
   ]
  },
  {
   "cell_type": "markdown",
   "metadata": {
    "collapsed": false
   },
   "source": [
    "## Your turn to investigate\n",
    "\n",
    "Let's load up the ```starwars``` data set. I will ask you a series of questions to see how well you have caught on to the lessons of Day One and Two. ***Good Luck!!!***\n",
    "\n",
    "Start by loading up the data set, and looking a the key for the variable names.\n",
    "\n",
    "```\n",
    "data(starwars)\n",
    "```\n"
   ]
  },
  {
   "cell_type": "code",
   "execution_count": 20,
   "metadata": {
    "collapsed": false
   },
   "outputs": [
   ],
   "source": [
    "data(starwars)"
   ]
  },
  {
   "cell_type": "markdown",
   "metadata": {
    "collapsed": false
   },
   "source": [
    "\n",
    "    <em><span style=\"color:blue\">Question 1:</span></em> How many variables are in this dataframe and how many rows are there? \n"
   ]
  },
  {
   "cell_type": "code",
   "execution_count": 0,
   "metadata": {
    "collapsed": false
   },
   "outputs": [
   ],
   "source": [
   ]
  },
  {
   "cell_type": "code",
   "execution_count": 0,
   "metadata": {
    "collapsed": false
   },
   "outputs": [
   ],
   "source": [
   ]
  },
  {
   "cell_type": "markdown",
   "metadata": {
    "collapsed": false
   },
   "source": [
    "<em><span style=\"color:blue\">Question 2:</span></em> Create a display that shows the distribution of heights among Star Wars characters, and find the 5 number summary of the heights. Then **describe** the shape, center, and spread of the heights. \n"
   ]
  },
  {
   "cell_type": "code",
   "execution_count": 0,
   "metadata": {
    "collapsed": false
   },
   "outputs": [
   ],
   "source": [
   ]
  },
  {
   "cell_type": "code",
   "execution_count": 0,
   "metadata": {
    "collapsed": false
   },
   "outputs": [
   ],
   "source": [
   ]
  },
  {
   "cell_type": "markdown",
   "metadata": {
    "collapsed": false
   },
   "source": [
    "<em><span style=\"color:blue\">Question 3:</span></em> Create a new variable that calculates a Body Mass Index, ```BMI```, for the characters by calculating the mass divided by the height for all the characters and then display a boxplot of those values. \n"
   ]
  },
  {
   "cell_type": "code",
   "execution_count": 0,
   "metadata": {
    "collapsed": false
   },
   "outputs": [
   ],
   "source": [
   ]
  },
  {
   "cell_type": "markdown",
   "metadata": {
    "collapsed": false
   },
   "source": [
    "<em><span style=\"color:blue\">Question 4:</span></em> Order the data frame by the ```BMI``` to determine the character identity with the large outlier **BMI**. Write the identity in a markdown box below."
   ]
  },
  {
   "cell_type": "code",
   "execution_count": 0,
   "metadata": {
    "collapsed": false
   },
   "outputs": [
   ],
   "source": [
   ]
  },
  {
   "cell_type": "code",
   "execution_count": 0,
   "metadata": {
    "collapsed": false
   },
   "outputs": [
   ],
   "source": [
   ]
  },
  {
   "cell_type": "markdown",
   "metadata": {
    "collapsed": false
   },
   "source": [
    "<em><span style=\"color:blue\">Question 5:</span></em> Create a 5 number summary and the a boxplot showing the ```BMI``` of just the human characters. "
   ]
  },
  {
   "cell_type": "code",
   "execution_count": 0,
   "metadata": {
    "collapsed": false
   },
   "outputs": [
   ],
   "source": [
   ]
  },
  {
   "cell_type": "code",
   "execution_count": 0,
   "metadata": {
    "collapsed": false
   },
   "outputs": [
   ],
   "source": [
   ]
  },
  {
   "cell_type": "code",
   "execution_count": 0,
   "metadata": {
    "collapsed": false
   },
   "outputs": [
   ],
   "source": [
   ]
  }
 ],
 "metadata": {
  "kernelspec": {
   "display_name": "R (SageMath)",
   "language": "r",
   "metadata": {
    "cocalc": {
     "description": "SageMath's R language environment",
     "priority": 0,
     "url": "https://www.sagemath.org/"
    }
   },
   "name": "ir-sage"
  },
  "language_info": {
   "codemirror_mode": "r",
   "file_extension": ".r",
   "mimetype": "text/x-r-source",
   "name": "R",
   "pygments_lexer": "r",
   "version": "3.5.2"
  }
 },
 "nbformat": 4,
 "nbformat_minor": 0
}