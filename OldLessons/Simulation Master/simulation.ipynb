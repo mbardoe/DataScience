{
 "cells": [
  {
   "cell_type": "markdown",
   "metadata": {
    "collapsed": false
   },
   "source": [
    "# Simulation in R\n",
    "\n",
    "In this document we will explore ways to run simulations with R, and use some random number generators.\n"
   ]
  },
  {
   "cell_type": "markdown",
   "metadata": {
    "collapsed": false
   },
   "source": [
    "We can generate random numbers using a variety of functions and distributions. \n",
    "\n",
    "The first kind of randomness that people understand is uniform randomness. This is where everything is equally likely. We generate randomness like this with ```runif(min, max)```.\n",
    "\n",
    "```\n",
    "library(dplyr)\n",
    "library(ggplot2)\n",
    "runif(n=10, min=0, max=1)\n",
    "```"
   ]
  },
  {
   "cell_type": "code",
   "execution_count": 0,
   "metadata": {
    "collapsed": false
   },
   "outputs": [
   ],
   "source": [
    "library(dplyr)\n",
    "library(ggplot2)\n",
    "runif(n=10, min=0, max=1)"
   ]
  },
  {
   "cell_type": "markdown",
   "metadata": {
    "collapsed": false
   },
   "source": [
    "Now let's save some random numbers and make a table."
   ]
  },
  {
   "cell_type": "code",
   "execution_count": 0,
   "metadata": {
    "collapsed": false
   },
   "outputs": [
   ],
   "source": [
    "samp<-runif(n=1000000, min=0, max=1)"
   ]
  },
  {
   "cell_type": "code",
   "execution_count": 0,
   "metadata": {
    "collapsed": false
   },
   "outputs": [
   ],
   "source": [
    "num<-c(1:1000000)"
   ]
  },
  {
   "cell_type": "code",
   "execution_count": 0,
   "metadata": {
    "collapsed": false
   },
   "outputs": [
   ],
   "source": [
    "table<-data.frame(cbind(num, samp))"
   ]
  },
  {
   "cell_type": "code",
   "execution_count": 0,
   "metadata": {
    "collapsed": false
   },
   "outputs": [
   ],
   "source": [
    "head(table)"
   ]
  },
  {
   "cell_type": "code",
   "execution_count": 0,
   "metadata": {
    "collapsed": false
   },
   "outputs": [
   ],
   "source": [
    "summary(table)"
   ]
  },
  {
   "cell_type": "markdown",
   "metadata": {
    "collapsed": false
   },
   "source": [
    "## How to use random numbers\n",
    "\n",
    "We might be trying to simualate a batter in a baseball game. Maybe we are trying to simulate Mike Trout. He is one of the best hitter in baseball today. His batting average is 0.312. So we could say that he gets a hit if the random number is less than .312. This is easily done with the ```mutate``` command.\n",
    "\n",
    "```\n",
    "table <- table %>%\n",
    "mutate(hit = ifelse(samp < .312, 1, 0))\n",
    "head(table)\n",
    "```"
   ]
  },
  {
   "cell_type": "code",
   "execution_count": 0,
   "metadata": {
    "collapsed": false
   },
   "outputs": [
   ],
   "source": [
    "table <- table %>%\n",
    "mutate(hit = ifelse(samp < .312, 1, 0))\n",
    "head(table)"
   ]
  },
  {
   "cell_type": "markdown",
   "metadata": {
    "collapsed": false
   },
   "source": [
    "# Num of hits\n",
    "\n",
    "We can calculate the number of hits by ```sum(table$hit)```"
   ]
  },
  {
   "cell_type": "code",
   "execution_count": 0,
   "metadata": {
    "collapsed": false
   },
   "outputs": [
   ],
   "source": [
    "sum(table$hit)\n"
   ]
  },
  {
   "cell_type": "markdown",
   "metadata": {
    "collapsed": false
   },
   "source": [
    "## Seeds and random number generators\n",
    "\n",
    "Computers don't actually create randomness. They actually use complicated algorithms that produce a determined number. These numbers just look random to use. We can make all the computers in this room come up with the same random numbers by setting the *seed* on the computers to be the same. \n",
    "\n",
    "```\n",
    "set.seed(13)\n",
    "runif(n=10, min=0, max=1)\n",
    "```\n",
    "\n",
    "Compare your numbers to another classmates."
   ]
  },
  {
   "cell_type": "code",
   "execution_count": 0,
   "metadata": {
    "collapsed": false
   },
   "outputs": [
   ],
   "source": [
    "set.seed(13)\n",
    "runif(n=10, min=0, max=1)"
   ]
  },
  {
   "cell_type": "code",
   "execution_count": 0,
   "metadata": {
    "collapsed": false
   },
   "outputs": [
   ],
   "source": [
    "set.seed(13)\n",
    "runif(n=10, min=0, max=1)"
   ]
  },
  {
   "cell_type": "markdown",
   "metadata": {
    "collapsed": false
   },
   "source": [
    "## Evaluating streakiness\n",
    "\n",
    "Are players streaky? Or is it just the whims of fate. Let's look at some data and compare it to what we see if the world was just mathematically random.\n"
   ]
  },
  {
   "cell_type": "code",
   "execution_count": 0,
   "metadata": {
    "collapsed": false
   },
   "outputs": [
   ],
   "source": [
    "load(file=\"kobe_basket.rda\")"
   ]
  },
  {
   "cell_type": "code",
   "execution_count": 0,
   "metadata": {
    "collapsed": false,
    "scrolled": true
   },
   "outputs": [
   ],
   "source": [
    "kobe_basket"
   ]
  },
  {
   "cell_type": "markdown",
   "metadata": {
    "collapsed": false
   },
   "source": [
    "**Warning: Don't wory about the next line. It is a function that we need to determine how streaky Kobe is.**"
   ]
  },
  {
   "cell_type": "code",
   "execution_count": 0,
   "metadata": {
    "collapsed": false
   },
   "outputs": [
   ],
   "source": [
    "calc_streak = function(x)\n",
    "{\n",
    "    if (!is.atomic(x))\n",
    "        x = x[,1]\n",
    "\n",
    "    if (any(!x %in% c(\"H\",\"M\")))\n",
    "        stop('Input should only contain hits (\"H\") and misses (\"M\")')\n",
    "    \n",
    "    y = rep(0,length(x))\n",
    "    y[x == \"H\"] = 1\n",
    "    y = c(0, y, 0)\n",
    "    wz = which(y == 0)\n",
    "    streak = diff(wz) - 1\n",
    "    \n",
    "    return(data.frame(length = streak))\n",
    "}"
   ]
  },
  {
   "cell_type": "code",
   "execution_count": 0,
   "metadata": {
    "collapsed": false
   },
   "outputs": [
   ],
   "source": [
    "dim(kobe_basket)"
   ]
  },
  {
   "cell_type": "code",
   "execution_count": 0,
   "metadata": {
    "collapsed": false
   },
   "outputs": [
   ],
   "source": [
    "kobe_streak <- calc_streak(kobe_basket$shot)\n",
    "IQR(kobe_streak$length)"
   ]
  },
  {
   "cell_type": "code",
   "execution_count": 0,
   "metadata": {
    "collapsed": false
   },
   "outputs": [
   ],
   "source": [
    "ggplot(data = kobe_streak, aes(x = length)) +\n",
    "  geom_histogram(binwidth = 1)"
   ]
  },
  {
   "cell_type": "markdown",
   "metadata": {
    "collapsed": false
   },
   "source": [
    "**Describe Kobe Bryants streak distribution.**"
   ]
  },
  {
   "cell_type": "code",
   "execution_count": 0,
   "metadata": {
    "collapsed": false
   },
   "outputs": [
   ],
   "source": [
   ]
  },
  {
   "cell_type": "markdown",
   "metadata": {
    "collapsed": false
   },
   "source": [
    "## Simulated Kobe\n",
    "\n",
    "Kobe was about 45% shooter. So we want to imagine a shooter that isn't streaky at all that just works the way randomness says the situation should work. Check out the code below."
   ]
  },
  {
   "cell_type": "code",
   "execution_count": 0,
   "metadata": {
    "collapsed": false
   },
   "outputs": [
   ],
   "source": [
    "shot_outcomes <- c(\"H\", \"M\")"
   ]
  },
  {
   "cell_type": "markdown",
   "metadata": {
    "collapsed": false
   },
   "source": [
    "Now ```shot_outcomes``` is a list of two outcomes H and M for hit and miss. \n",
    "\n",
    "We now ```sample``` from this list the same number of times that Kobe shot in his game, 133. \n",
    "\n",
    "Here we use the ```sample``` function this allows us to imagine picking from a list over and over. There are various options to the command as well, as you will see."
   ]
  },
  {
   "cell_type": "code",
   "execution_count": 0,
   "metadata": {
    "collapsed": false
   },
   "outputs": [
   ],
   "source": [
    "sim_basket <- sample(shot_outcomes, size = 133, replace = TRUE, prob=c(0.45, 0.55))\n",
    "sim_basket"
   ]
  },
  {
   "cell_type": "markdown",
   "metadata": {
    "collapsed": false
   },
   "source": [
    "This creates a list of hits and misses with the same expected proportions as a typical Kobe Bryant after 133 shots.\n"
   ]
  },
  {
   "cell_type": "code",
   "execution_count": 0,
   "metadata": {
    "collapsed": false
   },
   "outputs": [
   ],
   "source": [
    "\n",
    "sim_streak = calc_streak(sim_basket)\n",
    "ggplot(data = sim_streak, aes(x=length)) +\n",
    "  geom_histogram(binwidth = 1)"
   ]
  },
  {
   "cell_type": "code",
   "execution_count": 0,
   "metadata": {
    "collapsed": false
   },
   "outputs": [
   ],
   "source": [
    "IQR(sim_streak$length)"
   ]
  },
  {
   "cell_type": "code",
   "execution_count": 0,
   "metadata": {
    "collapsed": false
   },
   "outputs": [
   ],
   "source": [
    "streaks = c(kobe_streak,sim_streak)\n",
    "boxplot(streaks)"
   ]
  },
  {
   "cell_type": "markdown",
   "metadata": {
    "collapsed": false
   },
   "source": [
    "**What does this say about Kobe being a streaky shooter?**"
   ]
  },
  {
   "cell_type": "markdown",
   "metadata": {
    "collapsed": false
   },
   "source": [
    "## Simulating stock market\n",
    "\n",
    "Stock returns are much more likely to follow the normal model than a uniform model. A fictional stock has the following properties: On average it gains 1.001 times its opening price during the trading day, but that can vary by a standard deviation of 0.005 on any given day (this is its volatility). We can simulate a single sample path for this stock by taking the cumulative product from a Normal distribution with a mean of 1.001 and a sd of 0.005. Assuming the stock opens at $20/per share, here is a sample path for 365 days of trading.\n",
    "\n"
   ]
  },
  {
   "cell_type": "code",
   "execution_count": 0,
   "metadata": {
    "collapsed": false
   },
   "outputs": [
   ],
   "source": [
    "days <- 365\n",
    "changes <- rnorm(365,mean=1.001,sd=0.005)\n",
    "plot(cumprod(c(20,changes)),type='l',ylab=\"Price\",xlab=\"day\",main=\"closing price (1 possible path)\")"
   ]
  },
  {
   "cell_type": "code",
   "execution_count": 0,
   "metadata": {
    "collapsed": false
   },
   "outputs": [
   ],
   "source": [
    "runs <- 100000\n",
    "#simulates future movements and returns the closing price on day 365\n",
    "generate.path <- function(){\n",
    "  days <- 365\n",
    "  changes <- rnorm(365,mean=1.001,sd=0.005)\n",
    "  sample.path <- cumprod(c(20,changes))\n",
    "  closing.price <- sample.path[days+1] #+1 because we add the opening price\n",
    "}\n",
    "\n",
    "mc.closing <- replicate(runs,generate.path())"
   ]
  },
  {
   "cell_type": "code",
   "execution_count": 0,
   "metadata": {
    "collapsed": false,
    "scrolled": true
   },
   "outputs": [
   ],
   "source": [
    "head(mc.closing)"
   ]
  },
  {
   "cell_type": "code",
   "execution_count": 0,
   "metadata": {
    "collapsed": false
   },
   "outputs": [
   ],
   "source": [
    "mean(mc.closing)"
   ]
  },
  {
   "cell_type": "code",
   "execution_count": 0,
   "metadata": {
    "collapsed": false
   },
   "outputs": [
   ],
   "source": [
    "quantile(mc.closing, c(.05, .5, .95))"
   ]
  },
  {
   "cell_type": "markdown",
   "metadata": {
    "collapsed": false
   },
   "source": [
    "\n",
    "### What would be a big streak for Kobe?\n",
    "\n",
    "We again come back to Kobe, a player we know makes 45% percent of his shots. Kobe took about 26500 shots in his career. What would be a reasonable longest shooting streak for a player like that?\n",
    "\n",
    "\n",
    "**Run a simulation of Kobe's career and see what the longest streak was? Then do it again. Did you get a different answer? Do it a few times. How much variability is there in the answer?**"
   ]
  },
  {
   "cell_type": "code",
   "execution_count": 0,
   "metadata": {
    "collapsed": false
   },
   "outputs": [
   ],
   "source": [
   ]
  },
  {
   "cell_type": "code",
   "execution_count": 0,
   "metadata": {
    "collapsed": false
   },
   "outputs": [
   ],
   "source": [
   ]
  }
 ],
 "metadata": {
  "kernelspec": {
   "display_name": "R (SageMath)",
   "language": "r",
   "name": "ir-sage"
  }
 },
 "nbformat": 4,
 "nbformat_minor": 0
}