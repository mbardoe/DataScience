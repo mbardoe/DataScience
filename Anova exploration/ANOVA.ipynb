{
 "cells": [
  {
   "cell_type": "markdown",
   "metadata": {
    "collapsed": false
   },
   "source": [
    "# ANOVA: Analysis of Variance\n",
    "\n",
    "This technique is most useful when you want to compare some quantitative data across some categorical data (often we have more than two levels to our categorical variable). For instance in our Pace of Life survey. We could look at the DassTotal when we look at different grade level. The question we are answering here is if there is a significant difference between the means across these groups. \n",
    "\n",
    "So if we spoke about this in the language of hypothesis testing our hypothesis would be:\n",
    "\n",
    "    * H_0: All the means of the different groups are equal\n",
    "    * H_a: At least one pair of means of the groups are different\n",
    "    \n",
    "There are some assumptions that the data must meet to make the test be valid. These are:\n",
    "\n",
    "* Simple Random Sampling or independent observations\n",
    "* Independent groups\n",
    "* Standard deviation across groups are the same\n",
    "* Each group has a large enough number of observations (n>20). This supports normality."
   ]
  },
  {
   "cell_type": "markdown",
   "metadata": {
    "collapsed": false
   },
   "source": [
    "## Pace of life example\n",
    "\n",
    "Let's load the data and look at the infomation:\n",
    "\n",
    "```\n",
    "library(ggplot2)\n",
    "pol<-read.csv(\"POLFINALRevise2019V2.csv\")\n",
    "head(pol[,c(\"DassTotal\",\"GRADENOPG\")])\n",
    "```"
   ]
  },
  {
   "cell_type": "code",
   "execution_count": 0,
   "metadata": {
    "collapsed": false
   },
   "outputs": [
   ],
   "source": [
   ]
  },
  {
   "cell_type": "markdown",
   "metadata": {
    "collapsed": false
   },
   "source": [
    "Next we should look at the data. Below you will see a boxplot of the data grouped by various grade levels. \n",
    "\n",
    "```\n",
    "# Box plot\n",
    "boxplot(DassTotal ~ GRADENOPG, data = pol,\n",
    "        xlab = \"Grade\", ylab = \"Stress\",\n",
    "        frame = FALSE, col = c(\"#00AFBB\", \"#E7B800\", \"#FC4E07\", \"green\"))\n",
    "# plotmeans\n",
    "library(\"gplots\")\n",
    "plotmeans(DassTotal ~ GRADENOPG, data = pol, frame = FALSE,\n",
    "          xlab = \"Grade\", ylab = \"Stress\",\n",
    "          main=\"Mean Plot with 95% CI\") \n",
    "```"
   ]
  },
  {
   "cell_type": "code",
   "execution_count": 0,
   "metadata": {
    "collapsed": false
   },
   "outputs": [
   ],
   "source": [
   ]
  },
  {
   "cell_type": "markdown",
   "metadata": {
    "collapsed": false
   },
   "source": [
    "Let's make sure that we have the right kind of data for an ANOVA:\n",
    "\n",
    "```\n",
    "class(pol$DassTotal)\n",
    "class(pol$GRADENOPG)\n",
    "levels(pol$GRADENOPG)\n",
    "```"
   ]
  },
  {
   "cell_type": "code",
   "execution_count": 0,
   "metadata": {
    "collapsed": false
   },
   "outputs": [
   ],
   "source": [
   ]
  },
  {
   "cell_type": "markdown",
   "metadata": {
    "collapsed": false
   },
   "source": [
    "Now we do the ANOVA and save it in a variable called anov1:\n",
    "\n",
    "```\n",
    "anov1<-aov(pol$DassTotal~pol$GRADENOPG)\n",
    "anov1\n",
    "summary(anov1)\n",
    "```"
   ]
  },
  {
   "cell_type": "code",
   "execution_count": 0,
   "metadata": {
    "collapsed": false
   },
   "outputs": [
   ],
   "source": [
   ]
  },
  {
   "cell_type": "markdown",
   "metadata": {
    "collapsed": false
   },
   "source": [
    "# Your Turn\n",
    "\n",
    "Look at the data in our music experiment. Use an ANOVA to determine if there is a statistical difference between the way that people were able to answer math questions with different kinds of music.\n",
    "\n",
    "First load the data and take a look at it. \n",
    "\n",
    "```\n",
    "music<-read.csv(\"MusicData2.csv\")\n",
    "head(music)\n",
    "```\n"
   ]
  },
  {
   "cell_type": "code",
   "execution_count": 0,
   "metadata": {
    "collapsed": false
   },
   "outputs": [
   ],
   "source": [
   ]
  },
  {
   "cell_type": "markdown",
   "metadata": {
    "collapsed": false
   },
   "source": [
    "# Clean the data\n",
    "\n",
    "We need to arrange the data differently. We want there to be a column that is just the score of on the math test and then another column that says what song is being played.\n",
    "So we want the row:\n",
    "\n",
    "|Timestamp|Thunderstruck|My_Girl|Yes_Indeed|Gender|\n",
    "|---------|-------------|-------|----------|------|\n",
    "|4/23/2019 9:10:22|41|45|50|M|\n",
    "\n",
    "to turn into several rows of a new table\n",
    "|Timestamp|Song|Score|Gender|\n",
    "|---------|-------------|----------|------|\n",
    "|4/23/2019 9:10:22|Thunderstruck|41|M|\n",
    "|4/23/2019 9:10:22|My_Girl|45|M|\n",
    "|4/23/2019 9:10:22|Yes_Indeed|50|M|\n",
    "\n",
    "To do this we need the gather function in the ```tidyverse``` library. This function allows you to take the values that are listed under several columns and then list them in a single new column (the \"value\" column) and then record the name of the column that the value came in the \"key\" column.\n",
    "\n",
    "```\n",
    "library(tidyverse)\n",
    "music<-gather(data=music,Thunderstruck, My_Girl,Yes_Indeed, key=\"Song\", value=\"Score\")\n",
    "head(music)\n",
    "```"
   ]
  },
  {
   "cell_type": "code",
   "execution_count": 0,
   "metadata": {
    "collapsed": false
   },
   "outputs": [
   ],
   "source": [
   ]
  },
  {
   "cell_type": "markdown",
   "metadata": {
    "collapsed": false
   },
   "source": [
    "## Your assignment\n",
    "\n",
    "Now that ```music``` is a nice dataset. Please do the following in the given order:\n",
    "\n",
    "For Song:\n",
    "\n",
    "* Create boxplots that compare the distributions of the scores by the song\n",
    "* Write a short analysis of whether the graph supports the idea the songs allow for different results on the addition test.\n",
    "* State the Hypothesis for an ANOVA test\n",
    "* Do an ANOVA analysis\n",
    "* Write a short analysis of whether the ANOVA test supports the idea that the songs allow for different results. Use the p-value given in the ANOVA to support your answer.\n",
    "\n",
    "For Gender:\n",
    "\n",
    "* Create boxplots that compare the distributions of the scores by the song\n",
    "* Write a short analysis of whether the graph supports the idea the songs allow for different results on the addition test.\n",
    "* State the Hypothesis for an ANOVA test\n",
    "* Do an ANOVA analysis\n",
    "* Write a short analysis of whether the ANOVA test supports the idea that the songs allow for different results. Use the p-value given in the ANOVA to support your answer.\n",
    "\n"
   ]
  },
  {
   "cell_type": "code",
   "execution_count": 0,
   "metadata": {
    "collapsed": false
   },
   "outputs": [
   ],
   "source": [
   ]
  }
 ],
 "metadata": {
  "kernelspec": {
   "display_name": "R (SageMath)",
   "language": "r",
   "metadata": {
    "cocalc": {
     "description": "SageMath's R language environment",
     "priority": 0,
     "url": "https://www.sagemath.org/"
    }
   },
   "name": "ir-sage"
  },
  "language_info": {
   "codemirror_mode": "r",
   "file_extension": ".r",
   "mimetype": "text/x-r-source",
   "name": "R",
   "pygments_lexer": "r",
   "version": "3.5.2"
  }
 },
 "nbformat": 4,
 "nbformat_minor": 0
}