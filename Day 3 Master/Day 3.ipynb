{
 "cells": [
  {
   "cell_type": "markdown",
   "metadata": {
    "collapsed": false
   },
   "source": [
    "# Day 3 More Introduction\n",
    "\n",
    "Some define statistics as the field that focuses on turning information into\n",
    "knowledge. The first step in that process is to summarize and describe the raw\n",
    "information - the data. In this lab we explore flights, specifically a random\n",
    "sample of domestic flights that departed from the three major \n",
    "New York City airport in 2013. We will generate simple graphical and numerical \n",
    "summaries of data on these flights and explore delay times. As this is a large \n",
    "data set, along the way you'll also learn the indispensable skills of data \n",
    "processing and subsetting."
   ]
  },
  {
   "cell_type": "markdown",
   "metadata": {
    "collapsed": false
   },
   "source": [
    "## Getting started\n",
    "\n",
    "### Load packages\n",
    "\n",
    "In this lab we will explore the data using the `dplyr` package and visualize it \n",
    "using the `ggplot2` package for data visualization. The data can be found in the\n",
    "companion package for this course, `statsr`.\n",
    "\n",
    "Let's load the packages.\n",
    "\n",
    "```{r load-packages, message=FALSE}\n",
    "library(dplyr)\n",
    "library(ggplot2)\n",
    "```"
   ]
  },
  {
   "cell_type": "code",
   "execution_count": 12,
   "metadata": {
    "collapsed": false
   },
   "outputs": [
   ],
   "source": [
    "library(dplyr)\n",
    "library(ggplot2)"
   ]
  },
  {
   "cell_type": "markdown",
   "metadata": {
    "collapsed": false
   },
   "source": [
    "The [Bureau of Transportation Statistics](http://www.rita.dot.gov/bts/about/) \n",
    "(BTS) is a statistical agency that is a part of the Research and Innovative \n",
    "Technology Administration (RITA). As its name implies, BTS collects and makes \n",
    "available transportation data, such as the flights data we will be working with \n",
    "in this lab.\n",
    "\n",
    "We begin by loading the `nycflights` data frame. Type the following in your console\n",
    "to load the data:\n",
    "\n",
    "```{r load-data}\n",
    "data(nycflights)\n",
    "```"
   ]
  },
  {
   "cell_type": "code",
   "execution_count": 13,
   "metadata": {
    "collapsed": false
   },
   "outputs": [
    {
     "name": "stderr",
     "output_type": "stream",
     "text": [
      "Warning message in data(nycflights):\n",
      "“data set ‘nycflights’ not found”"
     ]
    }
   ],
   "source": [
    "data(nycflights)"
   ]
  },
  {
   "cell_type": "code",
   "execution_count": 14,
   "metadata": {
    "collapsed": false
   },
   "outputs": [
   ],
   "source": [
    "nycflights<-readRDS(\"nycflights.rds\")"
   ]
  },
  {
   "cell_type": "markdown",
   "metadata": {
    "collapsed": false
   },
   "source": [
    "The data frame containing `r nrow(nycflights)` flights that shows up in your \n",
    "workspace is a *data matrix*, with each row representing an *observation* and each \n",
    "column representing a *variable*. R calls this data format a **data frame**, which is \n",
    "a term that will be used throughout the labs.\n",
    "\n",
    "To view the names of the variables, type the command\n",
    "\n",
    "```{r names}\n",
    "names(nycflights)\n",
    "```"
   ]
  },
  {
   "cell_type": "code",
   "execution_count": 15,
   "metadata": {
    "collapsed": false
   },
   "outputs": [
    {
     "data": {
      "text/html": [
       "<ol class=list-inline>\n",
       "\t<li>'year'</li>\n",
       "\t<li>'month'</li>\n",
       "\t<li>'day'</li>\n",
       "\t<li>'dep_time'</li>\n",
       "\t<li>'dep_delay'</li>\n",
       "\t<li>'arr_time'</li>\n",
       "\t<li>'arr_delay'</li>\n",
       "\t<li>'carrier'</li>\n",
       "\t<li>'tailnum'</li>\n",
       "\t<li>'flight'</li>\n",
       "\t<li>'origin'</li>\n",
       "\t<li>'dest'</li>\n",
       "\t<li>'air_time'</li>\n",
       "\t<li>'distance'</li>\n",
       "\t<li>'hour'</li>\n",
       "\t<li>'minute'</li>\n",
       "</ol>\n"
      ]
     },
     "execution_count": 15,
     "metadata": {
     },
     "output_type": "execute_result"
    }
   ],
   "source": [
    "names(nycflights)"
   ]
  },
  {
   "cell_type": "markdown",
   "metadata": {
    "collapsed": false
   },
   "source": [
    "This returns the names of the variables in this data frame. The **codebook**\n",
    "(description of the variables) is included below. This information can also be\n",
    "found in the help file for the data frame which can be accessed by typing\n",
    "`?nycflights` in the console.\n",
    "\n",
    "- `year`, `month`, `day`: Date of departure\n",
    "- `dep_time`, `arr_time`: Departure and arrival times, local timezone.\n",
    "- `dep_delay`, `arr_delay`: Departure and arrival delays, in minutes. Negative times represent early departures/arrivals.\n",
    "- `carrier`: Two letter carrier abbreviation.\n",
    "    + `9E`:           Endeavor Air Inc.\n",
    "    + `AA`:      American Airlines Inc.\n",
    "    + `AS`:        Alaska Airlines Inc.\n",
    "    + `B6`:             JetBlue Airways\n",
    "    + `DL`:        Delta Air Lines Inc.\n",
    "    + `EV`:    ExpressJet Airlines Inc.\n",
    "    + `F9`:      Frontier Airlines Inc.\n",
    "    + `FL`: AirTran Airways Corporation\n",
    "    + `HA`:      Hawaiian Airlines Inc.\n",
    "    + `MQ`:                   Envoy Air\n",
    "    + `OO`:       SkyWest Airlines Inc.\n",
    "    + `UA`:       United Air Lines Inc.\n",
    "    + `US`:             US Airways Inc.\n",
    "    + `VX`:              Virgin America\n",
    "    + `WN`:      Southwest Airlines Co.\n",
    "    + `YV`:          Mesa Airlines Inc.\n",
    "- `tailnum`: Plane tail number\n",
    "- `flight`: Flight number\n",
    "- `origin`, `dest`: Airport codes for origin and destination. (Google can help\n",
    "you with what code stands for which airport.)\n",
    "- `air_time`: Amount of time spent in the air, in minutes.\n",
    "- `distance`: Distance flown, in miles.\n",
    "- `hour`, `minute`: Time of departure broken in to hour and minutes.\n",
    "\n",
    "A very useful function for taking a quick peek at your data frame, and viewing\n",
    "its dimensions and data types is `str`, which stands for **str**ucture.\n",
    "\n",
    "```{r str}\n",
    "str(nycflights)\n",
    "```"
   ]
  },
  {
   "cell_type": "code",
   "execution_count": 16,
   "metadata": {
    "collapsed": false
   },
   "outputs": [
    {
     "name": "stdout",
     "output_type": "stream",
     "text": [
      "Classes ‘tbl_df’ and 'data.frame':\t32735 obs. of  16 variables:\n",
      " $ year     : int  2013 2013 2013 2013 2013 2013 2013 2013 2013 2013 ...\n",
      " $ month    : int  6 5 12 5 7 1 12 8 9 4 ...\n",
      " $ day      : int  30 7 8 14 21 1 9 13 26 30 ...\n",
      " $ dep_time : int  940 1657 859 1841 1102 1817 1259 1920 725 1323 ...\n",
      " $ dep_delay: num  15 -3 -1 -4 -3 -3 14 85 -10 62 ...\n",
      " $ arr_time : int  1216 2104 1238 2122 1230 2008 1617 2032 1027 1549 ...\n",
      " $ arr_delay: num  -4 10 11 -34 -8 3 22 71 -8 60 ...\n",
      " $ carrier  : chr  \"VX\" \"DL\" \"DL\" \"DL\" ...\n",
      " $ tailnum  : chr  \"N626VA\" \"N3760C\" \"N712TW\" \"N914DL\" ...\n",
      " $ flight   : int  407 329 422 2391 3652 353 1428 1407 2279 4162 ...\n",
      " $ origin   : chr  \"JFK\" \"JFK\" \"JFK\" \"JFK\" ...\n",
      " $ dest     : chr  \"LAX\" \"SJU\" \"LAX\" \"TPA\" ...\n",
      " $ air_time : num  313 216 376 135 50 138 240 48 148 110 ...\n",
      " $ distance : num  2475 1598 2475 1005 296 ...\n",
      " $ hour     : num  9 16 8 18 11 18 12 19 7 13 ...\n",
      " $ minute   : num  40 57 59 41 2 17 59 20 25 23 ...\n"
     ]
    }
   ],
   "source": [
    "str(nycflights)"
   ]
  },
  {
   "cell_type": "markdown",
   "metadata": {
    "collapsed": false
   },
   "source": [
    "The `nycflights` data frame is a massive trove of information. Let's think about \n",
    "some questions we might want to answer with these data:\n",
    "\n",
    "- We might want to find out how delayed flights headed to a particular \n",
    "destination tend to be. \n",
    "- We might want to evaluate how departure delays vary over months. \n",
    "- Or we might want to determine which of the three major NYC airports has a better \n",
    "on time percentage for departing flights.\n",
    "\n",
    "### Seven verbs\n",
    "\n",
    "The `dplyr` package offers seven verbs (functions) for basic data \n",
    "manipulation:\n",
    "\n",
    "- `filter()`\n",
    "- `arrange()`\n",
    "- `select()` \n",
    "- `distinct()`\n",
    "- `mutate()`\n",
    "- `summarise()`\n",
    "- `sample_n()`\n",
    "\n",
    "We will use some of these functions in this lab, and learn about others in a \n",
    "future lab.\n",
    "\n",
    "\n",
    "## Analysis\n",
    "\n",
    "### Departure delays in flights to Raleigh-Durham (RDU)\n",
    "\n",
    "We can examine the distribution of departure delays of all flights with a \n",
    "histogram.\n",
    "\n",
    "```{r hist-dep-delay}\n",
    "ggplot(data = nycflights, aes(x = dep_delay)) +\n",
    "  geom_histogram()\n",
    "```"
   ]
  },
  {
   "cell_type": "code",
   "execution_count": 17,
   "metadata": {
    "collapsed": false
   },
   "outputs": [
    {
     "name": "stderr",
     "output_type": "stream",
     "text": [
      "`stat_bin()` using `bins = 30`. Pick better value with `binwidth`.\n"
     ]
    },
    {
     "data": {
      "image/svg+xml": "55ecb8a2f571ac39b87880a740a1b9c352f3427d"
     },
     "metadata": {
      "image/svg+xml": {
       "isolated": true
      }
     },
     "output_type": "execute_result"
    }
   ],
   "source": [
    "ggplot(data = nycflights, aes(x = dep_delay)) +\n",
    "  geom_histogram()"
   ]
  },
  {
   "cell_type": "markdown",
   "metadata": {
    "collapsed": false
   },
   "source": [
    "This function says to plot the `dep_delay` variable from the `nycflights` data \n",
    "frame on the x-axis. It also defines a `geom` (short for geometric object), \n",
    "which describes the type of plot you will produce. \n",
    "\n",
    "Histograms are generally a very good way to see the shape of a single \n",
    "distribution, but that shape can change depending on how the data is split \n",
    "between the different bins. You can easily define the binwidth you want to use:\n",
    "\n",
    "```{r hist-dep-delay-bins}\n",
    "ggplot(data = nycflights, aes(x = dep_delay)) +\n",
    "  geom_histogram(binwidth = 15)\n",
    "ggplot(data = nycflights, aes(x = dep_delay)) +\n",
    "  geom_histogram(binwidth = 150)\n",
    "```\n"
   ]
  },
  {
   "cell_type": "code",
   "execution_count": 18,
   "metadata": {
    "collapsed": false
   },
   "outputs": [
    {
     "data": {
      "image/svg+xml": "8ec3158a825103bf5453672885b1e5574dfbf1f0"
     },
     "metadata": {
      "image/svg+xml": {
       "isolated": true
      }
     },
     "output_type": "execute_result"
    },
    {
     "data": {
      "image/svg+xml": "92133f8488080ca36397cd8725fb85d39ddc4689"
     },
     "metadata": {
      "image/svg+xml": {
       "isolated": true
      }
     },
     "output_type": "execute_result"
    }
   ],
   "source": [
    "ggplot(data = nycflights, aes(x = dep_delay)) +\n",
    "  geom_histogram(binwidth = 15)\n",
    "ggplot(data = nycflights, aes(x = dep_delay)) +\n",
    "  geom_histogram(binwidth = 150)"
   ]
  },
  {
   "cell_type": "markdown",
   "metadata": {
    "collapsed": false
   },
   "source": [
    "<em><span style=\"color:blue\">Question 1:</span></em> How do these three histograms with the various binwidths compare?"
   ]
  },
  {
   "cell_type": "code",
   "execution_count": 0,
   "metadata": {
    "collapsed": false
   },
   "outputs": [
   ],
   "source": [
   ]
  },
  {
   "cell_type": "markdown",
   "metadata": {
    "collapsed": false
   },
   "source": [
    "If we want to focus on departure delays of flights headed to RDU only, we need to\n",
    "first `filter` the data for flights headed to RDU (`dest == \"RDU\"`) and then make\n",
    "a histogram of only departure delays of only those flights.\n",
    "\n",
    "```{r rdu-flights-hist}\n",
    "rdu_flights <- nycflights %>%\n",
    "  filter(dest == \"RDU\")\n",
    "ggplot(data = rdu_flights, aes(x = dep_delay)) +\n",
    "  geom_histogram()\n",
    "```\n"
   ]
  },
  {
   "cell_type": "code",
   "execution_count": 19,
   "metadata": {
    "collapsed": false
   },
   "outputs": [
    {
     "name": "stderr",
     "output_type": "stream",
     "text": [
      "`stat_bin()` using `bins = 30`. Pick better value with `binwidth`.\n"
     ]
    },
    {
     "data": {
      "image/svg+xml": "3499bb693289cb32e27b1828cfa147f7dd103b54"
     },
     "metadata": {
      "image/svg+xml": {
       "isolated": true
      }
     },
     "output_type": "execute_result"
    }
   ],
   "source": [
    "rdu_flights <- nycflights %>%\n",
    "  filter(dest == \"RDU\")\n",
    "ggplot(data = rdu_flights, aes(x = dep_delay)) +\n",
    "  geom_histogram()"
   ]
  },
  {
   "cell_type": "markdown",
   "metadata": {
    "collapsed": false
   },
   "source": [
    "Let's decipher these three lines of code:\n",
    "\n",
    "- Line 1: Take the `nycflights` data frame, `filter` for flights headed to RDU, and \n",
    "save the result as a new data frame called `rdu_flights`.\n",
    "    + `==` means \"if it's equal to\".\n",
    "    + `RDU` is in quotation marks since it is a character string.\n",
    "- Line 2: Basically the same `ggplot` call from earlier for making a histogram, \n",
    "except that it uses the data frame for flights headed to RDU instead of all\n",
    "flights.\n",
    "\n",
    "\n",
    "**Logical operators:** Filtering for certain observations (e.g. flights from a \n",
    "particular airport) is often of interest in data frames where we might want to \n",
    "examine observations with certain characteristics separately from the rest of \n",
    "the data. To do so we use the `filter` function and a series of \n",
    "**logical operators**. The most commonly used logical operators for data \n",
    "analysis are as follows:\n",
    "\n",
    "- `==` means \"equal to\"\n",
    "- `!=` means \"not equal to\"\n",
    "- `>` or `<` means \"greater than\" or \"less than\"\n",
    "- `>=` or `<=` means \"greater than or equal to\" or \"less than or equal to\"\n",
    "\n",
    "We can also obtain numerical summaries for these flights:\n",
    "\n",
    "```{r rdu-flights-summ}\n",
    "rdu_flights %>%\n",
    "  summarise(mean_dd = mean(dep_delay), sd_dd = sd(dep_delay), n = n())\n"
   ]
  },
  {
   "cell_type": "code",
   "execution_count": 20,
   "metadata": {
    "collapsed": false
   },
   "outputs": [
    {
     "data": {
      "text/html": [
       "<table>\n",
       "<thead><tr><th scope=col>mean_dd</th><th scope=col>sd_dd</th><th scope=col>n</th></tr></thead>\n",
       "<tbody>\n",
       "\t<tr><td>11.69913</td><td>35.55567</td><td>801     </td></tr>\n",
       "</tbody>\n",
       "</table>\n"
      ]
     },
     "execution_count": 20,
     "metadata": {
     },
     "output_type": "execute_result"
    }
   ],
   "source": [
    "rdu_flights %>%\n",
    "  summarise(mean_dd = mean(dep_delay), sd_dd = sd(dep_delay), n = n())"
   ]
  },
  {
   "cell_type": "markdown",
   "metadata": {
    "collapsed": false
   },
   "source": [
    "Note that in the `summarise` function we created a list of two elements. The \n",
    "names of these elements are user defined, like `mean_dd`, `sd_dd`, `n`, and \n",
    "you could customize these names as you like (just don't use spaces in your \n",
    "names). Calculating these summary statistics also require that you know the \n",
    "function calls. Note that `n()` reports the sample size.\n",
    "\n",
    "\n",
    "**Summary statistics:** Some useful function calls for summary statistics for a \n",
    "single numerical variable are as follows:\n",
    "\n",
    "- `mean`\n",
    "- `median`\n",
    "- `sd`\n",
    "- `var`\n",
    "- `IQR`\n",
    "- `range`\n",
    "- `min`\n",
    "- `max`\n",
    "\n",
    "\n",
    "We can also filter based on multiple criteria. Suppose we are interested in\n",
    "flights headed to San Francisco (SFO) in February:\n",
    "\n",
    "```{r}\n",
    "sfo_feb_flights <- nycflights %>%\n",
    "  filter(dest == \"SFO\", month == 2)\n",
    "```\n"
   ]
  },
  {
   "cell_type": "code",
   "execution_count": 35,
   "metadata": {
    "collapsed": false
   },
   "outputs": [
   ],
   "source": [
    "sfo_feb_flights <- nycflights %>%\n",
    "  filter(dest == \"SFO\", month == 2)"
   ]
  },
  {
   "cell_type": "markdown",
   "metadata": {
    "collapsed": false
   },
   "source": [
    "Note that we can separate the conditions using commas if we want flights that\n",
    "are both headed to SFO **and** in February. If we are interested in either\n",
    "flights headed to SFO **or** in February we can use the `|` instead of the comma.\n",
    "\n",
    "<em><span style=\"color:blue\">Question 2:</span></em> Create a new data frame that includes flights headed to SFO in February, and save \n",
    "this data frame as `sfo_feb_flights`. How many flights meet these criteria? \n",
    "<ol>\n",
    "<li> 68 </li> \n",
    "<li> 1345 </li> \n",
    "<li> 2286 </li> \n",
    "<li> 3563 </li>\n",
    "<li> 32735 </li>\n",
    "</ol>\n"
   ]
  },
  {
   "cell_type": "code",
   "execution_count": 36,
   "metadata": {
    "collapsed": false
   },
   "outputs": [
    {
     "name": "stdout",
     "output_type": "stream",
     "text": [
      "Classes ‘tbl_df’, ‘tbl’ and 'data.frame':\t68 obs. of  18 variables:\n",
      " $ year        : int  2013 2013 2013 2013 2013 2013 2013 2013 2013 2013 ...\n",
      " $ month       : int  2 2 2 2 2 2 2 2 2 2 ...\n",
      " $ day         : int  18 3 15 18 24 25 7 15 13 8 ...\n",
      " $ dep_time    : int  1527 613 955 1928 1340 1415 1032 1805 1056 656 ...\n",
      " $ dep_delay   : num  57 14 -5 15 2 -10 1 20 -4 -4 ...\n",
      " $ arr_time    : int  1903 1008 1313 2239 1644 1737 1352 2122 1412 1039 ...\n",
      " $ arr_delay   : num  48 38 -28 -6 -21 -13 -10 2 -13 -6 ...\n",
      " $ carrier     : chr  \"DL\" \"UA\" \"DL\" \"UA\" ...\n",
      " $ tailnum     : chr  \"N711ZX\" \"N502UA\" \"N717TW\" \"N24212\" ...\n",
      " $ flight      : int  1322 691 1765 1214 1111 394 641 177 642 1865 ...\n",
      " $ origin      : chr  \"JFK\" \"JFK\" \"JFK\" \"EWR\" ...\n",
      " $ dest        : chr  \"SFO\" \"SFO\" \"SFO\" \"SFO\" ...\n",
      " $ air_time    : num  358 367 338 353 341 355 359 338 347 361 ...\n",
      " $ distance    : num  2586 2586 2586 2565 2565 ...\n",
      " $ hour        : num  15 6 9 19 13 14 10 18 10 6 ...\n",
      " $ minute      : num  27 13 55 28 40 15 32 5 56 56 ...\n",
      " $ dep_type    : chr  \"delayed\" \"delayed\" \"on time\" \"delayed\" ...\n",
      " $ avg_speed_dd: num  433 423 459 436 451 ...\n"
     ]
    }
   ],
   "source": [
    "str(sfo_feb_flights)"
   ]
  },
  {
   "cell_type": "markdown",
   "metadata": {
    "collapsed": false
   },
   "source": [
    "**Write your answer here**"
   ]
  },
  {
   "cell_type": "markdown",
   "metadata": {
    "collapsed": false
   },
   "source": [
    "<em><span style=\"color:blue\">Question 3:</span></em> Make a histogram and calculate appropriate summary statistics for **arrival** \n",
    "delays of `sfo_feb_flights`. Which of the following is false? \n",
    "<ol>\n",
    "<li> The distribution is unimodal. </li> \n",
    "<li> The distribution is right skewed. </li> \n",
    "<li> No flight is delayed more than 2 hours. </li> \n",
    "<li> The distribution has several extreme values on the right side. </li>\n",
    "<li> More than 50% of flights arrive on time or earlier than scheduled. </li>\n",
    "</ol>\n"
   ]
  },
  {
   "cell_type": "code",
   "execution_count": 37,
   "metadata": {
    "collapsed": false
   },
   "outputs": [
    {
     "name": "stderr",
     "output_type": "stream",
     "text": [
      "`stat_bin()` using `bins = 30`. Pick better value with `binwidth`.\n"
     ]
    },
    {
     "data": {
      "text/plain": [
       "   Min. 1st Qu.  Median    Mean 3rd Qu.    Max. \n",
       " -66.00  -21.25  -11.00   -4.50    2.00  196.00 "
      ]
     },
     "execution_count": 37,
     "metadata": {
     },
     "output_type": "execute_result"
    },
    {
     "data": {
      "image/svg+xml": "881557f2690b8e5b9641c7b32df08fba66191909"
     },
     "metadata": {
      "image/svg+xml": {
       "isolated": true
      }
     },
     "output_type": "execute_result"
    }
   ],
   "source": [
    "ggplot(data = sfo_feb_flights, aes(x = arr_delay)) +\n",
    "  geom_histogram()\n",
    "summary(sfo_feb_flights$arr_delay)"
   ]
  },
  {
   "cell_type": "code",
   "execution_count": 0,
   "metadata": {
    "collapsed": false
   },
   "outputs": [
   ],
   "source": [
   ]
  },
  {
   "cell_type": "markdown",
   "metadata": {
    "collapsed": false
   },
   "source": [
    "\n",
    "**Write your answer here**"
   ]
  },
  {
   "cell_type": "markdown",
   "metadata": {
    "collapsed": false
   },
   "source": [
    "Another useful functionality is being able to quickly calculate summary \n",
    "statistics for various groups in your data frame. For example, we can modify the \n",
    "above command using the `group_by` function to get the same summary stats for \n",
    "each origin airport:\n",
    "\n",
    "```{r summary-custom-list-origin}\n",
    "rdu_flights %>%\n",
    "  group_by(origin) %>%\n",
    "  summarise(mean_dd = mean(dep_delay), sd_dd = sd(dep_delay), n = n())\n",
    "```\n"
   ]
  },
  {
   "cell_type": "code",
   "execution_count": 34,
   "metadata": {
    "collapsed": false
   },
   "outputs": [
    {
     "data": {
      "text/html": [
       "<table>\n",
       "<thead><tr><th scope=col>origin</th><th scope=col>mean_dd</th><th scope=col>sd_dd</th><th scope=col>n</th></tr></thead>\n",
       "<tbody>\n",
       "\t<tr><td>EWR      </td><td>13.365517</td><td>32.08492 </td><td>145      </td></tr>\n",
       "\t<tr><td>JFK      </td><td>15.396667</td><td>40.30535 </td><td>300      </td></tr>\n",
       "\t<tr><td>LGA      </td><td> 7.904494</td><td>32.18620 </td><td>356      </td></tr>\n",
       "</tbody>\n",
       "</table>\n"
      ]
     },
     "execution_count": 34,
     "metadata": {
     },
     "output_type": "execute_result"
    }
   ],
   "source": [
    "rdu_flights %>%\n",
    "  group_by(origin) %>%\n",
    "  summarise(mean_dd = mean(dep_delay), sd_dd = sd(dep_delay), n = n())"
   ]
  },
  {
   "cell_type": "markdown",
   "metadata": {
    "collapsed": false
   },
   "source": [
    "Here, we first grouped the data by `origin`, and then calculated the summary \n",
    "statistics.\n",
    "\n",
    "<em><span style=\"color:blue\">Question 4:</span></em> Calculate the median and interquartile range for `arr_delay`s of flights in the \n",
    "`sfo_feb_flights` data frame, grouped by carrier. Which carrier has the hights \n",
    "IQR of arrival delays? \n",
    "<ol>\n",
    "<li> American Airlines </li> \n",
    "<li> JetBlue Airways </li> \n",
    "<li> Virgin America </li> \n",
    "<li> Delta and United Airlines </li>\n",
    "<li> Frontier Airlines </li>\n",
    "</ol>\n"
   ]
  },
  {
   "cell_type": "code",
   "execution_count": 0,
   "metadata": {
    "collapsed": false
   },
   "outputs": [
   ],
   "source": [
   ]
  },
  {
   "cell_type": "markdown",
   "metadata": {
    "collapsed": false
   },
   "source": [
    "**Write answer here**"
   ]
  },
  {
   "cell_type": "markdown",
   "metadata": {
    "collapsed": false
   },
   "source": [
    "### Departure delays over months\n",
    "\n",
    "Which month would you expect to have the highest average delay departing \n",
    "from an NYC airport?\n",
    "\n",
    "Let's think about how we would answer this question:\n",
    "\n",
    "- First, calculate monthly averages for departure delays. With the new language\n",
    "we are learning, we need to\n",
    "    + `group_by` months, then\n",
    "    + `summarise` mean departure delays.\n",
    "- Then, we need to `arrange` these average delays in `desc`ending order\n",
    "\n",
    "```{r mean-dep-delay-months}\n",
    "nycflights %>%\n",
    "  group_by(month) %>%\n",
    "  summarise(mean_dd = mean(dep_delay)) %>%\n",
    "  arrange(desc(mean_dd))\n",
    "```"
   ]
  },
  {
   "cell_type": "code",
   "execution_count": 22,
   "metadata": {
    "collapsed": false
   },
   "outputs": [
    {
     "data": {
      "text/html": [
       "<table>\n",
       "<thead><tr><th scope=col>month</th><th scope=col>mean_dd</th></tr></thead>\n",
       "<tbody>\n",
       "\t<tr><td> 7       </td><td>20.754559</td></tr>\n",
       "\t<tr><td> 6       </td><td>20.350293</td></tr>\n",
       "\t<tr><td>12       </td><td>17.368189</td></tr>\n",
       "\t<tr><td> 4       </td><td>14.554477</td></tr>\n",
       "\t<tr><td> 3       </td><td>13.517602</td></tr>\n",
       "\t<tr><td> 5       </td><td>13.264800</td></tr>\n",
       "\t<tr><td> 8       </td><td>12.619097</td></tr>\n",
       "\t<tr><td> 2       </td><td>10.687227</td></tr>\n",
       "\t<tr><td> 1       </td><td>10.233333</td></tr>\n",
       "\t<tr><td> 9       </td><td> 6.872436</td></tr>\n",
       "\t<tr><td>11       </td><td> 6.103183</td></tr>\n",
       "\t<tr><td>10       </td><td> 5.880374</td></tr>\n",
       "</tbody>\n",
       "</table>\n"
      ]
     },
     "execution_count": 22,
     "metadata": {
     },
     "output_type": "execute_result"
    }
   ],
   "source": [
    "nycflights %>%\n",
    "  group_by(month) %>%\n",
    "  summarise(mean_dd = mean(dep_delay)) %>%\n",
    "  arrange(desc(mean_dd))\n"
   ]
  },
  {
   "cell_type": "markdown",
   "metadata": {
    "collapsed": false
   },
   "source": [
    "<em><span style=\"color:blue\">Question 5:</span></em> Which month has the highest average departure delay from an NYC airport? \n",
    "<ol>\n",
    "<li> January </li> \n",
    "<li> March </li> \n",
    "<li> July </li> \n",
    "<li> October </li>\n",
    "<li> December </li>\n",
    "</ol>"
   ]
  },
  {
   "cell_type": "markdown",
   "metadata": {
    "collapsed": false
   },
   "source": [
    "**Write answer here**"
   ]
  },
  {
   "cell_type": "markdown",
   "metadata": {
    "collapsed": false
   },
   "source": [
    "<em><span style=\"color:blue\">Question 6:</span></em> Which month has the highest median departure delay from an NYC airport?\n",
    "<ol>\n",
    "<li> January </li> \n",
    "<li> March </li> \n",
    "<li> July </li> \n",
    "<li> October </li>\n",
    "<li> December </li>\n",
    "</ol>"
   ]
  },
  {
   "cell_type": "code",
   "execution_count": 33,
   "metadata": {
    "collapsed": false
   },
   "outputs": [
    {
     "data": {
      "text/html": [
       "<table>\n",
       "<thead><tr><th scope=col>month</th><th scope=col>median_dd</th></tr></thead>\n",
       "<tbody>\n",
       "\t<tr><td>12</td><td> 1</td></tr>\n",
       "\t<tr><td> 6</td><td> 0</td></tr>\n",
       "\t<tr><td> 7</td><td> 0</td></tr>\n",
       "\t<tr><td> 3</td><td>-1</td></tr>\n",
       "\t<tr><td> 5</td><td>-1</td></tr>\n",
       "\t<tr><td> 8</td><td>-1</td></tr>\n",
       "\t<tr><td> 1</td><td>-2</td></tr>\n",
       "\t<tr><td> 2</td><td>-2</td></tr>\n",
       "\t<tr><td> 4</td><td>-2</td></tr>\n",
       "\t<tr><td>11</td><td>-2</td></tr>\n",
       "\t<tr><td> 9</td><td>-3</td></tr>\n",
       "\t<tr><td>10</td><td>-3</td></tr>\n",
       "</tbody>\n",
       "</table>\n"
      ]
     },
     "execution_count": 33,
     "metadata": {
     },
     "output_type": "execute_result"
    }
   ],
   "source": [
    "nycflights %>%\n",
    "  group_by(month) %>%\n",
    "  summarise(median_dd = median(dep_delay)) %>%\n",
    "  arrange(desc(median_dd))"
   ]
  },
  {
   "cell_type": "code",
   "execution_count": 0,
   "metadata": {
    "collapsed": false
   },
   "outputs": [
   ],
   "source": [
   ]
  },
  {
   "cell_type": "markdown",
   "metadata": {
    "collapsed": false
   },
   "source": [
    "<em><span style=\"color:blue\">Question 7:</span></em>  Is the mean or the median a more reliable measure for deciding which month(s) to \n",
    "avoid flying if you really dislike delayed flights, and why? \n",
    "<ol>\n",
    "<li> Mean would be more reliable as it gives us the true average. </li> \n",
    "<li> Mean would be more reliable as the distribution of delays is symmetric. </li> \n",
    "<li> Median would be more reliable as the distribution of delays is skewed. </li> \n",
    "<li> Median would be more reliable as the distribution of delays is symmetric. </li>\n",
    "<li> Both give us useful information. </li>\n",
    "</ol>"
   ]
  },
  {
   "cell_type": "code",
   "execution_count": 0,
   "metadata": {
    "collapsed": false
   },
   "outputs": [
   ],
   "source": [
   ]
  },
  {
   "cell_type": "markdown",
   "metadata": {
    "collapsed": false
   },
   "source": [
    "We can also visualize the distributions of departure delays across months using \n",
    "side-by-side box plots:\n",
    "\n",
    "```{r delay-month-box}\n",
    "ggplot(nycflights, aes(x = factor(month), y = dep_delay)) +\n",
    "  geom_boxplot()\n",
    "```"
   ]
  },
  {
   "cell_type": "code",
   "execution_count": 32,
   "metadata": {
    "collapsed": false
   },
   "outputs": [
    {
     "data": {
      "image/svg+xml": "f12586a46ad78dfa346a004497daea53e2dbaf1d"
     },
     "metadata": {
      "image/svg+xml": {
       "isolated": true
      }
     },
     "output_type": "execute_result"
    }
   ],
   "source": [
    "ggplot(nycflights, aes(x = factor(month), y = dep_delay)) +\n",
    "  geom_boxplot()"
   ]
  },
  {
   "cell_type": "markdown",
   "metadata": {
    "collapsed": false
   },
   "source": [
    "There is some new syntax here: We want departure delays on the y-axis and the\n",
    "months on the x-axis to produce side-by-side box plots. Side-by-side box plots\n",
    "require a categorical variable on the x-axis, however in the data frame `month` is \n",
    "stored as a numerical variable (numbers 1 - 12). Therefore we can force R to treat\n",
    "this variable as categorical, what R calls a **factor**, variable with \n",
    "`factor(month)`."
   ]
  },
  {
   "cell_type": "markdown",
   "metadata": {
    "collapsed": false
   },
   "source": [
    "\n",
    "### On time departure rate for NYC airports\n",
    "\n",
    "Suppose you will be flying out of NYC and want to know which of the \n",
    "three major NYC airports has the best on time departure rate of departing flights. \n",
    "Suppose also that for you a flight that is delayed for less than 5 minutes is \n",
    "basically \"on time\". You consider any flight delayed for 5 minutes of more to be \n",
    "\"delayed\".\n",
    "\n",
    "In order to determine which airport has the best on time departure rate, \n",
    "we need to \n",
    "\n",
    "- first classify each flight as \"on time\" or \"delayed\",\n",
    "- then group flights by origin airport,\n",
    "- then calculate on time departure rates for each origin airport,\n",
    "- and finally arrange the airports in descending order for on time departure\n",
    "percentage.\n",
    "\n",
    "Let's start with classifying each flight as \"on time\" or \"delayed\" by\n",
    "creating a new variable with the `mutate` function.\n",
    "\n",
    "```{r dep-type}\n",
    "nycflights <- nycflights %>%\n",
    "  mutate(dep_type = ifelse(dep_delay < 5, \"on time\", \"delayed\"))\n",
    "```\n"
   ]
  },
  {
   "cell_type": "code",
   "execution_count": 25,
   "metadata": {
    "collapsed": false
   },
   "outputs": [
   ],
   "source": [
    "nycflights <- nycflights %>%\n",
    "  mutate(dep_type = ifelse(dep_delay < 5, \"on time\", \"delayed\"))"
   ]
  },
  {
   "cell_type": "markdown",
   "metadata": {
    "collapsed": false
   },
   "source": [
    "The first argument in the `mutate` function is the name of the new variable\n",
    "we want to create, in this case `dep_type`. Then if `dep_delay < 5` we classify \n",
    "the flight as `\"on time\"` and `\"delayed\"` if not, i.e. if the flight is delayed \n",
    "for 5 or more minutes.\n",
    "\n",
    "Note that we are also overwriting the `nycflights` data frame with the new \n",
    "version of this data frame that includes the new `dep_type` variable.\n",
    "\n",
    "We can handle all the remaining steps in one code chunk:\n",
    "\n",
    "```{r}\n",
    "nycflights %>%\n",
    "  group_by(origin) %>%\n",
    "  summarise(ot_dep_rate = sum(dep_type == \"on time\") / n()) %>%\n",
    "  arrange(desc(ot_dep_rate))\n",
    "```\n"
   ]
  },
  {
   "cell_type": "code",
   "execution_count": 26,
   "metadata": {
    "collapsed": false
   },
   "outputs": [
    {
     "data": {
      "text/html": [
       "<table>\n",
       "<thead><tr><th scope=col>origin</th><th scope=col>ot_dep_rate</th></tr></thead>\n",
       "<tbody>\n",
       "\t<tr><td>LGA      </td><td>0.7279229</td></tr>\n",
       "\t<tr><td>JFK      </td><td>0.6935854</td></tr>\n",
       "\t<tr><td>EWR      </td><td>0.6369892</td></tr>\n",
       "</tbody>\n",
       "</table>\n"
      ]
     },
     "execution_count": 26,
     "metadata": {
     },
     "output_type": "execute_result"
    }
   ],
   "source": [
    "nycflights %>%\n",
    "  group_by(origin) %>%\n",
    "  summarise(ot_dep_rate = sum(dep_type == \"on time\") / n()) %>%\n",
    "  arrange(desc(ot_dep_rate))"
   ]
  },
  {
   "cell_type": "markdown",
   "metadata": {
    "collapsed": false
   },
   "source": [
    "**The summarise step is telling R to count up how many records of the currently found group are on time - sum(dep_type == \"on time\") - and divide that result by the total number of elements in the currently found group - n() - to get a proportion, then to store the answer in a new variable called ot_dep_rate.**\n",
    "\n",
    "<em><span style=\"color:blue\">Question 8:</span></em> If you were selecting an airport simply based on on time departure percentage, \n",
    "which NYC airport would you choose to fly out of? \n",
    "<ol>\n",
    "<li> EWR </li> \n",
    "<li> JFK </li> \n",
    "<li> LGA </li> \n",
    "</ol>\n"
   ]
  },
  {
   "cell_type": "code",
   "execution_count": 0,
   "metadata": {
    "collapsed": false
   },
   "outputs": [
   ],
   "source": [
   ]
  },
  {
   "cell_type": "markdown",
   "metadata": {
    "collapsed": false
   },
   "source": [
    "We can also visualize the distribution of on on time departure rate across \n",
    "the three airports using a segmented bar plot.\n",
    "\n",
    "```{r}\n",
    "ggplot(data = nycflights, aes(x = origin, fill = dep_type)) +\n",
    "  geom_bar()\n",
    "```"
   ]
  },
  {
   "cell_type": "code",
   "execution_count": 30,
   "metadata": {
    "collapsed": false
   },
   "outputs": [
    {
     "data": {
      "image/svg+xml": "272816e428fd14a7edcce3acb78d387be2890456"
     },
     "metadata": {
      "image/svg+xml": {
       "isolated": true
      }
     },
     "output_type": "execute_result"
    }
   ],
   "source": [
    "ggplot(data = nycflights, aes(x = origin, fill = dep_type)) +\n",
    "  geom_bar()"
   ]
  },
  {
   "cell_type": "markdown",
   "metadata": {
    "collapsed": false
   },
   "source": [
    "<em><span style=\"color:blue\">Question 9:</span></em>  Mutate the data frame so that it includes a new variable that contains the \n",
    "average speed, `avg_speed` traveled by the plane for each flight (in mph). What is \n",
    "the tail number of the plane with the fastest `avg_speed`? **Hint:** Average speed \n",
    "can be calculated as distance divided by number of hours of travel, and note that \n",
    "`air_time` is given in minutes. If you just want to show the `avg_speed` and \n",
    "`tailnum` and none of the other variables, use the select function at the end of your \n",
    "pipe to select just these two variables with `select(avg_speed, tailnum)`. You can \n",
    "Google this tail number to find out more about the aircraft. \n",
    "<ol>\n",
    "<li> N666DN </li> \n",
    "<li> N755US </li> \n",
    "<li> N779JB </li> \n",
    "<li> N947UW </li> \n",
    "<li> N959UW </li> \n",
    "</ol>\n"
   ]
  },
  {
   "cell_type": "code",
   "execution_count": 31,
   "metadata": {
    "collapsed": false
   },
   "outputs": [
    {
     "name": "stderr",
     "output_type": "stream",
     "text": [
      "Adding missing grouping variables: `tailnum`\n"
     ]
    },
    {
     "data": {
      "text/html": [
       "<table>\n",
       "<thead><tr><th scope=col>tailnum</th><th scope=col>avg_speed_dd</th></tr></thead>\n",
       "<tbody>\n",
       "\t<tr><td>N666DN  </td><td>703.3846</td></tr>\n",
       "\t<tr><td>N779JB  </td><td>557.4419</td></tr>\n",
       "\t<tr><td>N571JB  </td><td>554.2197</td></tr>\n",
       "\t<tr><td>N568JB  </td><td>547.8857</td></tr>\n",
       "\t<tr><td>N5EHAA  </td><td>547.8857</td></tr>\n",
       "\t<tr><td>N656JB  </td><td>547.8857</td></tr>\n",
       "\t<tr><td>N789JB  </td><td>544.7727</td></tr>\n",
       "\t<tr><td>N516JB  </td><td>538.6517</td></tr>\n",
       "\t<tr><td>N648JB  </td><td>535.6425</td></tr>\n",
       "\t<tr><td>N510JB  </td><td>535.6425</td></tr>\n",
       "\t<tr><td>N38268  </td><td>533.0387</td></tr>\n",
       "\t<tr><td>N53442  </td><td>533.0387</td></tr>\n",
       "\t<tr><td>N75858  </td><td>533.0387</td></tr>\n",
       "\t<tr><td>N624JB  </td><td>532.6667</td></tr>\n",
       "\t<tr><td>N569JB  </td><td>532.6667</td></tr>\n",
       "\t<tr><td>N3749D  </td><td>532.6667</td></tr>\n",
       "\t<tr><td>N523JB  </td><td>531.2360</td></tr>\n",
       "\t<tr><td>N504JB  </td><td>529.7238</td></tr>\n",
       "\t<tr><td>N637JB  </td><td>529.7238</td></tr>\n",
       "\t<tr><td>N506JB  </td><td>529.7238</td></tr>\n",
       "\t<tr><td>N571UA  </td><td>529.1209</td></tr>\n",
       "\t<tr><td>N37267  </td><td>527.2131</td></tr>\n",
       "\t<tr><td>N608JB  </td><td>526.8132</td></tr>\n",
       "\t<tr><td>N3771K  </td><td>526.8132</td></tr>\n",
       "\t<tr><td>N595JB  </td><td>526.8132</td></tr>\n",
       "\t<tr><td>N5ETAA  </td><td>526.3784</td></tr>\n",
       "\t<tr><td>N76065  </td><td>526.1131</td></tr>\n",
       "\t<tr><td>N26208  </td><td>525.4144</td></tr>\n",
       "\t<tr><td>N37419  </td><td>525.4144</td></tr>\n",
       "\t<tr><td>N439UA  </td><td>524.5082</td></tr>\n",
       "\t<tr><td>⋮</td><td>⋮</td></tr>\n",
       "\t<tr><td>N37252  </td><td>148.1481</td></tr>\n",
       "\t<tr><td>N828AS  </td><td>147.7419</td></tr>\n",
       "\t<tr><td>N950UW  </td><td>147.6923</td></tr>\n",
       "\t<tr><td>N713UW  </td><td>147.6923</td></tr>\n",
       "\t<tr><td>N950UW  </td><td>147.6923</td></tr>\n",
       "\t<tr><td>N756US  </td><td>144.0000</td></tr>\n",
       "\t<tr><td>N950UW  </td><td>144.0000</td></tr>\n",
       "\t<tr><td>N958UW  </td><td>144.0000</td></tr>\n",
       "\t<tr><td>N946UW  </td><td>140.4878</td></tr>\n",
       "\t<tr><td>N956UW  </td><td>140.4878</td></tr>\n",
       "\t<tr><td>N947UW  </td><td>140.4878</td></tr>\n",
       "\t<tr><td>N945UW  </td><td>140.4878</td></tr>\n",
       "\t<tr><td>N3FEAA  </td><td>140.2500</td></tr>\n",
       "\t<tr><td>N952UW  </td><td>137.1429</td></tr>\n",
       "\t<tr><td>N950UW  </td><td>137.1429</td></tr>\n",
       "\t<tr><td>N957UW  </td><td>137.1429</td></tr>\n",
       "\t<tr><td>N963UW  </td><td>133.9535</td></tr>\n",
       "\t<tr><td>N954UW  </td><td>133.9535</td></tr>\n",
       "\t<tr><td>N813MQ  </td><td>131.7526</td></tr>\n",
       "\t<tr><td>N3DRAA  </td><td>130.4651</td></tr>\n",
       "\t<tr><td>N760US  </td><td>128.0000</td></tr>\n",
       "\t<tr><td>N13913  </td><td>124.2857</td></tr>\n",
       "\t<tr><td>N8943A  </td><td>122.6087</td></tr>\n",
       "\t<tr><td>N947UW  </td><td>122.5532</td></tr>\n",
       "\t<tr><td>N956UW  </td><td>120.0000</td></tr>\n",
       "\t<tr><td>N957UW  </td><td>117.5510</td></tr>\n",
       "\t<tr><td>N957UW  </td><td>115.2000</td></tr>\n",
       "\t<tr><td>N8623A  </td><td>112.8000</td></tr>\n",
       "\t<tr><td>N959UW  </td><td>110.7692</td></tr>\n",
       "\t<tr><td>N755US  </td><td> 76.8000</td></tr>\n",
       "</tbody>\n",
       "</table>\n"
      ]
     },
     "execution_count": 31,
     "metadata": {
     },
     "output_type": "execute_result"
    }
   ],
   "source": [
    "nycflights <- nycflights %>%\n",
    "  mutate(avg_speed_dd = distance/(air_time/60.0))\n",
    "nycflights %>%\n",
    "  group_by(tailnum) %>%\n",
    "  select(avg_speed_dd) %>%\n",
    "  arrange(desc(avg_speed_dd))"
   ]
  },
  {
   "cell_type": "code",
   "execution_count": 0,
   "metadata": {
    "collapsed": false
   },
   "outputs": [
   ],
   "source": [
   ]
  }
 ],
 "metadata": {
  "kernelspec": {
   "display_name": "R (SageMath)",
   "language": "r",
   "name": "ir-sage"
  },
  "language_info": {
   "codemirror_mode": "r",
   "file_extension": ".r",
   "mimetype": "text/x-r-source",
   "name": "R",
   "pygments_lexer": "r",
   "version": "3.4.4"
  }
 },
 "nbformat": 4,
 "nbformat_minor": 0
}