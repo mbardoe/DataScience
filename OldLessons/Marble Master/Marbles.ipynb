{
 "cells": [
  {
   "cell_type": "markdown",
   "metadata": {
    "collapsed": false
   },
   "source": [
    "# Marble Data\n",
    "\n",
    "In this lesson you will learn about how to see if a dataset is normal distributed. We will do this by first looking at dataset that is likely normally distributed and then construct a special graph that shows how close it is to the normal distribution. Part of the goal of this lesson is for you to create a dataset and move it into Cocalc. Again the objectives here are:\n",
    "\n",
    "* Learn how to create and import a csv file to Cocalc.\n",
    "* Analyze a varaible with the Q-Q plot to determine how normal a variable is."
   ]
  },
  {
   "cell_type": "markdown",
   "metadata": {
    "collapsed": false
   },
   "source": [
    "## UnNormal data\n",
    "We will start by looking at dataset we have looked at before that is decidely not normally distributed. The ```faithful``` dataset is one that standsout from the past because it is not normally distributed.\n",
    "\n",
    "Load the dataset with:\n",
    "\n",
    "```\n",
    "library(dplyr)\n",
    "library(ggplot2)\n",
    "data(faithful)\n",
    "```\n",
    "\n",
    "Then create a histogram of the ```waiting``` variable with:\n",
    "\n",
    "```\n",
    "ggplot(faithful, aes(x=waiting))+geom_histogram()\n",
    "```\n"
   ]
  },
  {
   "cell_type": "code",
   "execution_count": 34,
   "metadata": {
    "collapsed": false
   },
   "outputs": [
   ],
   "source": [
    "library(dplyr)\n",
    "library(ggplot2)\n",
    "data(faithful)"
   ]
  },
  {
   "cell_type": "code",
   "execution_count": 35,
   "metadata": {
    "collapsed": false
   },
   "outputs": [
    {
     "data": {
      "text/html": [
       "<table>\n",
       "<thead>\n",
       "\t<tr><th scope=col>eruptions</th><th scope=col>waiting</th></tr>\n",
       "</thead>\n",
       "<tbody>\n",
       "\t<tr><td>3.600</td><td>79   </td></tr>\n",
       "\t<tr><td>1.800</td><td>54   </td></tr>\n",
       "\t<tr><td>3.333</td><td>74   </td></tr>\n",
       "\t<tr><td>2.283</td><td>62   </td></tr>\n",
       "\t<tr><td>4.533</td><td>85   </td></tr>\n",
       "\t<tr><td>2.883</td><td>55   </td></tr>\n",
       "</tbody>\n",
       "</table>\n"
      ]
     },
     "execution_count": 35,
     "metadata": {
     },
     "output_type": "execute_result"
    }
   ],
   "source": [
   ]
  },
  {
   "cell_type": "code",
   "execution_count": 36,
   "metadata": {
    "collapsed": false
   },
   "outputs": [
    {
     "name": "stderr",
     "output_type": "stream",
     "text": [
      "`stat_bin()` using `bins = 30`. Pick better value with `binwidth`.\n"
     ]
    },
    {
     "data": {
      "image/svg+xml": "<?xml version=\"1.0\" encoding=\"UTF-8\"?>\n<svg xmlns=\"http://www.w3.org/2000/svg\" xmlns:xlink=\"http://www.w3.org/1999/xlink\" width=\"504pt\" height=\"504pt\" viewBox=\"0 0 504 504\" version=\"1.1\">\n<defs>\n<g>\n<symbol overflow=\"visible\" id=\"glyph0-0\">\n<path style=\"stroke:none;\" d=\"\"/>\n</symbol>\n<symbol overflow=\"visible\" id=\"glyph0-1\">\n<path style=\"stroke:none;\" d=\"M 4.71875 -3.171875 C 4.71875 -5.453125 3.984375 -6.59375 2.5625 -6.59375 C 1.140625 -6.59375 0.40625 -5.4375 0.40625 -3.21875 C 0.40625 -1 1.140625 0.140625 2.5625 0.140625 C 3.953125 0.140625 4.71875 -1 4.71875 -3.171875 Z M 3.875 -3.25 C 3.875 -1.375 3.453125 -0.546875 2.53125 -0.546875 C 1.671875 -0.546875 1.234375 -1.40625 1.234375 -3.21875 C 1.234375 -5.015625 1.671875 -5.859375 2.5625 -5.859375 C 3.4375 -5.859375 3.875 -5.015625 3.875 -3.25 Z M 3.875 -3.25 \"/>\n</symbol>\n<symbol overflow=\"visible\" id=\"glyph0-2\">\n<path style=\"stroke:none;\" d=\"M 3.21875 0 L 3.21875 -6.59375 L 2.6875 -6.59375 C 2.40625 -5.578125 2.21875 -5.4375 0.953125 -5.28125 L 0.953125 -4.6875 L 2.40625 -4.6875 L 2.40625 0 Z M 3.21875 0 \"/>\n</symbol>\n<symbol overflow=\"visible\" id=\"glyph0-3\">\n<path style=\"stroke:none;\" d=\"M 4.75 -4.65625 C 4.75 -5.765625 3.890625 -6.59375 2.640625 -6.59375 C 1.296875 -6.59375 0.515625 -5.90625 0.46875 -4.296875 L 1.28125 -4.296875 C 1.34375 -5.40625 1.796875 -5.875 2.609375 -5.875 C 3.359375 -5.875 3.90625 -5.34375 3.90625 -4.640625 C 3.90625 -4.125 3.609375 -3.671875 3.015625 -3.34375 L 2.171875 -2.859375 C 0.796875 -2.078125 0.390625 -1.453125 0.3125 0 L 4.703125 0 L 4.703125 -0.8125 L 1.234375 -0.8125 C 1.3125 -1.34375 1.625 -1.6875 2.421875 -2.171875 L 3.359375 -2.671875 C 4.28125 -3.15625 4.75 -3.84375 4.75 -4.65625 Z M 4.75 -4.65625 \"/>\n</symbol>\n<symbol overflow=\"visible\" id=\"glyph0-4\">\n<path style=\"stroke:none;\" d=\"M 4.765625 -2.1875 C 4.765625 -3.484375 3.90625 -4.34375 2.640625 -4.34375 C 2.171875 -4.34375 1.796875 -4.21875 1.421875 -3.9375 L 1.6875 -5.640625 L 4.421875 -5.640625 L 4.421875 -6.453125 L 1.015625 -6.453125 L 0.53125 -3 L 1.28125 -3 C 1.671875 -3.453125 1.984375 -3.609375 2.484375 -3.609375 C 3.375 -3.609375 3.9375 -3.046875 3.9375 -2.078125 C 3.9375 -1.125 3.390625 -0.578125 2.484375 -0.578125 C 1.78125 -0.578125 1.34375 -0.953125 1.140625 -1.6875 L 0.328125 -1.6875 C 0.59375 -0.375 1.34375 0.140625 2.515625 0.140625 C 3.84375 0.140625 4.765625 -0.796875 4.765625 -2.1875 Z M 4.765625 -2.1875 \"/>\n</symbol>\n<symbol overflow=\"visible\" id=\"glyph0-5\">\n<path style=\"stroke:none;\" d=\"M 4.765625 -2.046875 C 4.765625 -3.265625 3.9375 -4.09375 2.75 -4.09375 C 2.09375 -4.09375 1.59375 -3.84375 1.234375 -3.359375 C 1.25 -4.96875 1.765625 -5.859375 2.703125 -5.859375 C 3.28125 -5.859375 3.6875 -5.5 3.8125 -4.875 L 4.625 -4.875 C 4.46875 -5.953125 3.765625 -6.59375 2.765625 -6.59375 C 1.234375 -6.59375 0.40625 -5.296875 0.40625 -3 C 0.40625 -0.953125 1.109375 0.140625 2.609375 0.140625 C 3.875 0.140625 4.765625 -0.75 4.765625 -2.046875 Z M 3.9375 -1.984375 C 3.9375 -1.15625 3.375 -0.578125 2.625 -0.578125 C 1.859375 -0.578125 1.28125 -1.1875 1.28125 -2.03125 C 1.28125 -2.84375 1.84375 -3.375 2.65625 -3.375 C 3.4375 -3.375 3.9375 -2.859375 3.9375 -1.984375 Z M 3.9375 -1.984375 \"/>\n</symbol>\n<symbol overflow=\"visible\" id=\"glyph0-6\">\n<path style=\"stroke:none;\" d=\"M 4.828125 -5.765625 L 4.828125 -6.453125 L 0.421875 -6.453125 L 0.421875 -5.640625 L 3.984375 -5.640625 C 2.671875 -3.984375 1.75 -2.0625 1.28125 0 L 2.15625 0 C 2.515625 -2.125 3.453125 -4.125 4.828125 -5.765625 Z M 4.828125 -5.765625 \"/>\n</symbol>\n<symbol overflow=\"visible\" id=\"glyph0-7\">\n<path style=\"stroke:none;\" d=\"M 4.765625 -1.859375 C 4.765625 -2.59375 4.390625 -3.109375 3.640625 -3.46875 C 4.3125 -3.875 4.53125 -4.21875 4.53125 -4.828125 C 4.53125 -5.859375 3.734375 -6.59375 2.5625 -6.59375 C 1.390625 -6.59375 0.578125 -5.859375 0.578125 -4.828125 C 0.578125 -4.21875 0.796875 -3.890625 1.46875 -3.46875 C 0.71875 -3.109375 0.34375 -2.59375 0.34375 -1.875 C 0.34375 -0.65625 1.25 0.140625 2.5625 0.140625 C 3.859375 0.140625 4.765625 -0.65625 4.765625 -1.859375 Z M 3.703125 -4.8125 C 3.703125 -4.203125 3.25 -3.796875 2.5625 -3.796875 C 1.875 -3.796875 1.40625 -4.203125 1.40625 -4.828125 C 1.40625 -5.453125 1.875 -5.859375 2.5625 -5.859375 C 3.25 -5.859375 3.703125 -5.453125 3.703125 -4.8125 Z M 3.9375 -1.84375 C 3.9375 -1.0625 3.375 -0.578125 2.53125 -0.578125 C 1.734375 -0.578125 1.1875 -1.078125 1.1875 -1.84375 C 1.1875 -2.625 1.734375 -3.109375 2.5625 -3.109375 C 3.375 -3.109375 3.9375 -2.625 3.9375 -1.84375 Z M 3.9375 -1.84375 \"/>\n</symbol>\n<symbol overflow=\"visible\" id=\"glyph0-8\">\n<path style=\"stroke:none;\" d=\"M 4.734375 -3.453125 C 4.734375 -5.515625 4.015625 -6.59375 2.515625 -6.59375 C 1.25 -6.59375 0.359375 -5.703125 0.359375 -4.40625 C 0.359375 -3.171875 1.1875 -2.359375 2.375 -2.359375 C 3 -2.359375 3.453125 -2.578125 3.890625 -3.09375 C 3.875 -1.484375 3.359375 -0.578125 2.421875 -0.578125 C 1.84375 -0.578125 1.4375 -0.953125 1.3125 -1.578125 L 0.5 -1.578125 C 0.65625 -0.5 1.359375 0.140625 2.359375 0.140625 C 3.90625 0.140625 4.734375 -1.171875 4.734375 -3.453125 Z M 3.84375 -4.421875 C 3.84375 -3.609375 3.265625 -3.078125 2.46875 -3.078125 C 1.6875 -3.078125 1.1875 -3.59375 1.1875 -4.46875 C 1.1875 -5.3125 1.75 -5.875 2.5 -5.875 C 3.265625 -5.875 3.84375 -5.28125 3.84375 -4.421875 Z M 3.84375 -4.421875 \"/>\n</symbol>\n<symbol overflow=\"visible\" id=\"glyph1-0\">\n<path style=\"stroke:none;\" d=\"\"/>\n</symbol>\n<symbol overflow=\"visible\" id=\"glyph1-1\">\n<path style=\"stroke:none;\" d=\"M 8.140625 -6.03125 L 7.0625 -6.03125 L 5.859375 -1.328125 L 4.6875 -6.03125 L 3.5 -6.03125 L 2.359375 -1.328125 L 1.125 -6.03125 L 0.0625 -6.03125 L 1.8125 0 L 2.890625 0 L 4.0625 -4.71875 L 5.28125 0 L 6.375 0 Z M 8.140625 -6.03125 \"/>\n</symbol>\n<symbol overflow=\"visible\" id=\"glyph1-2\">\n<path style=\"stroke:none;\" d=\"M 6.15625 -0.015625 L 6.15625 -0.75 C 6.046875 -0.71875 6 -0.71875 5.953125 -0.71875 C 5.609375 -0.71875 5.421875 -0.890625 5.421875 -1.203125 L 5.421875 -4.546875 C 5.421875 -5.625 4.640625 -6.203125 3.15625 -6.203125 C 1.703125 -6.203125 0.8125 -5.640625 0.75 -4.25 L 1.71875 -4.25 C 1.796875 -4.984375 2.234375 -5.3125 3.125 -5.3125 C 3.984375 -5.3125 4.46875 -4.984375 4.46875 -4.421875 L 4.46875 -4.15625 C 4.46875 -3.765625 4.234375 -3.59375 3.46875 -3.5 C 2.109375 -3.328125 1.90625 -3.28125 1.546875 -3.125 C 0.84375 -2.84375 0.484375 -2.296875 0.484375 -1.5625 C 0.484375 -0.46875 1.234375 0.171875 2.46875 0.171875 C 3.234375 0.171875 3.984375 -0.15625 4.515625 -0.71875 C 4.609375 -0.25 5.03125 0.078125 5.5 0.078125 C 5.6875 0.078125 5.84375 0.0625 6.15625 -0.015625 Z M 4.46875 -2.078125 C 4.46875 -1.21875 3.59375 -0.671875 2.671875 -0.671875 C 1.921875 -0.671875 1.484375 -0.9375 1.484375 -1.59375 C 1.484375 -2.21875 1.90625 -2.5 2.9375 -2.640625 C 3.9375 -2.78125 4.15625 -2.828125 4.46875 -2.984375 Z M 4.46875 -2.078125 \"/>\n</symbol>\n<symbol overflow=\"visible\" id=\"glyph1-3\">\n<path style=\"stroke:none;\" d=\"M 1.765625 0 L 1.765625 -6.03125 L 0.8125 -6.03125 L 0.8125 0 Z M 1.890625 -6.9375 L 1.890625 -8.125 L 0.6875 -8.125 L 0.6875 -6.9375 Z M 1.890625 -6.9375 \"/>\n</symbol>\n<symbol overflow=\"visible\" id=\"glyph1-4\">\n<path style=\"stroke:none;\" d=\"M 2.921875 0 L 2.921875 -0.8125 C 2.796875 -0.765625 2.640625 -0.765625 2.46875 -0.765625 C 2.046875 -0.765625 1.9375 -0.875 1.9375 -1.296875 L 1.9375 -5.25 L 2.921875 -5.25 L 2.921875 -6.03125 L 1.9375 -6.03125 L 1.9375 -7.6875 L 0.984375 -7.6875 L 0.984375 -6.03125 L 0.15625 -6.03125 L 0.15625 -5.25 L 0.984375 -5.25 L 0.984375 -0.875 C 0.984375 -0.265625 1.390625 0.078125 2.140625 0.078125 C 2.375 0.078125 2.59375 0.0625 2.921875 0 Z M 2.921875 0 \"/>\n</symbol>\n<symbol overflow=\"visible\" id=\"glyph1-5\">\n<path style=\"stroke:none;\" d=\"M 5.59375 0 L 5.59375 -4.546875 C 5.59375 -5.546875 4.859375 -6.203125 3.6875 -6.203125 C 2.796875 -6.203125 2.21875 -5.859375 1.6875 -5.015625 L 1.6875 -6.03125 L 0.8125 -6.03125 L 0.8125 0 L 1.765625 0 L 1.765625 -3.328125 C 1.765625 -4.546875 2.421875 -5.359375 3.40625 -5.359375 C 4.15625 -5.359375 4.640625 -4.90625 4.640625 -4.171875 L 4.640625 0 Z M 5.59375 0 \"/>\n</symbol>\n<symbol overflow=\"visible\" id=\"glyph1-6\">\n<path style=\"stroke:none;\" d=\"M 5.625 -0.984375 L 5.625 -6.03125 L 4.734375 -6.03125 L 4.734375 -5.15625 C 4.25 -5.859375 3.671875 -6.203125 2.890625 -6.203125 C 1.375 -6.203125 0.328125 -4.90625 0.328125 -2.953125 C 0.328125 -1.0625 1.40625 0.171875 2.8125 0.171875 C 3.578125 0.171875 4.109375 -0.15625 4.734375 -0.90625 L 4.734375 -0.5 C 4.734375 1.09375 4.078125 1.703125 2.96875 1.703125 C 2.203125 1.703125 1.625 1.421875 1.5 0.6875 L 0.53125 0.6875 C 0.625 1.828125 1.515625 2.5 2.9375 2.5 C 4.8125 2.5 5.625 1.671875 5.625 -0.984375 Z M 4.640625 -2.984375 C 4.640625 -1.546875 4.03125 -0.71875 3.015625 -0.71875 C 1.96875 -0.71875 1.328125 -1.546875 1.328125 -3.015625 C 1.328125 -4.46875 1.984375 -5.3125 3 -5.3125 C 4.03125 -5.3125 4.640625 -4.4375 4.640625 -2.984375 Z M 4.640625 -2.984375 \"/>\n</symbol>\n<symbol overflow=\"visible\" id=\"glyph2-0\">\n<path style=\"stroke:none;\" d=\"\"/>\n</symbol>\n<symbol overflow=\"visible\" id=\"glyph2-1\">\n<path style=\"stroke:none;\" d=\"M -2.0625 -5.484375 L -2.0625 -4.515625 C -1.109375 -4.359375 -0.71875 -3.859375 -0.71875 -3.046875 C -0.71875 -1.984375 -1.53125 -1.359375 -2.953125 -1.359375 C -4.46875 -1.359375 -5.3125 -1.984375 -5.3125 -3.03125 C -5.3125 -3.828125 -4.84375 -4.328125 -4 -4.453125 L -4 -5.421875 C -5.46875 -5.296875 -6.203125 -4.375 -6.203125 -3.03125 C -6.203125 -1.421875 -4.953125 -0.359375 -2.953125 -0.359375 C -1.015625 -0.359375 0.171875 -1.390625 0.171875 -3.03125 C 0.171875 -4.46875 -0.6875 -5.375 -2.0625 -5.484375 Z M -2.0625 -5.484375 \"/>\n</symbol>\n<symbol overflow=\"visible\" id=\"glyph2-2\">\n<path style=\"stroke:none;\" d=\"M -2.96875 -5.859375 C -5.046875 -5.859375 -6.203125 -4.859375 -6.203125 -3.125 C -6.203125 -1.4375 -5.03125 -0.40625 -3.015625 -0.40625 C -0.984375 -0.40625 0.171875 -1.421875 0.171875 -3.140625 C 0.171875 -4.828125 -0.984375 -5.859375 -2.96875 -5.859375 Z M -2.984375 -4.859375 C -1.5625 -4.859375 -0.71875 -4.203125 -0.71875 -3.140625 C -0.71875 -2.0625 -1.546875 -1.421875 -3.015625 -1.421875 C -4.46875 -1.421875 -5.3125 -2.0625 -5.3125 -3.140625 C -5.3125 -4.21875 -4.46875 -4.859375 -2.984375 -4.859375 Z M -2.984375 -4.859375 \"/>\n</symbol>\n<symbol overflow=\"visible\" id=\"glyph2-3\">\n<path style=\"stroke:none;\" d=\"M 0 -5.546875 L -6.03125 -5.546875 L -6.03125 -4.59375 L -2.703125 -4.59375 C -1.46875 -4.59375 -0.671875 -3.9375 -0.671875 -2.9375 C -0.671875 -2.1875 -1.125 -1.703125 -1.84375 -1.703125 L -6.03125 -1.703125 L -6.03125 -0.75 L -1.46875 -0.75 C -0.46875 -0.75 0.171875 -1.5 0.171875 -2.671875 C 0.171875 -3.546875 -0.140625 -4.109375 -0.9375 -4.6875 L 0 -4.6875 Z M 0 -5.546875 \"/>\n</symbol>\n<symbol overflow=\"visible\" id=\"glyph2-4\">\n<path style=\"stroke:none;\" d=\"M 0 -5.59375 L -4.546875 -5.59375 C -5.546875 -5.59375 -6.203125 -4.859375 -6.203125 -3.6875 C -6.203125 -2.796875 -5.859375 -2.21875 -5.015625 -1.6875 L -6.03125 -1.6875 L -6.03125 -0.8125 L 0 -0.8125 L 0 -1.765625 L -3.328125 -1.765625 C -4.546875 -1.765625 -5.359375 -2.421875 -5.359375 -3.40625 C -5.359375 -4.15625 -4.90625 -4.640625 -4.171875 -4.640625 L 0 -4.640625 Z M 0 -5.59375 \"/>\n</symbol>\n<symbol overflow=\"visible\" id=\"glyph2-5\">\n<path style=\"stroke:none;\" d=\"M 0 -2.921875 L -0.8125 -2.921875 C -0.765625 -2.796875 -0.765625 -2.640625 -0.765625 -2.46875 C -0.765625 -2.046875 -0.875 -1.9375 -1.296875 -1.9375 L -5.25 -1.9375 L -5.25 -2.921875 L -6.03125 -2.921875 L -6.03125 -1.9375 L -7.6875 -1.9375 L -7.6875 -0.984375 L -6.03125 -0.984375 L -6.03125 -0.15625 L -5.25 -0.15625 L -5.25 -0.984375 L -0.875 -0.984375 C -0.265625 -0.984375 0.078125 -1.390625 0.078125 -2.140625 C 0.078125 -2.375 0.0625 -2.59375 0 -2.921875 Z M 0 -2.921875 \"/>\n</symbol>\n</g>\n<clipPath id=\"clip1\">\n  <path d=\"M 34.875 5.480469 L 499 5.480469 L 499 470 L 34.875 470 Z M 34.875 5.480469 \"/>\n</clipPath>\n<clipPath id=\"clip2\">\n  <path d=\"M 34.875 367 L 499 367 L 499 368 L 34.875 368 Z M 34.875 367 \"/>\n</clipPath>\n<clipPath id=\"clip3\">\n  <path d=\"M 34.875 204 L 499 204 L 499 206 L 34.875 206 Z M 34.875 204 \"/>\n</clipPath>\n<clipPath id=\"clip4\">\n  <path d=\"M 34.875 42 L 499 42 L 499 44 L 34.875 44 Z M 34.875 42 \"/>\n</clipPath>\n<clipPath id=\"clip5\">\n  <path d=\"M 71 5.480469 L 73 5.480469 L 73 470.6875 L 71 470.6875 Z M 71 5.480469 \"/>\n</clipPath>\n<clipPath id=\"clip6\">\n  <path d=\"M 148 5.480469 L 149 5.480469 L 149 470.6875 L 148 470.6875 Z M 148 5.480469 \"/>\n</clipPath>\n<clipPath id=\"clip7\">\n  <path d=\"M 225 5.480469 L 226 5.480469 L 226 470.6875 L 225 470.6875 Z M 225 5.480469 \"/>\n</clipPath>\n<clipPath id=\"clip8\">\n  <path d=\"M 301 5.480469 L 303 5.480469 L 303 470.6875 L 301 470.6875 Z M 301 5.480469 \"/>\n</clipPath>\n<clipPath id=\"clip9\">\n  <path d=\"M 378 5.480469 L 380 5.480469 L 380 470.6875 L 378 470.6875 Z M 378 5.480469 \"/>\n</clipPath>\n<clipPath id=\"clip10\">\n  <path d=\"M 455 5.480469 L 457 5.480469 L 457 470.6875 L 455 470.6875 Z M 455 5.480469 \"/>\n</clipPath>\n<clipPath id=\"clip11\">\n  <path d=\"M 34.875 447 L 499.519531 447 L 499.519531 450 L 34.875 450 Z M 34.875 447 \"/>\n</clipPath>\n<clipPath id=\"clip12\">\n  <path d=\"M 34.875 285 L 499.519531 285 L 499.519531 287 L 34.875 287 Z M 34.875 285 \"/>\n</clipPath>\n<clipPath id=\"clip13\">\n  <path d=\"M 34.875 123 L 499.519531 123 L 499.519531 125 L 34.875 125 Z M 34.875 123 \"/>\n</clipPath>\n<clipPath id=\"clip14\">\n  <path d=\"M 109 5.480469 L 111 5.480469 L 111 470.6875 L 109 470.6875 Z M 109 5.480469 \"/>\n</clipPath>\n<clipPath id=\"clip15\">\n  <path d=\"M 186 5.480469 L 188 5.480469 L 188 470.6875 L 186 470.6875 Z M 186 5.480469 \"/>\n</clipPath>\n<clipPath id=\"clip16\">\n  <path d=\"M 263 5.480469 L 265 5.480469 L 265 470.6875 L 263 470.6875 Z M 263 5.480469 \"/>\n</clipPath>\n<clipPath id=\"clip17\">\n  <path d=\"M 340 5.480469 L 342 5.480469 L 342 470.6875 L 340 470.6875 Z M 340 5.480469 \"/>\n</clipPath>\n<clipPath id=\"clip18\">\n  <path d=\"M 416 5.480469 L 419 5.480469 L 419 470.6875 L 416 470.6875 Z M 416 5.480469 \"/>\n</clipPath>\n<clipPath id=\"clip19\">\n  <path d=\"M 493 5.480469 L 496 5.480469 L 496 470.6875 L 493 470.6875 Z M 493 5.480469 \"/>\n</clipPath>\n</defs>\n<g id=\"surface230\">\n<rect x=\"0\" y=\"0\" width=\"504\" height=\"504\" style=\"fill:rgb(100%,100%,100%);fill-opacity:1;stroke:none;\"/>\n<rect x=\"0\" y=\"0\" width=\"504\" height=\"504\" style=\"fill:rgb(100%,100%,100%);fill-opacity:1;stroke:none;\"/>\n<path style=\"fill:none;stroke-width:1.422638;stroke-linecap:round;stroke-linejoin:round;stroke:rgb(100%,100%,100%);stroke-opacity:1;stroke-miterlimit:10;\" d=\"M 0 0 L 504 0 L 504 504 L 0 504 Z M 0 0 \"/>\n<g clip-path=\"url(#clip1)\" clip-rule=\"nonzero\">\n<path style=\" stroke:none;fill-rule:nonzero;fill:rgb(92.156863%,92.156863%,92.156863%);fill-opacity:1;\" d=\"M 34.875 5.480469 L 498.519531 5.480469 L 498.519531 469.6875 L 34.875 469.6875 Z M 34.875 5.480469 \"/>\n</g>\n<g clip-path=\"url(#clip2)\" clip-rule=\"nonzero\">\n<path style=\"fill:none;stroke-width:0.711319;stroke-linecap:butt;stroke-linejoin:round;stroke:rgb(100%,100%,100%);stroke-opacity:1;stroke-miterlimit:10;\" d=\"M 34.875 367.429688 L 498.519531 367.429688 \"/>\n</g>\n<g clip-path=\"url(#clip3)\" clip-rule=\"nonzero\">\n<path style=\"fill:none;stroke-width:0.711319;stroke-linecap:butt;stroke-linejoin:round;stroke:rgb(100%,100%,100%);stroke-opacity:1;stroke-miterlimit:10;\" d=\"M 34.875 205.121094 L 498.519531 205.121094 \"/>\n</g>\n<g clip-path=\"url(#clip4)\" clip-rule=\"nonzero\">\n<path style=\"fill:none;stroke-width:0.711319;stroke-linecap:butt;stroke-linejoin:round;stroke:rgb(100%,100%,100%);stroke-opacity:1;stroke-miterlimit:10;\" d=\"M 34.875 42.8125 L 498.519531 42.8125 \"/>\n</g>\n<g clip-path=\"url(#clip5)\" clip-rule=\"nonzero\">\n<path style=\"fill:none;stroke-width:0.711319;stroke-linecap:butt;stroke-linejoin:round;stroke:rgb(100%,100%,100%);stroke-opacity:1;stroke-miterlimit:10;\" d=\"M 71.722656 469.6875 L 71.722656 5.480469 \"/>\n</g>\n<g clip-path=\"url(#clip6)\" clip-rule=\"nonzero\">\n<path style=\"fill:none;stroke-width:0.711319;stroke-linecap:butt;stroke-linejoin:round;stroke:rgb(100%,100%,100%);stroke-opacity:1;stroke-miterlimit:10;\" d=\"M 148.601562 469.6875 L 148.601562 5.480469 \"/>\n</g>\n<g clip-path=\"url(#clip7)\" clip-rule=\"nonzero\">\n<path style=\"fill:none;stroke-width:0.711319;stroke-linecap:butt;stroke-linejoin:round;stroke:rgb(100%,100%,100%);stroke-opacity:1;stroke-miterlimit:10;\" d=\"M 225.476562 469.6875 L 225.476562 5.480469 \"/>\n</g>\n<g clip-path=\"url(#clip8)\" clip-rule=\"nonzero\">\n<path style=\"fill:none;stroke-width:0.711319;stroke-linecap:butt;stroke-linejoin:round;stroke:rgb(100%,100%,100%);stroke-opacity:1;stroke-miterlimit:10;\" d=\"M 302.351562 469.6875 L 302.351562 5.480469 \"/>\n</g>\n<g clip-path=\"url(#clip9)\" clip-rule=\"nonzero\">\n<path style=\"fill:none;stroke-width:0.711319;stroke-linecap:butt;stroke-linejoin:round;stroke:rgb(100%,100%,100%);stroke-opacity:1;stroke-miterlimit:10;\" d=\"M 379.230469 469.6875 L 379.230469 5.480469 \"/>\n</g>\n<g clip-path=\"url(#clip10)\" clip-rule=\"nonzero\">\n<path style=\"fill:none;stroke-width:0.711319;stroke-linecap:butt;stroke-linejoin:round;stroke:rgb(100%,100%,100%);stroke-opacity:1;stroke-miterlimit:10;\" d=\"M 456.105469 469.6875 L 456.105469 5.480469 \"/>\n</g>\n<g clip-path=\"url(#clip11)\" clip-rule=\"nonzero\">\n<path style=\"fill:none;stroke-width:1.422638;stroke-linecap:butt;stroke-linejoin:round;stroke:rgb(100%,100%,100%);stroke-opacity:1;stroke-miterlimit:10;\" d=\"M 34.875 448.585938 L 498.519531 448.585938 \"/>\n</g>\n<g clip-path=\"url(#clip12)\" clip-rule=\"nonzero\">\n<path style=\"fill:none;stroke-width:1.422638;stroke-linecap:butt;stroke-linejoin:round;stroke:rgb(100%,100%,100%);stroke-opacity:1;stroke-miterlimit:10;\" d=\"M 34.875 286.277344 L 498.519531 286.277344 \"/>\n</g>\n<g clip-path=\"url(#clip13)\" clip-rule=\"nonzero\">\n<path style=\"fill:none;stroke-width:1.422638;stroke-linecap:butt;stroke-linejoin:round;stroke:rgb(100%,100%,100%);stroke-opacity:1;stroke-miterlimit:10;\" d=\"M 34.875 123.964844 L 498.519531 123.964844 \"/>\n</g>\n<g clip-path=\"url(#clip14)\" clip-rule=\"nonzero\">\n<path style=\"fill:none;stroke-width:1.422638;stroke-linecap:butt;stroke-linejoin:round;stroke:rgb(100%,100%,100%);stroke-opacity:1;stroke-miterlimit:10;\" d=\"M 110.160156 469.6875 L 110.160156 5.480469 \"/>\n</g>\n<g clip-path=\"url(#clip15)\" clip-rule=\"nonzero\">\n<path style=\"fill:none;stroke-width:1.422638;stroke-linecap:butt;stroke-linejoin:round;stroke:rgb(100%,100%,100%);stroke-opacity:1;stroke-miterlimit:10;\" d=\"M 187.039062 469.6875 L 187.039062 5.480469 \"/>\n</g>\n<g clip-path=\"url(#clip16)\" clip-rule=\"nonzero\">\n<path style=\"fill:none;stroke-width:1.422638;stroke-linecap:butt;stroke-linejoin:round;stroke:rgb(100%,100%,100%);stroke-opacity:1;stroke-miterlimit:10;\" d=\"M 263.914062 469.6875 L 263.914062 5.480469 \"/>\n</g>\n<g clip-path=\"url(#clip17)\" clip-rule=\"nonzero\">\n<path style=\"fill:none;stroke-width:1.422638;stroke-linecap:butt;stroke-linejoin:round;stroke:rgb(100%,100%,100%);stroke-opacity:1;stroke-miterlimit:10;\" d=\"M 340.792969 469.6875 L 340.792969 5.480469 \"/>\n</g>\n<g clip-path=\"url(#clip18)\" clip-rule=\"nonzero\">\n<path style=\"fill:none;stroke-width:1.422638;stroke-linecap:butt;stroke-linejoin:round;stroke:rgb(100%,100%,100%);stroke-opacity:1;stroke-miterlimit:10;\" d=\"M 417.667969 469.6875 L 417.667969 5.480469 \"/>\n</g>\n<g clip-path=\"url(#clip19)\" clip-rule=\"nonzero\">\n<path style=\"fill:none;stroke-width:1.422638;stroke-linecap:butt;stroke-linejoin:round;stroke:rgb(100%,100%,100%);stroke-opacity:1;stroke-miterlimit:10;\" d=\"M 494.542969 469.6875 L 494.542969 5.480469 \"/>\n</g>\n<path style=\" stroke:none;fill-rule:nonzero;fill:rgb(34.901961%,34.901961%,34.901961%);fill-opacity:1;\" d=\"M 55.949219 432.355469 L 70 432.355469 L 70 448.585938 L 55.949219 448.585938 Z M 55.949219 432.355469 \"/>\n<path style=\" stroke:none;fill-rule:nonzero;fill:rgb(34.901961%,34.901961%,34.901961%);fill-opacity:1;\" d=\"M 70 318.738281 L 84.050781 318.738281 L 84.050781 448.585938 L 70 448.585938 Z M 70 318.738281 \"/>\n<path style=\" stroke:none;fill-rule:nonzero;fill:rgb(34.901961%,34.901961%,34.901961%);fill-opacity:1;\" d=\"M 84.050781 334.96875 L 98.101562 334.96875 L 98.101562 448.585938 L 84.050781 448.585938 Z M 84.050781 334.96875 \"/>\n<path style=\" stroke:none;fill-rule:nonzero;fill:rgb(34.901961%,34.901961%,34.901961%);fill-opacity:1;\" d=\"M 98.101562 286.277344 L 112.152344 286.277344 L 112.152344 448.585938 L 98.101562 448.585938 Z M 98.101562 286.277344 \"/>\n<path style=\" stroke:none;fill-rule:nonzero;fill:rgb(34.901961%,34.901961%,34.901961%);fill-opacity:1;\" d=\"M 112.148438 270.042969 L 126.199219 270.042969 L 126.199219 448.585938 L 112.148438 448.585938 Z M 112.148438 270.042969 \"/>\n<path style=\" stroke:none;fill-rule:nonzero;fill:rgb(34.901961%,34.901961%,34.901961%);fill-opacity:1;\" d=\"M 126.199219 334.96875 L 140.25 334.96875 L 140.25 448.585938 L 126.199219 448.585938 Z M 126.199219 334.96875 \"/>\n<path style=\" stroke:none;fill-rule:nonzero;fill:rgb(34.901961%,34.901961%,34.901961%);fill-opacity:1;\" d=\"M 140.25 205.121094 L 154.300781 205.121094 L 154.300781 448.585938 L 140.25 448.585938 Z M 140.25 205.121094 \"/>\n<path style=\" stroke:none;fill-rule:nonzero;fill:rgb(34.901961%,34.901961%,34.901961%);fill-opacity:1;\" d=\"M 154.300781 334.96875 L 168.351562 334.96875 L 168.351562 448.585938 L 154.300781 448.585938 Z M 154.300781 334.96875 \"/>\n<path style=\" stroke:none;fill-rule:nonzero;fill:rgb(34.901961%,34.901961%,34.901961%);fill-opacity:1;\" d=\"M 168.347656 270.042969 L 182.398438 270.042969 L 182.398438 448.585938 L 168.347656 448.585938 Z M 168.347656 270.042969 \"/>\n<path style=\" stroke:none;fill-rule:nonzero;fill:rgb(34.901961%,34.901961%,34.901961%);fill-opacity:1;\" d=\"M 182.398438 351.199219 L 196.449219 351.199219 L 196.449219 448.585938 L 182.398438 448.585938 Z M 182.398438 351.199219 \"/>\n<path style=\" stroke:none;fill-rule:nonzero;fill:rgb(34.901961%,34.901961%,34.901961%);fill-opacity:1;\" d=\"M 196.449219 334.96875 L 210.5 334.96875 L 210.5 448.585938 L 196.449219 448.585938 Z M 196.449219 334.96875 \"/>\n<path style=\" stroke:none;fill-rule:nonzero;fill:rgb(34.901961%,34.901961%,34.901961%);fill-opacity:1;\" d=\"M 210.5 383.660156 L 224.550781 383.660156 L 224.550781 448.585938 L 210.5 448.585938 Z M 210.5 383.660156 \"/>\n<path style=\" stroke:none;fill-rule:nonzero;fill:rgb(34.901961%,34.901961%,34.901961%);fill-opacity:1;\" d=\"M 224.546875 367.429688 L 238.597656 367.429688 L 238.597656 448.585938 L 224.546875 448.585938 Z M 224.546875 367.429688 \"/>\n<path style=\" stroke:none;fill-rule:nonzero;fill:rgb(34.901961%,34.901961%,34.901961%);fill-opacity:1;\" d=\"M 238.597656 416.125 L 252.648438 416.125 L 252.648438 448.585938 L 238.597656 448.585938 Z M 238.597656 416.125 \"/>\n<path style=\" stroke:none;fill-rule:nonzero;fill:rgb(34.901961%,34.901961%,34.901961%);fill-opacity:1;\" d=\"M 252.648438 351.199219 L 266.699219 351.199219 L 266.699219 448.585938 L 252.648438 448.585938 Z M 252.648438 351.199219 \"/>\n<path style=\" stroke:none;fill-rule:nonzero;fill:rgb(34.901961%,34.901961%,34.901961%);fill-opacity:1;\" d=\"M 266.699219 351.199219 L 280.75 351.199219 L 280.75 448.585938 L 266.699219 448.585938 Z M 266.699219 351.199219 \"/>\n<path style=\" stroke:none;fill-rule:nonzero;fill:rgb(34.901961%,34.901961%,34.901961%);fill-opacity:1;\" d=\"M 280.746094 237.582031 L 294.796875 237.582031 L 294.796875 448.585938 L 280.746094 448.585938 Z M 280.746094 237.582031 \"/>\n<path style=\" stroke:none;fill-rule:nonzero;fill:rgb(34.901961%,34.901961%,34.901961%);fill-opacity:1;\" d=\"M 294.796875 318.738281 L 308.847656 318.738281 L 308.847656 448.585938 L 294.796875 448.585938 Z M 294.796875 318.738281 \"/>\n<path style=\" stroke:none;fill-rule:nonzero;fill:rgb(34.901961%,34.901961%,34.901961%);fill-opacity:1;\" d=\"M 308.847656 107.734375 L 322.898438 107.734375 L 322.898438 448.585938 L 308.847656 448.585938 Z M 308.847656 107.734375 \"/>\n<path style=\" stroke:none;fill-rule:nonzero;fill:rgb(34.901961%,34.901961%,34.901961%);fill-opacity:1;\" d=\"M 322.898438 42.8125 L 336.949219 42.8125 L 336.949219 448.585938 L 322.898438 448.585938 Z M 322.898438 42.8125 \"/>\n<path style=\" stroke:none;fill-rule:nonzero;fill:rgb(34.901961%,34.901961%,34.901961%);fill-opacity:1;\" d=\"M 336.949219 107.734375 L 351 107.734375 L 351 448.585938 L 336.949219 448.585938 Z M 336.949219 107.734375 \"/>\n<path style=\" stroke:none;fill-rule:nonzero;fill:rgb(34.901961%,34.901961%,34.901961%);fill-opacity:1;\" d=\"M 350.996094 26.578125 L 365.046875 26.578125 L 365.046875 448.585938 L 350.996094 448.585938 Z M 350.996094 26.578125 \"/>\n<path style=\" stroke:none;fill-rule:nonzero;fill:rgb(34.901961%,34.901961%,34.901961%);fill-opacity:1;\" d=\"M 365.046875 286.277344 L 379.097656 286.277344 L 379.097656 448.585938 L 365.046875 448.585938 Z M 365.046875 286.277344 \"/>\n<path style=\" stroke:none;fill-rule:nonzero;fill:rgb(34.901961%,34.901961%,34.901961%);fill-opacity:1;\" d=\"M 379.097656 253.8125 L 393.148438 253.8125 L 393.148438 448.585938 L 379.097656 448.585938 Z M 379.097656 253.8125 \"/>\n<path style=\" stroke:none;fill-rule:nonzero;fill:rgb(34.901961%,34.901961%,34.901961%);fill-opacity:1;\" d=\"M 393.148438 318.738281 L 407.199219 318.738281 L 407.199219 448.585938 L 393.148438 448.585938 Z M 393.148438 318.738281 \"/>\n<path style=\" stroke:none;fill-rule:nonzero;fill:rgb(34.901961%,34.901961%,34.901961%);fill-opacity:1;\" d=\"M 407.195312 302.507812 L 421.246094 302.507812 L 421.246094 448.585938 L 407.195312 448.585938 Z M 407.195312 302.507812 \"/>\n<path style=\" stroke:none;fill-rule:nonzero;fill:rgb(34.901961%,34.901961%,34.901961%);fill-opacity:1;\" d=\"M 421.246094 416.125 L 435.296875 416.125 L 435.296875 448.585938 L 421.246094 448.585938 Z M 421.246094 416.125 \"/>\n<path style=\" stroke:none;fill-rule:nonzero;fill:rgb(34.901961%,34.901961%,34.901961%);fill-opacity:1;\" d=\"M 435.296875 399.894531 L 449.347656 399.894531 L 449.347656 448.585938 L 435.296875 448.585938 Z M 435.296875 399.894531 \"/>\n<path style=\" stroke:none;fill-rule:nonzero;fill:rgb(34.901961%,34.901961%,34.901961%);fill-opacity:1;\" d=\"M 463.394531 432.355469 L 477.445312 432.355469 L 477.445312 448.585938 L 463.394531 448.585938 Z M 463.394531 432.355469 \"/>\n<g style=\"fill:rgb(30.196078%,30.196078%,30.196078%);fill-opacity:1;\">\n  <use xlink:href=\"#glyph0-1\" x=\"24.773438\" y=\"451.976562\"/>\n</g>\n<g style=\"fill:rgb(30.196078%,30.196078%,30.196078%);fill-opacity:1;\">\n  <use xlink:href=\"#glyph0-2\" x=\"19.605469\" y=\"289.664062\"/>\n  <use xlink:href=\"#glyph0-1\" x=\"24.776269\" y=\"289.664062\"/>\n</g>\n<g style=\"fill:rgb(30.196078%,30.196078%,30.196078%);fill-opacity:1;\">\n  <use xlink:href=\"#glyph0-3\" x=\"19.605469\" y=\"127.355469\"/>\n  <use xlink:href=\"#glyph0-1\" x=\"24.776269\" y=\"127.355469\"/>\n</g>\n<path style=\"fill:none;stroke-width:1.422638;stroke-linecap:butt;stroke-linejoin:round;stroke:rgb(20%,20%,20%);stroke-opacity:1;stroke-miterlimit:10;\" d=\"M 32.136719 448.585938 L 34.875 448.585938 \"/>\n<path style=\"fill:none;stroke-width:1.422638;stroke-linecap:butt;stroke-linejoin:round;stroke:rgb(20%,20%,20%);stroke-opacity:1;stroke-miterlimit:10;\" d=\"M 32.136719 286.277344 L 34.875 286.277344 \"/>\n<path style=\"fill:none;stroke-width:1.422638;stroke-linecap:butt;stroke-linejoin:round;stroke:rgb(20%,20%,20%);stroke-opacity:1;stroke-miterlimit:10;\" d=\"M 32.136719 123.964844 L 34.875 123.964844 \"/>\n<path style=\"fill:none;stroke-width:1.422638;stroke-linecap:butt;stroke-linejoin:round;stroke:rgb(20%,20%,20%);stroke-opacity:1;stroke-miterlimit:10;\" d=\"M 110.160156 472.425781 L 110.160156 469.6875 \"/>\n<path style=\"fill:none;stroke-width:1.422638;stroke-linecap:butt;stroke-linejoin:round;stroke:rgb(20%,20%,20%);stroke-opacity:1;stroke-miterlimit:10;\" d=\"M 187.039062 472.425781 L 187.039062 469.6875 \"/>\n<path style=\"fill:none;stroke-width:1.422638;stroke-linecap:butt;stroke-linejoin:round;stroke:rgb(20%,20%,20%);stroke-opacity:1;stroke-miterlimit:10;\" d=\"M 263.914062 472.425781 L 263.914062 469.6875 \"/>\n<path style=\"fill:none;stroke-width:1.422638;stroke-linecap:butt;stroke-linejoin:round;stroke:rgb(20%,20%,20%);stroke-opacity:1;stroke-miterlimit:10;\" d=\"M 340.792969 472.425781 L 340.792969 469.6875 \"/>\n<path style=\"fill:none;stroke-width:1.422638;stroke-linecap:butt;stroke-linejoin:round;stroke:rgb(20%,20%,20%);stroke-opacity:1;stroke-miterlimit:10;\" d=\"M 417.667969 472.425781 L 417.667969 469.6875 \"/>\n<path style=\"fill:none;stroke-width:1.422638;stroke-linecap:butt;stroke-linejoin:round;stroke:rgb(20%,20%,20%);stroke-opacity:1;stroke-miterlimit:10;\" d=\"M 494.542969 472.425781 L 494.542969 469.6875 \"/>\n<g style=\"fill:rgb(30.196078%,30.196078%,30.196078%);fill-opacity:1;\">\n  <use xlink:href=\"#glyph0-4\" x=\"104.988281\" y=\"481.398438\"/>\n  <use xlink:href=\"#glyph0-1\" x=\"110.159081\" y=\"481.398438\"/>\n</g>\n<g style=\"fill:rgb(30.196078%,30.196078%,30.196078%);fill-opacity:1;\">\n  <use xlink:href=\"#glyph0-5\" x=\"181.867188\" y=\"481.398438\"/>\n  <use xlink:href=\"#glyph0-1\" x=\"187.037988\" y=\"481.398438\"/>\n</g>\n<g style=\"fill:rgb(30.196078%,30.196078%,30.196078%);fill-opacity:1;\">\n  <use xlink:href=\"#glyph0-6\" x=\"258.742188\" y=\"481.398438\"/>\n  <use xlink:href=\"#glyph0-1\" x=\"263.912987\" y=\"481.398438\"/>\n</g>\n<g style=\"fill:rgb(30.196078%,30.196078%,30.196078%);fill-opacity:1;\">\n  <use xlink:href=\"#glyph0-7\" x=\"335.621094\" y=\"481.398438\"/>\n  <use xlink:href=\"#glyph0-1\" x=\"340.791894\" y=\"481.398438\"/>\n</g>\n<g style=\"fill:rgb(30.196078%,30.196078%,30.196078%);fill-opacity:1;\">\n  <use xlink:href=\"#glyph0-8\" x=\"412.496094\" y=\"481.398438\"/>\n  <use xlink:href=\"#glyph0-1\" x=\"417.666894\" y=\"481.398438\"/>\n</g>\n<g style=\"fill:rgb(30.196078%,30.196078%,30.196078%);fill-opacity:1;\">\n  <use xlink:href=\"#glyph0-2\" x=\"486.785156\" y=\"481.398438\"/>\n  <use xlink:href=\"#glyph0-1\" x=\"491.955956\" y=\"481.398438\"/>\n  <use xlink:href=\"#glyph0-1\" x=\"497.126756\" y=\"481.398438\"/>\n</g>\n<g style=\"fill:rgb(0%,0%,0%);fill-opacity:1;\">\n  <use xlink:href=\"#glyph1-1\" x=\"248.804688\" y=\"495.519531\"/>\n  <use xlink:href=\"#glyph1-2\" x=\"257.107687\" y=\"495.519531\"/>\n  <use xlink:href=\"#glyph1-3\" x=\"263.501688\" y=\"495.519531\"/>\n  <use xlink:href=\"#glyph1-4\" x=\"266.054688\" y=\"495.519531\"/>\n  <use xlink:href=\"#glyph1-3\" x=\"269.251688\" y=\"495.519531\"/>\n  <use xlink:href=\"#glyph1-5\" x=\"271.804688\" y=\"495.519531\"/>\n  <use xlink:href=\"#glyph1-6\" x=\"278.198688\" y=\"495.519531\"/>\n</g>\n<g style=\"fill:rgb(0%,0%,0%);fill-opacity:1;\">\n  <use xlink:href=\"#glyph2-1\" x=\"13.863281\" y=\"251.648438\"/>\n  <use xlink:href=\"#glyph2-2\" x=\"13.863281\" y=\"245.898438\"/>\n  <use xlink:href=\"#glyph2-3\" x=\"13.863281\" y=\"239.504437\"/>\n  <use xlink:href=\"#glyph2-4\" x=\"13.863281\" y=\"233.110437\"/>\n  <use xlink:href=\"#glyph2-5\" x=\"13.863281\" y=\"226.716437\"/>\n</g>\n</g>\n</svg>\n"
     },
     "execution_count": 36,
     "metadata": {
      "image/svg+xml": {
       "isolated": true
      }
     },
     "output_type": "execute_result"
    }
   ],
   "source": [
   ]
  },
  {
   "cell_type": "markdown",
   "metadata": {
    "collapsed": false
   },
   "source": [
    "**Describe below what quality that you see in the histogram stands out as \"unnormal\"**"
   ]
  },
  {
   "cell_type": "markdown",
   "metadata": {
    "collapsed": false
   },
   "source": [
   ]
  },
  {
   "cell_type": "markdown",
   "metadata": {
    "collapsed": false
   },
   "source": [
    "## Q-Q plot\n",
    "\n",
    "To see if something is normal we make a calculation with the normal distribution. If a variable followed the normal distribution then we would expect the median to be the mean, for instance. Let's see if that happens by doing:\n",
    "\n",
    "```\n",
    "summary(faithful$waiting)\n",
    "```"
   ]
  },
  {
   "cell_type": "code",
   "execution_count": 37,
   "metadata": {
    "collapsed": false
   },
   "outputs": [
    {
     "data": {
      "text/plain": [
       "   Min. 1st Qu.  Median    Mean 3rd Qu.    Max. \n",
       "   43.0    58.0    76.0    70.9    82.0    96.0 "
      ]
     },
     "execution_count": 37,
     "metadata": {
     },
     "output_type": "execute_result"
    }
   ],
   "source": [
   ]
  },
  {
   "cell_type": "markdown",
   "metadata": {
    "collapsed": false
   },
   "source": [
    "In fact, they are pretty far apart. Let's look at other landmarks in the data rather than just the 50% quantile (median). First we compute lots of quantile information with:\n",
    "\n",
    "```\n",
    "quantile(faithful$waiting, c(.1,.2,.3,.4,.5,.6,.7,.8,.9))\n",
    "```"
   ]
  },
  {
   "cell_type": "code",
   "execution_count": 38,
   "metadata": {
    "collapsed": false
   },
   "outputs": [
    {
     "data": {
      "text/html": [
       "<dl class=dl-horizontal>\n",
       "\t<dt>10%</dt>\n",
       "\t\t<dd>51</dd>\n",
       "\t<dt>20%</dt>\n",
       "\t\t<dd>55</dd>\n",
       "\t<dt>30%</dt>\n",
       "\t\t<dd>60</dd>\n",
       "\t<dt>40%</dt>\n",
       "\t\t<dd>71</dd>\n",
       "\t<dt>50%</dt>\n",
       "\t\t<dd>76</dd>\n",
       "\t<dt>60%</dt>\n",
       "\t\t<dd>78</dd>\n",
       "\t<dt>70%</dt>\n",
       "\t\t<dd>81</dd>\n",
       "\t<dt>80%</dt>\n",
       "\t\t<dd>83</dd>\n",
       "\t<dt>90%</dt>\n",
       "\t\t<dd>86</dd>\n",
       "</dl>\n"
      ]
     },
     "execution_count": 38,
     "metadata": {
     },
     "output_type": "execute_result"
    }
   ],
   "source": [
   ]
  },
  {
   "cell_type": "markdown",
   "metadata": {
    "collapsed": false
   },
   "source": [
    "Now we will calculate what the numbers would be expected to be if the dataset was normal. To do this we first calculate the mean and the standard deviation. Then calculate what the same quantiles would be for a normal distribution with that mean and standard deviation.\n",
    "\n",
    "```\n",
    "m<-mean(faithful$waiting)\n",
    "s<-sd(faithful$waiting)\n",
    "qnorm(c(.1,.2,.3,.4,.5,.6,.7,.8,.9), mean=m, sd=s, lower.tail=TRUE)\n",
    "```"
   ]
  },
  {
   "cell_type": "code",
   "execution_count": 0,
   "metadata": {
    "collapsed": false
   },
   "outputs": [
   ],
   "source": [
   ]
  },
  {
   "cell_type": "markdown",
   "metadata": {
    "collapsed": false
   },
   "source": [
    "**Which true quantile was closest to the one predicted by the normal distribution?**"
   ]
  },
  {
   "cell_type": "markdown",
   "metadata": {
    "collapsed": false
   },
   "source": [
   ]
  },
  {
   "cell_type": "markdown",
   "metadata": {
    "collapsed": false
   },
   "source": [
    "## Q-Q plot\n",
    "\n",
    "Rather than going through this rigmarole of calculating all these quantiles it would be better to create a plot. We could do a scatterplot where the y coordinate measured the real value and the x coordinate the expected value based on the idea that the plot was normal. This is the idea of the **Q-Q plot**.\n",
    "\n",
    "```\n",
    "ggplot(faithful, aes(sample = waiting)) + stat_qq()+stat_qq_line()\n",
    "```"
   ]
  },
  {
   "cell_type": "code",
   "execution_count": 0,
   "metadata": {
    "collapsed": false
   },
   "outputs": [
   ],
   "source": [
   ]
  },
  {
   "cell_type": "markdown",
   "metadata": {
    "collapsed": false
   },
   "source": [
    "The line in this graph shows the trend we would hope to see if the graphs was normal. We are pretty far from that in this graph. The y-axis shows the values in the dataset. The x-axis is labeled by the z-score of the expected value. Just as a quick example, let's generate 100 random normal distributed numbers and create the Q-Q plot for them.\n",
    "\n",
    "```\n",
    "rn<-data.frame(y=rnorm(100, mean=70, sd=10))\n",
    "ggplot(rn, aes(sample = y)) + stat_qq()+stat_qq_line()\n",
    "```\n"
   ]
  },
  {
   "cell_type": "code",
   "execution_count": 0,
   "metadata": {
    "collapsed": false
   },
   "outputs": [
   ],
   "source": [
   ]
  },
  {
   "cell_type": "code",
   "execution_count": 0,
   "metadata": {
    "collapsed": false
   },
   "outputs": [
   ],
   "source": [
   ]
  },
  {
   "cell_type": "code",
   "execution_count": 0,
   "metadata": {
    "collapsed": false
   },
   "outputs": [
   ],
   "source": [
   ]
  },
  {
   "cell_type": "code",
   "execution_count": 0,
   "metadata": {
    "collapsed": false
   },
   "outputs": [
   ],
   "source": [
   ]
  },
  {
   "cell_type": "markdown",
   "metadata": {
    "collapsed": false
   },
   "source": [
    "Here you can see that the Q-Q plot is close to the line in the middle, but gets a little rougher on the ends. The ends are more subject to variation as they are determined by less data. "
   ]
  },
  {
   "cell_type": "code",
   "execution_count": 0,
   "metadata": {
    "collapsed": false
   },
   "outputs": [
   ],
   "source": [
   ]
  },
  {
   "cell_type": "code",
   "execution_count": 0,
   "metadata": {
    "collapsed": false
   },
   "outputs": [
   ],
   "source": [
   ]
  },
  {
   "cell_type": "markdown",
   "metadata": {
    "collapsed": false
   },
   "source": [
    "## Your turn\n",
    "\n",
    "Watch the video \n",
    "\n",
    " <iframe width=\"560\" height=\"315\"\n",
    "src=\"https://www.youtube.com/embed/1tN00ub572M\" \n",
    "frameborder=\"0\" \n",
    "allow=\"accelerometer; autoplay; encrypted-media; gyroscope; picture-in-picture\" \n",
    "allowfullscreen></iframe>\n",
    "\n",
    "It is interesting that there is a youtube channel dedicated to watching a random process and then putting commentary over that. In Excel or google sheets record the times from the video. We want to see if they are normally distributed. There is a lot of reason to think that they are randomly distributed because there are lots of small random events that seems to determine how long it takes the marble to get down the track. The **Central Limit Theorem** states that when lots of random events are added together we should get a normal distribution.\n",
    "\n",
    "So in the spreadsheet that you have opened scroll through the video and record the speeds from every race (there should be 23 times).  Create a table that has label at the top of a column then all the times listed below. Save or export the sheet as a comma separated values file. Then move to the file to this folder (Go to folder icon and then drag this file so that the data file lands on the file list).\n",
    "\n",
    "Finally load your data using ```read.csv``` and do the following:\n",
    "\n",
    "* Create a q-q plot of the marble times\n",
    "* Show a 5 number summary of the marble times\n",
    "* Calculate the mean and standard deviation of the marble times\n",
    "* Create a q-q plot of 23 randomly normally distributed times\n",
    "* Discuss if the q-q plot supports the idea that the marblelympics times are normally distributed\n",
    "\n"
   ]
  },
  {
   "cell_type": "code",
   "execution_count": 0,
   "metadata": {
    "collapsed": false
   },
   "outputs": [
   ],
   "source": [
   ]
  }
 ],
 "metadata": {
  "kernelspec": {
   "display_name": "R (SageMath)",
   "language": "r",
   "metadata": {
    "cocalc": {
     "description": "SageMath's R language environment",
     "priority": 0,
     "url": "https://www.sagemath.org/"
    }
   },
   "name": "ir-sage"
  },
  "language_info": {
   "codemirror_mode": "r",
   "file_extension": ".r",
   "mimetype": "text/x-r-source",
   "name": "R",
   "pygments_lexer": "r",
   "version": "3.5.2"
  }
 },
 "nbformat": 4,
 "nbformat_minor": 0
}