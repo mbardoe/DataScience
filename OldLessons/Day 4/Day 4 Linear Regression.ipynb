{
 "cells": [
  {
   "cell_type": "markdown",
   "metadata": {
    "collapsed": false
   },
   "source": [
    "# Day 3: Linear Regression\n",
    "\n",
    "We have learned how to minipulate a data set and how to make certain displays.\n",
    "Today we will learn how to perform a linear regression.\n",
    "\n",
    "\n",
    "First we need to load the helpful libraries of ```dplyr``` and ```ggplot2```.\n",
    "\n",
    "```\n",
    "library(dplyr)\n",
    "library(ggplot2)\n",
    "```\n",
    "\n"
   ]
  },
  {
   "cell_type": "code",
   "execution_count": 0,
   "metadata": {
    "collapsed": false,
    "scrolled": true
   },
   "outputs": [
   ],
   "source": [
    "\n"
   ]
  },
  {
   "cell_type": "markdown",
   "metadata": {
    "collapsed": false
   },
   "source": [
    "The data set we will look at is of Lawyers' ratings of state judges in the US Superior Court. Load the data set and use the \"?\" command to find out more about this data set.\n",
    "\n",
    "\n",
    "```\n",
    "data(USJudgeRatings)\n",
    "?USJudgeRatings\n",
    "```\n",
    "\n"
   ]
  },
  {
   "cell_type": "code",
   "execution_count": 0,
   "metadata": {
    "collapsed": false
   },
   "outputs": [
   ],
   "source": [
   ]
  },
  {
   "cell_type": "markdown",
   "metadata": {
    "collapsed": false
   },
   "source": [
    "Get a quick look at the data set by using the head command\n",
    "```\n",
    "head(USJudgeRatings)\n",
    "```"
   ]
  },
  {
   "cell_type": "code",
   "execution_count": 0,
   "metadata": {
    "collapsed": false
   },
   "outputs": [
   ],
   "source": [
   ]
  },
  {
   "cell_type": "markdown",
   "metadata": {
    "collapsed": false
   },
   "source": [
    "We are going to try to see if there is an association between the ratings for Judicial Integrity and Demeanor. We can type\n",
    "\n",
    "```\n",
    "USJudgeRatings$INTG\n",
    "```\n",
    "\n",
    "each time we want to use the Judicial Integrity variable or we could make a shortcut for ourselves. Try this\n",
    "\n",
    "```\n",
    "JI <-USJudgeRatings$INTG \n",
    "```"
   ]
  },
  {
   "cell_type": "code",
   "execution_count": 0,
   "metadata": {
    "collapsed": false
   },
   "outputs": [
   ],
   "source": [
   ]
  },
  {
   "cell_type": "markdown",
   "metadata": {
    "collapsed": false
   },
   "source": [
    "Now every time we type JI our program will read it as USJudgeRatings$INTG\n",
    "\n",
    "Make a shortcut for Demeanor\n",
    "```\n",
    "DM<-USJudgeRatings$DMNR\n",
    "```\n"
   ]
  },
  {
   "cell_type": "code",
   "execution_count": 0,
   "metadata": {
    "collapsed": false
   },
   "outputs": [
   ],
   "source": [
   ]
  },
  {
   "cell_type": "markdown",
   "metadata": {
    "collapsed": false
   },
   "source": [
    "###### Now create a scatterplot of Judicial Integrity vs Demeanor of the judges. Notice where we used our new shortcuts!\n",
    "\n",
    "```\n",
    "plot(DM,JI,col = \"blue\",main = \"Ratings\",\n",
    "cex = 1.3,pch = 16,xlab = \"DEM\",ylab = \"JI\")\n",
    "```"
   ]
  },
  {
   "cell_type": "code",
   "execution_count": 0,
   "metadata": {
    "collapsed": false
   },
   "outputs": [
   ],
   "source": [
   ]
  },
  {
   "cell_type": "markdown",
   "metadata": {
    "collapsed": false
   },
   "source": [
    "Notice that this way of making a scatterplot is slightly different than the one we made on Day 1. One advantage of this method is that it is more customizable. Notice that you can easily change the title and labels to whatever you want. Change the title to *Ratings of Judicial Integrity vs Demeanor* and the labels to *Judicial Integrity* and *Demeanor* "
   ]
  },
  {
   "cell_type": "code",
   "execution_count": 0,
   "metadata": {
    "collapsed": false
   },
   "outputs": [
   ],
   "source": [
   ]
  },
  {
   "cell_type": "markdown",
   "metadata": {
    "collapsed": false
   },
   "source": [
    "You can also change the color of the by typing in different colors.Try typing in a few colors to see what happens"
   ]
  },
  {
   "cell_type": "code",
   "execution_count": 0,
   "metadata": {
    "collapsed": false
   },
   "outputs": [
   ],
   "source": [
   ]
  },
  {
   "cell_type": "markdown",
   "metadata": {
    "collapsed": false
   },
   "source": [
    "To find a list of all the colors availible you can type\n",
    "```\n",
    "colors()\n",
    "```"
   ]
  },
  {
   "cell_type": "code",
   "execution_count": 0,
   "metadata": {
    "collapsed": false
   },
   "outputs": [
   ],
   "source": [
   ]
  },
  {
   "cell_type": "markdown",
   "metadata": {
    "collapsed": false
   },
   "source": [
    "You can also change the size of the dots by changing the number after cex and the shape of the dots by changing the number after pch. Try adjusting them now"
   ]
  },
  {
   "cell_type": "code",
   "execution_count": 0,
   "metadata": {
    "collapsed": false
   },
   "outputs": [
   ],
   "source": [
   ]
  },
  {
   "cell_type": "markdown",
   "metadata": {
    "collapsed": false
   },
   "source": [
    "Now we will create linear modelby performing a simple linear regression.\n",
    "```\n",
    "linearMod <- lm(JI ~ DM )\n",
    "```"
   ]
  },
  {
   "cell_type": "code",
   "execution_count": 0,
   "metadata": {
    "collapsed": false
   },
   "outputs": [
   ],
   "source": [
   ]
  },
  {
   "cell_type": "markdown",
   "metadata": {
    "collapsed": false
   },
   "source": [
    "By typing\n",
    "```\n",
    "print(linearMod)\n",
    "```\n",
    "we can see the regression line where Intercept is the y-intercept and the number under the variable is the coefficient of the variable."
   ]
  },
  {
   "cell_type": "code",
   "execution_count": 0,
   "metadata": {
    "collapsed": false
   },
   "outputs": [
   ],
   "source": [
   ]
  },
  {
   "cell_type": "markdown",
   "metadata": {
    "collapsed": false
   },
   "source": [
    "We can find the correlation between Judicial Integrity and Demeanor by using this command\n",
    "```\n",
    "cor(JI,DM)\n",
    "```"
   ]
  },
  {
   "cell_type": "code",
   "execution_count": 0,
   "metadata": {
    "collapsed": false
   },
   "outputs": [
   ],
   "source": [
   ]
  },
  {
   "cell_type": "markdown",
   "metadata": {
    "collapsed": false
   },
   "source": [
    "If we use the command\n",
    "```\n",
    "summary(linearMod)\n",
    "```\n",
    "We will get the model, R-squared, and a bunch of other interesting information that may come in handy later."
   ]
  },
  {
   "cell_type": "code",
   "execution_count": 0,
   "metadata": {
    "collapsed": false
   },
   "outputs": [
   ],
   "source": [
   ]
  },
  {
   "cell_type": "markdown",
   "metadata": {
    "collapsed": false
   },
   "source": [
    "Now lets add the regression line to our scatterplot\n",
    "\n",
    "```\n",
    "plot(DM,JI,col = \"blue\",main = \"Judicial Integrity vs Demeanor Regression\",\n",
    "abline(lm(JI~DM)),cex = 1.3,pch = 16, \n",
    "    xlab = \"Demeanor Rating\",ylab = \"Judicial Integrity Rating\")\n",
    "```\n",
    "The only real difference is the *abline(lm(JI~DM))* before the cex.\n"
   ]
  },
  {
   "cell_type": "code",
   "execution_count": 0,
   "metadata": {
    "collapsed": false
   },
   "outputs": [
   ],
   "source": [
   ]
  },
  {
   "cell_type": "markdown",
   "metadata": {
    "collapsed": false
   },
   "source": [
    "Much like our calculators keep a list of all the residuals after running a regression R does as well\n",
    "```\n",
    "resid(linearMod)\n",
    "```"
   ]
  },
  {
   "cell_type": "code",
   "execution_count": 0,
   "metadata": {
    "collapsed": false
   },
   "outputs": [
   ],
   "source": [
   ]
  },
  {
   "cell_type": "markdown",
   "metadata": {
    "collapsed": false
   },
   "source": [
    "We can add this list to our data set through this command\n",
    "```\n",
    "USJudgeRatings <- USJudgeRatings %>%\n",
    "  mutate(Residuals = resid(linearMod))\n",
    "```\n"
   ]
  },
  {
   "cell_type": "code",
   "execution_count": 0,
   "metadata": {
    "collapsed": false
   },
   "outputs": [
   ],
   "source": [
   ]
  },
  {
   "cell_type": "markdown",
   "metadata": {
    "collapsed": false
   },
   "source": [
    "Now we can make a graph of the residuals\n",
    "```\n",
    "plot(DM,USJudgeRatings$Residuals,col = \"blue\",main = \"Residual Plot\",\n",
    "cex = 1.3,pch = 16,xlab = \"Demeanor\",ylab = \"Residuals\")\n",
    "```"
   ]
  },
  {
   "cell_type": "code",
   "execution_count": 0,
   "metadata": {
    "collapsed": false
   },
   "outputs": [
   ],
   "source": [
   ]
  },
  {
   "cell_type": "markdown",
   "metadata": {
    "collapsed": false
   },
   "source": [
    "Do you see a pattern in the residuals?"
   ]
  },
  {
   "cell_type": "markdown",
   "metadata": {
    "collapsed": false
   },
   "source": [
   ]
  },
  {
   "cell_type": "markdown",
   "metadata": {
    "collapsed": false
   },
   "source": [
    "Now what if you had three new judges whose Demeanor ratings were 1, 7.3 and 10. What would you predict that their Judicial Integrity ratigns would be?\n",
    "```\n",
    "predict(linearMod,data.frame(DM = c(1,7.3,10)))\n",
    "```"
   ]
  },
  {
   "cell_type": "code",
   "execution_count": 0,
   "metadata": {
    "collapsed": false
   },
   "outputs": [
   ],
   "source": [
   ]
  },
  {
   "cell_type": "markdown",
   "metadata": {
    "collapsed": false
   },
   "source": [
    "## Trees\n",
    "\n",
    "Is there a relationship between the girth and height of a tree?\n",
    "```\n",
    "data(trees)\n",
    "```"
   ]
  },
  {
   "cell_type": "code",
   "execution_count": 0,
   "metadata": {
    "collapsed": false
   },
   "outputs": [
   ],
   "source": [
   ]
  },
  {
   "cell_type": "markdown",
   "metadata": {
    "collapsed": false
   },
   "source": [
    "Find out a little bit about your data set. How many trees are there? What are the variables? "
   ]
  },
  {
   "cell_type": "code",
   "execution_count": 0,
   "metadata": {
    "collapsed": false
   },
   "outputs": [
   ],
   "source": [
   ]
  },
  {
   "cell_type": "code",
   "execution_count": 0,
   "metadata": {
    "collapsed": false
   },
   "outputs": [
   ],
   "source": [
   ]
  },
  {
   "cell_type": "markdown",
   "metadata": {
    "collapsed": false
   },
   "source": [
   ]
  },
  {
   "cell_type": "markdown",
   "metadata": {
    "collapsed": false
   },
   "source": [
    "Make shortcuts for the girth and height variables."
   ]
  },
  {
   "cell_type": "code",
   "execution_count": 0,
   "metadata": {
    "collapsed": false
   },
   "outputs": [
   ],
   "source": [
   ]
  },
  {
   "cell_type": "markdown",
   "metadata": {
    "collapsed": false
   },
   "source": [
    "Create a scatterplot of girth vs height where girth is the explanatory variable. Make sure that it has a good title, good labels, very small points, unusually shaped points, and a unique color."
   ]
  },
  {
   "cell_type": "code",
   "execution_count": 0,
   "metadata": {
    "collapsed": false
   },
   "outputs": [
   ],
   "source": [
   ]
  },
  {
   "cell_type": "markdown",
   "metadata": {
    "collapsed": false
   },
   "source": [
    "Find the equation of the line of best fit and explain in context what the slope and y-intercept tell us."
   ]
  },
  {
   "cell_type": "code",
   "execution_count": 0,
   "metadata": {
    "collapsed": false
   },
   "outputs": [
   ],
   "source": [
   ]
  },
  {
   "cell_type": "markdown",
   "metadata": {
    "collapsed": false
   },
   "source": [
   ]
  },
  {
   "cell_type": "markdown",
   "metadata": {
    "collapsed": false
   },
   "source": [
    "What is the correlation between girth and height? What is R-squared?\n"
   ]
  },
  {
   "cell_type": "code",
   "execution_count": 0,
   "metadata": {
    "collapsed": false
   },
   "outputs": [
   ],
   "source": [
   ]
  },
  {
   "cell_type": "markdown",
   "metadata": {
    "collapsed": false
   },
   "source": [
   ]
  },
  {
   "cell_type": "markdown",
   "metadata": {
    "collapsed": false
   },
   "source": [
    "Make a scatterplot that includes the line of best fit. Make sure that the title and labels are correct."
   ]
  },
  {
   "cell_type": "code",
   "execution_count": 0,
   "metadata": {
    "collapsed": false
   },
   "outputs": [
   ],
   "source": [
   ]
  },
  {
   "cell_type": "markdown",
   "metadata": {
    "collapsed": false
   },
   "source": [
    "Make a residual plot and comment on the appropriateness of the model."
   ]
  },
  {
   "cell_type": "code",
   "execution_count": 0,
   "metadata": {
    "collapsed": false
   },
   "outputs": [
   ],
   "source": [
   ]
  },
  {
   "cell_type": "markdown",
   "metadata": {
    "collapsed": false
   },
   "source": [
   ]
  },
  {
   "cell_type": "markdown",
   "metadata": {
    "collapsed": false
   },
   "source": [
    "Predict the height of trees with girths 5, 6, 7, 8, 9, 10, 11, 12, 13 and 15.7"
   ]
  },
  {
   "cell_type": "code",
   "execution_count": 0,
   "metadata": {
    "collapsed": false
   },
   "outputs": [
   ],
   "source": [
   ]
  },
  {
   "cell_type": "markdown",
   "metadata": {
    "collapsed": false
   },
   "source": [
   ]
  }
 ],
 "metadata": {
  "kernelspec": {
   "display_name": "R (SageMath)",
   "language": "r",
   "name": "ir-sage"
  },
  "language_info": {
   "codemirror_mode": "r",
   "file_extension": ".r",
   "mimetype": "text/x-r-source",
   "name": "R",
   "pygments_lexer": "r",
   "version": "3.4.4"
  }
 },
 "nbformat": 4,
 "nbformat_minor": 0
}