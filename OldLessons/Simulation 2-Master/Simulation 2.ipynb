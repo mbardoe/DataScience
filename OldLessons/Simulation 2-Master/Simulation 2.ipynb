{
 "cells": [
  {
   "cell_type": "markdown",
   "metadata": {
    "collapsed": false
   },
   "source": [
    "# Simulation 2\n",
    "\n",
    "This notebook is for you to do some simulation on your own. The goal here is to do a simulation to find the probability that two people in a group have the same birthday. You will choose a group size to study, and then create a simulation to estimate the probability of that event. \n",
    "\n",
    "This is a relatively famous math problem, and generally the goal is to find the number of people that are necessary to make the probability of two people sharing a birthday be more than 50%. \n",
    "\n",
    "Start by choosing a sample size (make sure it is bigger than 10). Try to choose a size of a group where you think the probability of two people sharing a birthday is about 50%. \n",
    "\n",
    "```\n",
    "size<- ???\n",
    "```"
   ]
  },
  {
   "cell_type": "code",
   "execution_count": 0,
   "metadata": {
    "collapsed": false
   },
   "outputs": [
   ],
   "source": [
   ]
  },
  {
   "cell_type": "markdown",
   "metadata": {
    "collapsed": false
   },
   "source": [
    "Generate the some random numbers. Make list of random digits from 1 to 365 which is as long your sample size. You may need to use the internet to determine how to make such a list (we haven't covered it previously).\n",
    "\n",
    "```\n",
    "birthdays<-???\n",
    "birthdays\n",
    "```"
   ]
  },
  {
   "cell_type": "code",
   "execution_count": 0,
   "metadata": {
    "collapsed": false
   },
   "outputs": [
   ],
   "source": [
   ]
  },
  {
   "cell_type": "markdown",
   "metadata": {
    "collapsed": false
   },
   "source": [
    "Again use google to determine the ```R``` function that will allow to determine how many unique values are in your list. Then by comparing if the unique birthdays are shorter than the birthdays we will know if two birthdays are shared. If we get ```TRUE``` that means that at least two people share a birthday. If we get ```FALSE``` it means that everyone has a unique birthday.\n",
    "\n",
    "```\n",
    "unique.birthdays<-???\n",
    "unique.birthdays\n",
    "length(unique.birthdays)<length(birthdays)\n",
    "```"
   ]
  },
  {
   "cell_type": "code",
   "execution_count": 0,
   "metadata": {
    "collapsed": false
   },
   "outputs": [
   ],
   "source": [
   ]
  },
  {
   "cell_type": "markdown",
   "metadata": {
    "collapsed": false
   },
   "source": [
    "Now we are going to wrap that all into one step (or one function). We will do the steps above in one call. \n",
    "\n",
    "```\n",
    "simulation<-function(){\n",
    "birthdays<-???\n",
    "unique.birthdays<-???\n",
    "length(unique.birthdays)<length(birthdays)\n",
    "}\n",
    "```\n",
    "\n",
    "And then run that simluation 10000 times, and determine how many times a birthday was shared. (```R``` secretly counts ```TRUE``` as 1 and ```FALSE``` as 0.) \n",
    "\n",
    "```\n",
    "runs<-10000\n",
    "trials<-replicate(runs, simulation())\n",
    "sum(trials)/runs\n",
    "```\n"
   ]
  },
  {
   "cell_type": "code",
   "execution_count": 0,
   "metadata": {
    "collapsed": false
   },
   "outputs": [
   ],
   "source": [
   ]
  },
  {
   "cell_type": "code",
   "execution_count": 0,
   "metadata": {
    "collapsed": false
   },
   "outputs": [
   ],
   "source": [
   ]
  },
  {
   "cell_type": "markdown",
   "metadata": {
    "collapsed": false
   },
   "source": [
    "### Find the right size. \n",
    "\n",
    "Play around with the number of people till you find a size that gets you VERY close to (but slightly more than ) 50%."
   ]
  },
  {
   "cell_type": "code",
   "execution_count": 0,
   "metadata": {
    "collapsed": false
   },
   "outputs": [
   ],
   "source": [
   ]
  }
 ],
 "metadata": {
  "kernelspec": {
   "display_name": "R (SageMath)",
   "language": "r",
   "metadata": {
    "cocalc": {
     "description": "SageMath's R language environment",
     "priority": 0,
     "url": "https://www.sagemath.org/"
    }
   },
   "name": "ir-sage"
  },
  "language_info": {
   "codemirror_mode": "r",
   "file_extension": ".r",
   "mimetype": "text/x-r-source",
   "name": "R",
   "pygments_lexer": "r",
   "version": "3.4.4"
  }
 },
 "nbformat": 4,
 "nbformat_minor": 0
}