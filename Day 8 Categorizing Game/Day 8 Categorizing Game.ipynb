{
 "cells": [
  {
   "cell_type": "markdown",
   "metadata": {
    "collapsed": false
   },
   "source": [
    "# Categorizing Game\n",
    "\n",
    "In this task you will get some data, and you will be able to investigate with that data to determine how risky a car is for insurance. The type of car that you own affects the price of insurance. Cars are given a symbol (-3, -2, -1, 0, 1, 2, 3) that indicates how risky a car is. Your job is to use the dataset given to come up with your best prediction for a given set of data. You can use data investigation techniques such as graphing, linear regression to come up with your estimates. Your estimates do not have to be integers, but the answers always are. "
   ]
  },
  {
   "cell_type": "code",
   "execution_count": 2,
   "metadata": {
    "collapsed": false
   },
   "outputs": [
    {
     "name": "stderr",
     "output_type": "stream",
     "text": [
      "\n",
      "Attaching package: ‘dplyr’\n",
      "\n"
     ]
    },
    {
     "name": "stderr",
     "output_type": "stream",
     "text": [
      "The following objects are masked from ‘package:stats’:\n",
      "\n",
      "    filter, lag\n",
      "\n"
     ]
    },
    {
     "name": "stderr",
     "output_type": "stream",
     "text": [
      "The following objects are masked from ‘package:base’:\n",
      "\n",
      "    intersect, setdiff, setequal, union\n",
      "\n"
     ]
    }
   ],
   "source": [
    "library(dplyr)\n",
    "library(ggplot2)"
   ]
  },
  {
   "cell_type": "markdown",
   "metadata": {
    "collapsed": false
   },
   "source": [
    "## Information about the data\n",
    "\n",
    "1. Title: 1985 Auto Imports Database\n",
    "\n",
    "2. Source Information:\n",
    "   -- Creator/Donor: Jeffrey C. Schlimmer (Jeffrey.Schlimmer@a.gp.cs.cmu.edu)\n",
    "   -- Date: 19 May 1987\n",
    "   -- Sources:\n",
    "     1) 1985 Model Import Car and Truck Specifications, 1985 Ward's\n",
    "        Automotive Yearbook.\n",
    "     2) Personal Auto Manuals, Insurance Services Office, 160 Water\n",
    "        Street, New York, NY 10038 \n",
    "     3) Insurance Collision Report, Insurance Institute for Highway\n",
    "        Safety, Watergate 600, Washington, DC 20037\n",
    "\n",
    "4. Relevant Information:\n",
    "   -- Description\n",
    "      This data set consists of three types of entities: (a) the\n",
    "      specification of an auto in terms of various characteristics, (b)\n",
    "      its assigned insurance risk rating, (c) its normalized losses in use\n",
    "      as compared to other cars.  The second rating corresponds to the\n",
    "      degree to which the auto is more risky than its price indicates.\n",
    "      Cars are initially assigned a risk factor symbol associated with its\n",
    "      price.   Then, if it is more risky (or less), this symbol is\n",
    "      adjusted by moving it up (or down) the scale.  Actuarians call this\n",
    "      process \"symboling\".  A value of +3 indicates that the auto is\n",
    "      risky, -3 that it is probably pretty safe.\n",
    "\n",
    "      The third factor is the relative average loss payment per insured\n",
    "      vehicle year.  This value is normalized for all autos within a\n",
    "      particular size classification (two-door small, station wagons,\n",
    "      sports/speciality, etc...), and represents the average loss per car\n",
    "      per year.\n",
    "\n",
    "\n",
    "7. Attribute Information:     \n",
    "     Attribute:                Attribute Range:\n",
    "     ------------------        -----------------------------------------------\n",
    "  1. symbol:                   -3, -2, -1, 0, 1, 2, 3.\n",
    "  2. make:                     alfa-romero, audi, bmw, chevrolet, dodge, honda,\n",
    "                               isuzu, jaguar, mazda, mercedes-benz, mercury,\n",
    "                               mitsubishi, nissan, peugot, plymouth, porsche,\n",
    "                               renault, saab, subaru, toyota, volkswagen, volvo\n",
    "  3. fueltype:                 diesel, gas.\n",
    "  4. aspiration:               std, turbo.\n",
    "  5. numdoors:                 four, two.\n",
    "  6. bodystyle:                hardtop, wagon, sedan, hatchback, convertible.\n",
    "  7. drivewheels:              4wd, fwd, rwd.\n",
    "  8. enginelocation:           front, rear.\n",
    " 9. wheelbase:                 continuous from 86.6 120.9.\n",
    " 10. length:                   continuous from 141.1 to 208.1.\n",
    " 11. width:                    continuous from 60.3 to 72.3.\n",
    " 12. height:                   continuous from 47.8 to 59.8.\n",
    " 13. curbweight:               continuous from 1488 to 4066.\n",
    " 14. enginetype:               dohc, dohcv, l, ohc, ohcf, ohcv, rotor.\n",
    " 15. cylinders:                eight, five, four, six, three, twelve, two.\n",
    " 16. enginesize:               continuous from 61 to 326.\n",
    " 17. fuelsystem:               1bbl, 2bbl, 4bbl, idi, mfi, mpfi, spdi, spfi.\n",
    " 18. bore:                     continuous from 2.54 to 3.94.\n",
    " 19. stroke:                   continuous from 2.07 to 4.17.\n",
    " 20. compression-ratio:        continuous from 7 to 23.\n",
    " 21. horsepower:               continuous from 48 to 288.\n",
    " 22. peakrpm:                  continuous from 4150 to 6600.\n",
    " 23. citympg:                  continuous from 13 to 49.\n",
    " 24. hwympg:                   continuous from 16 to 54.\n",
    " 25. price:                    continuous from 5118 to 45400."
   ]
  },
  {
   "cell_type": "code",
   "execution_count": 3,
   "metadata": {
    "collapsed": false
   },
   "outputs": [
   ],
   "source": [
    "cars<-read.csv(\"carinsurance.csv\")"
   ]
  },
  {
   "cell_type": "code",
   "execution_count": 0,
   "metadata": {
    "collapsed": false
   },
   "outputs": [
   ],
   "source": [
    "str(cars)"
   ]
  },
  {
   "cell_type": "markdown",
   "metadata": {
    "collapsed": false
   },
   "source": [
    "## Now take a few minutes and try to find the variables that have the largest impact on the symbol. "
   ]
  },
  {
   "cell_type": "code",
   "execution_count": 0,
   "metadata": {
    "collapsed": false
   },
   "outputs": [
   ],
   "source": [
   ]
  },
  {
   "cell_type": "code",
   "execution_count": 0,
   "metadata": {
    "collapsed": false
   },
   "outputs": [
   ],
   "source": [
   ]
  },
  {
   "cell_type": "code",
   "execution_count": 0,
   "metadata": {
    "collapsed": false
   },
   "outputs": [
   ],
   "source": [
   ]
  },
  {
   "cell_type": "code",
   "execution_count": 0,
   "metadata": {
    "collapsed": false
   },
   "outputs": [
   ],
   "source": [
   ]
  },
  {
   "cell_type": "code",
   "execution_count": 0,
   "metadata": {
    "collapsed": false
   },
   "outputs": [
   ],
   "source": [
   ]
  },
  {
   "cell_type": "code",
   "execution_count": 0,
   "metadata": {
    "collapsed": false
   },
   "outputs": [
   ],
   "source": [
   ]
  },
  {
   "cell_type": "code",
   "execution_count": 0,
   "metadata": {
    "collapsed": false
   },
   "outputs": [
   ],
   "source": [
   ]
  },
  {
   "cell_type": "code",
   "execution_count": 0,
   "metadata": {
    "collapsed": false
   },
   "outputs": [
   ],
   "source": [
   ]
  },
  {
   "cell_type": "markdown",
   "metadata": {
    "collapsed": false
   },
   "source": [
    "### Round 1\n",
    "\n",
    "The car in question has the following characteristics\n",
    "|Attribute | Value |\n",
    "|----------|-------|\n",
    "| make            | honda |\n",
    "| fueltype        |gas|\n",
    "| aspriation      |std|\n",
    "| numdoors        |two|\n",
    "| bodystyle       |hatchback|\n",
    "| drivewheels     |fwd|\n",
    "| enginelocation  |front|\n",
    "| wheelbase       |86.6|\n",
    "| length          |144.6|\n",
    " |width           |63.9|\n",
    "| height          |50.8|\n",
    "| curbweight      |1713|\n",
    "| enginetype      |ohc|\n",
    "| cylinders       |four|\n",
    "| enginesize      |92|\n",
    "| fuelsystem      |1bb1|\n",
    "| bore            |2.91|\n",
    "| stroke          |3.41|\n",
    "| compressionratio|9.6|\n",
    "| horsepower      |58|\n",
    "| peakrpm         |4800|\n",
    "| citympg         |49|\n",
    "| hwympg          |54|\n",
    "| price           |6479|\n",
    "\n",
    "**Make your an estimate for the riskiness of this car. The correct answer is an integer from -3 to 3. -3 being the least risky and 3 being the most. Show your calculations and write an explanation of how you came to your decision.**"
   ]
  },
  {
   "cell_type": "code",
   "execution_count": 0,
   "metadata": {
    "collapsed": false
   },
   "outputs": [
   ],
   "source": [
   ]
  },
  {
   "cell_type": "code",
   "execution_count": 0,
   "metadata": {
    "collapsed": false
   },
   "outputs": [
   ],
   "source": [
   ]
  },
  {
   "cell_type": "code",
   "execution_count": 0,
   "metadata": {
    "collapsed": false
   },
   "outputs": [
   ],
   "source": [
   ]
  },
  {
   "cell_type": "markdown",
   "metadata": {
    "collapsed": false
   },
   "source": [
    "### Round 2\n",
    "\n",
    "The car in question has the following characteristics\n",
    "|Attribute | Value |\n",
    "|----------|-------|\n",
    "| make            | nissan |\n",
    "| fueltype        |gas|\n",
    "| aspriation      |std|\n",
    "| numdoors        |four|\n",
    "| bodystyle       |sedan|\n",
    "| drivewheels     |fwd|\n",
    "| enginelocation  |front|\n",
    "| wheelbase       |94.5|\n",
    "| length          |165.3|\n",
    " |width           |63.8|\n",
    "| height          |54.5|\n",
    "| curbweight      |1971|\n",
    "| enginetype      |ohc|\n",
    "| cylinders       |four|\n",
    "| enginesize      |97|\n",
    "| fuelsystem      |2bbl|\n",
    "| bore            |3.15|\n",
    "| stroke          |3.29|\n",
    "| compressionratio|9.4|\n",
    "| horsepower      |69|\n",
    "| peakrpm         |5200|\n",
    "| citympg         |31|\n",
    "| hwympg          |37|\n",
    "| price           |7499|\n",
    "\n",
    "**Make your an estimate for the riskiness of this car. The correct answer is an integer from -3 to 3. -3 being the least risky and 3 being the most. Show your calculations and write an explanation of how you came to your decision.**"
   ]
  },
  {
   "cell_type": "code",
   "execution_count": 0,
   "metadata": {
    "collapsed": false
   },
   "outputs": [
   ],
   "source": [
   ]
  },
  {
   "cell_type": "code",
   "execution_count": 0,
   "metadata": {
    "collapsed": false
   },
   "outputs": [
   ],
   "source": [
   ]
  },
  {
   "cell_type": "code",
   "execution_count": 0,
   "metadata": {
    "collapsed": false
   },
   "outputs": [
   ],
   "source": [
   ]
  },
  {
   "cell_type": "code",
   "execution_count": 0,
   "metadata": {
    "collapsed": false
   },
   "outputs": [
   ],
   "source": [
   ]
  },
  {
   "cell_type": "code",
   "execution_count": 0,
   "metadata": {
    "collapsed": false
   },
   "outputs": [
   ],
   "source": [
   ]
  },
  {
   "cell_type": "markdown",
   "metadata": {
    "collapsed": false
   },
   "source": [
    "### Round 3\n",
    "\n",
    "The car in question has the following characteristics\n",
    "|Attribute | Value |\n",
    "|----------|-------|\n",
    "| make            | volvo |\n",
    "| fueltype        |diesel|\n",
    "| aspriation      |turbo|\n",
    "| numdoors        |four|\n",
    "| bodystyle       |sedan|\n",
    "| drivewheels     |rwd|\n",
    "| enginelocation  |front|\n",
    "| wheelbase       |109.1|\n",
    "| length          |188.8|\n",
    " |width           |68.9|\n",
    "| height          |55.5|\n",
    "| curbweight      |3217|\n",
    "| enginetype      |ohc|\n",
    "| cylinders       |six|\n",
    "| enginesize      |145|\n",
    "| fuelsystem      |idi|\n",
    "| bore            |3.01|\n",
    "| stroke          |3.4|\n",
    "| compressionratio|23|\n",
    "| horsepower      |106|\n",
    "| peakrpm         |4800|\n",
    "| citympg         |26|\n",
    "| hwympg          |27|\n",
    "| price           |22470|\n",
    "\n",
    "**Make your an estimate for the riskiness of this car. The correct answer is an integer from -3 to 3. -3 being the least risky and 3 being the most. Show your calculations and write an explanation of how you came to your decision.**"
   ]
  },
  {
   "cell_type": "code",
   "execution_count": 0,
   "metadata": {
    "collapsed": false
   },
   "outputs": [
   ],
   "source": [
   ]
  },
  {
   "cell_type": "code",
   "execution_count": 0,
   "metadata": {
    "collapsed": false
   },
   "outputs": [
   ],
   "source": [
   ]
  },
  {
   "cell_type": "code",
   "execution_count": 0,
   "metadata": {
    "collapsed": false
   },
   "outputs": [
   ],
   "source": [
   ]
  },
  {
   "cell_type": "code",
   "execution_count": 0,
   "metadata": {
    "collapsed": false
   },
   "outputs": [
   ],
   "source": [
   ]
  },
  {
   "cell_type": "code",
   "execution_count": 0,
   "metadata": {
    "collapsed": false
   },
   "outputs": [
   ],
   "source": [
   ]
  },
  {
   "cell_type": "markdown",
   "metadata": {
    "collapsed": false
   },
   "source": [
    "### Round 4\n",
    "\n",
    "The car in question has the following characteristics\n",
    "|Attribute | Value |\n",
    "|----------|-------|\n",
    "| make            | dodge |\n",
    "| fueltype        |gas|\n",
    "| aspriation      |std|\n",
    "| numdoors        |four|\n",
    "| bodystyle       |wagon|\n",
    "| drivewheels     |fwd|\n",
    "| enginelocation  |front|\n",
    "| wheelbase       |103.3|\n",
    "| length          |174.6|\n",
    " |width           |64.6|\n",
    "| height          |59.8|\n",
    "| curbweight      |2535|\n",
    "| enginetype      |ohc|\n",
    "| cylinders       |four|\n",
    "| enginesize      |122|\n",
    "| fuelsystem      |2bbl|\n",
    "| bore            |3.34|\n",
    "| stroke          |3.46|\n",
    "| compressionratio|8.5|\n",
    "| horsepower      |88|\n",
    "| peakrpm         |5000|\n",
    "| citympg         |24|\n",
    "| hwympg          |30|\n",
    "| price           |8921|\n",
    "\n",
    "**Make your an estimate for the riskiness of this car. The correct answer is an integer from -3 to 3. -3 being the least risky and 3 being the most. Show your calculations and write an explanation of how you came to your decision.**"
   ]
  },
  {
   "cell_type": "code",
   "execution_count": 0,
   "metadata": {
    "collapsed": false
   },
   "outputs": [
   ],
   "source": [
   ]
  },
  {
   "cell_type": "code",
   "execution_count": 0,
   "metadata": {
    "collapsed": false
   },
   "outputs": [
   ],
   "source": [
   ]
  },
  {
   "cell_type": "code",
   "execution_count": 0,
   "metadata": {
    "collapsed": false
   },
   "outputs": [
   ],
   "source": [
   ]
  },
  {
   "cell_type": "code",
   "execution_count": 0,
   "metadata": {
    "collapsed": false
   },
   "outputs": [
   ],
   "source": [
   ]
  },
  {
   "cell_type": "code",
   "execution_count": 0,
   "metadata": {
    "collapsed": false
   },
   "outputs": [
   ],
   "source": [
   ]
  },
  {
   "cell_type": "markdown",
   "metadata": {
    "collapsed": false
   },
   "source": [
    "### Final Score\n",
    "\n",
    "To calculate your final score we will use a technique called Root Mean Square Error (often written RMSE). To do this find your error for each of the answers by taking the difference from your estimate and the the true answer. Square each of those errors, then calculate the average of those numbers, and take the square root of that. **What is your score?**"
   ]
  },
  {
   "cell_type": "code",
   "execution_count": 0,
   "metadata": {
    "collapsed": false
   },
   "outputs": [
   ],
   "source": [
   ]
  },
  {
   "cell_type": "markdown",
   "metadata": {
    "collapsed": false
   },
   "source": [
    "**What do you think that this number represents?**"
   ]
  },
  {
   "cell_type": "code",
   "execution_count": 0,
   "metadata": {
    "collapsed": false
   },
   "outputs": [
   ],
   "source": [
   ]
  }
 ],
 "metadata": {
  "kernelspec": {
   "display_name": "R (SageMath)",
   "language": "r",
   "name": "ir-sage"
  },
  "language_info": {
   "codemirror_mode": "r",
   "file_extension": ".r",
   "mimetype": "text/x-r-source",
   "name": "R",
   "pygments_lexer": "r",
   "version": "3.4.4"
  }
 },
 "nbformat": 4,
 "nbformat_minor": 0
}