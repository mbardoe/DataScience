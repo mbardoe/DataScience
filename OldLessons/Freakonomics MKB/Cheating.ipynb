{
 "cells": [
  {
   "cell_type": "markdown",
   "metadata": {
    "collapsed": false
   },
   "source": [
    "# Freakonomics\n",
    "\n",
    "After watching the freakonomics segment about cheating. Let's see if we can see cheating in a dataset. Upload the responses dataset. \n",
    "\n",
    "#### This is an artificial dataset. "
   ]
  },
  {
   "cell_type": "code",
   "execution_count": 2,
   "metadata": {
    "collapsed": false
   },
   "outputs": [
    {
     "name": "stderr",
     "output_type": "stream",
     "text": [
      "\n",
      "Attaching package: ‘dplyr’\n",
      "\n"
     ]
    },
    {
     "name": "stderr",
     "output_type": "stream",
     "text": [
      "The following objects are masked from ‘package:stats’:\n",
      "\n",
      "    filter, lag\n",
      "\n"
     ]
    },
    {
     "name": "stderr",
     "output_type": "stream",
     "text": [
      "The following objects are masked from ‘package:base’:\n",
      "\n",
      "    intersect, setdiff, setequal, union\n",
      "\n"
     ]
    }
   ],
   "source": [
    "library(dplyr)\n",
    "library(ggplot2)\n",
    "responses<-read.csv(\"responses.csv\")"
   ]
  },
  {
   "cell_type": "markdown",
   "metadata": {
    "collapsed": false
   },
   "source": [
    "Look at the data..."
   ]
  },
  {
   "cell_type": "code",
   "execution_count": 0,
   "metadata": {
    "collapsed": false
   },
   "outputs": [
   ],
   "source": [
   ]
  },
  {
   "cell_type": "code",
   "execution_count": 0,
   "metadata": {
    "collapsed": false
   },
   "outputs": [
   ],
   "source": [
   ]
  },
  {
   "cell_type": "markdown",
   "metadata": {
    "collapsed": false
   },
   "source": [
    "This dataset contains the responses of 50 students to a 40 question multiple choice test. The Answer field indicates if a student chose the correct answer (**C**), an incorrect answer (**W**), or left the question blank (**E**).\n",
    "\n",
    "Let's start by creating a new dataframe that has the scores of various students.\n",
    "\n",
    "```\n",
    "scores<-responses %>%\n",
    "  group_by(Student) %>%\n",
    "  summarise(score=sum(Answer==\"C\")/40)\n",
    "head(scores) \n",
    "```"
   ]
  },
  {
   "cell_type": "code",
   "execution_count": 0,
   "metadata": {
    "collapsed": false
   },
   "outputs": [
   ],
   "source": [
   ]
  },
  {
   "cell_type": "markdown",
   "metadata": {
    "collapsed": false
   },
   "source": [
    "Ooh... It looks like the scores aren't too good. Lets make some visualizations to see if anything looks odd in the scores...\n",
    "\n",
    "(**Note:** That we have two datasets right now. We have the ```responseses``` dataset that shows individual answers and the ```scores``` dataset that shows how well students did.)\n",
    "\n",
    "```\n",
    "ggplot(data=scores, aes(x=score))+geom_histogram(binwidth=.05)\n",
    "ggplot(data=scores, aes(y=score))+geom_boxplot()\n",
    "```"
   ]
  },
  {
   "cell_type": "code",
   "execution_count": 0,
   "metadata": {
    "collapsed": false
   },
   "outputs": [
   ],
   "source": [
   ]
  },
  {
   "cell_type": "markdown",
   "metadata": {
    "collapsed": false
   },
   "source": [
    "Let's make a dataset about the questions, and see how student did on different questions.\n",
    "\n",
    "```\n",
    "questions<-responses %>%\n",
    "  group_by(Question) %>%\n",
    "  summarise(correct=sum(Answer==\"C\")/50, incorrect=sum(Answer==\"W\")/50, empty=sum(Answer==\"E\")/50)\n",
    "head(questions)\n",
    "```\n"
   ]
  },
  {
   "cell_type": "code",
   "execution_count": 0,
   "metadata": {
    "collapsed": false
   },
   "outputs": [
   ],
   "source": [
   ]
  },
  {
   "cell_type": "markdown",
   "metadata": {
    "collapsed": false
   },
   "source": [
    "Let's make a histogram showing the relationship between question number and percent of students getting the question correct. \n",
    "\n",
    "```\n",
    "plot(data=questions, aes(x=Question, y=correct))+geom_point()\n",
    "```"
   ]
  },
  {
   "cell_type": "code",
   "execution_count": 0,
   "metadata": {
    "collapsed": false
   },
   "outputs": [
   ],
   "source": [
   ]
  },
  {
   "cell_type": "code",
   "execution_count": 0,
   "metadata": {
    "collapsed": false
   },
   "outputs": [
   ],
   "source": [
   ]
  }
 ],
 "metadata": {
  "kernelspec": {
   "display_name": "R (SageMath)",
   "language": "r",
   "name": "ir-sage"
  }
 },
 "nbformat": 4,
 "nbformat_minor": 0
}