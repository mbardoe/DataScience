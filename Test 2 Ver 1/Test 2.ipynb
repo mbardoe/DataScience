{
 "cells": [
  {
   "cell_type": "markdown",
   "metadata": {
    "collapsed": false
   },
   "source": [
    "**On my honor I have neither given nor received any unauthorized aid.**"
   ]
  },
  {
   "cell_type": "markdown",
   "metadata": {
    "collapsed": false
   },
   "source": [
    "**Your name here**"
   ]
  },
  {
   "cell_type": "markdown",
   "metadata": {
    "collapsed": false
   },
   "source": [
    "# Test 2\n",
    "\n",
    "On this test we are going use a dataset that researchers collected about 649 high school students in Portugal, and attempt to determine how their grades are affected by several of the variables that they collected information about. \n",
    "\n",
    "P. Cortez and A. Silva. Using Data Mining to Predict Secondary School Student Performance. In A. Brito and J. Teixeira Eds., Proceedings of 5th FUture BUsiness TEChnology Conference (FUBUTEC 2008) pp. 5-12, Porto, Portugal, April, 2008, EUROSIS, ISBN 978-9077381-39-7. \n",
    "\n",
    "\n",
    "**As always load up the libraries**"
   ]
  },
  {
   "cell_type": "code",
   "execution_count": 0,
   "metadata": {
    "collapsed": false
   },
   "outputs": [
   ],
   "source": [
    "library(dplyr)\n",
    "library(ggplot2)"
   ]
  },
  {
   "cell_type": "markdown",
   "metadata": {
    "collapsed": false
   },
   "source": [
    "\n",
    "We will load the data using the command:"
   ]
  },
  {
   "cell_type": "code",
   "execution_count": 0,
   "metadata": {
    "collapsed": false
   },
   "outputs": [
   ],
   "source": [
    "student<-read.csv(\"student-por.csv\")"
   ]
  },
  {
   "cell_type": "markdown",
   "metadata": {
    "collapsed": false
   },
   "source": [
    "## Dataset student\n",
    "\n",
    "The student dataset looks at the relationship between variables describing students lives and their performance in Portuguese class. \n",
    "\n",
    "| Attribute | Explanation|\n",
    "|-----------|------------|\n",
    "|age|student's age (numeric: from 15 to 22)  |\n",
    "|studytime|hours studied weekly  |\n",
    "|Walc| Alcoholic drinks consumed weekly |\n",
    "|absences| number of school absences (numeric: from 0 to 32) |\n",
    "|G3| final grade (numeric: from 0 to 20, output target)|"
   ]
  },
  {
   "cell_type": "code",
   "execution_count": 3,
   "metadata": {
    "collapsed": false
   },
   "outputs": [
    {
     "name": "stdout",
     "output_type": "stream",
     "text": [
      "'data.frame':\t649 obs. of  5 variables:\n",
      " $ age      : int  18 17 15 15 16 16 16 17 15 15 ...\n",
      " $ studytime: int  2 2 2 3 2 2 2 2 2 2 ...\n",
      " $ Walc     : int  1 1 3 1 2 2 1 1 1 1 ...\n",
      " $ absences : int  4 2 6 0 0 6 0 2 0 0 ...\n",
      " $ G3       : int  11 11 12 14 13 13 13 13 17 13 ...\n"
     ]
    }
   ],
   "source": [
    "str(student)"
   ]
  },
  {
   "cell_type": "markdown",
   "metadata": {
    "collapsed": false
   },
   "source": [
    "### Task 1\n",
    "\n",
    "Create a scatterplot that shows the relationship between G3 and Walc."
   ]
  },
  {
   "cell_type": "code",
   "execution_count": 0,
   "metadata": {
    "collapsed": false
   },
   "outputs": [
   ],
   "source": [
   ]
  },
  {
   "cell_type": "markdown",
   "metadata": {
    "collapsed": false
   },
   "source": [
    "### Task 2 \n",
    "\n",
    "Create a linear model that predicts the G3 based on the Walc. **Write a markdown cell that gives the equation that predicts G3 from Walc. Does your calculation indicate that Walc is a useful predictor for G3?**"
   ]
  },
  {
   "cell_type": "code",
   "execution_count": 0,
   "metadata": {
    "collapsed": false
   },
   "outputs": [
   ],
   "source": [
   ]
  },
  {
   "cell_type": "markdown",
   "metadata": {
    "collapsed": false
   },
   "source": [
   ]
  },
  {
   "cell_type": "markdown",
   "metadata": {
    "collapsed": false
   },
   "source": [
    "### Task 3\n",
    "\n",
    "**Create a scatterplot that shows the relationship between the G3  and Walc and add in the line of best fit that you found in Task 2.**"
   ]
  },
  {
   "cell_type": "code",
   "execution_count": 0,
   "metadata": {
    "collapsed": false
   },
   "outputs": [
   ],
   "source": [
   ]
  },
  {
   "cell_type": "markdown",
   "metadata": {
    "collapsed": false
   },
   "source": [
    "### Task 4\n",
    "\n",
    "Create a table that shows the correlations between the all the quantitative variables in this dataset. **Write a markdown cell indicating the strength of the correlation between G3 and the other attributes.** "
   ]
  },
  {
   "cell_type": "code",
   "execution_count": 0,
   "metadata": {
    "collapsed": false
   },
   "outputs": [
   ],
   "source": [
   ]
  },
  {
   "cell_type": "markdown",
   "metadata": {
    "collapsed": false
   },
   "source": [
   ]
  },
  {
   "cell_type": "markdown",
   "metadata": {
    "collapsed": false
   },
   "source": [
    "### Task 5\n",
    "\n",
    "Create a residual plot for the model that you have found in Task 2. **What does the residual plot say about the model that we have found in Task 2?**"
   ]
  },
  {
   "cell_type": "code",
   "execution_count": 0,
   "metadata": {
    "collapsed": false
   },
   "outputs": [
   ],
   "source": [
   ]
  },
  {
   "cell_type": "markdown",
   "metadata": {
    "collapsed": false
   },
   "source": [
    "### Task 6\n",
    "\n",
    "Create a multilinear model for G3 from the attributes in this dataset. Only use those attributes that seem demonstrated to be relevant to G3. **In a markdown cell, write the equation for G3 that is given by your model. And then describe what the is the meaning of the $R^2$ value given by the model.**"
   ]
  },
  {
   "cell_type": "code",
   "execution_count": 0,
   "metadata": {
    "collapsed": false
   },
   "outputs": [
   ],
   "source": [
    "\n"
   ]
  },
  {
   "cell_type": "markdown",
   "metadata": {
    "collapsed": false
   },
   "source": [
    "\n"
   ]
  },
  {
   "cell_type": "markdown",
   "metadata": {
    "collapsed": false
   },
   "source": [
    "### Task 7\n",
    "\n",
    "**Explain what each of the coefficients of your multilinear model from Task 6 mean in context of the dataset.**\n"
   ]
  },
  {
   "cell_type": "markdown",
   "metadata": {
    "collapsed": false
   },
   "source": [
   ]
  },
  {
   "cell_type": "markdown",
   "metadata": {
    "collapsed": false
   },
   "source": [
    "### Task 8\n",
    "\n",
    "**Make a prediction for the final grade of a student with the attributes described below.**\n",
    "\n",
    "\n",
    "|Attribute|Value|\n",
    "|---------|-----|\n",
    "|age|19  |\n",
    "|studytime|1  |\n",
    "|Walc| 4 |\n",
    "|absences| 22 |\n"
   ]
  },
  {
   "cell_type": "code",
   "execution_count": 0,
   "metadata": {
    "collapsed": false
   },
   "outputs": [
   ],
   "source": [
   ]
  },
  {
   "cell_type": "markdown",
   "metadata": {
    "collapsed": false
   },
   "source": [
    "### Task 9\n",
    "\n",
    "Based on information what you know of the model used in the prediction above describe in words (with numerical support) how accurate you believe the prediction to be. "
   ]
  },
  {
   "cell_type": "markdown",
   "metadata": {
    "collapsed": false
   },
   "source": [
   ]
  },
  {
   "cell_type": "markdown",
   "metadata": {
    "collapsed": false
   },
   "source": [
    "# Extra-Credit\n",
    "\n",
    "Calculate the z-score of the prediction you made in Task 8."
   ]
  },
  {
   "cell_type": "code",
   "execution_count": 0,
   "metadata": {
    "collapsed": false
   },
   "outputs": [
   ],
   "source": [
   ]
  },
  {
   "cell_type": "code",
   "execution_count": 0,
   "metadata": {
    "collapsed": false
   },
   "outputs": [
   ],
   "source": [
   ]
  }
 ],
 "metadata": {
  "kernelspec": {
   "display_name": "R (SageMath)",
   "language": "r",
   "metadata": {
    "cocalc": {
     "description": "SageMath's R language environment",
     "priority": 0,
     "url": "https://www.sagemath.org/"
    }
   },
   "name": "ir-sage"
  },
  "language_info": {
   "codemirror_mode": "r",
   "file_extension": ".r",
   "mimetype": "text/x-r-source",
   "name": "R",
   "pygments_lexer": "r",
   "version": "3.5.2"
  }
 },
 "nbformat": 4,
 "nbformat_minor": 0
}