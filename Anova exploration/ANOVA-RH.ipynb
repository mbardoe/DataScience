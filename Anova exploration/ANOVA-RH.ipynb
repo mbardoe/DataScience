{
 "cells": [
  {
   "cell_type": "markdown",
   "metadata": {
    "collapsed": false
   },
   "source": [
    "# ANOVA: Analysis of Variance\n",
    "\n",
    "This technique is most useful when you want to compare some quantitative data across some categorical data (often we have more than two levels to our categorical variable). For instance in our Pace of Life survey. We could look at the DassTotal when we look at different grade level. The question we are answering here is if there is a significant difference between the means across these groups. \n",
    "\n",
    "So if we spoke about this in the language of hypothesis testing our hypothesis would be:\n",
    "\n",
    "    * H_0: All the means of the different groups are equal\n",
    "    * H_a: At least one pair of means of the groups are different\n",
    "    \n",
    "There are some assumptions that the data must meet to make the test be valid. These are:\n",
    "\n",
    "* Simple Random Sampling or independent observations\n",
    "* Independent groups\n",
    "* Standard deviation across groups are the same\n",
    "* Each group has a large enough number of observations (n>20). This supports normality."
   ]
  },
  {
   "cell_type": "markdown",
   "metadata": {
    "collapsed": false
   },
   "source": [
    "## Pace of life example\n",
    "\n",
    "Let's load the data and look at the infomation:\n",
    "\n",
    "```\n",
    "library(ggplot2)\n",
    "pol<-read.csv(\"POLFINALRevise2019V2.csv\")\n",
    "head(pol[,c(\"DassTotal\",\"GRADENOPG\")])\n",
    "```"
   ]
  },
  {
   "cell_type": "code",
   "execution_count": 4,
   "metadata": {
    "collapsed": false
   },
   "outputs": [
    {
     "data": {
      "text/html": [
       "<table>\n",
       "<thead>\n",
       "\t<tr><th scope=col>DassTotal</th><th scope=col>GRADENOPG</th></tr>\n",
       "</thead>\n",
       "<tbody>\n",
       "\t<tr><td> 8       </td><td>Freshman </td></tr>\n",
       "\t<tr><td> 7       </td><td>Sophomore</td></tr>\n",
       "\t<tr><td>19       </td><td>Junior   </td></tr>\n",
       "\t<tr><td> 6       </td><td>Sophomore</td></tr>\n",
       "\t<tr><td>10       </td><td>Sophomore</td></tr>\n",
       "\t<tr><td> 4       </td><td>Junior   </td></tr>\n",
       "</tbody>\n",
       "</table>\n"
      ],
      "text/latex": [
       "\\begin{tabular}{r|ll}\n",
       " DassTotal & GRADENOPG\\\\\n",
       "\\hline\n",
       "\t  8        & Freshman \\\\\n",
       "\t  7        & Sophomore\\\\\n",
       "\t 19        & Junior   \\\\\n",
       "\t  6        & Sophomore\\\\\n",
       "\t 10        & Sophomore\\\\\n",
       "\t  4        & Junior   \\\\\n",
       "\\end{tabular}\n"
      ],
      "text/markdown": [
       "\n",
       "| DassTotal | GRADENOPG |\n",
       "|---|---|\n",
       "|  8        | Freshman  |\n",
       "|  7        | Sophomore |\n",
       "| 19        | Junior    |\n",
       "|  6        | Sophomore |\n",
       "| 10        | Sophomore |\n",
       "|  4        | Junior    |\n",
       "\n"
      ],
      "text/plain": [
       "  DassTotal GRADENOPG\n",
       "1  8        Freshman \n",
       "2  7        Sophomore\n",
       "3 19        Junior   \n",
       "4  6        Sophomore\n",
       "5 10        Sophomore\n",
       "6  4        Junior   "
      ]
     },
     "execution_count": 4,
     "metadata": {
     },
     "output_type": "execute_result"
    }
   ],
   "source": [
    "library(ggplot2)\n",
    "pol<-read.csv(\"POLFINALRevise2019V2.csv\")\n",
    "head(pol[,c(\"DassTotal\",\"GRADENOPG\")])"
   ]
  },
  {
   "cell_type": "markdown",
   "metadata": {
    "collapsed": false
   },
   "source": [
    "Next we should look at the data. Below you will see a boxplot of the data grouped by various grade levels. \n",
    "\n",
    "```\n",
    "# Box plot\n",
    "boxplot(DassTotal ~ GRADENOPG, data = pol,\n",
    "        xlab = \"Grade\", ylab = \"Stress\",\n",
    "        frame = FALSE, col = c(\"#00AFBB\", \"#E7B800\", \"#FC4E07\", \"green\"))\n",
    "# plotmeans\n",
    "library(\"gplots\")\n",
    "plotmeans(DassTotal ~ GRADENOPG, data = pol, frame = FALSE,\n",
    "          xlab = \"Grade\", ylab = \"Stress\",\n",
    "          main=\"Mean Plot with 95% CI\") \n",
    "```"
   ]
  },
  {
   "cell_type": "code",
   "execution_count": 5,
   "metadata": {
    "collapsed": false
   },
   "outputs": [
    {
     "name": "stderr",
     "output_type": "stream",
     "text": [
      "\n",
      "Attaching package: ‘gplots’\n",
      "\n"
     ]
    },
    {
     "name": "stderr",
     "output_type": "stream",
     "text": [
      "The following object is masked from ‘package:stats’:\n",
      "\n",
      "    lowess\n",
      "\n"
     ]
    },
    {
     "name": "stderr",
     "output_type": "stream",
     "text": [
      "Warning message in plot.xy(xy.coords(x, y), type = type, ...):\n",
      "“\"frame\" is not a graphical parameter”"
     ]
    },
    {
     "name": "stderr",
     "output_type": "stream",
     "text": [
      "Warning message in axis(1, at = 1:length(means), labels = legends, ...):\n",
      "“\"frame\" is not a graphical parameter”"
     ]
    },
    {
     "name": "stderr",
     "output_type": "stream",
     "text": [
      "Warning message in plot.xy(xy.coords(x, y), type = type, ...):\n",
      "“\"frame\" is not a graphical parameter”"
     ]
    },
    {
     "data": {
      "image/svg+xml": "<?xml version=\"1.0\" encoding=\"UTF-8\"?>\n<svg xmlns=\"http://www.w3.org/2000/svg\" xmlns:xlink=\"http://www.w3.org/1999/xlink\" width=\"504pt\" height=\"504pt\" viewBox=\"0 0 504 504\" version=\"1.1\">\n<defs>\n<g>\n<symbol overflow=\"visible\" id=\"glyph0-0\">\n<path style=\"stroke:none;\" d=\"\"/>\n</symbol>\n<symbol overflow=\"visible\" id=\"glyph0-1\">\n<path style=\"stroke:none;\" d=\"M 7.234375 -8.09375 L 7.234375 -9.109375 L 1.125 -9.109375 L 1.125 0 L 2.28125 0 L 2.28125 -4.15625 L 6.640625 -4.15625 L 6.640625 -5.171875 L 2.28125 -5.171875 L 2.28125 -8.09375 Z M 7.234375 -8.09375 \"/>\n</symbol>\n<symbol overflow=\"visible\" id=\"glyph0-2\">\n<path style=\"stroke:none;\" d=\"M 4.015625 -5.640625 L 4.015625 -6.703125 C 3.84375 -6.71875 3.75 -6.734375 3.609375 -6.734375 C 2.9375 -6.734375 2.421875 -6.34375 1.828125 -5.359375 L 1.828125 -6.546875 L 0.875 -6.546875 L 0.875 0 L 1.90625 0 L 1.90625 -3.40625 C 1.90625 -4.875 2.40625 -5.609375 4.015625 -5.640625 Z M 4.015625 -5.640625 \"/>\n</symbol>\n<symbol overflow=\"visible\" id=\"glyph0-3\">\n<path style=\"stroke:none;\" d=\"M 6.40625 -2.96875 C 6.40625 -3.921875 6.34375 -4.53125 6.15625 -5.015625 C 5.71875 -6.09375 4.71875 -6.734375 3.5 -6.734375 C 1.671875 -6.734375 0.5 -5.390625 0.5 -3.234375 C 0.5 -1.09375 1.640625 0.1875 3.46875 0.1875 C 4.96875 0.1875 6.015625 -0.65625 6.28125 -1.984375 L 5.21875 -1.984375 C 4.9375 -1.125 4.34375 -0.78125 3.515625 -0.78125 C 2.421875 -0.78125 1.609375 -1.46875 1.59375 -2.96875 Z M 5.296875 -3.90625 C 5.296875 -3.90625 5.296875 -3.84375 5.28125 -3.828125 L 1.609375 -3.828125 C 1.703125 -4.984375 2.4375 -5.78125 3.484375 -5.78125 C 4.515625 -5.78125 5.296875 -4.921875 5.296875 -3.90625 Z M 5.296875 -3.90625 \"/>\n</symbol>\n<symbol overflow=\"visible\" id=\"glyph0-4\">\n<path style=\"stroke:none;\" d=\"M 5.734375 -1.84375 C 5.734375 -2.8125 5.1875 -3.296875 3.890625 -3.609375 L 2.890625 -3.84375 C 2.03125 -4.046875 1.671875 -4.328125 1.671875 -4.78125 C 1.671875 -5.390625 2.21875 -5.78125 3.0625 -5.78125 C 3.90625 -5.78125 4.34375 -5.40625 4.375 -4.71875 L 5.46875 -4.71875 C 5.46875 -6.015625 4.609375 -6.734375 3.09375 -6.734375 C 1.578125 -6.734375 0.59375 -5.953125 0.59375 -4.734375 C 0.59375 -3.71875 1.109375 -3.21875 2.65625 -2.84375 L 3.640625 -2.609375 C 4.359375 -2.4375 4.65625 -2.21875 4.65625 -1.75 C 4.65625 -1.140625 4.03125 -0.78125 3.125 -0.78125 C 2.1875 -0.78125 1.65625 -1 1.53125 -2 L 0.421875 -2 C 0.46875 -0.484375 1.328125 0.1875 3.03125 0.1875 C 4.6875 0.1875 5.734375 -0.578125 5.734375 -1.84375 Z M 5.734375 -1.84375 \"/>\n</symbol>\n<symbol overflow=\"visible\" id=\"glyph0-5\">\n<path style=\"stroke:none;\" d=\"M 6.078125 0 L 6.078125 -4.953125 C 6.078125 -6.046875 5.28125 -6.734375 4.015625 -6.734375 C 3.09375 -6.734375 2.53125 -6.453125 1.90625 -5.65625 L 1.90625 -9.109375 L 0.875 -9.109375 L 0.875 0 L 1.90625 0 L 1.90625 -3.609375 C 1.90625 -4.953125 2.609375 -5.828125 3.6875 -5.828125 C 4.421875 -5.828125 5.03125 -5.40625 5.03125 -4.53125 L 5.03125 0 Z M 6.078125 0 \"/>\n</symbol>\n<symbol overflow=\"visible\" id=\"glyph0-6\">\n<path style=\"stroke:none;\" d=\"M 9.5 0 L 9.5 -4.90625 C 9.5 -6.09375 8.84375 -6.734375 7.625 -6.734375 C 6.75 -6.734375 6.21875 -6.46875 5.609375 -5.734375 C 5.21875 -6.4375 4.703125 -6.734375 3.84375 -6.734375 C 2.96875 -6.734375 2.40625 -6.40625 1.84375 -5.625 L 1.84375 -6.546875 L 0.890625 -6.546875 L 0.890625 0 L 1.921875 0 L 1.921875 -4.109375 C 1.921875 -5.0625 2.609375 -5.828125 3.46875 -5.828125 C 4.234375 -5.828125 4.671875 -5.34375 4.671875 -4.515625 L 4.671875 0 L 5.71875 0 L 5.71875 -4.109375 C 5.71875 -5.0625 6.40625 -5.828125 7.265625 -5.828125 C 8.03125 -5.828125 8.46875 -5.34375 8.46875 -4.515625 L 8.46875 0 Z M 9.5 0 \"/>\n</symbol>\n<symbol overflow=\"visible\" id=\"glyph0-7\">\n<path style=\"stroke:none;\" d=\"M 6.6875 -0.03125 L 6.6875 -0.8125 C 6.578125 -0.78125 6.53125 -0.78125 6.46875 -0.78125 C 6.09375 -0.78125 5.90625 -0.96875 5.90625 -1.296875 L 5.90625 -4.953125 C 5.90625 -6.109375 5.046875 -6.734375 3.4375 -6.734375 C 1.84375 -6.734375 0.875 -6.125 0.8125 -4.609375 L 1.859375 -4.609375 C 1.953125 -5.40625 2.421875 -5.78125 3.40625 -5.78125 C 4.34375 -5.78125 4.859375 -5.421875 4.859375 -4.796875 L 4.859375 -4.53125 C 4.859375 -4.09375 4.59375 -3.90625 3.78125 -3.796875 C 2.296875 -3.609375 2.078125 -3.5625 1.671875 -3.40625 C 0.90625 -3.09375 0.53125 -2.5 0.53125 -1.703125 C 0.53125 -0.515625 1.34375 0.1875 2.671875 0.1875 C 3.515625 0.1875 4.328125 -0.15625 4.90625 -0.78125 C 5.015625 -0.28125 5.46875 0.09375 5.96875 0.09375 C 6.1875 0.09375 6.34375 0.0625 6.6875 -0.03125 Z M 4.859375 -2.265625 C 4.859375 -1.328125 3.90625 -0.71875 2.90625 -0.71875 C 2.09375 -0.71875 1.609375 -1.015625 1.609375 -1.71875 C 1.609375 -2.40625 2.078125 -2.71875 3.1875 -2.875 C 4.28125 -3.03125 4.515625 -3.078125 4.859375 -3.234375 Z M 4.859375 -2.265625 \"/>\n</symbol>\n<symbol overflow=\"visible\" id=\"glyph0-8\">\n<path style=\"stroke:none;\" d=\"M 6.09375 0 L 6.09375 -4.953125 C 6.09375 -6.03125 5.28125 -6.734375 4.015625 -6.734375 C 3.03125 -6.734375 2.40625 -6.359375 1.84375 -5.453125 L 1.84375 -6.546875 L 0.875 -6.546875 L 0.875 0 L 1.90625 0 L 1.90625 -3.609375 C 1.90625 -4.953125 2.640625 -5.828125 3.703125 -5.828125 C 4.53125 -5.828125 5.046875 -5.328125 5.046875 -4.53125 L 5.046875 0 Z M 6.09375 0 \"/>\n</symbol>\n<symbol overflow=\"visible\" id=\"glyph0-9\">\n<path style=\"stroke:none;\" d=\"M 5.328125 -2.34375 L 5.328125 -9.109375 L 4.15625 -9.109375 L 4.15625 -2.765625 C 4.15625 -1.265625 3.65625 -0.75 2.765625 -0.75 C 1.890625 -0.75 1.40625 -1.34375 1.40625 -2.40625 L 1.40625 -2.921875 L 0.234375 -2.921875 L 0.234375 -2.1875 C 0.234375 -0.71875 1.15625 0.21875 2.75 0.21875 C 4.34375 0.21875 5.328125 -0.765625 5.328125 -2.34375 Z M 5.328125 -2.34375 \"/>\n</symbol>\n<symbol overflow=\"visible\" id=\"glyph0-10\">\n<path style=\"stroke:none;\" d=\"M 6.03125 0 L 6.03125 -6.546875 L 4.984375 -6.546875 L 4.984375 -2.9375 C 4.984375 -1.59375 4.28125 -0.71875 3.203125 -0.71875 C 2.375 -0.71875 1.84375 -1.21875 1.84375 -2.015625 L 1.84375 -6.546875 L 0.8125 -6.546875 L 0.8125 -1.59375 C 0.8125 -0.515625 1.625 0.1875 2.90625 0.1875 C 3.859375 0.1875 4.46875 -0.15625 5.09375 -1.015625 L 5.09375 0 Z M 6.03125 0 \"/>\n</symbol>\n<symbol overflow=\"visible\" id=\"glyph0-11\">\n<path style=\"stroke:none;\" d=\"M 1.90625 0 L 1.90625 -6.546875 L 0.875 -6.546875 L 0.875 0 Z M 2.046875 -7.53125 L 2.046875 -8.84375 L 0.75 -8.84375 L 0.75 -7.53125 Z M 2.046875 -7.53125 \"/>\n</symbol>\n<symbol overflow=\"visible\" id=\"glyph0-12\">\n<path style=\"stroke:none;\" d=\"M 6.375 -3.21875 C 6.375 -5.484375 5.28125 -6.734375 3.40625 -6.734375 C 1.5625 -6.734375 0.453125 -5.46875 0.453125 -3.28125 C 0.453125 -1.078125 1.546875 0.1875 3.40625 0.1875 C 5.25 0.1875 6.375 -1.078125 6.375 -3.21875 Z M 5.28125 -3.234375 C 5.28125 -1.703125 4.5625 -0.78125 3.40625 -0.78125 C 2.25 -0.78125 1.53125 -1.6875 1.53125 -3.28125 C 1.53125 -4.84375 2.25 -5.78125 3.40625 -5.78125 C 4.59375 -5.78125 5.28125 -4.859375 5.28125 -3.234375 Z M 5.28125 -3.234375 \"/>\n</symbol>\n<symbol overflow=\"visible\" id=\"glyph0-13\">\n<path style=\"stroke:none;\" d=\"M 7.765625 -2.5 C 7.765625 -3.625 7.0625 -4.453125 5.828125 -4.78125 L 3.53125 -5.40625 C 2.4375 -5.6875 2.03125 -6.046875 2.03125 -6.75 C 2.03125 -7.671875 2.84375 -8.359375 4.078125 -8.359375 C 5.53125 -8.359375 6.34375 -7.703125 6.34375 -6.515625 L 7.453125 -6.515625 C 7.453125 -8.296875 6.21875 -9.34375 4.109375 -9.34375 C 2.109375 -9.34375 0.875 -8.234375 0.875 -6.59375 C 0.875 -5.46875 1.46875 -4.78125 2.65625 -4.46875 L 4.921875 -3.859375 C 6.078125 -3.5625 6.59375 -3.09375 6.59375 -2.390625 C 6.59375 -1.390625 5.84375 -0.796875 4.28125 -0.796875 C 2.546875 -0.796875 1.703125 -1.65625 1.703125 -2.96875 L 0.59375 -2.96875 C 0.59375 -0.8125 2.046875 0.21875 4.203125 0.21875 C 6.515625 0.21875 7.765625 -0.875 7.765625 -2.5 Z M 7.765625 -2.5 \"/>\n</symbol>\n<symbol overflow=\"visible\" id=\"glyph0-14\">\n<path style=\"stroke:none;\" d=\"M 6.53125 -3.21875 C 6.53125 -5.40625 5.46875 -6.734375 3.71875 -6.734375 C 2.84375 -6.734375 2.125 -6.34375 1.640625 -5.5625 L 1.640625 -6.546875 L 0.6875 -6.546875 L 0.6875 2.71875 L 1.71875 2.71875 L 1.71875 -0.78125 C 2.28125 -0.109375 2.890625 0.1875 3.734375 0.1875 C 5.421875 0.1875 6.53125 -1.125 6.53125 -3.21875 Z M 5.453125 -3.234375 C 5.453125 -1.75 4.6875 -0.78125 3.546875 -0.78125 C 2.453125 -0.78125 1.71875 -1.6875 1.71875 -3.21875 C 1.71875 -4.765625 2.453125 -5.765625 3.546875 -5.765625 C 4.703125 -5.765625 5.453125 -4.796875 5.453125 -3.234375 Z M 5.453125 -3.234375 \"/>\n</symbol>\n<symbol overflow=\"visible\" id=\"glyph0-15\">\n<path style=\"stroke:none;\" d=\"M 8.859375 0 L 8.859375 -4.8125 L 5.0625 -4.8125 L 5.0625 -3.78125 L 7.84375 -3.78125 L 7.84375 -3.53125 C 7.84375 -1.90625 6.640625 -0.796875 4.96875 -0.796875 C 2.90625 -0.796875 1.71875 -2.296875 1.71875 -4.53125 C 1.71875 -6.765625 2.984375 -8.3125 4.90625 -8.3125 C 6.296875 -8.3125 7.296875 -7.53125 7.546875 -6.34375 L 8.734375 -6.34375 C 8.40625 -8.203125 7.015625 -9.34375 4.921875 -9.34375 C 2.140625 -9.34375 0.546875 -7.1875 0.546875 -4.46875 C 0.546875 -1.65625 2.265625 0.21875 4.71875 0.21875 C 5.96875 0.21875 6.953125 -0.21875 7.84375 -1.203125 L 8.125 0 Z M 8.859375 0 \"/>\n</symbol>\n<symbol overflow=\"visible\" id=\"glyph0-16\">\n<path style=\"stroke:none;\" d=\"M 6.1875 0 L 6.1875 -9.109375 L 5.15625 -9.109375 L 5.15625 -5.71875 C 4.71875 -6.390625 4.015625 -6.734375 3.140625 -6.734375 C 1.4375 -6.734375 0.328125 -5.421875 0.328125 -3.34375 C 0.328125 -1.125 1.40625 0.1875 3.171875 0.1875 C 4.078125 0.1875 4.703125 -0.15625 5.265625 -0.96875 L 5.265625 0 Z M 5.15625 -3.25 C 5.15625 -1.734375 4.421875 -0.78125 3.328125 -0.78125 C 2.171875 -0.78125 1.40625 -1.75 1.40625 -3.28125 C 1.40625 -4.796875 2.171875 -5.765625 3.3125 -5.765625 C 4.4375 -5.765625 5.15625 -4.765625 5.15625 -3.25 Z M 5.15625 -3.25 \"/>\n</symbol>\n<symbol overflow=\"visible\" id=\"glyph1-0\">\n<path style=\"stroke:none;\" d=\"\"/>\n</symbol>\n<symbol overflow=\"visible\" id=\"glyph1-1\">\n<path style=\"stroke:none;\" d=\"M -4.265625 -6.34375 C -7.34375 -6.34375 -8.859375 -5.359375 -8.859375 -3.4375 C -8.859375 -1.53125 -7.3125 -0.53125 -4.34375 -0.53125 C -1.34375 -0.53125 0.1875 -1.53125 0.1875 -3.4375 C 0.1875 -5.3125 -1.34375 -6.34375 -4.265625 -6.34375 Z M -4.359375 -5.21875 C -1.84375 -5.21875 -0.71875 -4.640625 -0.71875 -3.40625 C -0.71875 -2.25 -1.90625 -1.65625 -4.328125 -1.65625 C -6.75 -1.65625 -7.890625 -2.25 -7.890625 -3.4375 C -7.890625 -4.625 -6.734375 -5.21875 -4.359375 -5.21875 Z M -4.359375 -5.21875 \"/>\n</symbol>\n<symbol overflow=\"visible\" id=\"glyph1-2\">\n<path style=\"stroke:none;\" d=\"M -2.9375 -6.40625 C -4.6875 -6.40625 -5.84375 -5.25 -5.84375 -3.546875 C -5.84375 -2.921875 -5.671875 -2.421875 -5.296875 -1.90625 L -7.59375 -2.265625 L -7.59375 -5.953125 L -8.671875 -5.953125 L -8.671875 -1.375 L -4.03125 -0.71875 L -4.03125 -1.71875 C -4.65625 -2.234375 -4.859375 -2.65625 -4.859375 -3.34375 C -4.859375 -4.53125 -4.09375 -5.28125 -2.78125 -5.28125 C -1.515625 -5.28125 -0.78125 -4.546875 -0.78125 -3.34375 C -0.78125 -2.390625 -1.28125 -1.796875 -2.28125 -1.53125 L -2.28125 -0.4375 C -0.515625 -0.796875 0.1875 -1.796875 0.1875 -3.375 C 0.1875 -5.15625 -1.0625 -6.40625 -2.9375 -6.40625 Z M -2.9375 -6.40625 \"/>\n</symbol>\n<symbol overflow=\"visible\" id=\"glyph1-3\">\n<path style=\"stroke:none;\" d=\"M 0 -4.34375 L -8.859375 -4.34375 L -8.859375 -3.609375 C -7.5 -3.21875 -7.3125 -2.96875 -7.09375 -1.28125 L -6.3125 -1.28125 L -6.3125 -3.234375 L 0 -3.234375 Z M 0 -4.34375 \"/>\n</symbol>\n<symbol overflow=\"visible\" id=\"glyph1-4\">\n<path style=\"stroke:none;\" d=\"M -6.265625 -6.390625 C -7.765625 -6.390625 -8.859375 -5.21875 -8.859375 -3.546875 C -8.859375 -1.734375 -7.9375 -0.6875 -5.78125 -0.625 L -5.78125 -1.71875 C -7.28125 -1.8125 -7.90625 -2.421875 -7.90625 -3.515625 C -7.90625 -4.515625 -7.1875 -5.265625 -6.234375 -5.265625 C -5.53125 -5.265625 -4.9375 -4.84375 -4.484375 -4.0625 L -3.84375 -2.90625 C -2.78125 -1.0625 -1.953125 -0.53125 0 -0.421875 L 0 -6.328125 L -1.09375 -6.328125 L -1.09375 -1.65625 C -1.8125 -1.78125 -2.28125 -2.171875 -2.90625 -3.265625 L -3.59375 -4.515625 C -4.25 -5.75 -5.171875 -6.390625 -6.265625 -6.390625 Z M -6.265625 -6.390625 \"/>\n</symbol>\n<symbol overflow=\"visible\" id=\"glyph1-5\">\n<path style=\"stroke:none;\" d=\"M -2.5 -7.765625 C -3.625 -7.765625 -4.453125 -7.0625 -4.78125 -5.828125 L -5.40625 -3.53125 C -5.6875 -2.4375 -6.046875 -2.03125 -6.75 -2.03125 C -7.671875 -2.03125 -8.359375 -2.84375 -8.359375 -4.078125 C -8.359375 -5.53125 -7.703125 -6.34375 -6.515625 -6.34375 L -6.515625 -7.453125 C -8.296875 -7.453125 -9.34375 -6.21875 -9.34375 -4.109375 C -9.34375 -2.109375 -8.234375 -0.875 -6.59375 -0.875 C -5.46875 -0.875 -4.78125 -1.46875 -4.46875 -2.65625 L -3.859375 -4.921875 C -3.5625 -6.078125 -3.09375 -6.59375 -2.390625 -6.59375 C -1.390625 -6.59375 -0.796875 -5.84375 -0.796875 -4.28125 C -0.796875 -2.546875 -1.65625 -1.703125 -2.96875 -1.703125 L -2.96875 -0.59375 C -0.8125 -0.59375 0.21875 -2.046875 0.21875 -4.203125 C 0.21875 -6.515625 -0.875 -7.765625 -2.5 -7.765625 Z M -2.5 -7.765625 \"/>\n</symbol>\n<symbol overflow=\"visible\" id=\"glyph1-6\">\n<path style=\"stroke:none;\" d=\"M 0 -3.171875 L -0.875 -3.171875 C -0.84375 -3.03125 -0.828125 -2.875 -0.828125 -2.671875 C -0.828125 -2.21875 -0.953125 -2.09375 -1.40625 -2.09375 L -5.703125 -2.09375 L -5.703125 -3.171875 L -6.546875 -3.171875 L -6.546875 -2.09375 L -8.34375 -2.09375 L -8.34375 -1.0625 L -6.546875 -1.0625 L -6.546875 -0.171875 L -5.703125 -0.171875 L -5.703125 -1.0625 L -0.953125 -1.0625 C -0.28125 -1.0625 0.09375 -1.515625 0.09375 -2.328125 C 0.09375 -2.578125 0.0625 -2.828125 0 -3.171875 Z M 0 -3.171875 \"/>\n</symbol>\n<symbol overflow=\"visible\" id=\"glyph1-7\">\n<path style=\"stroke:none;\" d=\"M -5.640625 -4.015625 L -6.703125 -4.015625 C -6.71875 -3.84375 -6.734375 -3.75 -6.734375 -3.609375 C -6.734375 -2.9375 -6.34375 -2.421875 -5.359375 -1.828125 L -6.546875 -1.828125 L -6.546875 -0.875 L 0 -0.875 L 0 -1.90625 L -3.40625 -1.90625 C -4.875 -1.90625 -5.609375 -2.40625 -5.640625 -4.015625 Z M -5.640625 -4.015625 \"/>\n</symbol>\n<symbol overflow=\"visible\" id=\"glyph1-8\">\n<path style=\"stroke:none;\" d=\"M -2.96875 -6.40625 C -3.921875 -6.40625 -4.53125 -6.34375 -5.015625 -6.15625 C -6.09375 -5.71875 -6.734375 -4.71875 -6.734375 -3.5 C -6.734375 -1.671875 -5.390625 -0.5 -3.234375 -0.5 C -1.09375 -0.5 0.1875 -1.640625 0.1875 -3.46875 C 0.1875 -4.96875 -0.65625 -6.015625 -1.984375 -6.28125 L -1.984375 -5.21875 C -1.125 -4.9375 -0.78125 -4.34375 -0.78125 -3.515625 C -0.78125 -2.421875 -1.46875 -1.609375 -2.96875 -1.59375 Z M -3.90625 -5.296875 C -3.90625 -5.296875 -3.84375 -5.296875 -3.828125 -5.28125 L -3.828125 -1.609375 C -4.984375 -1.703125 -5.78125 -2.4375 -5.78125 -3.484375 C -5.78125 -4.515625 -4.921875 -5.296875 -3.90625 -5.296875 Z M -3.90625 -5.296875 \"/>\n</symbol>\n<symbol overflow=\"visible\" id=\"glyph1-9\">\n<path style=\"stroke:none;\" d=\"M -1.84375 -5.734375 C -2.8125 -5.734375 -3.296875 -5.1875 -3.609375 -3.890625 L -3.84375 -2.890625 C -4.046875 -2.03125 -4.328125 -1.671875 -4.78125 -1.671875 C -5.390625 -1.671875 -5.78125 -2.21875 -5.78125 -3.0625 C -5.78125 -3.90625 -5.40625 -4.34375 -4.71875 -4.375 L -4.71875 -5.46875 C -6.015625 -5.46875 -6.734375 -4.609375 -6.734375 -3.09375 C -6.734375 -1.578125 -5.953125 -0.59375 -4.734375 -0.59375 C -3.71875 -0.59375 -3.21875 -1.109375 -2.84375 -2.65625 L -2.609375 -3.640625 C -2.4375 -4.359375 -2.21875 -4.65625 -1.75 -4.65625 C -1.140625 -4.65625 -0.78125 -4.03125 -0.78125 -3.125 C -0.78125 -2.1875 -1 -1.65625 -2 -1.53125 L -2 -0.421875 C -0.484375 -0.46875 0.1875 -1.328125 0.1875 -3.03125 C 0.1875 -4.6875 -0.578125 -5.734375 -1.84375 -5.734375 Z M -1.84375 -5.734375 \"/>\n</symbol>\n</g>\n</defs>\n<g id=\"surface90\">\n<rect x=\"0\" y=\"0\" width=\"504\" height=\"504\" style=\"fill:rgb(100%,100%,100%);fill-opacity:1;stroke:none;\"/>\n<path style=\" stroke:none;fill-rule:nonzero;fill:rgb(0%,68.627451%,73.333333%);fill-opacity:1;\" d=\"M 84 351.277344 L 160.800781 351.277344 L 160.800781 269.371094 L 84 269.371094 Z M 84 351.277344 \"/>\n<path style=\"fill:none;stroke-width:3;stroke-linecap:butt;stroke-linejoin:round;stroke:rgb(0%,0%,0%);stroke-opacity:1;stroke-miterlimit:10;\" d=\"M 84 285.753906 L 160.800781 285.753906 \"/>\n<path style=\"fill:none;stroke-width:1;stroke-linecap:round;stroke-linejoin:round;stroke:rgb(0%,0%,0%);stroke-opacity:1;stroke-dasharray:4,4;stroke-miterlimit:10;\" d=\"M 122.398438 416.800781 L 122.398438 351.277344 \"/>\n<path style=\"fill:none;stroke-width:1;stroke-linecap:round;stroke-linejoin:round;stroke:rgb(0%,0%,0%);stroke-opacity:1;stroke-dasharray:4,4;stroke-miterlimit:10;\" d=\"M 122.398438 154.703125 L 122.398438 269.371094 \"/>\n<path style=\"fill:none;stroke-width:1;stroke-linecap:round;stroke-linejoin:round;stroke:rgb(0%,0%,0%);stroke-opacity:1;stroke-miterlimit:10;\" d=\"M 103.199219 416.800781 L 141.601562 416.800781 \"/>\n<path style=\"fill:none;stroke-width:1;stroke-linecap:round;stroke-linejoin:round;stroke:rgb(0%,0%,0%);stroke-opacity:1;stroke-miterlimit:10;\" d=\"M 103.199219 154.703125 L 141.601562 154.703125 \"/>\n<path style=\"fill:none;stroke-width:1;stroke-linecap:round;stroke-linejoin:round;stroke:rgb(0%,0%,0%);stroke-opacity:1;stroke-miterlimit:10;\" d=\"M 84 351.277344 L 160.800781 351.277344 L 160.800781 269.371094 L 84 269.371094 L 84 351.277344 \"/>\n<path style=\" stroke:none;fill-rule:nonzero;fill:rgb(90.588235%,72.156863%,0%);fill-opacity:1;\" d=\"M 180 302.132812 L 256.800781 302.132812 L 256.800781 236.609375 L 180 236.609375 Z M 180 302.132812 \"/>\n<path style=\"fill:none;stroke-width:3;stroke-linecap:butt;stroke-linejoin:round;stroke:rgb(0%,0%,0%);stroke-opacity:1;stroke-miterlimit:10;\" d=\"M 180 269.371094 L 256.800781 269.371094 \"/>\n<path style=\"fill:none;stroke-width:1;stroke-linecap:round;stroke-linejoin:round;stroke:rgb(0%,0%,0%);stroke-opacity:1;stroke-dasharray:4,4;stroke-miterlimit:10;\" d=\"M 218.398438 400.417969 L 218.398438 302.132812 \"/>\n<path style=\"fill:none;stroke-width:1;stroke-linecap:round;stroke-linejoin:round;stroke:rgb(0%,0%,0%);stroke-opacity:1;stroke-dasharray:4,4;stroke-miterlimit:10;\" d=\"M 218.398438 138.324219 L 218.398438 236.609375 \"/>\n<path style=\"fill:none;stroke-width:1;stroke-linecap:round;stroke-linejoin:round;stroke:rgb(0%,0%,0%);stroke-opacity:1;stroke-miterlimit:10;\" d=\"M 199.199219 400.417969 L 237.601562 400.417969 \"/>\n<path style=\"fill:none;stroke-width:1;stroke-linecap:round;stroke-linejoin:round;stroke:rgb(0%,0%,0%);stroke-opacity:1;stroke-miterlimit:10;\" d=\"M 199.199219 138.324219 L 237.601562 138.324219 \"/>\n<path style=\"fill:none;stroke-width:1;stroke-linecap:round;stroke-linejoin:round;stroke:rgb(0%,0%,0%);stroke-opacity:1;stroke-miterlimit:10;\" d=\"M 180 302.132812 L 256.800781 302.132812 L 256.800781 236.609375 L 180 236.609375 L 180 302.132812 \"/>\n<path style=\"fill:none;stroke-width:1;stroke-linecap:round;stroke-linejoin:round;stroke:rgb(0%,0%,0%);stroke-opacity:1;stroke-miterlimit:10;\" d=\"M 221.601562 105.5625 C 221.601562 109.828125 215.199219 109.828125 215.199219 105.5625 C 215.199219 101.296875 221.601562 101.296875 221.601562 105.5625 \"/>\n<path style=\"fill:none;stroke-width:1;stroke-linecap:round;stroke-linejoin:round;stroke:rgb(0%,0%,0%);stroke-opacity:1;stroke-miterlimit:10;\" d=\"M 221.601562 89.179688 C 221.601562 93.449219 215.199219 93.449219 215.199219 89.179688 C 215.199219 84.914062 221.601562 84.914062 221.601562 89.179688 \"/>\n<path style=\"fill:none;stroke-width:1;stroke-linecap:round;stroke-linejoin:round;stroke:rgb(0%,0%,0%);stroke-opacity:1;stroke-miterlimit:10;\" d=\"M 221.601562 416.800781 C 221.601562 421.066406 215.199219 421.066406 215.199219 416.800781 C 215.199219 412.535156 221.601562 412.535156 221.601562 416.800781 \"/>\n<path style=\" stroke:none;fill-rule:nonzero;fill:rgb(98.823529%,30.588235%,2.745098%);fill-opacity:1;\" d=\"M 276 334.894531 L 352.800781 334.894531 L 352.800781 220.230469 L 276 220.230469 Z M 276 334.894531 \"/>\n<path style=\"fill:none;stroke-width:3;stroke-linecap:butt;stroke-linejoin:round;stroke:rgb(0%,0%,0%);stroke-opacity:1;stroke-miterlimit:10;\" d=\"M 276 285.753906 L 352.800781 285.753906 \"/>\n<path style=\"fill:none;stroke-width:1;stroke-linecap:round;stroke-linejoin:round;stroke:rgb(0%,0%,0%);stroke-opacity:1;stroke-dasharray:4,4;stroke-miterlimit:10;\" d=\"M 314.398438 416.800781 L 314.398438 334.894531 \"/>\n<path style=\"fill:none;stroke-width:1;stroke-linecap:round;stroke-linejoin:round;stroke:rgb(0%,0%,0%);stroke-opacity:1;stroke-dasharray:4,4;stroke-miterlimit:10;\" d=\"M 314.398438 89.179688 L 314.398438 220.230469 \"/>\n<path style=\"fill:none;stroke-width:1;stroke-linecap:round;stroke-linejoin:round;stroke:rgb(0%,0%,0%);stroke-opacity:1;stroke-miterlimit:10;\" d=\"M 295.199219 416.800781 L 333.601562 416.800781 \"/>\n<path style=\"fill:none;stroke-width:1;stroke-linecap:round;stroke-linejoin:round;stroke:rgb(0%,0%,0%);stroke-opacity:1;stroke-miterlimit:10;\" d=\"M 295.199219 89.179688 L 333.601562 89.179688 \"/>\n<path style=\"fill:none;stroke-width:1;stroke-linecap:round;stroke-linejoin:round;stroke:rgb(0%,0%,0%);stroke-opacity:1;stroke-miterlimit:10;\" d=\"M 276 334.894531 L 352.800781 334.894531 L 352.800781 220.230469 L 276 220.230469 L 276 334.894531 \"/>\n<path style=\" stroke:none;fill-rule:nonzero;fill:rgb(0%,100%,0%);fill-opacity:1;\" d=\"M 372 318.515625 L 448.800781 318.515625 L 448.800781 220.230469 L 372 220.230469 Z M 372 318.515625 \"/>\n<path style=\"fill:none;stroke-width:3;stroke-linecap:butt;stroke-linejoin:round;stroke:rgb(0%,0%,0%);stroke-opacity:1;stroke-miterlimit:10;\" d=\"M 372 269.371094 L 448.800781 269.371094 \"/>\n<path style=\"fill:none;stroke-width:1;stroke-linecap:round;stroke-linejoin:round;stroke:rgb(0%,0%,0%);stroke-opacity:1;stroke-dasharray:4,4;stroke-miterlimit:10;\" d=\"M 410.398438 400.417969 L 410.398438 318.515625 \"/>\n<path style=\"fill:none;stroke-width:1;stroke-linecap:round;stroke-linejoin:round;stroke:rgb(0%,0%,0%);stroke-opacity:1;stroke-dasharray:4,4;stroke-miterlimit:10;\" d=\"M 410.398438 72.800781 L 410.398438 220.230469 \"/>\n<path style=\"fill:none;stroke-width:1;stroke-linecap:round;stroke-linejoin:round;stroke:rgb(0%,0%,0%);stroke-opacity:1;stroke-miterlimit:10;\" d=\"M 391.199219 400.417969 L 429.601562 400.417969 \"/>\n<path style=\"fill:none;stroke-width:1;stroke-linecap:round;stroke-linejoin:round;stroke:rgb(0%,0%,0%);stroke-opacity:1;stroke-miterlimit:10;\" d=\"M 391.199219 72.800781 L 429.601562 72.800781 \"/>\n<path style=\"fill:none;stroke-width:1;stroke-linecap:round;stroke-linejoin:round;stroke:rgb(0%,0%,0%);stroke-opacity:1;stroke-miterlimit:10;\" d=\"M 372 318.515625 L 448.800781 318.515625 L 448.800781 220.230469 L 372 220.230469 L 372 318.515625 \"/>\n<path style=\"fill:none;stroke-width:1;stroke-linecap:round;stroke-linejoin:round;stroke:rgb(0%,0%,0%);stroke-opacity:1;stroke-miterlimit:10;\" d=\"M 122.398438 430.558594 L 410.398438 430.558594 \"/>\n<path style=\"fill:none;stroke-width:1;stroke-linecap:round;stroke-linejoin:round;stroke:rgb(0%,0%,0%);stroke-opacity:1;stroke-miterlimit:10;\" d=\"M 122.398438 430.558594 L 122.398438 437.761719 \"/>\n<path style=\"fill:none;stroke-width:1;stroke-linecap:round;stroke-linejoin:round;stroke:rgb(0%,0%,0%);stroke-opacity:1;stroke-miterlimit:10;\" d=\"M 218.398438 430.558594 L 218.398438 437.761719 \"/>\n<path style=\"fill:none;stroke-width:1;stroke-linecap:round;stroke-linejoin:round;stroke:rgb(0%,0%,0%);stroke-opacity:1;stroke-miterlimit:10;\" d=\"M 314.398438 430.558594 L 314.398438 437.761719 \"/>\n<path style=\"fill:none;stroke-width:1;stroke-linecap:round;stroke-linejoin:round;stroke:rgb(0%,0%,0%);stroke-opacity:1;stroke-miterlimit:10;\" d=\"M 410.398438 430.558594 L 410.398438 437.761719 \"/>\n<g style=\"fill:rgb(0%,0%,0%);fill-opacity:1;\">\n  <use xlink:href=\"#glyph0-1\" x=\"94.265625\" y=\"457.921875\"/>\n  <use xlink:href=\"#glyph0-2\" x=\"101.903125\" y=\"457.921875\"/>\n  <use xlink:href=\"#glyph0-3\" x=\"106.065625\" y=\"457.921875\"/>\n  <use xlink:href=\"#glyph0-4\" x=\"113.015625\" y=\"457.921875\"/>\n  <use xlink:href=\"#glyph0-5\" x=\"119.265625\" y=\"457.921875\"/>\n  <use xlink:href=\"#glyph0-6\" x=\"126.215625\" y=\"457.921875\"/>\n  <use xlink:href=\"#glyph0-7\" x=\"136.628125\" y=\"457.921875\"/>\n  <use xlink:href=\"#glyph0-8\" x=\"143.578125\" y=\"457.921875\"/>\n</g>\n<g style=\"fill:rgb(0%,0%,0%);fill-opacity:1;\">\n  <use xlink:href=\"#glyph0-9\" x=\"201.378906\" y=\"457.921875\"/>\n  <use xlink:href=\"#glyph0-10\" x=\"207.628906\" y=\"457.921875\"/>\n  <use xlink:href=\"#glyph0-8\" x=\"214.578906\" y=\"457.921875\"/>\n  <use xlink:href=\"#glyph0-11\" x=\"221.528906\" y=\"457.921875\"/>\n  <use xlink:href=\"#glyph0-12\" x=\"224.303906\" y=\"457.921875\"/>\n  <use xlink:href=\"#glyph0-2\" x=\"231.253906\" y=\"457.921875\"/>\n</g>\n<g style=\"fill:rgb(0%,0%,0%);fill-opacity:1;\">\n  <use xlink:href=\"#glyph0-13\" x=\"296.335938\" y=\"457.921875\"/>\n  <use xlink:href=\"#glyph0-3\" x=\"304.673437\" y=\"457.921875\"/>\n  <use xlink:href=\"#glyph0-8\" x=\"311.623437\" y=\"457.921875\"/>\n  <use xlink:href=\"#glyph0-11\" x=\"318.573437\" y=\"457.921875\"/>\n  <use xlink:href=\"#glyph0-12\" x=\"321.348437\" y=\"457.921875\"/>\n  <use xlink:href=\"#glyph0-2\" x=\"328.298437\" y=\"457.921875\"/>\n</g>\n<g style=\"fill:rgb(0%,0%,0%);fill-opacity:1;\">\n  <use xlink:href=\"#glyph0-13\" x=\"378.09375\" y=\"457.921875\"/>\n  <use xlink:href=\"#glyph0-12\" x=\"386.43125\" y=\"457.921875\"/>\n  <use xlink:href=\"#glyph0-14\" x=\"393.38125\" y=\"457.921875\"/>\n  <use xlink:href=\"#glyph0-5\" x=\"400.33125\" y=\"457.921875\"/>\n  <use xlink:href=\"#glyph0-12\" x=\"407.28125\" y=\"457.921875\"/>\n  <use xlink:href=\"#glyph0-6\" x=\"414.23125\" y=\"457.921875\"/>\n  <use xlink:href=\"#glyph0-12\" x=\"424.64375\" y=\"457.921875\"/>\n  <use xlink:href=\"#glyph0-2\" x=\"431.59375\" y=\"457.921875\"/>\n  <use xlink:href=\"#glyph0-3\" x=\"435.75625\" y=\"457.921875\"/>\n</g>\n<path style=\"fill:none;stroke-width:1;stroke-linecap:round;stroke-linejoin:round;stroke:rgb(0%,0%,0%);stroke-opacity:1;stroke-miterlimit:10;\" d=\"M 59.039062 416.800781 L 59.039062 89.179688 \"/>\n<path style=\"fill:none;stroke-width:1;stroke-linecap:round;stroke-linejoin:round;stroke:rgb(0%,0%,0%);stroke-opacity:1;stroke-miterlimit:10;\" d=\"M 59.039062 416.800781 L 51.839844 416.800781 \"/>\n<path style=\"fill:none;stroke-width:1;stroke-linecap:round;stroke-linejoin:round;stroke:rgb(0%,0%,0%);stroke-opacity:1;stroke-miterlimit:10;\" d=\"M 59.039062 334.894531 L 51.839844 334.894531 \"/>\n<path style=\"fill:none;stroke-width:1;stroke-linecap:round;stroke-linejoin:round;stroke:rgb(0%,0%,0%);stroke-opacity:1;stroke-miterlimit:10;\" d=\"M 59.039062 252.992188 L 51.839844 252.992188 \"/>\n<path style=\"fill:none;stroke-width:1;stroke-linecap:round;stroke-linejoin:round;stroke:rgb(0%,0%,0%);stroke-opacity:1;stroke-miterlimit:10;\" d=\"M 59.039062 171.085938 L 51.839844 171.085938 \"/>\n<path style=\"fill:none;stroke-width:1;stroke-linecap:round;stroke-linejoin:round;stroke:rgb(0%,0%,0%);stroke-opacity:1;stroke-miterlimit:10;\" d=\"M 59.039062 89.179688 L 51.839844 89.179688 \"/>\n<g style=\"fill:rgb(0%,0%,0%);fill-opacity:1;\">\n  <use xlink:href=\"#glyph1-1\" x=\"43.199219\" y=\"420.277344\"/>\n</g>\n<g style=\"fill:rgb(0%,0%,0%);fill-opacity:1;\">\n  <use xlink:href=\"#glyph1-2\" x=\"43.199219\" y=\"338.371094\"/>\n</g>\n<g style=\"fill:rgb(0%,0%,0%);fill-opacity:1;\">\n  <use xlink:href=\"#glyph1-3\" x=\"43.199219\" y=\"259.941406\"/>\n  <use xlink:href=\"#glyph1-1\" x=\"43.199219\" y=\"252.991406\"/>\n</g>\n<g style=\"fill:rgb(0%,0%,0%);fill-opacity:1;\">\n  <use xlink:href=\"#glyph1-3\" x=\"43.199219\" y=\"178.035156\"/>\n  <use xlink:href=\"#glyph1-2\" x=\"43.199219\" y=\"171.085156\"/>\n</g>\n<g style=\"fill:rgb(0%,0%,0%);fill-opacity:1;\">\n  <use xlink:href=\"#glyph1-4\" x=\"43.199219\" y=\"96.128906\"/>\n  <use xlink:href=\"#glyph1-1\" x=\"43.199219\" y=\"89.178906\"/>\n</g>\n<g style=\"fill:rgb(0%,0%,0%);fill-opacity:1;\">\n  <use xlink:href=\"#glyph0-15\" x=\"249.03125\" y=\"486.71875\"/>\n  <use xlink:href=\"#glyph0-2\" x=\"258.75625\" y=\"486.71875\"/>\n  <use xlink:href=\"#glyph0-7\" x=\"262.91875\" y=\"486.71875\"/>\n  <use xlink:href=\"#glyph0-16\" x=\"269.86875\" y=\"486.71875\"/>\n  <use xlink:href=\"#glyph0-3\" x=\"276.81875\" y=\"486.71875\"/>\n</g>\n<g style=\"fill:rgb(0%,0%,0%);fill-opacity:1;\">\n  <use xlink:href=\"#glyph1-5\" x=\"14.398438\" y=\"262.511719\"/>\n  <use xlink:href=\"#glyph1-6\" x=\"14.398438\" y=\"254.174219\"/>\n  <use xlink:href=\"#glyph1-7\" x=\"14.398438\" y=\"250.699219\"/>\n  <use xlink:href=\"#glyph1-8\" x=\"14.398438\" y=\"246.536719\"/>\n  <use xlink:href=\"#glyph1-9\" x=\"14.398438\" y=\"239.586719\"/>\n  <use xlink:href=\"#glyph1-9\" x=\"14.398438\" y=\"233.336719\"/>\n</g>\n</g>\n</svg>\n"
     },
     "execution_count": 5,
     "metadata": {
      "image/svg+xml": {
       "isolated": true
      }
     },
     "output_type": "execute_result"
    },
    {
     "data": {
      "image/svg+xml": "<?xml version=\"1.0\" encoding=\"UTF-8\"?>\n<svg xmlns=\"http://www.w3.org/2000/svg\" xmlns:xlink=\"http://www.w3.org/1999/xlink\" width=\"504pt\" height=\"504pt\" viewBox=\"0 0 504 504\" version=\"1.1\">\n<defs>\n<g>\n<symbol overflow=\"visible\" id=\"glyph0-0\">\n<path style=\"stroke:none;\" d=\"\"/>\n</symbol>\n<symbol overflow=\"visible\" id=\"glyph0-1\">\n<path style=\"stroke:none;\" d=\"M -2.75 -6.40625 C -4.40625 -6.40625 -5.515625 -5.28125 -5.515625 -3.703125 C -5.515625 -2.828125 -5.171875 -2.140625 -4.53125 -1.65625 C -6.6875 -1.671875 -7.890625 -2.375 -7.890625 -3.640625 C -7.890625 -4.40625 -7.40625 -4.953125 -6.546875 -5.125 L -6.546875 -6.21875 C -8 -6.015625 -8.859375 -5.0625 -8.859375 -3.71875 C -8.859375 -1.65625 -7.125 -0.53125 -4.03125 -0.53125 C -1.28125 -0.53125 0.1875 -1.484375 0.1875 -3.515625 C 0.1875 -5.203125 -1.015625 -6.40625 -2.75 -6.40625 Z M -2.65625 -5.28125 C -1.546875 -5.28125 -0.78125 -4.53125 -0.78125 -3.53125 C -0.78125 -2.5 -1.59375 -1.71875 -2.71875 -1.71875 C -3.828125 -1.71875 -4.53125 -2.46875 -4.53125 -3.5625 C -4.53125 -4.625 -3.84375 -5.28125 -2.65625 -5.28125 Z M -2.65625 -5.28125 \"/>\n</symbol>\n<symbol overflow=\"visible\" id=\"glyph0-2\">\n<path style=\"stroke:none;\" d=\"M -7.75 -6.5 L -8.671875 -6.5 L -8.671875 -0.578125 L -7.59375 -0.578125 L -7.59375 -5.359375 C -5.359375 -3.59375 -2.78125 -2.34375 0 -1.71875 L 0 -2.90625 C -2.859375 -3.390625 -5.53125 -4.640625 -7.75 -6.5 Z M -7.75 -6.5 \"/>\n</symbol>\n<symbol overflow=\"visible\" id=\"glyph0-3\">\n<path style=\"stroke:none;\" d=\"M -2.5 -6.40625 C -3.484375 -6.40625 -4.171875 -5.90625 -4.65625 -4.890625 C -5.21875 -5.796875 -5.65625 -6.09375 -6.5 -6.09375 C -7.890625 -6.09375 -8.859375 -5.015625 -8.859375 -3.4375 C -8.859375 -1.875 -7.890625 -0.78125 -6.5 -0.78125 C -5.671875 -0.78125 -5.21875 -1.078125 -4.65625 -1.96875 C -4.171875 -0.96875 -3.484375 -0.46875 -2.515625 -0.46875 C -0.890625 -0.46875 0.1875 -1.6875 0.1875 -3.4375 C 0.1875 -5.1875 -0.890625 -6.40625 -2.5 -6.40625 Z M -6.46875 -4.96875 C -5.65625 -4.96875 -5.09375 -4.359375 -5.09375 -3.4375 C -5.09375 -2.515625 -5.65625 -1.90625 -6.484375 -1.90625 C -7.34375 -1.90625 -7.890625 -2.515625 -7.890625 -3.4375 C -7.890625 -4.375 -7.34375 -4.96875 -6.46875 -4.96875 Z M -2.484375 -5.28125 C -1.4375 -5.28125 -0.78125 -4.53125 -0.78125 -3.40625 C -0.78125 -2.34375 -1.453125 -1.59375 -2.484375 -1.59375 C -3.53125 -1.59375 -4.171875 -2.34375 -4.171875 -3.4375 C -4.171875 -4.53125 -3.53125 -5.28125 -2.484375 -5.28125 Z M -2.484375 -5.28125 \"/>\n</symbol>\n<symbol overflow=\"visible\" id=\"glyph0-4\">\n<path style=\"stroke:none;\" d=\"M -4.640625 -6.359375 C -7.40625 -6.359375 -8.859375 -5.40625 -8.859375 -3.375 C -8.859375 -1.6875 -7.65625 -0.46875 -5.921875 -0.46875 C -4.28125 -0.46875 -3.15625 -1.59375 -3.15625 -3.203125 C -3.15625 -4.03125 -3.46875 -4.65625 -4.15625 -5.21875 C -1.984375 -5.21875 -0.78125 -4.515625 -0.78125 -3.25 C -0.78125 -2.46875 -1.28125 -1.9375 -2.125 -1.765625 L -2.125 -0.65625 C -0.671875 -0.875 0.1875 -1.828125 0.1875 -3.171875 C 0.1875 -5.25 -1.578125 -6.359375 -4.640625 -6.359375 Z M -5.953125 -5.15625 C -4.859375 -5.15625 -4.140625 -4.40625 -4.140625 -3.328125 C -4.140625 -2.265625 -4.828125 -1.59375 -6.015625 -1.59375 C -7.140625 -1.59375 -7.90625 -2.34375 -7.90625 -3.359375 C -7.90625 -4.390625 -7.09375 -5.15625 -5.953125 -5.15625 Z M -5.953125 -5.15625 \"/>\n</symbol>\n<symbol overflow=\"visible\" id=\"glyph0-5\">\n<path style=\"stroke:none;\" d=\"M 0 -4.34375 L -8.859375 -4.34375 L -8.859375 -3.609375 C -7.5 -3.21875 -7.3125 -2.96875 -7.09375 -1.28125 L -6.3125 -1.28125 L -6.3125 -3.234375 L 0 -3.234375 Z M 0 -4.34375 \"/>\n</symbol>\n<symbol overflow=\"visible\" id=\"glyph0-6\">\n<path style=\"stroke:none;\" d=\"M -4.265625 -6.34375 C -7.34375 -6.34375 -8.859375 -5.359375 -8.859375 -3.4375 C -8.859375 -1.53125 -7.3125 -0.53125 -4.34375 -0.53125 C -1.34375 -0.53125 0.1875 -1.53125 0.1875 -3.4375 C 0.1875 -5.3125 -1.34375 -6.34375 -4.265625 -6.34375 Z M -4.359375 -5.21875 C -1.84375 -5.21875 -0.71875 -4.640625 -0.71875 -3.40625 C -0.71875 -2.25 -1.90625 -1.65625 -4.328125 -1.65625 C -6.75 -1.65625 -7.890625 -2.25 -7.890625 -3.4375 C -7.890625 -4.625 -6.734375 -5.21875 -4.359375 -5.21875 Z M -4.359375 -5.21875 \"/>\n</symbol>\n<symbol overflow=\"visible\" id=\"glyph0-7\">\n<path style=\"stroke:none;\" d=\"M -2.5 -7.765625 C -3.625 -7.765625 -4.453125 -7.0625 -4.78125 -5.828125 L -5.40625 -3.53125 C -5.6875 -2.4375 -6.046875 -2.03125 -6.75 -2.03125 C -7.671875 -2.03125 -8.359375 -2.84375 -8.359375 -4.078125 C -8.359375 -5.53125 -7.703125 -6.34375 -6.515625 -6.34375 L -6.515625 -7.453125 C -8.296875 -7.453125 -9.34375 -6.21875 -9.34375 -4.109375 C -9.34375 -2.109375 -8.234375 -0.875 -6.59375 -0.875 C -5.46875 -0.875 -4.78125 -1.46875 -4.46875 -2.65625 L -3.859375 -4.921875 C -3.5625 -6.078125 -3.09375 -6.59375 -2.390625 -6.59375 C -1.390625 -6.59375 -0.796875 -5.84375 -0.796875 -4.28125 C -0.796875 -2.546875 -1.65625 -1.703125 -2.96875 -1.703125 L -2.96875 -0.59375 C -0.8125 -0.59375 0.21875 -2.046875 0.21875 -4.203125 C 0.21875 -6.515625 -0.875 -7.765625 -2.5 -7.765625 Z M -2.5 -7.765625 \"/>\n</symbol>\n<symbol overflow=\"visible\" id=\"glyph0-8\">\n<path style=\"stroke:none;\" d=\"M 0 -3.171875 L -0.875 -3.171875 C -0.84375 -3.03125 -0.828125 -2.875 -0.828125 -2.671875 C -0.828125 -2.21875 -0.953125 -2.09375 -1.40625 -2.09375 L -5.703125 -2.09375 L -5.703125 -3.171875 L -6.546875 -3.171875 L -6.546875 -2.09375 L -8.34375 -2.09375 L -8.34375 -1.0625 L -6.546875 -1.0625 L -6.546875 -0.171875 L -5.703125 -0.171875 L -5.703125 -1.0625 L -0.953125 -1.0625 C -0.28125 -1.0625 0.09375 -1.515625 0.09375 -2.328125 C 0.09375 -2.578125 0.0625 -2.828125 0 -3.171875 Z M 0 -3.171875 \"/>\n</symbol>\n<symbol overflow=\"visible\" id=\"glyph0-9\">\n<path style=\"stroke:none;\" d=\"M -5.640625 -4.015625 L -6.703125 -4.015625 C -6.71875 -3.84375 -6.734375 -3.75 -6.734375 -3.609375 C -6.734375 -2.9375 -6.34375 -2.421875 -5.359375 -1.828125 L -6.546875 -1.828125 L -6.546875 -0.875 L 0 -0.875 L 0 -1.90625 L -3.40625 -1.90625 C -4.875 -1.90625 -5.609375 -2.40625 -5.640625 -4.015625 Z M -5.640625 -4.015625 \"/>\n</symbol>\n<symbol overflow=\"visible\" id=\"glyph0-10\">\n<path style=\"stroke:none;\" d=\"M -2.96875 -6.40625 C -3.921875 -6.40625 -4.53125 -6.34375 -5.015625 -6.15625 C -6.09375 -5.71875 -6.734375 -4.71875 -6.734375 -3.5 C -6.734375 -1.671875 -5.390625 -0.5 -3.234375 -0.5 C -1.09375 -0.5 0.1875 -1.640625 0.1875 -3.46875 C 0.1875 -4.96875 -0.65625 -6.015625 -1.984375 -6.28125 L -1.984375 -5.21875 C -1.125 -4.9375 -0.78125 -4.34375 -0.78125 -3.515625 C -0.78125 -2.421875 -1.46875 -1.609375 -2.96875 -1.59375 Z M -3.90625 -5.296875 C -3.90625 -5.296875 -3.84375 -5.296875 -3.828125 -5.28125 L -3.828125 -1.609375 C -4.984375 -1.703125 -5.78125 -2.4375 -5.78125 -3.484375 C -5.78125 -4.515625 -4.921875 -5.296875 -3.90625 -5.296875 Z M -3.90625 -5.296875 \"/>\n</symbol>\n<symbol overflow=\"visible\" id=\"glyph0-11\">\n<path style=\"stroke:none;\" d=\"M -1.84375 -5.734375 C -2.8125 -5.734375 -3.296875 -5.1875 -3.609375 -3.890625 L -3.84375 -2.890625 C -4.046875 -2.03125 -4.328125 -1.671875 -4.78125 -1.671875 C -5.390625 -1.671875 -5.78125 -2.21875 -5.78125 -3.0625 C -5.78125 -3.90625 -5.40625 -4.34375 -4.71875 -4.375 L -4.71875 -5.46875 C -6.015625 -5.46875 -6.734375 -4.609375 -6.734375 -3.09375 C -6.734375 -1.578125 -5.953125 -0.59375 -4.734375 -0.59375 C -3.71875 -0.59375 -3.21875 -1.109375 -2.84375 -2.65625 L -2.609375 -3.640625 C -2.4375 -4.359375 -2.21875 -4.65625 -1.75 -4.65625 C -1.140625 -4.65625 -0.78125 -4.03125 -0.78125 -3.125 C -0.78125 -2.1875 -1 -1.65625 -2 -1.53125 L -2 -0.421875 C -0.484375 -0.46875 0.1875 -1.328125 0.1875 -3.03125 C 0.1875 -4.6875 -0.578125 -5.734375 -1.84375 -5.734375 Z M -1.84375 -5.734375 \"/>\n</symbol>\n<symbol overflow=\"visible\" id=\"glyph1-0\">\n<path style=\"stroke:none;\" d=\"\"/>\n</symbol>\n<symbol overflow=\"visible\" id=\"glyph1-1\">\n<path style=\"stroke:none;\" d=\"M 11.5625 0 L 11.5625 -10.859375 L 8.203125 -10.859375 L 6.296875 -2.21875 L 4.328125 -10.859375 L 0.984375 -10.859375 L 0.984375 0 L 3.21875 0 L 3.21875 -8.46875 L 5.171875 0 L 7.40625 0 L 9.328125 -8.46875 L 9.328125 0 Z M 11.5625 0 \"/>\n</symbol>\n<symbol overflow=\"visible\" id=\"glyph1-2\">\n<path style=\"stroke:none;\" d=\"M 7.828125 -3.71875 C 7.828125 -6.5 6.421875 -8.1875 4.046875 -8.1875 C 1.75 -8.1875 0.328125 -6.625 0.328125 -3.921875 C 0.328125 -1.34375 1.734375 0.140625 4.015625 0.140625 C 5.8125 0.140625 7.28125 -0.6875 7.734375 -2.265625 L 5.671875 -2.265625 C 5.5 -1.6875 4.84375 -1.453125 4.078125 -1.453125 C 3.09375 -1.453125 2.46875 -1.90625 2.421875 -3.46875 L 7.8125 -3.46875 Z M 5.65625 -4.859375 L 2.4375 -4.859375 C 2.578125 -5.984375 3.09375 -6.59375 4.03125 -6.59375 C 4.921875 -6.59375 5.546875 -6 5.65625 -4.859375 Z M 5.65625 -4.859375 \"/>\n</symbol>\n<symbol overflow=\"visible\" id=\"glyph1-3\">\n<path style=\"stroke:none;\" d=\"M 7.8125 0 L 7.8125 -0.25 C 7.4375 -0.59375 7.328125 -0.8125 7.328125 -1.234375 L 7.328125 -5.703125 C 7.328125 -7.34375 6.21875 -8.1875 4.046875 -8.1875 C 1.859375 -8.1875 0.734375 -7.265625 0.59375 -5.390625 L 2.609375 -5.390625 C 2.71875 -6.234375 3.0625 -6.5 4.078125 -6.5 C 4.890625 -6.5 5.296875 -6.234375 5.296875 -5.6875 C 5.296875 -4.84375 4.671875 -4.9375 3.625 -4.75 L 2.78125 -4.609375 C 1.1875 -4.328125 0.421875 -3.640625 0.421875 -2.171875 C 0.421875 -0.609375 1.515625 0.140625 2.859375 0.140625 C 3.75 0.140625 4.578125 -0.25 5.3125 -1.015625 C 5.3125 -0.59375 5.34375 -0.234375 5.546875 0 Z M 5.296875 -3.4375 C 5.296875 -2.234375 4.703125 -1.546875 3.640625 -1.546875 C 2.9375 -1.546875 2.5 -1.8125 2.5 -2.421875 C 2.5 -3.03125 2.828125 -3.25 3.703125 -3.40625 L 4.40625 -3.546875 C 4.96875 -3.65625 5.046875 -3.6875 5.296875 -3.796875 Z M 5.296875 -3.4375 \"/>\n</symbol>\n<symbol overflow=\"visible\" id=\"glyph1-4\">\n<path style=\"stroke:none;\" d=\"M 8.140625 0 L 8.140625 -5.390625 C 8.140625 -7.171875 7.15625 -8.1875 5.4375 -8.1875 C 4.359375 -8.1875 3.625 -7.78125 3.03125 -6.890625 L 3.03125 -8.046875 L 0.9375 -8.046875 L 0.9375 0 L 3.03125 0 L 3.03125 -4.828125 C 3.03125 -5.78125 3.703125 -6.40625 4.703125 -6.40625 C 5.609375 -6.40625 6.046875 -5.921875 6.046875 -4.96875 L 6.046875 0 Z M 8.140625 0 \"/>\n</symbol>\n<symbol overflow=\"visible\" id=\"glyph1-5\">\n<path style=\"stroke:none;\" d=\"\"/>\n</symbol>\n<symbol overflow=\"visible\" id=\"glyph1-6\">\n<path style=\"stroke:none;\" d=\"M 9.4375 -7.5 C 9.4375 -9.671875 8.203125 -10.859375 5.9375 -10.859375 L 1.140625 -10.859375 L 1.140625 0 L 3.375 0 L 3.375 -3.875 L 6.15625 -3.875 C 8.15625 -3.875 9.4375 -5.296875 9.4375 -7.5 Z M 7.203125 -7.359375 C 7.203125 -6.265625 6.640625 -5.734375 5.453125 -5.734375 L 3.375 -5.734375 L 3.375 -9 L 5.453125 -9 C 6.640625 -9 7.203125 -8.484375 7.203125 -7.359375 Z M 7.203125 -7.359375 \"/>\n</symbol>\n<symbol overflow=\"visible\" id=\"glyph1-7\">\n<path style=\"stroke:none;\" d=\"M 3.078125 0 L 3.078125 -10.859375 L 1 -10.859375 L 1 0 Z M 3.078125 0 \"/>\n</symbol>\n<symbol overflow=\"visible\" id=\"glyph1-8\">\n<path style=\"stroke:none;\" d=\"M 8.484375 -3.96875 C 8.484375 -6.6875 7 -8.1875 4.484375 -8.1875 C 2.03125 -8.1875 0.515625 -6.65625 0.515625 -4.03125 C 0.515625 -1.375 2.03125 0.140625 4.5 0.140625 C 6.953125 0.140625 8.484375 -1.390625 8.484375 -3.96875 Z M 6.390625 -4 C 6.390625 -2.484375 5.625 -1.546875 4.5 -1.546875 C 3.375 -1.546875 2.609375 -2.484375 2.609375 -4.03125 C 2.609375 -5.5625 3.375 -6.5 4.5 -6.5 C 5.65625 -6.5 6.390625 -5.578125 6.390625 -4 Z M 6.390625 -4 \"/>\n</symbol>\n<symbol overflow=\"visible\" id=\"glyph1-9\">\n<path style=\"stroke:none;\" d=\"M 4.484375 0 L 4.484375 -1.453125 C 4.28125 -1.4375 4.15625 -1.421875 4.015625 -1.421875 C 3.453125 -1.421875 3.328125 -1.578125 3.328125 -2.296875 L 3.328125 -6.5 L 4.484375 -6.5 L 4.484375 -7.890625 L 3.328125 -7.890625 L 3.328125 -10.046875 L 1.234375 -10.046875 L 1.234375 -7.890625 L 0.203125 -7.890625 L 0.203125 -6.5 L 1.234375 -6.5 L 1.234375 -1.734375 C 1.234375 -0.46875 1.90625 0.0625 3.28125 0.0625 C 3.734375 0.0625 4.109375 0.015625 4.484375 0 Z M 4.484375 0 \"/>\n</symbol>\n<symbol overflow=\"visible\" id=\"glyph1-10\">\n<path style=\"stroke:none;\" d=\"M 11.421875 -8.046875 L 9.25 -8.046875 L 8.03125 -2.421875 L 6.828125 -8.046875 L 4.734375 -8.046875 L 3.515625 -2.421875 L 2.234375 -8.046875 L 0.078125 -8.046875 L 2.34375 0 L 4.484375 0 L 5.765625 -5.671875 L 6.96875 0 L 9.140625 0 Z M 11.421875 -8.046875 \"/>\n</symbol>\n<symbol overflow=\"visible\" id=\"glyph1-11\">\n<path style=\"stroke:none;\" d=\"M 3.078125 0 L 3.078125 -8.046875 L 1 -8.046875 L 1 0 Z M 3.109375 -9.015625 L 3.109375 -11.109375 L 1.03125 -11.109375 L 1.03125 -9.015625 Z M 3.109375 -9.015625 \"/>\n</symbol>\n<symbol overflow=\"visible\" id=\"glyph1-12\">\n<path style=\"stroke:none;\" d=\"M 8.0625 0 L 8.0625 -5.390625 C 8.0625 -7.28125 6.96875 -8.1875 5.4375 -8.1875 C 4.40625 -8.1875 3.671875 -7.765625 3.078125 -6.890625 L 3.078125 -10.859375 L 1 -10.859375 L 1 0 L 3.078125 0 L 3.078125 -4.828125 C 3.078125 -5.75 3.75 -6.40625 4.703125 -6.40625 C 5.4375 -6.40625 5.984375 -6 5.984375 -4.921875 L 5.984375 0 Z M 8.0625 0 \"/>\n</symbol>\n<symbol overflow=\"visible\" id=\"glyph1-13\">\n<path style=\"stroke:none;\" d=\"M 7.6875 -5.734375 C 7.6875 -9.4375 6.140625 -10.796875 3.984375 -10.796875 C 1.859375 -10.796875 0.421875 -9.390625 0.421875 -7.1875 C 0.421875 -5.015625 1.703125 -3.625 3.578125 -3.625 C 4.515625 -3.625 4.875 -3.84375 5.609375 -4.671875 C 5.609375 -2.65625 5.03125 -1.65625 3.859375 -1.65625 C 3.125 -1.65625 2.625 -2.0625 2.578125 -2.6875 L 0.5625 -2.6875 C 0.609375 -1.0625 1.984375 0.140625 3.796875 0.140625 C 6.453125 0.140625 7.6875 -2 7.6875 -5.734375 Z M 5.5625 -7.1875 C 5.5625 -6.015625 4.90625 -5.34375 3.953125 -5.34375 C 3 -5.34375 2.40625 -6 2.40625 -7.21875 C 2.40625 -8.4375 3 -9.09375 3.921875 -9.09375 C 4.9375 -9.09375 5.5625 -8.421875 5.5625 -7.1875 Z M 5.5625 -7.1875 \"/>\n</symbol>\n<symbol overflow=\"visible\" id=\"glyph1-14\">\n<path style=\"stroke:none;\" d=\"M 7.703125 -3.59375 C 7.703125 -5.75 6.359375 -7.140625 4.40625 -7.140625 C 3.71875 -7.140625 3.1875 -6.96875 2.578125 -6.5 L 2.921875 -8.703125 L 7.296875 -8.703125 L 7.296875 -10.5625 L 1.640625 -10.5625 L 0.703125 -4.6875 L 2.578125 -4.6875 C 2.796875 -5.203125 3.28125 -5.484375 3.921875 -5.484375 C 4.984375 -5.484375 5.625 -4.828125 5.625 -3.546875 C 5.625 -2.3125 4.96875 -1.65625 3.921875 -1.65625 C 3.015625 -1.65625 2.453125 -2.109375 2.453125 -2.96875 L 0.40625 -2.96875 C 0.40625 -1.125 1.828125 0.140625 3.890625 0.140625 C 6.15625 0.140625 7.703125 -1.3125 7.703125 -3.59375 Z M 7.703125 -3.59375 \"/>\n</symbol>\n<symbol overflow=\"visible\" id=\"glyph1-15\">\n<path style=\"stroke:none;\" d=\"M 5.8125 -7.703125 C 5.8125 -9.234375 4.609375 -10.453125 3.078125 -10.453125 C 1.5625 -10.453125 0.328125 -9.234375 0.328125 -7.734375 C 0.328125 -6.25 1.5625 -5.015625 3.078125 -5.015625 C 4.5625 -5.015625 5.8125 -6.25 5.8125 -7.703125 Z M 4.34375 -7.71875 C 4.34375 -7.046875 3.75 -6.484375 3.078125 -6.484375 C 2.375 -6.484375 1.796875 -7.046875 1.796875 -7.734375 C 1.796875 -8.40625 2.375 -8.96875 3.078125 -8.96875 C 3.765625 -8.96875 4.34375 -8.421875 4.34375 -7.71875 Z M 10.3125 -10.5625 L 8.734375 -10.5625 L 2.828125 0.296875 L 4.421875 0.296875 Z M 12.859375 -2.484375 C 12.859375 -4.046875 11.65625 -5.25 10.125 -5.25 C 8.609375 -5.25 7.375 -4.03125 7.375 -2.53125 C 7.375 -1.03125 8.609375 0.1875 10.125 0.1875 C 11.609375 0.1875 12.859375 -1.03125 12.859375 -2.484375 Z M 11.390625 -2.5 C 11.390625 -1.828125 10.8125 -1.265625 10.125 -1.265625 C 9.421875 -1.265625 8.859375 -1.828125 8.859375 -2.515625 C 8.859375 -3.203125 9.421875 -3.765625 10.125 -3.765625 C 10.828125 -3.765625 11.390625 -3.203125 11.390625 -2.5 Z M 11.390625 -2.5 \"/>\n</symbol>\n<symbol overflow=\"visible\" id=\"glyph1-16\">\n<path style=\"stroke:none;\" d=\"M 10.203125 -3.71875 L 8.03125 -3.71875 C 7.90625 -2.328125 7.015625 -1.703125 5.640625 -1.703125 C 3.90625 -1.703125 2.890625 -3.03125 2.890625 -5.390625 C 2.890625 -7.796875 3.953125 -9.140625 5.703125 -9.140625 C 6.921875 -9.140625 7.703125 -8.59375 8.03125 -7.1875 L 10.171875 -7.1875 C 9.96875 -9.6875 8.078125 -11.046875 5.640625 -11.046875 C 2.5625 -11.046875 0.65625 -8.9375 0.65625 -5.421875 C 0.65625 -1.9375 2.546875 0.171875 5.578125 0.171875 C 8.265625 0.171875 10.078125 -1.21875 10.203125 -3.71875 Z M 10.203125 -3.71875 \"/>\n</symbol>\n<symbol overflow=\"visible\" id=\"glyph1-17\">\n<path style=\"stroke:none;\" d=\"M 3.171875 0 L 3.171875 -10.859375 L 0.9375 -10.859375 L 0.9375 0 Z M 3.171875 0 \"/>\n</symbol>\n<symbol overflow=\"visible\" id=\"glyph2-0\">\n<path style=\"stroke:none;\" d=\"\"/>\n</symbol>\n<symbol overflow=\"visible\" id=\"glyph2-1\">\n<path style=\"stroke:none;\" d=\"M 8.859375 0 L 8.859375 -4.8125 L 5.0625 -4.8125 L 5.0625 -3.78125 L 7.84375 -3.78125 L 7.84375 -3.53125 C 7.84375 -1.90625 6.640625 -0.796875 4.96875 -0.796875 C 2.90625 -0.796875 1.71875 -2.296875 1.71875 -4.53125 C 1.71875 -6.765625 2.984375 -8.3125 4.90625 -8.3125 C 6.296875 -8.3125 7.296875 -7.53125 7.546875 -6.34375 L 8.734375 -6.34375 C 8.40625 -8.203125 7.015625 -9.34375 4.921875 -9.34375 C 2.140625 -9.34375 0.546875 -7.1875 0.546875 -4.46875 C 0.546875 -1.65625 2.265625 0.21875 4.71875 0.21875 C 5.96875 0.21875 6.953125 -0.21875 7.84375 -1.203125 L 8.125 0 Z M 8.859375 0 \"/>\n</symbol>\n<symbol overflow=\"visible\" id=\"glyph2-2\">\n<path style=\"stroke:none;\" d=\"M 4.015625 -5.640625 L 4.015625 -6.703125 C 3.84375 -6.71875 3.75 -6.734375 3.609375 -6.734375 C 2.9375 -6.734375 2.421875 -6.34375 1.828125 -5.359375 L 1.828125 -6.546875 L 0.875 -6.546875 L 0.875 0 L 1.90625 0 L 1.90625 -3.40625 C 1.90625 -4.875 2.40625 -5.609375 4.015625 -5.640625 Z M 4.015625 -5.640625 \"/>\n</symbol>\n<symbol overflow=\"visible\" id=\"glyph2-3\">\n<path style=\"stroke:none;\" d=\"M 6.6875 -0.03125 L 6.6875 -0.8125 C 6.578125 -0.78125 6.53125 -0.78125 6.46875 -0.78125 C 6.09375 -0.78125 5.90625 -0.96875 5.90625 -1.296875 L 5.90625 -4.953125 C 5.90625 -6.109375 5.046875 -6.734375 3.4375 -6.734375 C 1.84375 -6.734375 0.875 -6.125 0.8125 -4.609375 L 1.859375 -4.609375 C 1.953125 -5.40625 2.421875 -5.78125 3.40625 -5.78125 C 4.34375 -5.78125 4.859375 -5.421875 4.859375 -4.796875 L 4.859375 -4.53125 C 4.859375 -4.09375 4.59375 -3.90625 3.78125 -3.796875 C 2.296875 -3.609375 2.078125 -3.5625 1.671875 -3.40625 C 0.90625 -3.09375 0.53125 -2.5 0.53125 -1.703125 C 0.53125 -0.515625 1.34375 0.1875 2.671875 0.1875 C 3.515625 0.1875 4.328125 -0.15625 4.90625 -0.78125 C 5.015625 -0.28125 5.46875 0.09375 5.96875 0.09375 C 6.1875 0.09375 6.34375 0.0625 6.6875 -0.03125 Z M 4.859375 -2.265625 C 4.859375 -1.328125 3.90625 -0.71875 2.90625 -0.71875 C 2.09375 -0.71875 1.609375 -1.015625 1.609375 -1.71875 C 1.609375 -2.40625 2.078125 -2.71875 3.1875 -2.875 C 4.28125 -3.03125 4.515625 -3.078125 4.859375 -3.234375 Z M 4.859375 -2.265625 \"/>\n</symbol>\n<symbol overflow=\"visible\" id=\"glyph2-4\">\n<path style=\"stroke:none;\" d=\"M 6.1875 0 L 6.1875 -9.109375 L 5.15625 -9.109375 L 5.15625 -5.71875 C 4.71875 -6.390625 4.015625 -6.734375 3.140625 -6.734375 C 1.4375 -6.734375 0.328125 -5.421875 0.328125 -3.34375 C 0.328125 -1.125 1.40625 0.1875 3.171875 0.1875 C 4.078125 0.1875 4.703125 -0.15625 5.265625 -0.96875 L 5.265625 0 Z M 5.15625 -3.25 C 5.15625 -1.734375 4.421875 -0.78125 3.328125 -0.78125 C 2.171875 -0.78125 1.40625 -1.75 1.40625 -3.28125 C 1.40625 -4.796875 2.171875 -5.765625 3.3125 -5.765625 C 4.4375 -5.765625 5.15625 -4.765625 5.15625 -3.25 Z M 5.15625 -3.25 \"/>\n</symbol>\n<symbol overflow=\"visible\" id=\"glyph2-5\">\n<path style=\"stroke:none;\" d=\"M 6.40625 -2.96875 C 6.40625 -3.921875 6.34375 -4.53125 6.15625 -5.015625 C 5.71875 -6.09375 4.71875 -6.734375 3.5 -6.734375 C 1.671875 -6.734375 0.5 -5.390625 0.5 -3.234375 C 0.5 -1.09375 1.640625 0.1875 3.46875 0.1875 C 4.96875 0.1875 6.015625 -0.65625 6.28125 -1.984375 L 5.21875 -1.984375 C 4.9375 -1.125 4.34375 -0.78125 3.515625 -0.78125 C 2.421875 -0.78125 1.609375 -1.46875 1.59375 -2.96875 Z M 5.296875 -3.90625 C 5.296875 -3.90625 5.296875 -3.84375 5.28125 -3.828125 L 1.609375 -3.828125 C 1.703125 -4.984375 2.4375 -5.78125 3.484375 -5.78125 C 4.515625 -5.78125 5.296875 -4.921875 5.296875 -3.90625 Z M 5.296875 -3.90625 \"/>\n</symbol>\n<symbol overflow=\"visible\" id=\"glyph2-6\">\n<path style=\"stroke:none;\" d=\"M 7.234375 -8.09375 L 7.234375 -9.109375 L 1.125 -9.109375 L 1.125 0 L 2.28125 0 L 2.28125 -4.15625 L 6.640625 -4.15625 L 6.640625 -5.171875 L 2.28125 -5.171875 L 2.28125 -8.09375 Z M 7.234375 -8.09375 \"/>\n</symbol>\n<symbol overflow=\"visible\" id=\"glyph2-7\">\n<path style=\"stroke:none;\" d=\"M 5.734375 -1.84375 C 5.734375 -2.8125 5.1875 -3.296875 3.890625 -3.609375 L 2.890625 -3.84375 C 2.03125 -4.046875 1.671875 -4.328125 1.671875 -4.78125 C 1.671875 -5.390625 2.21875 -5.78125 3.0625 -5.78125 C 3.90625 -5.78125 4.34375 -5.40625 4.375 -4.71875 L 5.46875 -4.71875 C 5.46875 -6.015625 4.609375 -6.734375 3.09375 -6.734375 C 1.578125 -6.734375 0.59375 -5.953125 0.59375 -4.734375 C 0.59375 -3.71875 1.109375 -3.21875 2.65625 -2.84375 L 3.640625 -2.609375 C 4.359375 -2.4375 4.65625 -2.21875 4.65625 -1.75 C 4.65625 -1.140625 4.03125 -0.78125 3.125 -0.78125 C 2.1875 -0.78125 1.65625 -1 1.53125 -2 L 0.421875 -2 C 0.46875 -0.484375 1.328125 0.1875 3.03125 0.1875 C 4.6875 0.1875 5.734375 -0.578125 5.734375 -1.84375 Z M 5.734375 -1.84375 \"/>\n</symbol>\n<symbol overflow=\"visible\" id=\"glyph2-8\">\n<path style=\"stroke:none;\" d=\"M 6.078125 0 L 6.078125 -4.953125 C 6.078125 -6.046875 5.28125 -6.734375 4.015625 -6.734375 C 3.09375 -6.734375 2.53125 -6.453125 1.90625 -5.65625 L 1.90625 -9.109375 L 0.875 -9.109375 L 0.875 0 L 1.90625 0 L 1.90625 -3.609375 C 1.90625 -4.953125 2.609375 -5.828125 3.6875 -5.828125 C 4.421875 -5.828125 5.03125 -5.40625 5.03125 -4.53125 L 5.03125 0 Z M 6.078125 0 \"/>\n</symbol>\n<symbol overflow=\"visible\" id=\"glyph2-9\">\n<path style=\"stroke:none;\" d=\"M 9.5 0 L 9.5 -4.90625 C 9.5 -6.09375 8.84375 -6.734375 7.625 -6.734375 C 6.75 -6.734375 6.21875 -6.46875 5.609375 -5.734375 C 5.21875 -6.4375 4.703125 -6.734375 3.84375 -6.734375 C 2.96875 -6.734375 2.40625 -6.40625 1.84375 -5.625 L 1.84375 -6.546875 L 0.890625 -6.546875 L 0.890625 0 L 1.921875 0 L 1.921875 -4.109375 C 1.921875 -5.0625 2.609375 -5.828125 3.46875 -5.828125 C 4.234375 -5.828125 4.671875 -5.34375 4.671875 -4.515625 L 4.671875 0 L 5.71875 0 L 5.71875 -4.109375 C 5.71875 -5.0625 6.40625 -5.828125 7.265625 -5.828125 C 8.03125 -5.828125 8.46875 -5.34375 8.46875 -4.515625 L 8.46875 0 Z M 9.5 0 \"/>\n</symbol>\n<symbol overflow=\"visible\" id=\"glyph2-10\">\n<path style=\"stroke:none;\" d=\"M 6.09375 0 L 6.09375 -4.953125 C 6.09375 -6.03125 5.28125 -6.734375 4.015625 -6.734375 C 3.03125 -6.734375 2.40625 -6.359375 1.84375 -5.453125 L 1.84375 -6.546875 L 0.875 -6.546875 L 0.875 0 L 1.90625 0 L 1.90625 -3.609375 C 1.90625 -4.953125 2.640625 -5.828125 3.703125 -5.828125 C 4.53125 -5.828125 5.046875 -5.328125 5.046875 -4.53125 L 5.046875 0 Z M 6.09375 0 \"/>\n</symbol>\n<symbol overflow=\"visible\" id=\"glyph2-11\">\n<path style=\"stroke:none;\" d=\"M 5.328125 -2.34375 L 5.328125 -9.109375 L 4.15625 -9.109375 L 4.15625 -2.765625 C 4.15625 -1.265625 3.65625 -0.75 2.765625 -0.75 C 1.890625 -0.75 1.40625 -1.34375 1.40625 -2.40625 L 1.40625 -2.921875 L 0.234375 -2.921875 L 0.234375 -2.1875 C 0.234375 -0.71875 1.15625 0.21875 2.75 0.21875 C 4.34375 0.21875 5.328125 -0.765625 5.328125 -2.34375 Z M 5.328125 -2.34375 \"/>\n</symbol>\n<symbol overflow=\"visible\" id=\"glyph2-12\">\n<path style=\"stroke:none;\" d=\"M 6.03125 0 L 6.03125 -6.546875 L 4.984375 -6.546875 L 4.984375 -2.9375 C 4.984375 -1.59375 4.28125 -0.71875 3.203125 -0.71875 C 2.375 -0.71875 1.84375 -1.21875 1.84375 -2.015625 L 1.84375 -6.546875 L 0.8125 -6.546875 L 0.8125 -1.59375 C 0.8125 -0.515625 1.625 0.1875 2.90625 0.1875 C 3.859375 0.1875 4.46875 -0.15625 5.09375 -1.015625 L 5.09375 0 Z M 6.03125 0 \"/>\n</symbol>\n<symbol overflow=\"visible\" id=\"glyph2-13\">\n<path style=\"stroke:none;\" d=\"M 1.90625 0 L 1.90625 -6.546875 L 0.875 -6.546875 L 0.875 0 Z M 2.046875 -7.53125 L 2.046875 -8.84375 L 0.75 -8.84375 L 0.75 -7.53125 Z M 2.046875 -7.53125 \"/>\n</symbol>\n<symbol overflow=\"visible\" id=\"glyph2-14\">\n<path style=\"stroke:none;\" d=\"M 6.375 -3.21875 C 6.375 -5.484375 5.28125 -6.734375 3.40625 -6.734375 C 1.5625 -6.734375 0.453125 -5.46875 0.453125 -3.28125 C 0.453125 -1.078125 1.546875 0.1875 3.40625 0.1875 C 5.25 0.1875 6.375 -1.078125 6.375 -3.21875 Z M 5.28125 -3.234375 C 5.28125 -1.703125 4.5625 -0.78125 3.40625 -0.78125 C 2.25 -0.78125 1.53125 -1.6875 1.53125 -3.28125 C 1.53125 -4.84375 2.25 -5.78125 3.40625 -5.78125 C 4.59375 -5.78125 5.28125 -4.859375 5.28125 -3.234375 Z M 5.28125 -3.234375 \"/>\n</symbol>\n<symbol overflow=\"visible\" id=\"glyph2-15\">\n<path style=\"stroke:none;\" d=\"M 7.765625 -2.5 C 7.765625 -3.625 7.0625 -4.453125 5.828125 -4.78125 L 3.53125 -5.40625 C 2.4375 -5.6875 2.03125 -6.046875 2.03125 -6.75 C 2.03125 -7.671875 2.84375 -8.359375 4.078125 -8.359375 C 5.53125 -8.359375 6.34375 -7.703125 6.34375 -6.515625 L 7.453125 -6.515625 C 7.453125 -8.296875 6.21875 -9.34375 4.109375 -9.34375 C 2.109375 -9.34375 0.875 -8.234375 0.875 -6.59375 C 0.875 -5.46875 1.46875 -4.78125 2.65625 -4.46875 L 4.921875 -3.859375 C 6.078125 -3.5625 6.59375 -3.09375 6.59375 -2.390625 C 6.59375 -1.390625 5.84375 -0.796875 4.28125 -0.796875 C 2.546875 -0.796875 1.703125 -1.65625 1.703125 -2.96875 L 0.59375 -2.96875 C 0.59375 -0.8125 2.046875 0.21875 4.203125 0.21875 C 6.515625 0.21875 7.765625 -0.875 7.765625 -2.5 Z M 7.765625 -2.5 \"/>\n</symbol>\n<symbol overflow=\"visible\" id=\"glyph2-16\">\n<path style=\"stroke:none;\" d=\"M 6.53125 -3.21875 C 6.53125 -5.40625 5.46875 -6.734375 3.71875 -6.734375 C 2.84375 -6.734375 2.125 -6.34375 1.640625 -5.5625 L 1.640625 -6.546875 L 0.6875 -6.546875 L 0.6875 2.71875 L 1.71875 2.71875 L 1.71875 -0.78125 C 2.28125 -0.109375 2.890625 0.1875 3.734375 0.1875 C 5.421875 0.1875 6.53125 -1.125 6.53125 -3.21875 Z M 5.453125 -3.234375 C 5.453125 -1.75 4.6875 -0.78125 3.546875 -0.78125 C 2.453125 -0.78125 1.71875 -1.6875 1.71875 -3.21875 C 1.71875 -4.765625 2.453125 -5.765625 3.546875 -5.765625 C 4.703125 -5.765625 5.453125 -4.796875 5.453125 -3.234375 Z M 5.453125 -3.234375 \"/>\n</symbol>\n<symbol overflow=\"visible\" id=\"glyph2-17\">\n<path style=\"stroke:none;\" d=\"M 6.453125 -3.84375 L 6.453125 -4.6875 L 0.84375 -4.6875 L 0.84375 -3.84375 Z M 6.453125 -1.5625 L 6.453125 -2.40625 L 0.84375 -2.40625 L 0.84375 -1.5625 Z M 6.453125 -1.5625 \"/>\n</symbol>\n<symbol overflow=\"visible\" id=\"glyph2-18\">\n<path style=\"stroke:none;\" d=\"M 6.5 -2.125 L 6.5 -3.109375 L 5.1875 -3.109375 L 5.1875 -8.859375 L 4.375 -8.859375 L 0.34375 -3.28125 L 0.34375 -2.125 L 4.09375 -2.125 L 4.09375 0 L 5.1875 0 L 5.1875 -2.125 Z M 4.09375 -3.109375 L 1.3125 -3.109375 L 4.09375 -6.984375 Z M 4.09375 -3.109375 \"/>\n</symbol>\n<symbol overflow=\"visible\" id=\"glyph2-19\">\n<path style=\"stroke:none;\" d=\"M 4.34375 0 L 4.34375 -8.859375 L 3.609375 -8.859375 C 3.21875 -7.5 2.96875 -7.3125 1.28125 -7.09375 L 1.28125 -6.3125 L 3.234375 -6.3125 L 3.234375 0 Z M 4.34375 0 \"/>\n</symbol>\n<symbol overflow=\"visible\" id=\"glyph2-20\">\n<path style=\"stroke:none;\" d=\"M 6.40625 -2.75 C 6.40625 -4.40625 5.28125 -5.515625 3.703125 -5.515625 C 2.828125 -5.515625 2.140625 -5.171875 1.65625 -4.53125 C 1.671875 -6.6875 2.375 -7.890625 3.640625 -7.890625 C 4.40625 -7.890625 4.953125 -7.40625 5.125 -6.546875 L 6.21875 -6.546875 C 6.015625 -8 5.0625 -8.859375 3.71875 -8.859375 C 1.65625 -8.859375 0.53125 -7.125 0.53125 -4.03125 C 0.53125 -1.28125 1.484375 0.1875 3.515625 0.1875 C 5.203125 0.1875 6.40625 -1.015625 6.40625 -2.75 Z M 5.28125 -2.65625 C 5.28125 -1.546875 4.53125 -0.78125 3.53125 -0.78125 C 2.5 -0.78125 1.71875 -1.59375 1.71875 -2.71875 C 1.71875 -3.828125 2.46875 -4.53125 3.5625 -4.53125 C 4.625 -4.53125 5.28125 -3.84375 5.28125 -2.65625 Z M 5.28125 -2.65625 \"/>\n</symbol>\n<symbol overflow=\"visible\" id=\"glyph2-21\">\n<path style=\"stroke:none;\" d=\"M 6.359375 -4.640625 C 6.359375 -7.40625 5.40625 -8.859375 3.375 -8.859375 C 1.6875 -8.859375 0.46875 -7.65625 0.46875 -5.921875 C 0.46875 -4.28125 1.59375 -3.15625 3.203125 -3.15625 C 4.03125 -3.15625 4.65625 -3.46875 5.21875 -4.15625 C 5.21875 -1.984375 4.515625 -0.78125 3.25 -0.78125 C 2.46875 -0.78125 1.9375 -1.28125 1.765625 -2.125 L 0.65625 -2.125 C 0.875 -0.671875 1.828125 0.1875 3.171875 0.1875 C 5.25 0.1875 6.359375 -1.578125 6.359375 -4.640625 Z M 5.15625 -5.953125 C 5.15625 -4.859375 4.40625 -4.140625 3.328125 -4.140625 C 2.265625 -4.140625 1.59375 -4.828125 1.59375 -6.015625 C 1.59375 -7.140625 2.34375 -7.90625 3.359375 -7.90625 C 4.390625 -7.90625 5.15625 -7.09375 5.15625 -5.953125 Z M 5.15625 -5.953125 \"/>\n</symbol>\n<symbol overflow=\"visible\" id=\"glyph2-22\">\n<path style=\"stroke:none;\" d=\"M 6.40625 -2.9375 C 6.40625 -4.6875 5.25 -5.84375 3.546875 -5.84375 C 2.921875 -5.84375 2.421875 -5.671875 1.90625 -5.296875 L 2.265625 -7.59375 L 5.953125 -7.59375 L 5.953125 -8.671875 L 1.375 -8.671875 L 0.71875 -4.03125 L 1.71875 -4.03125 C 2.234375 -4.65625 2.65625 -4.859375 3.34375 -4.859375 C 4.53125 -4.859375 5.28125 -4.09375 5.28125 -2.78125 C 5.28125 -1.515625 4.546875 -0.78125 3.34375 -0.78125 C 2.390625 -0.78125 1.796875 -1.28125 1.53125 -2.28125 L 0.4375 -2.28125 C 0.796875 -0.515625 1.796875 0.1875 3.375 0.1875 C 5.15625 0.1875 6.40625 -1.0625 6.40625 -2.9375 Z M 6.40625 -2.9375 \"/>\n</symbol>\n<symbol overflow=\"visible\" id=\"glyph2-23\">\n<path style=\"stroke:none;\" d=\"M 6.5 -7.75 L 6.5 -8.671875 L 0.578125 -8.671875 L 0.578125 -7.59375 L 5.359375 -7.59375 C 3.59375 -5.359375 2.34375 -2.78125 1.71875 0 L 2.90625 0 C 3.390625 -2.859375 4.640625 -5.53125 6.5 -7.75 Z M 6.5 -7.75 \"/>\n</symbol>\n</g>\n</defs>\n<g id=\"surface95\">\n<rect x=\"0\" y=\"0\" width=\"504\" height=\"504\" style=\"fill:rgb(100%,100%,100%);fill-opacity:1;stroke:none;\"/>\n<path style=\"fill:none;stroke-width:1;stroke-linecap:round;stroke-linejoin:round;stroke:rgb(0%,0%,0%);stroke-opacity:1;stroke-miterlimit:10;\" d=\"M 59.039062 406.964844 L 59.039062 87.925781 \"/>\n<path style=\"fill:none;stroke-width:1;stroke-linecap:round;stroke-linejoin:round;stroke:rgb(0%,0%,0%);stroke-opacity:1;stroke-miterlimit:10;\" d=\"M 59.039062 406.964844 L 51.839844 406.964844 \"/>\n<path style=\"fill:none;stroke-width:1;stroke-linecap:round;stroke-linejoin:round;stroke:rgb(0%,0%,0%);stroke-opacity:1;stroke-miterlimit:10;\" d=\"M 59.039062 327.203125 L 51.839844 327.203125 \"/>\n<path style=\"fill:none;stroke-width:1;stroke-linecap:round;stroke-linejoin:round;stroke:rgb(0%,0%,0%);stroke-opacity:1;stroke-miterlimit:10;\" d=\"M 59.039062 247.445312 L 51.839844 247.445312 \"/>\n<path style=\"fill:none;stroke-width:1;stroke-linecap:round;stroke-linejoin:round;stroke:rgb(0%,0%,0%);stroke-opacity:1;stroke-miterlimit:10;\" d=\"M 59.039062 167.683594 L 51.839844 167.683594 \"/>\n<path style=\"fill:none;stroke-width:1;stroke-linecap:round;stroke-linejoin:round;stroke:rgb(0%,0%,0%);stroke-opacity:1;stroke-miterlimit:10;\" d=\"M 59.039062 87.925781 L 51.839844 87.925781 \"/>\n<g style=\"fill:rgb(0%,0%,0%);fill-opacity:1;\">\n  <use xlink:href=\"#glyph0-1\" x=\"43.199219\" y=\"410.441406\"/>\n</g>\n<g style=\"fill:rgb(0%,0%,0%);fill-opacity:1;\">\n  <use xlink:href=\"#glyph0-2\" x=\"43.199219\" y=\"330.679688\"/>\n</g>\n<g style=\"fill:rgb(0%,0%,0%);fill-opacity:1;\">\n  <use xlink:href=\"#glyph0-3\" x=\"43.199219\" y=\"250.921875\"/>\n</g>\n<g style=\"fill:rgb(0%,0%,0%);fill-opacity:1;\">\n  <use xlink:href=\"#glyph0-4\" x=\"43.199219\" y=\"171.160156\"/>\n</g>\n<g style=\"fill:rgb(0%,0%,0%);fill-opacity:1;\">\n  <use xlink:href=\"#glyph0-5\" x=\"43.199219\" y=\"94.875\"/>\n  <use xlink:href=\"#glyph0-6\" x=\"43.199219\" y=\"87.925\"/>\n</g>\n<g style=\"fill:rgb(0%,0%,0%);fill-opacity:1;\">\n  <use xlink:href=\"#glyph1-1\" x=\"187.742188\" y=\"34.949219\"/>\n  <use xlink:href=\"#glyph1-2\" x=\"200.153887\" y=\"34.949219\"/>\n  <use xlink:href=\"#glyph1-3\" x=\"208.438288\" y=\"34.949219\"/>\n  <use xlink:href=\"#glyph1-4\" x=\"216.722688\" y=\"34.949219\"/>\n  <use xlink:href=\"#glyph1-5\" x=\"225.826588\" y=\"34.949219\"/>\n  <use xlink:href=\"#glyph1-6\" x=\"229.968788\" y=\"34.949219\"/>\n  <use xlink:href=\"#glyph1-7\" x=\"239.907088\" y=\"34.949219\"/>\n  <use xlink:href=\"#glyph1-8\" x=\"244.049288\" y=\"34.949219\"/>\n  <use xlink:href=\"#glyph1-9\" x=\"253.153188\" y=\"34.949219\"/>\n  <use xlink:href=\"#glyph1-5\" x=\"258.114888\" y=\"34.949219\"/>\n  <use xlink:href=\"#glyph1-10\" x=\"262.257088\" y=\"34.949219\"/>\n  <use xlink:href=\"#glyph1-11\" x=\"273.849288\" y=\"34.949219\"/>\n  <use xlink:href=\"#glyph1-9\" x=\"277.991488\" y=\"34.949219\"/>\n  <use xlink:href=\"#glyph1-12\" x=\"282.953188\" y=\"34.949219\"/>\n  <use xlink:href=\"#glyph1-5\" x=\"292.057088\" y=\"34.949219\"/>\n  <use xlink:href=\"#glyph1-13\" x=\"296.199288\" y=\"34.949219\"/>\n  <use xlink:href=\"#glyph1-14\" x=\"304.483688\" y=\"34.949219\"/>\n  <use xlink:href=\"#glyph1-15\" x=\"312.768088\" y=\"34.949219\"/>\n  <use xlink:href=\"#glyph1-5\" x=\"326.014188\" y=\"34.949219\"/>\n  <use xlink:href=\"#glyph1-16\" x=\"330.156388\" y=\"34.949219\"/>\n  <use xlink:href=\"#glyph1-17\" x=\"340.914188\" y=\"34.949219\"/>\n</g>\n<g style=\"fill:rgb(0%,0%,0%);fill-opacity:1;\">\n  <use xlink:href=\"#glyph2-1\" x=\"249.03125\" y=\"486.71875\"/>\n  <use xlink:href=\"#glyph2-2\" x=\"258.75625\" y=\"486.71875\"/>\n  <use xlink:href=\"#glyph2-3\" x=\"262.91875\" y=\"486.71875\"/>\n  <use xlink:href=\"#glyph2-4\" x=\"269.86875\" y=\"486.71875\"/>\n  <use xlink:href=\"#glyph2-5\" x=\"276.81875\" y=\"486.71875\"/>\n</g>\n<g style=\"fill:rgb(0%,0%,0%);fill-opacity:1;\">\n  <use xlink:href=\"#glyph0-7\" x=\"14.398438\" y=\"262.511719\"/>\n  <use xlink:href=\"#glyph0-8\" x=\"14.398438\" y=\"254.174219\"/>\n  <use xlink:href=\"#glyph0-9\" x=\"14.398438\" y=\"250.699219\"/>\n  <use xlink:href=\"#glyph0-10\" x=\"14.398438\" y=\"246.536719\"/>\n  <use xlink:href=\"#glyph0-11\" x=\"14.398438\" y=\"239.586719\"/>\n  <use xlink:href=\"#glyph0-11\" x=\"14.398438\" y=\"233.336719\"/>\n</g>\n<path style=\"fill:none;stroke-width:1;stroke-linecap:round;stroke-linejoin:round;stroke:rgb(0%,0%,100%);stroke-opacity:1;stroke-miterlimit:10;\" d=\"M 122.398438 416.800781 L 122.398438 342.660156 \"/>\n<path style=\"fill:none;stroke-width:1;stroke-linecap:round;stroke-linejoin:round;stroke:rgb(0%,0%,100%);stroke-opacity:1;stroke-miterlimit:10;\" d=\"M 117.601562 416.800781 L 127.199219 416.800781 \"/>\n<path style=\"fill:none;stroke-width:1;stroke-linecap:round;stroke-linejoin:round;stroke:rgb(0%,0%,100%);stroke-opacity:1;stroke-miterlimit:10;\" d=\"M 218.398438 249.359375 L 218.398438 171.527344 \"/>\n<path style=\"fill:none;stroke-width:1;stroke-linecap:round;stroke-linejoin:round;stroke:rgb(0%,0%,100%);stroke-opacity:1;stroke-miterlimit:10;\" d=\"M 213.601562 249.359375 L 223.199219 249.359375 \"/>\n<path style=\"fill:none;stroke-width:1;stroke-linecap:round;stroke-linejoin:round;stroke:rgb(0%,0%,100%);stroke-opacity:1;stroke-miterlimit:10;\" d=\"M 314.398438 316.828125 L 314.398438 234.976562 \"/>\n<path style=\"fill:none;stroke-width:1;stroke-linecap:round;stroke-linejoin:round;stroke:rgb(0%,0%,100%);stroke-opacity:1;stroke-miterlimit:10;\" d=\"M 309.601562 316.828125 L 319.199219 316.828125 \"/>\n<path style=\"fill:none;stroke-width:1;stroke-linecap:round;stroke-linejoin:round;stroke:rgb(0%,0%,100%);stroke-opacity:1;stroke-miterlimit:10;\" d=\"M 410.398438 225.921875 L 410.398438 158.980469 \"/>\n<path style=\"fill:none;stroke-width:1;stroke-linecap:round;stroke-linejoin:round;stroke:rgb(0%,0%,100%);stroke-opacity:1;stroke-miterlimit:10;\" d=\"M 405.601562 225.921875 L 415.199219 225.921875 \"/>\n<path style=\"fill:none;stroke-width:1;stroke-linecap:round;stroke-linejoin:round;stroke:rgb(0%,0%,100%);stroke-opacity:1;stroke-miterlimit:10;\" d=\"M 122.398438 249.277344 L 122.398438 323.417969 \"/>\n<path style=\"fill:none;stroke-width:1;stroke-linecap:round;stroke-linejoin:round;stroke:rgb(0%,0%,100%);stroke-opacity:1;stroke-miterlimit:10;\" d=\"M 127.199219 249.277344 L 117.601562 249.277344 \"/>\n<path style=\"fill:none;stroke-width:1;stroke-linecap:round;stroke-linejoin:round;stroke:rgb(0%,0%,100%);stroke-opacity:1;stroke-miterlimit:10;\" d=\"M 218.398438 74.449219 L 218.398438 152.28125 \"/>\n<path style=\"fill:none;stroke-width:1;stroke-linecap:round;stroke-linejoin:round;stroke:rgb(0%,0%,100%);stroke-opacity:1;stroke-miterlimit:10;\" d=\"M 223.199219 74.449219 L 213.601562 74.449219 \"/>\n<path style=\"fill:none;stroke-width:1;stroke-linecap:round;stroke-linejoin:round;stroke:rgb(0%,0%,100%);stroke-opacity:1;stroke-miterlimit:10;\" d=\"M 314.398438 133.882812 L 314.398438 215.734375 \"/>\n<path style=\"fill:none;stroke-width:1;stroke-linecap:round;stroke-linejoin:round;stroke:rgb(0%,0%,100%);stroke-opacity:1;stroke-miterlimit:10;\" d=\"M 319.199219 133.882812 L 309.601562 133.882812 \"/>\n<path style=\"fill:none;stroke-width:1;stroke-linecap:round;stroke-linejoin:round;stroke:rgb(0%,0%,100%);stroke-opacity:1;stroke-miterlimit:10;\" d=\"M 410.398438 72.800781 L 410.398438 139.738281 \"/>\n<path style=\"fill:none;stroke-width:1;stroke-linecap:round;stroke-linejoin:round;stroke:rgb(0%,0%,100%);stroke-opacity:1;stroke-miterlimit:10;\" d=\"M 415.199219 72.800781 L 405.601562 72.800781 \"/>\n<path style=\"fill:none;stroke-width:1;stroke-linecap:round;stroke-linejoin:round;stroke:rgb(0%,0%,0%);stroke-opacity:1;stroke-miterlimit:10;\" d=\"M 125.601562 333.039062 C 125.601562 337.304688 119.199219 337.304688 119.199219 333.039062 C 119.199219 328.773438 125.601562 328.773438 125.601562 333.039062 \"/>\n<path style=\"fill:none;stroke-width:1;stroke-linecap:round;stroke-linejoin:round;stroke:rgb(0%,0%,0%);stroke-opacity:1;stroke-miterlimit:10;\" d=\"M 221.601562 161.902344 C 221.601562 166.171875 215.199219 166.171875 215.199219 161.902344 C 215.199219 157.636719 221.601562 157.636719 221.601562 161.902344 \"/>\n<path style=\"fill:none;stroke-width:1;stroke-linecap:round;stroke-linejoin:round;stroke:rgb(0%,0%,0%);stroke-opacity:1;stroke-miterlimit:10;\" d=\"M 317.601562 225.355469 C 317.601562 229.621094 311.199219 229.621094 311.199219 225.355469 C 311.199219 221.089844 317.601562 221.089844 317.601562 225.355469 \"/>\n<path style=\"fill:none;stroke-width:1;stroke-linecap:round;stroke-linejoin:round;stroke:rgb(0%,0%,0%);stroke-opacity:1;stroke-miterlimit:10;\" d=\"M 413.601562 149.359375 C 413.601562 153.628906 407.199219 153.628906 407.199219 149.359375 C 407.199219 145.09375 413.601562 145.09375 413.601562 149.359375 \"/>\n<path style=\"fill:none;stroke-width:1;stroke-linecap:round;stroke-linejoin:round;stroke:rgb(0%,0%,0%);stroke-opacity:1;stroke-miterlimit:10;\" d=\"M 122.398438 430.558594 L 410.398438 430.558594 \"/>\n<path style=\"fill:none;stroke-width:1;stroke-linecap:round;stroke-linejoin:round;stroke:rgb(0%,0%,0%);stroke-opacity:1;stroke-miterlimit:10;\" d=\"M 122.398438 430.558594 L 122.398438 437.761719 \"/>\n<path style=\"fill:none;stroke-width:1;stroke-linecap:round;stroke-linejoin:round;stroke:rgb(0%,0%,0%);stroke-opacity:1;stroke-miterlimit:10;\" d=\"M 218.398438 430.558594 L 218.398438 437.761719 \"/>\n<path style=\"fill:none;stroke-width:1;stroke-linecap:round;stroke-linejoin:round;stroke:rgb(0%,0%,0%);stroke-opacity:1;stroke-miterlimit:10;\" d=\"M 314.398438 430.558594 L 314.398438 437.761719 \"/>\n<path style=\"fill:none;stroke-width:1;stroke-linecap:round;stroke-linejoin:round;stroke:rgb(0%,0%,0%);stroke-opacity:1;stroke-miterlimit:10;\" d=\"M 410.398438 430.558594 L 410.398438 437.761719 \"/>\n<g style=\"fill:rgb(0%,0%,0%);fill-opacity:1;\">\n  <use xlink:href=\"#glyph2-6\" x=\"94.265625\" y=\"457.921875\"/>\n  <use xlink:href=\"#glyph2-2\" x=\"101.903125\" y=\"457.921875\"/>\n  <use xlink:href=\"#glyph2-5\" x=\"106.065625\" y=\"457.921875\"/>\n  <use xlink:href=\"#glyph2-7\" x=\"113.015625\" y=\"457.921875\"/>\n  <use xlink:href=\"#glyph2-8\" x=\"119.265625\" y=\"457.921875\"/>\n  <use xlink:href=\"#glyph2-9\" x=\"126.215625\" y=\"457.921875\"/>\n  <use xlink:href=\"#glyph2-3\" x=\"136.628125\" y=\"457.921875\"/>\n  <use xlink:href=\"#glyph2-10\" x=\"143.578125\" y=\"457.921875\"/>\n</g>\n<g style=\"fill:rgb(0%,0%,0%);fill-opacity:1;\">\n  <use xlink:href=\"#glyph2-11\" x=\"201.378906\" y=\"457.921875\"/>\n  <use xlink:href=\"#glyph2-12\" x=\"207.628906\" y=\"457.921875\"/>\n  <use xlink:href=\"#glyph2-10\" x=\"214.578906\" y=\"457.921875\"/>\n  <use xlink:href=\"#glyph2-13\" x=\"221.528906\" y=\"457.921875\"/>\n  <use xlink:href=\"#glyph2-14\" x=\"224.303906\" y=\"457.921875\"/>\n  <use xlink:href=\"#glyph2-2\" x=\"231.253906\" y=\"457.921875\"/>\n</g>\n<g style=\"fill:rgb(0%,0%,0%);fill-opacity:1;\">\n  <use xlink:href=\"#glyph2-15\" x=\"296.335938\" y=\"457.921875\"/>\n  <use xlink:href=\"#glyph2-5\" x=\"304.673437\" y=\"457.921875\"/>\n  <use xlink:href=\"#glyph2-10\" x=\"311.623437\" y=\"457.921875\"/>\n  <use xlink:href=\"#glyph2-13\" x=\"318.573437\" y=\"457.921875\"/>\n  <use xlink:href=\"#glyph2-14\" x=\"321.348437\" y=\"457.921875\"/>\n  <use xlink:href=\"#glyph2-2\" x=\"328.298437\" y=\"457.921875\"/>\n</g>\n<g style=\"fill:rgb(0%,0%,0%);fill-opacity:1;\">\n  <use xlink:href=\"#glyph2-15\" x=\"378.09375\" y=\"457.921875\"/>\n  <use xlink:href=\"#glyph2-14\" x=\"386.43125\" y=\"457.921875\"/>\n  <use xlink:href=\"#glyph2-16\" x=\"393.38125\" y=\"457.921875\"/>\n  <use xlink:href=\"#glyph2-8\" x=\"400.33125\" y=\"457.921875\"/>\n  <use xlink:href=\"#glyph2-14\" x=\"407.28125\" y=\"457.921875\"/>\n  <use xlink:href=\"#glyph2-9\" x=\"414.23125\" y=\"457.921875\"/>\n  <use xlink:href=\"#glyph2-14\" x=\"424.64375\" y=\"457.921875\"/>\n  <use xlink:href=\"#glyph2-2\" x=\"431.59375\" y=\"457.921875\"/>\n  <use xlink:href=\"#glyph2-5\" x=\"435.75625\" y=\"457.921875\"/>\n</g>\n<g style=\"fill:rgb(0%,0%,0%);fill-opacity:1;\">\n  <use xlink:href=\"#glyph2-10\" x=\"108.324219\" y=\"427.917969\"/>\n  <use xlink:href=\"#glyph2-17\" x=\"115.274219\" y=\"427.917969\"/>\n  <use xlink:href=\"#glyph2-18\" x=\"122.574219\" y=\"427.917969\"/>\n  <use xlink:href=\"#glyph2-19\" x=\"129.524219\" y=\"427.917969\"/>\n</g>\n<g style=\"fill:rgb(0%,0%,0%);fill-opacity:1;\">\n  <use xlink:href=\"#glyph2-10\" x=\"204.324219\" y=\"427.917969\"/>\n  <use xlink:href=\"#glyph2-17\" x=\"211.274219\" y=\"427.917969\"/>\n  <use xlink:href=\"#glyph2-20\" x=\"218.574219\" y=\"427.917969\"/>\n  <use xlink:href=\"#glyph2-21\" x=\"225.524219\" y=\"427.917969\"/>\n</g>\n<g style=\"fill:rgb(0%,0%,0%);fill-opacity:1;\">\n  <use xlink:href=\"#glyph2-10\" x=\"300.324219\" y=\"427.917969\"/>\n  <use xlink:href=\"#glyph2-17\" x=\"307.274219\" y=\"427.917969\"/>\n  <use xlink:href=\"#glyph2-20\" x=\"314.574219\" y=\"427.917969\"/>\n  <use xlink:href=\"#glyph2-22\" x=\"321.524219\" y=\"427.917969\"/>\n</g>\n<g style=\"fill:rgb(0%,0%,0%);fill-opacity:1;\">\n  <use xlink:href=\"#glyph2-10\" x=\"396.324219\" y=\"427.917969\"/>\n  <use xlink:href=\"#glyph2-17\" x=\"403.274219\" y=\"427.917969\"/>\n  <use xlink:href=\"#glyph2-23\" x=\"410.574219\" y=\"427.917969\"/>\n  <use xlink:href=\"#glyph2-18\" x=\"417.524219\" y=\"427.917969\"/>\n</g>\n<path style=\"fill:none;stroke-width:1;stroke-linecap:round;stroke-linejoin:round;stroke:rgb(0%,0%,0%);stroke-opacity:1;stroke-miterlimit:10;\" d=\"M 122.398438 333.039062 L 218.398438 161.902344 L 314.398438 225.355469 L 410.398438 149.359375 \"/>\n</g>\n</svg>\n"
     },
     "execution_count": 5,
     "metadata": {
      "image/svg+xml": {
       "isolated": true
      }
     },
     "output_type": "execute_result"
    }
   ],
   "source": [
    "boxplot(DassTotal ~ GRADENOPG, data = pol,\n",
    "        xlab = \"Grade\", ylab = \"Stress\",\n",
    "        frame = FALSE, col = c(\"#00AFBB\", \"#E7B800\", \"#FC4E07\", \"green\"))\n",
    "# plotmeans\n",
    "library(\"gplots\")\n",
    "plotmeans(DassTotal ~ GRADENOPG, data = pol, frame = FALSE,\n",
    "          xlab = \"Grade\", ylab = \"Stress\",\n",
    "          main=\"Mean Plot with 95% CI\")"
   ]
  },
  {
   "cell_type": "markdown",
   "metadata": {
    "collapsed": false
   },
   "source": [
    "Let's make sure that we have the right kind of data for an ANOVA:\n",
    "\n",
    "```\n",
    "class(pol$DassTotal)\n",
    "class(pol$GRADENOPG)\n",
    "levels(pol$GRADENOPG)\n",
    "```"
   ]
  },
  {
   "cell_type": "code",
   "execution_count": 6,
   "metadata": {
    "collapsed": false
   },
   "outputs": [
    {
     "data": {
      "text/html": [
       "'integer'"
      ],
      "text/latex": [
       "'integer'"
      ],
      "text/markdown": [
       "'integer'"
      ],
      "text/plain": [
       "[1] \"integer\""
      ]
     },
     "execution_count": 6,
     "metadata": {
     },
     "output_type": "execute_result"
    },
    {
     "data": {
      "text/html": [
       "'factor'"
      ],
      "text/latex": [
       "'factor'"
      ],
      "text/markdown": [
       "'factor'"
      ],
      "text/plain": [
       "[1] \"factor\""
      ]
     },
     "execution_count": 6,
     "metadata": {
     },
     "output_type": "execute_result"
    },
    {
     "data": {
      "text/html": [
       "<ol class=list-inline>\n",
       "\t<li>'Freshman'</li>\n",
       "\t<li>'Junior'</li>\n",
       "\t<li>'Senior'</li>\n",
       "\t<li>'Sophomore'</li>\n",
       "</ol>\n"
      ],
      "text/latex": [
       "\\begin{enumerate*}\n",
       "\\item 'Freshman'\n",
       "\\item 'Junior'\n",
       "\\item 'Senior'\n",
       "\\item 'Sophomore'\n",
       "\\end{enumerate*}\n"
      ],
      "text/markdown": [
       "1. 'Freshman'\n",
       "2. 'Junior'\n",
       "3. 'Senior'\n",
       "4. 'Sophomore'\n",
       "\n",
       "\n"
      ],
      "text/plain": [
       "[1] \"Freshman\"  \"Junior\"    \"Senior\"    \"Sophomore\""
      ]
     },
     "execution_count": 6,
     "metadata": {
     },
     "output_type": "execute_result"
    }
   ],
   "source": [
    "class(pol$DassTotal)\n",
    "class(pol$GRADENOPG)\n",
    "levels(pol$GRADENOPG)"
   ]
  },
  {
   "cell_type": "markdown",
   "metadata": {
    "collapsed": false
   },
   "source": [
    "Now we do the ANOVA and save it in a variable called anov1:\n",
    "\n",
    "```\n",
    "anov1<-aov(pol$DassTotal~pol$GRADENOPG)\n",
    "anov1\n",
    "summary(anov1)\n",
    "```"
   ]
  },
  {
   "cell_type": "code",
   "execution_count": 7,
   "metadata": {
    "collapsed": false
   },
   "outputs": [
    {
     "data": {
      "text/plain": [
       "Call:\n",
       "   aov(formula = pol$DassTotal ~ pol$GRADENOPG)\n",
       "\n",
       "Terms:\n",
       "                pol$GRADENOPG Residuals\n",
       "Sum of Squares        165.877  4483.528\n",
       "Deg. of Freedom             3       245\n",
       "\n",
       "Residual standard error: 4.277863\n",
       "Estimated effects may be unbalanced"
      ]
     },
     "execution_count": 7,
     "metadata": {
     },
     "output_type": "execute_result"
    },
    {
     "data": {
      "text/plain": [
       "               Df Sum Sq Mean Sq F value Pr(>F)  \n",
       "pol$GRADENOPG   3    166   55.29   3.021 0.0304 *\n",
       "Residuals     245   4484   18.30                 \n",
       "---\n",
       "Signif. codes:  0 ‘***’ 0.001 ‘**’ 0.01 ‘*’ 0.05 ‘.’ 0.1 ‘ ’ 1"
      ]
     },
     "execution_count": 7,
     "metadata": {
     },
     "output_type": "execute_result"
    }
   ],
   "source": [
    "anov1<-aov(pol$DassTotal~pol$GRADENOPG)\n",
    "anov1\n",
    "summary(anov1)"
   ]
  },
  {
   "cell_type": "markdown",
   "metadata": {
    "collapsed": false
   },
   "source": [
    "# Your Turn\n",
    "\n",
    "Look at the data in our music experiment. Use an ANOVA to determine if there is a statistical difference between the way that people were able to answer math questions with different kinds of music.\n",
    "\n",
    "First load the data and take a look at it. \n",
    "\n",
    "```\n",
    "music<-read.csv(\"MusicData2.csv\")\n",
    "head(music)\n",
    "```\n"
   ]
  },
  {
   "cell_type": "code",
   "execution_count": 9,
   "metadata": {
    "collapsed": false
   },
   "outputs": [
    {
     "data": {
      "text/html": [
       "<table>\n",
       "<thead>\n",
       "\t<tr><th scope=col>Timestamp</th><th scope=col>Data.Science.Student</th><th scope=col>Test.Subject</th><th scope=col>Addition.Score.Thunderstruck</th><th scope=col>Addition.score.with.My.Girl</th><th scope=col>Addition.score.with.Yes.Indeed</th></tr>\n",
       "</thead>\n",
       "<tbody>\n",
       "\t<tr><td>4/23/2019 9:10:22</td><td>41               </td><td>45               </td><td>50               </td><td>M                </td><td>NA               </td></tr>\n",
       "\t<tr><td>4/23/2019 9:26:08</td><td>39               </td><td>33               </td><td>29               </td><td>M                </td><td>NA               </td></tr>\n",
       "\t<tr><td>4/23/2019 9:27:11</td><td>38               </td><td>45               </td><td>43               </td><td>M                </td><td>NA               </td></tr>\n",
       "\t<tr><td>4/23/2019 9:30:55</td><td>29               </td><td>34               </td><td>20               </td><td>M                </td><td>NA               </td></tr>\n",
       "\t<tr><td>4/23/2019 9:36:45</td><td>30               </td><td>29               </td><td>29               </td><td>M                </td><td>NA               </td></tr>\n",
       "\t<tr><td>4/23/2019 9:37:07</td><td>32               </td><td>39               </td><td>40               </td><td>M                </td><td>NA               </td></tr>\n",
       "</tbody>\n",
       "</table>\n"
      ],
      "text/latex": [
       "\\begin{tabular}{r|llllll}\n",
       " Timestamp & Data.Science.Student & Test.Subject & Addition.Score.Thunderstruck & Addition.score.with.My.Girl & Addition.score.with.Yes.Indeed\\\\\n",
       "\\hline\n",
       "\t 4/23/2019 9:10:22 & 41                & 45                & 50                & M                 & NA               \\\\\n",
       "\t 4/23/2019 9:26:08 & 39                & 33                & 29                & M                 & NA               \\\\\n",
       "\t 4/23/2019 9:27:11 & 38                & 45                & 43                & M                 & NA               \\\\\n",
       "\t 4/23/2019 9:30:55 & 29                & 34                & 20                & M                 & NA               \\\\\n",
       "\t 4/23/2019 9:36:45 & 30                & 29                & 29                & M                 & NA               \\\\\n",
       "\t 4/23/2019 9:37:07 & 32                & 39                & 40                & M                 & NA               \\\\\n",
       "\\end{tabular}\n"
      ],
      "text/markdown": [
       "\n",
       "| Timestamp | Data.Science.Student | Test.Subject | Addition.Score.Thunderstruck | Addition.score.with.My.Girl | Addition.score.with.Yes.Indeed |\n",
       "|---|---|---|---|---|---|\n",
       "| 4/23/2019 9:10:22 | 41                | 45                | 50                | M                 | NA                |\n",
       "| 4/23/2019 9:26:08 | 39                | 33                | 29                | M                 | NA                |\n",
       "| 4/23/2019 9:27:11 | 38                | 45                | 43                | M                 | NA                |\n",
       "| 4/23/2019 9:30:55 | 29                | 34                | 20                | M                 | NA                |\n",
       "| 4/23/2019 9:36:45 | 30                | 29                | 29                | M                 | NA                |\n",
       "| 4/23/2019 9:37:07 | 32                | 39                | 40                | M                 | NA                |\n",
       "\n"
      ],
      "text/plain": [
       "  Timestamp         Data.Science.Student Test.Subject\n",
       "1 4/23/2019 9:10:22 41                   45          \n",
       "2 4/23/2019 9:26:08 39                   33          \n",
       "3 4/23/2019 9:27:11 38                   45          \n",
       "4 4/23/2019 9:30:55 29                   34          \n",
       "5 4/23/2019 9:36:45 30                   29          \n",
       "6 4/23/2019 9:37:07 32                   39          \n",
       "  Addition.Score.Thunderstruck Addition.score.with.My.Girl\n",
       "1 50                           M                          \n",
       "2 29                           M                          \n",
       "3 43                           M                          \n",
       "4 20                           M                          \n",
       "5 29                           M                          \n",
       "6 40                           M                          \n",
       "  Addition.score.with.Yes.Indeed\n",
       "1 NA                            \n",
       "2 NA                            \n",
       "3 NA                            \n",
       "4 NA                            \n",
       "5 NA                            \n",
       "6 NA                            "
      ]
     },
     "execution_count": 9,
     "metadata": {
     },
     "output_type": "execute_result"
    }
   ],
   "source": [
    "music<-read.csv(\"MusicData2.csv\")\n",
    "head(music)"
   ]
  },
  {
   "cell_type": "markdown",
   "metadata": {
    "collapsed": false
   },
   "source": [
    "# Clean the data\n",
    "\n",
    "We need to arrange the data differently. We want there to be a column that is just the score of on the math test and then another column that says what song is being played.\n",
    "So we want the row:\n",
    "\n",
    "|Timestamp|Thunderstruck|My_Girl|Yes_Indeed|Gender|\n",
    "|---------|-------------|-------|----------|------|\n",
    "|4/23/2019 9:10:22|41|45|50|M|\n",
    "\n",
    "to turn into several rows of a new table\n",
    "|Timestamp|Song|Score|Gender|\n",
    "|---------|-------------|----------|------|\n",
    "|4/23/2019 9:10:22|Thunderstruck|41|M|\n",
    "|4/23/2019 9:10:22|My_Girl|45|M|\n",
    "|4/23/2019 9:10:22|Yes_Indeed|50|M|\n",
    "\n",
    "To do this we need the gather function in the ```tidyverse``` library. This function allows you to take the values that are listed under several columns and then list them in a single new column (the \"value\" column) and then record the name of the column that the value came in the \"key\" column.\n",
    "\n",
    "```\n",
    "library(tidyverse)\n",
    "music<-gather(data=music,Thunderstruck, My_Girl,Yes_Indeed, key=\"Song\", value=\"Score\")\n",
    "head(music)\n",
    "```"
   ]
  },
  {
   "cell_type": "code",
   "execution_count": 12,
   "metadata": {
    "collapsed": false
   },
   "outputs": [
    {
     "name": "stderr",
     "output_type": "stream",
     "text": [
      "Warning message:\n",
      "“attributes are not identical across measure variables;\n",
      "they will be dropped”"
     ]
    },
    {
     "data": {
      "text/html": [
       "<table>\n",
       "<thead>\n",
       "\t<tr><th scope=col>Timestamp</th><th scope=col>Data.Science.Student</th><th scope=col>Test.Subject</th><th scope=col>Song</th><th scope=col>Score</th></tr>\n",
       "</thead>\n",
       "<tbody>\n",
       "\t<tr><td>4/23/2019 9:10:22           </td><td>41                          </td><td>45                          </td><td>Addition.Score.Thunderstruck</td><td>50                          </td></tr>\n",
       "\t<tr><td>4/23/2019 9:26:08           </td><td>39                          </td><td>33                          </td><td>Addition.Score.Thunderstruck</td><td>29                          </td></tr>\n",
       "\t<tr><td>4/23/2019 9:27:11           </td><td>38                          </td><td>45                          </td><td>Addition.Score.Thunderstruck</td><td>43                          </td></tr>\n",
       "\t<tr><td>4/23/2019 9:30:55           </td><td>29                          </td><td>34                          </td><td>Addition.Score.Thunderstruck</td><td>20                          </td></tr>\n",
       "\t<tr><td>4/23/2019 9:36:45           </td><td>30                          </td><td>29                          </td><td>Addition.Score.Thunderstruck</td><td>29                          </td></tr>\n",
       "\t<tr><td>4/23/2019 9:37:07           </td><td>32                          </td><td>39                          </td><td>Addition.Score.Thunderstruck</td><td>40                          </td></tr>\n",
       "</tbody>\n",
       "</table>\n"
      ],
      "text/latex": [
       "\\begin{tabular}{r|lllll}\n",
       " Timestamp & Data.Science.Student & Test.Subject & Song & Score\\\\\n",
       "\\hline\n",
       "\t 4/23/2019 9:10:22            & 41                           & 45                           & Addition.Score.Thunderstruck & 50                          \\\\\n",
       "\t 4/23/2019 9:26:08            & 39                           & 33                           & Addition.Score.Thunderstruck & 29                          \\\\\n",
       "\t 4/23/2019 9:27:11            & 38                           & 45                           & Addition.Score.Thunderstruck & 43                          \\\\\n",
       "\t 4/23/2019 9:30:55            & 29                           & 34                           & Addition.Score.Thunderstruck & 20                          \\\\\n",
       "\t 4/23/2019 9:36:45            & 30                           & 29                           & Addition.Score.Thunderstruck & 29                          \\\\\n",
       "\t 4/23/2019 9:37:07            & 32                           & 39                           & Addition.Score.Thunderstruck & 40                          \\\\\n",
       "\\end{tabular}\n"
      ],
      "text/markdown": [
       "\n",
       "| Timestamp | Data.Science.Student | Test.Subject | Song | Score |\n",
       "|---|---|---|---|---|\n",
       "| 4/23/2019 9:10:22            | 41                           | 45                           | Addition.Score.Thunderstruck | 50                           |\n",
       "| 4/23/2019 9:26:08            | 39                           | 33                           | Addition.Score.Thunderstruck | 29                           |\n",
       "| 4/23/2019 9:27:11            | 38                           | 45                           | Addition.Score.Thunderstruck | 43                           |\n",
       "| 4/23/2019 9:30:55            | 29                           | 34                           | Addition.Score.Thunderstruck | 20                           |\n",
       "| 4/23/2019 9:36:45            | 30                           | 29                           | Addition.Score.Thunderstruck | 29                           |\n",
       "| 4/23/2019 9:37:07            | 32                           | 39                           | Addition.Score.Thunderstruck | 40                           |\n",
       "\n"
      ],
      "text/plain": [
       "  Timestamp         Data.Science.Student Test.Subject\n",
       "1 4/23/2019 9:10:22 41                   45          \n",
       "2 4/23/2019 9:26:08 39                   33          \n",
       "3 4/23/2019 9:27:11 38                   45          \n",
       "4 4/23/2019 9:30:55 29                   34          \n",
       "5 4/23/2019 9:36:45 30                   29          \n",
       "6 4/23/2019 9:37:07 32                   39          \n",
       "  Song                         Score\n",
       "1 Addition.Score.Thunderstruck 50   \n",
       "2 Addition.Score.Thunderstruck 29   \n",
       "3 Addition.Score.Thunderstruck 43   \n",
       "4 Addition.Score.Thunderstruck 20   \n",
       "5 Addition.Score.Thunderstruck 29   \n",
       "6 Addition.Score.Thunderstruck 40   "
      ]
     },
     "execution_count": 12,
     "metadata": {
     },
     "output_type": "execute_result"
    }
   ],
   "source": [
    "library(tidyverse)\n",
    "music<-gather(data=music,Addition.Score.Thunderstruck, Addition.score.with.My.Girl,Addition.score.with.Yes.Indeed, key=\"Song\", value=\"Score\")\n",
    "head(music)"
   ]
  },
  {
   "cell_type": "markdown",
   "metadata": {
    "collapsed": false
   },
   "source": [
    "## Your assignment\n",
    "\n",
    "Now that ```music``` is a nice dataset. Please do the following in the given order:\n",
    "\n",
    "For Song:\n",
    "\n",
    "* Create boxplots that compare the distributions of the scores by the song\n",
    "* Write a short analysis of whether the graph supports the idea the songs allow for different results on the addition test.\n",
    "* State the Hypothesis for an ANOVA test\n",
    "* Do an ANOVA analysis\n",
    "* Write a short analysis of whether the ANOVA test supports the idea that the songs allow for different results. Use the p-value given in the ANOVA to support your answer.\n",
    "\n",
    "For Gender:\n",
    "\n",
    "* Create boxplots that compare the distributions of the scores by the song\n",
    "* Write a short analysis of whether the graph supports the idea the songs allow for different results on the addition test.\n",
    "* State the Hypothesis for an ANOVA test\n",
    "* Do an ANOVA analysis\n",
    "* Write a short analysis of whether the ANOVA test supports the idea that the songs allow for different results. Use the p-value given in the ANOVA to support your answer.\n",
    "\n"
   ]
  },
  {
   "cell_type": "code",
   "execution_count": 13,
   "metadata": {
    "collapsed": false
   },
   "outputs": [
    {
     "ename": "ERROR",
     "evalue": "Error in x[floor(d)] + x[ceiling(d)]: non-numeric argument to binary operator\n",
     "output_type": "error",
     "traceback": [
      "Error in x[floor(d)] + x[ceiling(d)]: non-numeric argument to binary operator\nTraceback:\n",
      "1. boxplot(Score ~ Song, data = music, xlab = \"Song\", ylab = \"Score\", \n .     frame = FALSE, col = c(\"#00AFBB\", \"#E7B800\", \"#FC4E07\", \"green\"))",
      "2. boxplot.formula(Score ~ Song, data = music, xlab = \"Song\", ylab = \"Score\", \n .     frame = FALSE, col = c(\"#00AFBB\", \"#E7B800\", \"#FC4E07\", \"green\"))",
      "3. boxplot(split(mf[[response]], mf[-response], drop = drop, sep = sep, \n .     lex.order = lex.order), ...)",
      "4. boxplot.default(split(mf[[response]], mf[-response], drop = drop, \n .     sep = sep, lex.order = lex.order), ...)",
      "5. boxplot.stats(unclass(groups[[i]]), range)",
      "6. stats::fivenum(x, na.rm = TRUE)"
     ]
    }
   ],
   "source": [
    "boxplot(Score ~ Song, data = music,\n",
    "        xlab = \"Song\", ylab = \"Score\",\n",
    "        frame = FALSE, col = c(\"#00AFBB\", \"#E7B800\", \"#FC4E07\", \"green\"))"
   ]
  },
  {
   "cell_type": "code",
   "execution_count": 0,
   "metadata": {
    "collapsed": false
   },
   "outputs": [
   ],
   "source": [
   ]
  }
 ],
 "metadata": {
  "kernelspec": {
   "display_name": "R (SageMath)",
   "language": "r",
   "metadata": {
    "cocalc": {
     "description": "SageMath's R language environment",
     "priority": 0,
     "url": "https://www.sagemath.org/"
    }
   },
   "name": "ir-sage"
  },
  "language_info": {
   "codemirror_mode": "r",
   "file_extension": ".r",
   "mimetype": "text/x-r-source",
   "name": "R",
   "pygments_lexer": "r",
   "version": "3.5.2"
  }
 },
 "nbformat": 4,
 "nbformat_minor": 0
}