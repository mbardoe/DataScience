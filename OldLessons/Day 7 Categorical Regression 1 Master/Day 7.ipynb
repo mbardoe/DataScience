{
 "cells": [
  {
   "cell_type": "markdown",
   "metadata": {
    "collapsed": false
   },
   "source": [
    "# Day 7 Regression with a categorical variable\n",
    "\n",
    "In this data we are looking at the effect of various categorical variables on a continuous quantitative variable. **NOTE: The data in this dataset is not real. It is created for an educational setting.**"
   ]
  },
  {
   "cell_type": "code",
   "execution_count": 4,
   "metadata": {
    "collapsed": false
   },
   "outputs": [
   ],
   "source": [
    "library(dplyr)\n",
    "library(ggplot2)"
   ]
  },
  {
   "cell_type": "code",
   "execution_count": 5,
   "metadata": {
    "collapsed": false
   },
   "outputs": [
   ],
   "source": [
    "exams<-read.csv(\"exams.csv\")"
   ]
  },
  {
   "cell_type": "markdown",
   "metadata": {
    "collapsed": false
   },
   "source": [
    "Let's look at the data using the ```head``` and ```str``` commands."
   ]
  },
  {
   "cell_type": "code",
   "execution_count": 6,
   "metadata": {
    "collapsed": false
   },
   "outputs": [
    {
     "data": {
      "text/html": [
       "<table>\n",
       "<thead><tr><th scope=col>gender</th><th scope=col>race</th><th scope=col>parentaleducation</th><th scope=col>lunch</th><th scope=col>testprep</th><th scope=col>mathscore</th><th scope=col>readingscore</th><th scope=col>writingscore</th></tr></thead>\n",
       "<tbody>\n",
       "\t<tr><td>male              </td><td>group C           </td><td>bachelor's degree </td><td>free/reduced      </td><td>none              </td><td>61                </td><td>65                </td><td>56                </td></tr>\n",
       "\t<tr><td>female            </td><td>group B           </td><td>some high school  </td><td>standard          </td><td>none              </td><td>81                </td><td>88                </td><td>87                </td></tr>\n",
       "\t<tr><td>male              </td><td>group B           </td><td>master's degree   </td><td>standard          </td><td>none              </td><td>85                </td><td>74                </td><td>75                </td></tr>\n",
       "\t<tr><td>male              </td><td>group C           </td><td>associate's degree</td><td>standard          </td><td>completed         </td><td>94                </td><td>91                </td><td>90                </td></tr>\n",
       "\t<tr><td>female            </td><td>group B           </td><td>high school       </td><td>free/reduced      </td><td>none              </td><td>58                </td><td>70                </td><td>65                </td></tr>\n",
       "\t<tr><td>male              </td><td>group D           </td><td>associate's degree</td><td>standard          </td><td>none              </td><td>71                </td><td>65                </td><td>65                </td></tr>\n",
       "</tbody>\n",
       "</table>\n"
      ]
     },
     "execution_count": 6,
     "metadata": {
     },
     "output_type": "execute_result"
    },
    {
     "name": "stdout",
     "output_type": "stream",
     "text": [
      "'data.frame':\t1000 obs. of  8 variables:\n",
      " $ gender           : Factor w/ 2 levels \"female\",\"male\": 2 1 2 2 1 2 1 1 1 1 ...\n",
      " $ race             : Factor w/ 5 levels \"group A\",\"group B\",..: 3 2 2 3 2 4 3 3 4 4 ...\n",
      " $ parentaleducation: Factor w/ 6 levels \"associate's degree\",..: 2 6 4 1 3 1 6 1 6 5 ...\n",
      " $ lunch            : Factor w/ 2 levels \"free/reduced\",..: 1 2 2 2 1 2 2 2 1 1 ...\n",
      " $ testprep         : Factor w/ 2 levels \"completed\",\"none\": 2 2 2 1 2 2 2 1 2 2 ...\n",
      " $ mathscore        : int  61 81 85 94 58 71 63 81 40 62 ...\n",
      " $ readingscore     : int  65 88 74 91 70 65 72 92 50 74 ...\n",
      " $ writingscore     : int  56 87 75 90 65 65 73 92 54 73 ...\n"
     ]
    }
   ],
   "source": [
    "head(exams)\n",
    "str(exams)"
   ]
  },
  {
   "cell_type": "markdown",
   "metadata": {
    "collapsed": false
   },
   "source": [
    "Let's start by investigating the math scores. We would be interested to see if there are any effects by these categorical variables. For ease, let's focus on ```gender```, ```lunch```, and ```testprep```. The easiest way to see if these variables would be important is to make displays of data that would allow our eye to see the relative impact of these variables. Let's do that now, for instance\n",
    "\n",
    "```\n",
    "ggplot(data=exams, aes(x=gender, y=mathscore, group=gender))+geom_boxplot()\n",
    "```\n",
    "\n"
   ]
  },
  {
   "cell_type": "code",
   "execution_count": 7,
   "metadata": {
    "collapsed": false
   },
   "outputs": [
    {
     "data": {
      "image/svg+xml": "<?xml version=\"1.0\" encoding=\"UTF-8\"?>\n<svg xmlns=\"http://www.w3.org/2000/svg\" xmlns:xlink=\"http://www.w3.org/1999/xlink\" width=\"504pt\" height=\"504pt\" viewBox=\"0 0 504 504\" version=\"1.1\">\n<defs>\n<g>\n<symbol overflow=\"visible\" id=\"glyph0-0\">\n<path style=\"stroke:none;\" d=\"\"/>\n</symbol>\n<symbol overflow=\"visible\" id=\"glyph0-1\">\n<path style=\"stroke:none;\" d=\"M 4.75 -4.65625 C 4.75 -5.765625 3.890625 -6.59375 2.640625 -6.59375 C 1.296875 -6.59375 0.515625 -5.90625 0.46875 -4.296875 L 1.28125 -4.296875 C 1.34375 -5.40625 1.796875 -5.875 2.609375 -5.875 C 3.359375 -5.875 3.90625 -5.34375 3.90625 -4.640625 C 3.90625 -4.125 3.609375 -3.671875 3.015625 -3.34375 L 2.171875 -2.859375 C 0.796875 -2.078125 0.390625 -1.453125 0.3125 0 L 4.703125 0 L 4.703125 -0.8125 L 1.234375 -0.8125 C 1.3125 -1.34375 1.625 -1.6875 2.421875 -2.171875 L 3.359375 -2.671875 C 4.28125 -3.15625 4.75 -3.84375 4.75 -4.65625 Z M 4.75 -4.65625 \"/>\n</symbol>\n<symbol overflow=\"visible\" id=\"glyph0-2\">\n<path style=\"stroke:none;\" d=\"M 4.71875 -3.171875 C 4.71875 -5.453125 3.984375 -6.59375 2.5625 -6.59375 C 1.140625 -6.59375 0.40625 -5.4375 0.40625 -3.21875 C 0.40625 -1 1.140625 0.140625 2.5625 0.140625 C 3.953125 0.140625 4.71875 -1 4.71875 -3.171875 Z M 3.875 -3.25 C 3.875 -1.375 3.453125 -0.546875 2.53125 -0.546875 C 1.671875 -0.546875 1.234375 -1.40625 1.234375 -3.21875 C 1.234375 -5.015625 1.671875 -5.859375 2.5625 -5.859375 C 3.4375 -5.859375 3.875 -5.015625 3.875 -3.25 Z M 3.875 -3.25 \"/>\n</symbol>\n<symbol overflow=\"visible\" id=\"glyph0-3\">\n<path style=\"stroke:none;\" d=\"M 4.828125 -1.578125 L 4.828125 -2.3125 L 3.859375 -2.3125 L 3.859375 -6.59375 L 3.25 -6.59375 L 0.265625 -2.4375 L 0.265625 -1.578125 L 3.046875 -1.578125 L 3.046875 0 L 3.859375 0 L 3.859375 -1.578125 Z M 3.046875 -2.3125 L 0.96875 -2.3125 L 3.046875 -5.203125 Z M 3.046875 -2.3125 \"/>\n</symbol>\n<symbol overflow=\"visible\" id=\"glyph0-4\">\n<path style=\"stroke:none;\" d=\"M 4.765625 -2.046875 C 4.765625 -3.265625 3.9375 -4.09375 2.75 -4.09375 C 2.09375 -4.09375 1.59375 -3.84375 1.234375 -3.359375 C 1.25 -4.96875 1.765625 -5.859375 2.703125 -5.859375 C 3.28125 -5.859375 3.6875 -5.5 3.8125 -4.875 L 4.625 -4.875 C 4.46875 -5.953125 3.765625 -6.59375 2.765625 -6.59375 C 1.234375 -6.59375 0.40625 -5.296875 0.40625 -3 C 0.40625 -0.953125 1.109375 0.140625 2.609375 0.140625 C 3.875 0.140625 4.765625 -0.75 4.765625 -2.046875 Z M 3.9375 -1.984375 C 3.9375 -1.15625 3.375 -0.578125 2.625 -0.578125 C 1.859375 -0.578125 1.28125 -1.1875 1.28125 -2.03125 C 1.28125 -2.84375 1.84375 -3.375 2.65625 -3.375 C 3.4375 -3.375 3.9375 -2.859375 3.9375 -1.984375 Z M 3.9375 -1.984375 \"/>\n</symbol>\n<symbol overflow=\"visible\" id=\"glyph0-5\">\n<path style=\"stroke:none;\" d=\"M 4.765625 -1.859375 C 4.765625 -2.59375 4.390625 -3.109375 3.640625 -3.46875 C 4.3125 -3.875 4.53125 -4.21875 4.53125 -4.828125 C 4.53125 -5.859375 3.734375 -6.59375 2.5625 -6.59375 C 1.390625 -6.59375 0.578125 -5.859375 0.578125 -4.828125 C 0.578125 -4.21875 0.796875 -3.890625 1.46875 -3.46875 C 0.71875 -3.109375 0.34375 -2.59375 0.34375 -1.875 C 0.34375 -0.65625 1.25 0.140625 2.5625 0.140625 C 3.859375 0.140625 4.765625 -0.65625 4.765625 -1.859375 Z M 3.703125 -4.8125 C 3.703125 -4.203125 3.25 -3.796875 2.5625 -3.796875 C 1.875 -3.796875 1.40625 -4.203125 1.40625 -4.828125 C 1.40625 -5.453125 1.875 -5.859375 2.5625 -5.859375 C 3.25 -5.859375 3.703125 -5.453125 3.703125 -4.8125 Z M 3.9375 -1.84375 C 3.9375 -1.0625 3.375 -0.578125 2.53125 -0.578125 C 1.734375 -0.578125 1.1875 -1.078125 1.1875 -1.84375 C 1.1875 -2.625 1.734375 -3.109375 2.5625 -3.109375 C 3.375 -3.109375 3.9375 -2.625 3.9375 -1.84375 Z M 3.9375 -1.84375 \"/>\n</symbol>\n<symbol overflow=\"visible\" id=\"glyph0-6\">\n<path style=\"stroke:none;\" d=\"M 3.21875 0 L 3.21875 -6.59375 L 2.6875 -6.59375 C 2.40625 -5.578125 2.21875 -5.4375 0.953125 -5.28125 L 0.953125 -4.6875 L 2.40625 -4.6875 L 2.40625 0 Z M 3.21875 0 \"/>\n</symbol>\n<symbol overflow=\"visible\" id=\"glyph0-7\">\n<path style=\"stroke:none;\" d=\"M 2.40625 -4.234375 L 2.40625 -4.875 L 1.59375 -4.875 L 1.59375 -5.640625 C 1.59375 -5.953125 1.78125 -6.125 2.125 -6.125 C 2.1875 -6.125 2.21875 -6.125 2.40625 -6.125 L 2.40625 -6.765625 C 2.21875 -6.796875 2.125 -6.8125 1.96875 -6.8125 C 1.25 -6.8125 0.8125 -6.390625 0.8125 -5.703125 L 0.8125 -4.875 L 0.171875 -4.875 L 0.171875 -4.234375 L 0.8125 -4.234375 L 0.8125 0 L 1.59375 0 L 1.59375 -4.234375 Z M 2.40625 -4.234375 \"/>\n</symbol>\n<symbol overflow=\"visible\" id=\"glyph0-8\">\n<path style=\"stroke:none;\" d=\"M 4.765625 -2.21875 C 4.765625 -2.921875 4.71875 -3.359375 4.578125 -3.734375 C 4.265625 -4.53125 3.515625 -5.015625 2.609375 -5.015625 C 1.25 -5.015625 0.375 -4 0.375 -2.40625 C 0.375 -0.8125 1.21875 0.140625 2.578125 0.140625 C 3.703125 0.140625 4.46875 -0.5 4.671875 -1.484375 L 3.890625 -1.484375 C 3.671875 -0.84375 3.234375 -0.578125 2.609375 -0.578125 C 1.796875 -0.578125 1.203125 -1.09375 1.1875 -2.21875 Z M 3.9375 -2.90625 C 3.9375 -2.90625 3.9375 -2.859375 3.9375 -2.84375 L 1.203125 -2.84375 C 1.265625 -3.703125 1.8125 -4.296875 2.59375 -4.296875 C 3.359375 -4.296875 3.9375 -3.65625 3.9375 -2.90625 Z M 3.9375 -2.90625 \"/>\n</symbol>\n<symbol overflow=\"visible\" id=\"glyph0-9\">\n<path style=\"stroke:none;\" d=\"M 7.0625 0 L 7.0625 -3.65625 C 7.0625 -4.53125 6.578125 -5.015625 5.671875 -5.015625 C 5.015625 -5.015625 4.625 -4.8125 4.171875 -4.265625 C 3.890625 -4.78125 3.5 -5.015625 2.859375 -5.015625 C 2.21875 -5.015625 1.78125 -4.765625 1.359375 -4.1875 L 1.359375 -4.875 L 0.65625 -4.875 L 0.65625 0 L 1.4375 0 L 1.4375 -3.0625 C 1.4375 -3.765625 1.9375 -4.328125 2.578125 -4.328125 C 3.15625 -4.328125 3.484375 -3.984375 3.484375 -3.359375 L 3.484375 0 L 4.25 0 L 4.25 -3.0625 C 4.25 -3.765625 4.765625 -4.328125 5.40625 -4.328125 C 5.96875 -4.328125 6.296875 -3.96875 6.296875 -3.359375 L 6.296875 0 Z M 7.0625 0 \"/>\n</symbol>\n<symbol overflow=\"visible\" id=\"glyph0-10\">\n<path style=\"stroke:none;\" d=\"M 4.96875 -0.015625 L 4.96875 -0.609375 C 4.890625 -0.578125 4.859375 -0.578125 4.8125 -0.578125 C 4.53125 -0.578125 4.390625 -0.71875 4.390625 -0.96875 L 4.390625 -3.6875 C 4.390625 -4.546875 3.75 -5.015625 2.5625 -5.015625 C 1.375 -5.015625 0.65625 -4.5625 0.609375 -3.4375 L 1.390625 -3.4375 C 1.453125 -4.03125 1.796875 -4.296875 2.53125 -4.296875 C 3.21875 -4.296875 3.609375 -4.03125 3.609375 -3.5625 L 3.609375 -3.359375 C 3.609375 -3.046875 3.421875 -2.90625 2.8125 -2.828125 C 1.703125 -2.6875 1.546875 -2.65625 1.25 -2.53125 C 0.671875 -2.296875 0.390625 -1.859375 0.390625 -1.265625 C 0.390625 -0.375 1 0.140625 1.984375 0.140625 C 2.609375 0.140625 3.21875 -0.125 3.640625 -0.578125 C 3.734375 -0.203125 4.0625 0.0625 4.4375 0.0625 C 4.609375 0.0625 4.71875 0.046875 4.96875 -0.015625 Z M 3.609375 -1.6875 C 3.609375 -0.984375 2.90625 -0.546875 2.15625 -0.546875 C 1.546875 -0.546875 1.203125 -0.75 1.203125 -1.28125 C 1.203125 -1.796875 1.546875 -2.015625 2.375 -2.140625 C 3.1875 -2.25 3.359375 -2.28125 3.609375 -2.40625 Z M 3.609375 -1.6875 \"/>\n</symbol>\n<symbol overflow=\"visible\" id=\"glyph0-11\">\n<path style=\"stroke:none;\" d=\"M 1.40625 0 L 1.40625 -6.78125 L 0.625 -6.78125 L 0.625 0 Z M 1.40625 0 \"/>\n</symbol>\n<symbol overflow=\"visible\" id=\"glyph1-0\">\n<path style=\"stroke:none;\" d=\"\"/>\n</symbol>\n<symbol overflow=\"visible\" id=\"glyph1-1\">\n<path style=\"stroke:none;\" d=\"M 5.625 -0.984375 L 5.625 -6.03125 L 4.734375 -6.03125 L 4.734375 -5.15625 C 4.25 -5.859375 3.671875 -6.203125 2.890625 -6.203125 C 1.375 -6.203125 0.328125 -4.90625 0.328125 -2.953125 C 0.328125 -1.0625 1.40625 0.171875 2.8125 0.171875 C 3.578125 0.171875 4.109375 -0.15625 4.734375 -0.90625 L 4.734375 -0.5 C 4.734375 1.09375 4.078125 1.703125 2.96875 1.703125 C 2.203125 1.703125 1.625 1.421875 1.5 0.6875 L 0.53125 0.6875 C 0.625 1.828125 1.515625 2.5 2.9375 2.5 C 4.8125 2.5 5.625 1.671875 5.625 -0.984375 Z M 4.640625 -2.984375 C 4.640625 -1.546875 4.03125 -0.71875 3.015625 -0.71875 C 1.96875 -0.71875 1.328125 -1.546875 1.328125 -3.015625 C 1.328125 -4.46875 1.984375 -5.3125 3 -5.3125 C 4.03125 -5.3125 4.640625 -4.4375 4.640625 -2.984375 Z M 4.640625 -2.984375 \"/>\n</symbol>\n<symbol overflow=\"visible\" id=\"glyph1-2\">\n<path style=\"stroke:none;\" d=\"M 5.90625 -2.734375 C 5.90625 -3.609375 5.828125 -4.15625 5.65625 -4.609375 C 5.265625 -5.59375 4.34375 -6.203125 3.21875 -6.203125 C 1.546875 -6.203125 0.453125 -4.953125 0.453125 -2.984375 C 0.453125 -1 1.5 0.171875 3.203125 0.171875 C 4.578125 0.171875 5.53125 -0.609375 5.765625 -1.828125 L 4.8125 -1.828125 C 4.546875 -1.03125 4 -0.71875 3.234375 -0.71875 C 2.234375 -0.71875 1.484375 -1.359375 1.453125 -2.734375 Z M 4.875 -3.59375 C 4.875 -3.59375 4.875 -3.546875 4.859375 -3.515625 L 1.484375 -3.515625 C 1.5625 -4.59375 2.25 -5.3125 3.203125 -5.3125 C 4.15625 -5.3125 4.875 -4.53125 4.875 -3.59375 Z M 4.875 -3.59375 \"/>\n</symbol>\n<symbol overflow=\"visible\" id=\"glyph1-3\">\n<path style=\"stroke:none;\" d=\"M 5.59375 0 L 5.59375 -4.546875 C 5.59375 -5.546875 4.859375 -6.203125 3.6875 -6.203125 C 2.796875 -6.203125 2.21875 -5.859375 1.6875 -5.015625 L 1.6875 -6.03125 L 0.8125 -6.03125 L 0.8125 0 L 1.765625 0 L 1.765625 -3.328125 C 1.765625 -4.546875 2.421875 -5.359375 3.40625 -5.359375 C 4.15625 -5.359375 4.640625 -4.90625 4.640625 -4.171875 L 4.640625 0 Z M 5.59375 0 \"/>\n</symbol>\n<symbol overflow=\"visible\" id=\"glyph1-4\">\n<path style=\"stroke:none;\" d=\"M 5.6875 0 L 5.6875 -8.390625 L 4.734375 -8.390625 L 4.734375 -5.265625 C 4.328125 -5.875 3.6875 -6.203125 2.890625 -6.203125 C 1.328125 -6.203125 0.296875 -4.984375 0.296875 -3.078125 C 0.296875 -1.03125 1.296875 0.171875 2.921875 0.171875 C 3.75 0.171875 4.328125 -0.140625 4.84375 -0.890625 L 4.84375 0 Z M 4.734375 -2.984375 C 4.734375 -1.59375 4.078125 -0.71875 3.0625 -0.71875 C 2 -0.71875 1.296875 -1.609375 1.296875 -3.015625 C 1.296875 -4.421875 2 -5.296875 3.046875 -5.296875 C 4.078125 -5.296875 4.734375 -4.375 4.734375 -2.984375 Z M 4.734375 -2.984375 \"/>\n</symbol>\n<symbol overflow=\"visible\" id=\"glyph1-5\">\n<path style=\"stroke:none;\" d=\"M 3.6875 -5.1875 L 3.6875 -6.15625 C 3.53125 -6.1875 3.453125 -6.203125 3.328125 -6.203125 C 2.703125 -6.203125 2.234375 -5.828125 1.671875 -4.9375 L 1.671875 -6.03125 L 0.8125 -6.03125 L 0.8125 0 L 1.765625 0 L 1.765625 -3.125 C 1.765625 -4.484375 2.203125 -5.15625 3.6875 -5.1875 Z M 3.6875 -5.1875 \"/>\n</symbol>\n<symbol overflow=\"visible\" id=\"glyph2-0\">\n<path style=\"stroke:none;\" d=\"\"/>\n</symbol>\n<symbol overflow=\"visible\" id=\"glyph2-1\">\n<path style=\"stroke:none;\" d=\"M 0 -8.734375 L -4.515625 -8.734375 C -5.59375 -8.734375 -6.203125 -8.140625 -6.203125 -7.015625 C -6.203125 -6.203125 -5.953125 -5.734375 -5.28125 -5.15625 C -5.921875 -4.8125 -6.203125 -4.328125 -6.203125 -3.546875 C -6.203125 -2.734375 -5.90625 -2.203125 -5.171875 -1.6875 L -6.03125 -1.6875 L -6.03125 -0.8125 L 0 -0.8125 L 0 -1.765625 L -3.78125 -1.765625 C -4.65625 -1.765625 -5.359375 -2.40625 -5.359375 -3.1875 C -5.359375 -3.90625 -4.921875 -4.296875 -4.15625 -4.296875 L 0 -4.296875 L 0 -5.25 L -3.78125 -5.25 C -4.65625 -5.25 -5.359375 -5.90625 -5.359375 -6.6875 C -5.359375 -7.390625 -4.90625 -7.78125 -4.15625 -7.78125 L 0 -7.78125 Z M 0 -8.734375 \"/>\n</symbol>\n<symbol overflow=\"visible\" id=\"glyph2-2\">\n<path style=\"stroke:none;\" d=\"M -0.015625 -6.15625 L -0.75 -6.15625 C -0.71875 -6.046875 -0.71875 -6 -0.71875 -5.953125 C -0.71875 -5.609375 -0.890625 -5.421875 -1.203125 -5.421875 L -4.546875 -5.421875 C -5.625 -5.421875 -6.203125 -4.640625 -6.203125 -3.15625 C -6.203125 -1.703125 -5.640625 -0.8125 -4.25 -0.75 L -4.25 -1.71875 C -4.984375 -1.796875 -5.3125 -2.234375 -5.3125 -3.125 C -5.3125 -3.984375 -4.984375 -4.46875 -4.421875 -4.46875 L -4.15625 -4.46875 C -3.765625 -4.46875 -3.59375 -4.234375 -3.5 -3.46875 C -3.328125 -2.109375 -3.28125 -1.90625 -3.125 -1.546875 C -2.84375 -0.84375 -2.296875 -0.484375 -1.5625 -0.484375 C -0.46875 -0.484375 0.171875 -1.234375 0.171875 -2.46875 C 0.171875 -3.234375 -0.15625 -3.984375 -0.71875 -4.515625 C -0.25 -4.609375 0.078125 -5.03125 0.078125 -5.5 C 0.078125 -5.6875 0.0625 -5.84375 -0.015625 -6.15625 Z M -2.078125 -4.46875 C -1.21875 -4.46875 -0.671875 -3.59375 -0.671875 -2.671875 C -0.671875 -1.921875 -0.9375 -1.484375 -1.59375 -1.484375 C -2.21875 -1.484375 -2.5 -1.90625 -2.640625 -2.9375 C -2.78125 -3.9375 -2.828125 -4.15625 -2.984375 -4.46875 Z M -2.078125 -4.46875 \"/>\n</symbol>\n<symbol overflow=\"visible\" id=\"glyph2-3\">\n<path style=\"stroke:none;\" d=\"M 0 -2.921875 L -0.8125 -2.921875 C -0.765625 -2.796875 -0.765625 -2.640625 -0.765625 -2.46875 C -0.765625 -2.046875 -0.875 -1.9375 -1.296875 -1.9375 L -5.25 -1.9375 L -5.25 -2.921875 L -6.03125 -2.921875 L -6.03125 -1.9375 L -7.6875 -1.9375 L -7.6875 -0.984375 L -6.03125 -0.984375 L -6.03125 -0.15625 L -5.25 -0.15625 L -5.25 -0.984375 L -0.875 -0.984375 C -0.265625 -0.984375 0.078125 -1.390625 0.078125 -2.140625 C 0.078125 -2.375 0.0625 -2.59375 0 -2.921875 Z M 0 -2.921875 \"/>\n</symbol>\n<symbol overflow=\"visible\" id=\"glyph2-4\">\n<path style=\"stroke:none;\" d=\"M 0 -5.59375 L -4.546875 -5.59375 C -5.5625 -5.59375 -6.203125 -4.859375 -6.203125 -3.6875 C -6.203125 -2.84375 -5.9375 -2.328125 -5.203125 -1.765625 L -8.390625 -1.765625 L -8.390625 -0.8125 L 0 -0.8125 L 0 -1.765625 L -3.328125 -1.765625 C -4.546875 -1.765625 -5.359375 -2.40625 -5.359375 -3.390625 C -5.359375 -4.078125 -4.96875 -4.640625 -4.171875 -4.640625 L 0 -4.640625 Z M 0 -5.59375 \"/>\n</symbol>\n<symbol overflow=\"visible\" id=\"glyph2-5\">\n<path style=\"stroke:none;\" d=\"M -1.6875 -5.28125 C -2.59375 -5.28125 -3.03125 -4.765625 -3.328125 -3.578125 L -3.546875 -2.65625 C -3.71875 -1.875 -3.984375 -1.546875 -4.40625 -1.546875 C -4.953125 -1.546875 -5.3125 -2.03125 -5.3125 -2.8125 C -5.3125 -3.59375 -4.984375 -4 -4.34375 -4.03125 L -4.34375 -5.03125 C -5.53125 -5.03125 -6.203125 -4.25 -6.203125 -2.859375 C -6.203125 -1.453125 -5.46875 -0.546875 -4.359375 -0.546875 C -3.421875 -0.546875 -2.96875 -1.03125 -2.625 -2.453125 L -2.40625 -3.34375 C -2.25 -4.015625 -2.046875 -4.28125 -1.609375 -4.28125 C -1.046875 -4.28125 -0.71875 -3.71875 -0.71875 -2.875 C -0.71875 -2.015625 -0.921875 -1.53125 -1.84375 -1.40625 L -1.84375 -0.390625 C -0.453125 -0.4375 0.171875 -1.21875 0.171875 -2.796875 C 0.171875 -4.3125 -0.53125 -5.28125 -1.6875 -5.28125 Z M -1.6875 -5.28125 \"/>\n</symbol>\n<symbol overflow=\"visible\" id=\"glyph2-6\">\n<path style=\"stroke:none;\" d=\"M -2.0625 -5.484375 L -2.0625 -4.515625 C -1.109375 -4.359375 -0.71875 -3.859375 -0.71875 -3.046875 C -0.71875 -1.984375 -1.53125 -1.359375 -2.953125 -1.359375 C -4.46875 -1.359375 -5.3125 -1.984375 -5.3125 -3.03125 C -5.3125 -3.828125 -4.84375 -4.328125 -4 -4.453125 L -4 -5.421875 C -5.46875 -5.296875 -6.203125 -4.375 -6.203125 -3.03125 C -6.203125 -1.421875 -4.953125 -0.359375 -2.953125 -0.359375 C -1.015625 -0.359375 0.171875 -1.390625 0.171875 -3.03125 C 0.171875 -4.46875 -0.6875 -5.375 -2.0625 -5.484375 Z M -2.0625 -5.484375 \"/>\n</symbol>\n<symbol overflow=\"visible\" id=\"glyph2-7\">\n<path style=\"stroke:none;\" d=\"M -2.96875 -5.859375 C -5.046875 -5.859375 -6.203125 -4.859375 -6.203125 -3.125 C -6.203125 -1.4375 -5.03125 -0.40625 -3.015625 -0.40625 C -0.984375 -0.40625 0.171875 -1.421875 0.171875 -3.140625 C 0.171875 -4.828125 -0.984375 -5.859375 -2.96875 -5.859375 Z M -2.984375 -4.859375 C -1.5625 -4.859375 -0.71875 -4.203125 -0.71875 -3.140625 C -0.71875 -2.0625 -1.546875 -1.421875 -3.015625 -1.421875 C -4.46875 -1.421875 -5.3125 -2.0625 -5.3125 -3.140625 C -5.3125 -4.21875 -4.46875 -4.859375 -2.984375 -4.859375 Z M -2.984375 -4.859375 \"/>\n</symbol>\n<symbol overflow=\"visible\" id=\"glyph2-8\">\n<path style=\"stroke:none;\" d=\"M -5.1875 -3.6875 L -6.15625 -3.6875 C -6.1875 -3.53125 -6.203125 -3.453125 -6.203125 -3.328125 C -6.203125 -2.703125 -5.828125 -2.234375 -4.9375 -1.671875 L -6.03125 -1.671875 L -6.03125 -0.8125 L 0 -0.8125 L 0 -1.765625 L -3.125 -1.765625 C -4.484375 -1.765625 -5.15625 -2.203125 -5.1875 -3.6875 Z M -5.1875 -3.6875 \"/>\n</symbol>\n<symbol overflow=\"visible\" id=\"glyph2-9\">\n<path style=\"stroke:none;\" d=\"M -2.734375 -5.90625 C -3.609375 -5.90625 -4.15625 -5.828125 -4.609375 -5.65625 C -5.59375 -5.265625 -6.203125 -4.34375 -6.203125 -3.21875 C -6.203125 -1.546875 -4.953125 -0.453125 -2.984375 -0.453125 C -1 -0.453125 0.171875 -1.5 0.171875 -3.203125 C 0.171875 -4.578125 -0.609375 -5.53125 -1.828125 -5.765625 L -1.828125 -4.8125 C -1.03125 -4.546875 -0.71875 -4 -0.71875 -3.234375 C -0.71875 -2.234375 -1.359375 -1.484375 -2.734375 -1.453125 Z M -3.59375 -4.875 C -3.59375 -4.875 -3.546875 -4.875 -3.515625 -4.859375 L -3.515625 -1.484375 C -4.59375 -1.5625 -5.3125 -2.25 -5.3125 -3.203125 C -5.3125 -4.15625 -4.53125 -4.875 -3.59375 -4.875 Z M -3.59375 -4.875 \"/>\n</symbol>\n</g>\n<clipPath id=\"clip1\">\n  <path d=\"M 40.046875 5.480469 L 499 5.480469 L 499 470 L 40.046875 470 Z M 40.046875 5.480469 \"/>\n</clipPath>\n<clipPath id=\"clip2\">\n  <path d=\"M 40.046875 390 L 499 390 L 499 392 L 40.046875 392 Z M 40.046875 390 \"/>\n</clipPath>\n<clipPath id=\"clip3\">\n  <path d=\"M 40.046875 286 L 499 286 L 499 288 L 40.046875 288 Z M 40.046875 286 \"/>\n</clipPath>\n<clipPath id=\"clip4\">\n  <path d=\"M 40.046875 182 L 499 182 L 499 184 L 40.046875 184 Z M 40.046875 182 \"/>\n</clipPath>\n<clipPath id=\"clip5\">\n  <path d=\"M 40.046875 78 L 499 78 L 499 80 L 40.046875 80 Z M 40.046875 78 \"/>\n</clipPath>\n<clipPath id=\"clip6\">\n  <path d=\"M 40.046875 442 L 499.519531 442 L 499.519531 445 L 40.046875 445 Z M 40.046875 442 \"/>\n</clipPath>\n<clipPath id=\"clip7\">\n  <path d=\"M 40.046875 338 L 499.519531 338 L 499.519531 340 L 40.046875 340 Z M 40.046875 338 \"/>\n</clipPath>\n<clipPath id=\"clip8\">\n  <path d=\"M 40.046875 234 L 499.519531 234 L 499.519531 236 L 40.046875 236 Z M 40.046875 234 \"/>\n</clipPath>\n<clipPath id=\"clip9\">\n  <path d=\"M 40.046875 130 L 499.519531 130 L 499.519531 132 L 40.046875 132 Z M 40.046875 130 \"/>\n</clipPath>\n<clipPath id=\"clip10\">\n  <path d=\"M 40.046875 25 L 499.519531 25 L 499.519531 28 L 40.046875 28 Z M 40.046875 25 \"/>\n</clipPath>\n<clipPath id=\"clip11\">\n  <path d=\"M 164 5.480469 L 166 5.480469 L 166 470.6875 L 164 470.6875 Z M 164 5.480469 \"/>\n</clipPath>\n<clipPath id=\"clip12\">\n  <path d=\"M 372 5.480469 L 375 5.480469 L 375 470.6875 L 372 470.6875 Z M 372 5.480469 \"/>\n</clipPath>\n</defs>\n<g id=\"surface49\">\n<rect x=\"0\" y=\"0\" width=\"504\" height=\"504\" style=\"fill:rgb(100%,100%,100%);fill-opacity:1;stroke:none;\"/>\n<rect x=\"0\" y=\"0\" width=\"504\" height=\"504\" style=\"fill:rgb(100%,100%,100%);fill-opacity:1;stroke:none;\"/>\n<path style=\"fill:none;stroke-width:1.422638;stroke-linecap:round;stroke-linejoin:round;stroke:rgb(100%,100%,100%);stroke-opacity:1;stroke-miterlimit:10;\" d=\"M 0 0 L 504 0 L 504 504 L 0 504 Z M 0 0 \"/>\n<g clip-path=\"url(#clip1)\" clip-rule=\"nonzero\">\n<path style=\" stroke:none;fill-rule:nonzero;fill:rgb(92.156863%,92.156863%,92.156863%);fill-opacity:1;\" d=\"M 40.046875 5.480469 L 498.519531 5.480469 L 498.519531 469.6875 L 40.046875 469.6875 Z M 40.046875 5.480469 \"/>\n</g>\n<g clip-path=\"url(#clip2)\" clip-rule=\"nonzero\">\n<path style=\"fill:none;stroke-width:0.711319;stroke-linecap:butt;stroke-linejoin:round;stroke:rgb(100%,100%,100%);stroke-opacity:1;stroke-miterlimit:10;\" d=\"M 40.046875 391.277344 L 498.519531 391.277344 \"/>\n</g>\n<g clip-path=\"url(#clip3)\" clip-rule=\"nonzero\">\n<path style=\"fill:none;stroke-width:0.711319;stroke-linecap:butt;stroke-linejoin:round;stroke:rgb(100%,100%,100%);stroke-opacity:1;stroke-miterlimit:10;\" d=\"M 40.046875 287.078125 L 498.519531 287.078125 \"/>\n</g>\n<g clip-path=\"url(#clip4)\" clip-rule=\"nonzero\">\n<path style=\"fill:none;stroke-width:0.711319;stroke-linecap:butt;stroke-linejoin:round;stroke:rgb(100%,100%,100%);stroke-opacity:1;stroke-miterlimit:10;\" d=\"M 40.046875 182.878906 L 498.519531 182.878906 \"/>\n</g>\n<g clip-path=\"url(#clip5)\" clip-rule=\"nonzero\">\n<path style=\"fill:none;stroke-width:0.711319;stroke-linecap:butt;stroke-linejoin:round;stroke:rgb(100%,100%,100%);stroke-opacity:1;stroke-miterlimit:10;\" d=\"M 40.046875 78.679688 L 498.519531 78.679688 \"/>\n</g>\n<g clip-path=\"url(#clip6)\" clip-rule=\"nonzero\">\n<path style=\"fill:none;stroke-width:1.422638;stroke-linecap:butt;stroke-linejoin:round;stroke:rgb(100%,100%,100%);stroke-opacity:1;stroke-miterlimit:10;\" d=\"M 40.046875 443.375 L 498.519531 443.375 \"/>\n</g>\n<g clip-path=\"url(#clip7)\" clip-rule=\"nonzero\">\n<path style=\"fill:none;stroke-width:1.422638;stroke-linecap:butt;stroke-linejoin:round;stroke:rgb(100%,100%,100%);stroke-opacity:1;stroke-miterlimit:10;\" d=\"M 40.046875 339.175781 L 498.519531 339.175781 \"/>\n</g>\n<g clip-path=\"url(#clip8)\" clip-rule=\"nonzero\">\n<path style=\"fill:none;stroke-width:1.422638;stroke-linecap:butt;stroke-linejoin:round;stroke:rgb(100%,100%,100%);stroke-opacity:1;stroke-miterlimit:10;\" d=\"M 40.046875 234.976562 L 498.519531 234.976562 \"/>\n</g>\n<g clip-path=\"url(#clip9)\" clip-rule=\"nonzero\">\n<path style=\"fill:none;stroke-width:1.422638;stroke-linecap:butt;stroke-linejoin:round;stroke:rgb(100%,100%,100%);stroke-opacity:1;stroke-miterlimit:10;\" d=\"M 40.046875 130.777344 L 498.519531 130.777344 \"/>\n</g>\n<g clip-path=\"url(#clip10)\" clip-rule=\"nonzero\">\n<path style=\"fill:none;stroke-width:1.422638;stroke-linecap:butt;stroke-linejoin:round;stroke:rgb(100%,100%,100%);stroke-opacity:1;stroke-miterlimit:10;\" d=\"M 40.046875 26.578125 L 498.519531 26.578125 \"/>\n</g>\n<g clip-path=\"url(#clip11)\" clip-rule=\"nonzero\">\n<path style=\"fill:none;stroke-width:1.422638;stroke-linecap:butt;stroke-linejoin:round;stroke:rgb(100%,100%,100%);stroke-opacity:1;stroke-miterlimit:10;\" d=\"M 165.085938 469.6875 L 165.085938 5.480469 \"/>\n</g>\n<g clip-path=\"url(#clip12)\" clip-rule=\"nonzero\">\n<path style=\"fill:none;stroke-width:1.422638;stroke-linecap:butt;stroke-linejoin:round;stroke:rgb(100%,100%,100%);stroke-opacity:1;stroke-miterlimit:10;\" d=\"M 373.480469 469.6875 L 373.480469 5.480469 \"/>\n</g>\n<path style=\"fill-rule:nonzero;fill:rgb(20%,20%,20%);fill-opacity:1;stroke-width:0.944882;stroke-linecap:round;stroke-linejoin:round;stroke:rgb(20%,20%,20%);stroke-opacity:1;stroke-miterlimit:10;\" d=\"M 167.539062 432.957031 C 167.539062 436.230469 162.628906 436.230469 162.628906 432.957031 C 162.628906 429.683594 167.539062 429.683594 167.539062 432.957031 \"/>\n<path style=\"fill-rule:nonzero;fill:rgb(20%,20%,20%);fill-opacity:1;stroke-width:0.944882;stroke-linecap:round;stroke-linejoin:round;stroke:rgb(20%,20%,20%);stroke-opacity:1;stroke-miterlimit:10;\" d=\"M 167.539062 438.164062 C 167.539062 441.4375 162.628906 441.4375 162.628906 438.164062 C 162.628906 434.894531 167.539062 434.894531 167.539062 438.164062 \"/>\n<path style=\"fill-rule:nonzero;fill:rgb(20%,20%,20%);fill-opacity:1;stroke-width:0.944882;stroke-linecap:round;stroke-linejoin:round;stroke:rgb(20%,20%,20%);stroke-opacity:1;stroke-miterlimit:10;\" d=\"M 167.539062 427.746094 C 167.539062 431.019531 162.628906 431.019531 162.628906 427.746094 C 162.628906 424.472656 167.539062 424.472656 167.539062 427.746094 \"/>\n<path style=\"fill-rule:nonzero;fill:rgb(20%,20%,20%);fill-opacity:1;stroke-width:0.944882;stroke-linecap:round;stroke-linejoin:round;stroke:rgb(20%,20%,20%);stroke-opacity:1;stroke-miterlimit:10;\" d=\"M 167.539062 427.746094 C 167.539062 431.019531 162.628906 431.019531 162.628906 427.746094 C 162.628906 424.472656 167.539062 424.472656 167.539062 427.746094 \"/>\n<path style=\"fill-rule:nonzero;fill:rgb(20%,20%,20%);fill-opacity:1;stroke-width:0.944882;stroke-linecap:round;stroke-linejoin:round;stroke:rgb(20%,20%,20%);stroke-opacity:1;stroke-miterlimit:10;\" d=\"M 167.539062 448.585938 C 167.539062 451.859375 162.628906 451.859375 162.628906 448.585938 C 162.628906 445.3125 167.539062 445.3125 167.539062 448.585938 \"/>\n<path style=\"fill:none;stroke-width:1.422638;stroke-linecap:butt;stroke-linejoin:round;stroke:rgb(20%,20%,20%);stroke-opacity:1;stroke-miterlimit:10;\" d=\"M 165.085938 152.921875 L 165.085938 31.789062 \"/>\n<path style=\"fill:none;stroke-width:1.422638;stroke-linecap:butt;stroke-linejoin:round;stroke:rgb(20%,20%,20%);stroke-opacity:1;stroke-miterlimit:10;\" d=\"M 165.085938 261.027344 L 165.085938 396.484375 \"/>\n<path style=\"fill-rule:nonzero;fill:rgb(100%,100%,100%);fill-opacity:1;stroke-width:1.422638;stroke-linecap:round;stroke-linejoin:round;stroke:rgb(20%,20%,20%);stroke-opacity:1;stroke-miterlimit:10;\" d=\"M 86.9375 152.921875 L 86.9375 261.027344 L 243.234375 261.027344 L 243.234375 152.921875 Z M 86.9375 152.921875 \"/>\n<path style=\"fill:none;stroke-width:2.845276;stroke-linecap:butt;stroke-linejoin:round;stroke:rgb(20%,20%,20%);stroke-opacity:1;stroke-miterlimit:10;\" d=\"M 86.9375 206.324219 L 243.234375 206.324219 \"/>\n<path style=\"fill-rule:nonzero;fill:rgb(20%,20%,20%);fill-opacity:1;stroke-width:0.944882;stroke-linecap:round;stroke-linejoin:round;stroke:rgb(20%,20%,20%);stroke-opacity:1;stroke-miterlimit:10;\" d=\"M 375.9375 412.117188 C 375.9375 415.390625 371.027344 415.390625 371.027344 412.117188 C 371.027344 408.84375 375.9375 408.84375 375.9375 412.117188 \"/>\n<path style=\"fill-rule:nonzero;fill:rgb(20%,20%,20%);fill-opacity:1;stroke-width:0.944882;stroke-linecap:round;stroke-linejoin:round;stroke:rgb(20%,20%,20%);stroke-opacity:1;stroke-miterlimit:10;\" d=\"M 375.9375 443.375 C 375.9375 446.648438 371.027344 446.648438 371.027344 443.375 C 371.027344 440.101562 375.9375 440.101562 375.9375 443.375 \"/>\n<path style=\"fill:none;stroke-width:1.422638;stroke-linecap:butt;stroke-linejoin:round;stroke:rgb(20%,20%,20%);stroke-opacity:1;stroke-miterlimit:10;\" d=\"M 373.480469 135.988281 L 373.480469 26.578125 \"/>\n<path style=\"fill:none;stroke-width:1.422638;stroke-linecap:butt;stroke-linejoin:round;stroke:rgb(20%,20%,20%);stroke-opacity:1;stroke-miterlimit:10;\" d=\"M 373.480469 240.1875 L 373.480469 380.855469 \"/>\n<path style=\"fill-rule:nonzero;fill:rgb(100%,100%,100%);fill-opacity:1;stroke-width:1.422638;stroke-linecap:round;stroke-linejoin:round;stroke:rgb(20%,20%,20%);stroke-opacity:1;stroke-miterlimit:10;\" d=\"M 295.332031 135.988281 L 295.332031 240.1875 L 451.632812 240.1875 L 451.632812 135.988281 Z M 295.332031 135.988281 \"/>\n<path style=\"fill:none;stroke-width:2.845276;stroke-linecap:butt;stroke-linejoin:round;stroke:rgb(20%,20%,20%);stroke-opacity:1;stroke-miterlimit:10;\" d=\"M 295.332031 188.089844 L 451.632812 188.089844 \"/>\n<g style=\"fill:rgb(30.196078%,30.196078%,30.196078%);fill-opacity:1;\">\n  <use xlink:href=\"#glyph0-1\" x=\"24.773438\" y=\"446.765625\"/>\n  <use xlink:href=\"#glyph0-2\" x=\"29.944237\" y=\"446.765625\"/>\n</g>\n<g style=\"fill:rgb(30.196078%,30.196078%,30.196078%);fill-opacity:1;\">\n  <use xlink:href=\"#glyph0-3\" x=\"24.773438\" y=\"342.566406\"/>\n  <use xlink:href=\"#glyph0-2\" x=\"29.944237\" y=\"342.566406\"/>\n</g>\n<g style=\"fill:rgb(30.196078%,30.196078%,30.196078%);fill-opacity:1;\">\n  <use xlink:href=\"#glyph0-4\" x=\"24.773438\" y=\"238.367188\"/>\n  <use xlink:href=\"#glyph0-2\" x=\"29.944237\" y=\"238.367188\"/>\n</g>\n<g style=\"fill:rgb(30.196078%,30.196078%,30.196078%);fill-opacity:1;\">\n  <use xlink:href=\"#glyph0-5\" x=\"24.773438\" y=\"134.167969\"/>\n  <use xlink:href=\"#glyph0-2\" x=\"29.944237\" y=\"134.167969\"/>\n</g>\n<g style=\"fill:rgb(30.196078%,30.196078%,30.196078%);fill-opacity:1;\">\n  <use xlink:href=\"#glyph0-6\" x=\"19.601562\" y=\"29.96875\"/>\n  <use xlink:href=\"#glyph0-2\" x=\"24.772362\" y=\"29.96875\"/>\n  <use xlink:href=\"#glyph0-2\" x=\"29.943162\" y=\"29.96875\"/>\n</g>\n<path style=\"fill:none;stroke-width:1.422638;stroke-linecap:butt;stroke-linejoin:round;stroke:rgb(20%,20%,20%);stroke-opacity:1;stroke-miterlimit:10;\" d=\"M 37.308594 443.375 L 40.046875 443.375 \"/>\n<path style=\"fill:none;stroke-width:1.422638;stroke-linecap:butt;stroke-linejoin:round;stroke:rgb(20%,20%,20%);stroke-opacity:1;stroke-miterlimit:10;\" d=\"M 37.308594 339.175781 L 40.046875 339.175781 \"/>\n<path style=\"fill:none;stroke-width:1.422638;stroke-linecap:butt;stroke-linejoin:round;stroke:rgb(20%,20%,20%);stroke-opacity:1;stroke-miterlimit:10;\" d=\"M 37.308594 234.976562 L 40.046875 234.976562 \"/>\n<path style=\"fill:none;stroke-width:1.422638;stroke-linecap:butt;stroke-linejoin:round;stroke:rgb(20%,20%,20%);stroke-opacity:1;stroke-miterlimit:10;\" d=\"M 37.308594 130.777344 L 40.046875 130.777344 \"/>\n<path style=\"fill:none;stroke-width:1.422638;stroke-linecap:butt;stroke-linejoin:round;stroke:rgb(20%,20%,20%);stroke-opacity:1;stroke-miterlimit:10;\" d=\"M 37.308594 26.578125 L 40.046875 26.578125 \"/>\n<path style=\"fill:none;stroke-width:1.422638;stroke-linecap:butt;stroke-linejoin:round;stroke:rgb(20%,20%,20%);stroke-opacity:1;stroke-miterlimit:10;\" d=\"M 165.085938 472.425781 L 165.085938 469.6875 \"/>\n<path style=\"fill:none;stroke-width:1.422638;stroke-linecap:butt;stroke-linejoin:round;stroke:rgb(20%,20%,20%);stroke-opacity:1;stroke-miterlimit:10;\" d=\"M 373.480469 472.425781 L 373.480469 469.6875 \"/>\n<g style=\"fill:rgb(30.196078%,30.196078%,30.196078%);fill-opacity:1;\">\n  <use xlink:href=\"#glyph0-7\" x=\"151.132812\" y=\"481.398438\"/>\n  <use xlink:href=\"#glyph0-8\" x=\"153.718212\" y=\"481.398438\"/>\n  <use xlink:href=\"#glyph0-9\" x=\"158.889013\" y=\"481.398438\"/>\n  <use xlink:href=\"#glyph0-10\" x=\"166.635913\" y=\"481.398438\"/>\n  <use xlink:href=\"#glyph0-11\" x=\"171.806713\" y=\"481.398438\"/>\n  <use xlink:href=\"#glyph0-8\" x=\"173.871313\" y=\"481.398438\"/>\n</g>\n<g style=\"fill:rgb(30.196078%,30.196078%,30.196078%);fill-opacity:1;\">\n  <use xlink:href=\"#glyph0-9\" x=\"363.402344\" y=\"481.398438\"/>\n  <use xlink:href=\"#glyph0-10\" x=\"371.149244\" y=\"481.398438\"/>\n  <use xlink:href=\"#glyph0-11\" x=\"376.320044\" y=\"481.398438\"/>\n  <use xlink:href=\"#glyph0-8\" x=\"378.384644\" y=\"481.398438\"/>\n</g>\n<g style=\"fill:rgb(0%,0%,0%);fill-opacity:1;\">\n  <use xlink:href=\"#glyph1-1\" x=\"251.386719\" y=\"495.519531\"/>\n  <use xlink:href=\"#glyph1-2\" x=\"257.780719\" y=\"495.519531\"/>\n  <use xlink:href=\"#glyph1-3\" x=\"264.174719\" y=\"495.519531\"/>\n  <use xlink:href=\"#glyph1-4\" x=\"270.568719\" y=\"495.519531\"/>\n  <use xlink:href=\"#glyph1-2\" x=\"276.962719\" y=\"495.519531\"/>\n  <use xlink:href=\"#glyph1-5\" x=\"283.356719\" y=\"495.519531\"/>\n</g>\n<g style=\"fill:rgb(0%,0%,0%);fill-opacity:1;\">\n  <use xlink:href=\"#glyph2-1\" x=\"13.863281\" y=\"264.421875\"/>\n  <use xlink:href=\"#glyph2-2\" x=\"13.863281\" y=\"254.842375\"/>\n  <use xlink:href=\"#glyph2-3\" x=\"13.863281\" y=\"248.448375\"/>\n  <use xlink:href=\"#glyph2-4\" x=\"13.863281\" y=\"245.251375\"/>\n  <use xlink:href=\"#glyph2-5\" x=\"13.863281\" y=\"238.857375\"/>\n  <use xlink:href=\"#glyph2-6\" x=\"13.863281\" y=\"233.107375\"/>\n  <use xlink:href=\"#glyph2-7\" x=\"13.863281\" y=\"227.357375\"/>\n  <use xlink:href=\"#glyph2-8\" x=\"13.863281\" y=\"220.963375\"/>\n  <use xlink:href=\"#glyph2-9\" x=\"13.863281\" y=\"217.133875\"/>\n</g>\n</g>\n</svg>\n"
     },
     "execution_count": 7,
     "metadata": {
      "image/svg+xml": {
       "isolated": true
      }
     },
     "output_type": "execute_result"
    }
   ],
   "source": [
    "ggplot(data=exams, aes(x=gender, y=mathscore, group=gender))+geom_boxplot()"
   ]
  },
  {
   "cell_type": "markdown",
   "metadata": {
    "collapsed": false
   },
   "source": [
    "We can also use the ```summarize``` function. The code below creates groups of the exam data by gender then calculates the mean, standard deviation, and the number of observations in that group.\n",
    "\n",
    "```\n",
    "exams %>%\n",
    "  group_by(gender) %>%\n",
    "  summarise(mean_gender = mean(mathscore), sd_gender = sd(mathscore), n = n())\n",
    "\n",
    "```"
   ]
  },
  {
   "cell_type": "code",
   "execution_count": 14,
   "metadata": {
    "collapsed": false
   },
   "outputs": [
    {
     "data": {
      "text/html": [
       "<table>\n",
       "<thead><tr><th scope=col>gender</th><th scope=col>mean_gender</th><th scope=col>sd_gender</th><th scope=col>n</th></tr></thead>\n",
       "<tbody>\n",
       "\t<tr><td>female  </td><td>64.77011</td><td>15.07158</td><td>522     </td></tr>\n",
       "\t<tr><td>male    </td><td>69.11925</td><td>14.68853</td><td>478     </td></tr>\n",
       "</tbody>\n",
       "</table>\n"
      ]
     },
     "execution_count": 14,
     "metadata": {
     },
     "output_type": "execute_result"
    }
   ],
   "source": [
    "exams %>%\n",
    "  group_by(gender) %>%\n",
    "  summarise(mean_gender = mean(mathscore), sd_gender = sd(mathscore), n = n())"
   ]
  },
  {
   "cell_type": "markdown",
   "metadata": {
    "collapsed": false
   },
   "source": [
    "**Question 1** Describe in your own words the difference in math scores between boys and girls. Use the box plot and the summary data in your answer."
   ]
  },
  {
   "cell_type": "markdown",
   "metadata": {
    "collapsed": false
   },
   "source": [
    "**Write your answer here**"
   ]
  },
  {
   "cell_type": "markdown",
   "metadata": {
    "collapsed": false
   },
   "source": [
    "## Using regression\n",
    "\n",
    "We can also use the tools of regression to look at the effect of gender. To do this we will need to change the data so that gender can be considered a numerical variable. We will do this by introducing a *dummy variable* that indicates has a valus of 1 if the observation is that of a boy, and 0 if it is the value of a girl.\n",
    "\n",
    "```\n",
    "exams<-exams %>%\n",
    "    mutate(numGender=ifelse(gender==\"male\", 1, 0))\n",
    "simpleGender<-lm(mathscore~numGender, data=exams)\n",
    "summary(simpleGender)\n",
    "```\n"
   ]
  },
  {
   "cell_type": "code",
   "execution_count": 12,
   "metadata": {
    "collapsed": false
   },
   "outputs": [
    {
     "data": {
      "text/plain": [
       "\n",
       "Call:\n",
       "lm(formula = mathscore ~ numGender, data = exams)\n",
       "\n",
       "Residuals:\n",
       "    Min      1Q  Median      3Q     Max \n",
       "-49.119 -10.119   0.230   9.968  34.230 \n",
       "\n",
       "Coefficients:\n",
       "            Estimate Std. Error t value Pr(>|t|)    \n",
       "(Intercept)  64.7701     0.6517  99.386  < 2e-16 ***\n",
       "numGender     4.3491     0.9426   4.614 4.47e-06 ***\n",
       "---\n",
       "Signif. codes:  0 ‘***’ 0.001 ‘**’ 0.01 ‘*’ 0.05 ‘.’ 0.1 ‘ ’ 1\n",
       "\n",
       "Residual standard error: 14.89 on 998 degrees of freedom\n",
       "Multiple R-squared:  0.02088,\tAdjusted R-squared:  0.0199 \n",
       "F-statistic: 21.29 on 1 and 998 DF,  p-value: 4.467e-06\n"
      ]
     },
     "execution_count": 12,
     "metadata": {
     },
     "output_type": "execute_result"
    }
   ],
   "source": [
    "exams<-exams %>%\n",
    "    mutate(numGender=ifelse(gender==\"male\", 1, 0))\n",
    "simpleGender<-lm(mathscore~numGender, data=exams)\n",
    "summary(simpleGender)"
   ]
  },
  {
   "cell_type": "markdown",
   "metadata": {
    "collapsed": false
   },
   "source": [
    "**Question** What does the slope in this regression represent? Is it greater, lesser, or equal to effect than what was indicated in the difference of the means above?"
   ]
  },
  {
   "cell_type": "code",
   "execution_count": 0,
   "metadata": {
    "collapsed": false
   },
   "outputs": [
   ],
   "source": [
   ]
  },
  {
   "cell_type": "code",
   "execution_count": 0,
   "metadata": {
    "collapsed": false
   },
   "outputs": [
   ],
   "source": [
   ]
  },
  {
   "cell_type": "markdown",
   "metadata": {
    "collapsed": false
   },
   "source": [
    "Let's dig deeper into other variables. Let's look at the ```lunch``` variable. And do so in the same way. \n",
    "\n",
    "We can do this all at once with the following code copied from above, and then edited to indicate ```lunch```.\n",
    "\n",
    "```\n",
    "ggplot(data=exams, aes(x=lunch, y=mathscore, group=lunch))+geom_boxplot()\n",
    "exams %>%\n",
    "  group_by(lunch) %>%\n",
    "  summarise(mean_lunch = mean(mathscore), sd_lunch = sd(mathscore), n = n())\n",
    "exams<-exams %>%\n",
    "    mutate(numLunch=ifelse(lunch==\"free/reduced\", 1, 0))\n",
    "simpleLunch<-lm(mathscore~numLunch, data=exams)\n",
    "summary(simpleLunch)\n",
    "```"
   ]
  },
  {
   "cell_type": "code",
   "execution_count": 15,
   "metadata": {
    "collapsed": false
   },
   "outputs": [
    {
     "data": {
      "text/html": [
       "<table>\n",
       "<thead><tr><th scope=col>lunch</th><th scope=col>mean_lunch</th><th scope=col>sd_lunch</th><th scope=col>n</th></tr></thead>\n",
       "<tbody>\n",
       "\t<tr><td>free/reduced</td><td>58.37101    </td><td>13.85583    </td><td>345         </td></tr>\n",
       "\t<tr><td>standard    </td><td>71.31450    </td><td>13.66256    </td><td>655         </td></tr>\n",
       "</tbody>\n",
       "</table>\n"
      ]
     },
     "execution_count": 15,
     "metadata": {
     },
     "output_type": "execute_result"
    },
    {
     "data": {
      "text/plain": [
       "\n",
       "Call:\n",
       "lm(formula = mathscore ~ numLunch, data = exams)\n",
       "\n",
       "Residuals:\n",
       "    Min      1Q  Median      3Q     Max \n",
       "-48.315  -8.371  -0.315   9.685  37.629 \n",
       "\n",
       "Coefficients:\n",
       "            Estimate Std. Error t value Pr(>|t|)    \n",
       "(Intercept)  71.3145     0.5365  132.94   <2e-16 ***\n",
       "numLunch    -12.9435     0.9133  -14.17   <2e-16 ***\n",
       "---\n",
       "Signif. codes:  0 ‘***’ 0.001 ‘**’ 0.01 ‘*’ 0.05 ‘.’ 0.1 ‘ ’ 1\n",
       "\n",
       "Residual standard error: 13.73 on 998 degrees of freedom\n",
       "Multiple R-squared:  0.1675,\tAdjusted R-squared:  0.1667 \n",
       "F-statistic: 200.8 on 1 and 998 DF,  p-value: < 2.2e-16\n"
      ]
     },
     "execution_count": 15,
     "metadata": {
     },
     "output_type": "execute_result"
    },
    {
     "data": {
      "image/svg+xml": "<?xml version=\"1.0\" encoding=\"UTF-8\"?>\n<svg xmlns=\"http://www.w3.org/2000/svg\" xmlns:xlink=\"http://www.w3.org/1999/xlink\" width=\"504pt\" height=\"504pt\" viewBox=\"0 0 504 504\" version=\"1.1\">\n<defs>\n<g>\n<symbol overflow=\"visible\" id=\"glyph0-0\">\n<path style=\"stroke:none;\" d=\"\"/>\n</symbol>\n<symbol overflow=\"visible\" id=\"glyph0-1\">\n<path style=\"stroke:none;\" d=\"M 4.75 -4.65625 C 4.75 -5.765625 3.890625 -6.59375 2.640625 -6.59375 C 1.296875 -6.59375 0.515625 -5.90625 0.46875 -4.296875 L 1.28125 -4.296875 C 1.34375 -5.40625 1.796875 -5.875 2.609375 -5.875 C 3.359375 -5.875 3.90625 -5.34375 3.90625 -4.640625 C 3.90625 -4.125 3.609375 -3.671875 3.015625 -3.34375 L 2.171875 -2.859375 C 0.796875 -2.078125 0.390625 -1.453125 0.3125 0 L 4.703125 0 L 4.703125 -0.8125 L 1.234375 -0.8125 C 1.3125 -1.34375 1.625 -1.6875 2.421875 -2.171875 L 3.359375 -2.671875 C 4.28125 -3.15625 4.75 -3.84375 4.75 -4.65625 Z M 4.75 -4.65625 \"/>\n</symbol>\n<symbol overflow=\"visible\" id=\"glyph0-2\">\n<path style=\"stroke:none;\" d=\"M 4.71875 -3.171875 C 4.71875 -5.453125 3.984375 -6.59375 2.5625 -6.59375 C 1.140625 -6.59375 0.40625 -5.4375 0.40625 -3.21875 C 0.40625 -1 1.140625 0.140625 2.5625 0.140625 C 3.953125 0.140625 4.71875 -1 4.71875 -3.171875 Z M 3.875 -3.25 C 3.875 -1.375 3.453125 -0.546875 2.53125 -0.546875 C 1.671875 -0.546875 1.234375 -1.40625 1.234375 -3.21875 C 1.234375 -5.015625 1.671875 -5.859375 2.5625 -5.859375 C 3.4375 -5.859375 3.875 -5.015625 3.875 -3.25 Z M 3.875 -3.25 \"/>\n</symbol>\n<symbol overflow=\"visible\" id=\"glyph0-3\">\n<path style=\"stroke:none;\" d=\"M 4.828125 -1.578125 L 4.828125 -2.3125 L 3.859375 -2.3125 L 3.859375 -6.59375 L 3.25 -6.59375 L 0.265625 -2.4375 L 0.265625 -1.578125 L 3.046875 -1.578125 L 3.046875 0 L 3.859375 0 L 3.859375 -1.578125 Z M 3.046875 -2.3125 L 0.96875 -2.3125 L 3.046875 -5.203125 Z M 3.046875 -2.3125 \"/>\n</symbol>\n<symbol overflow=\"visible\" id=\"glyph0-4\">\n<path style=\"stroke:none;\" d=\"M 4.765625 -2.046875 C 4.765625 -3.265625 3.9375 -4.09375 2.75 -4.09375 C 2.09375 -4.09375 1.59375 -3.84375 1.234375 -3.359375 C 1.25 -4.96875 1.765625 -5.859375 2.703125 -5.859375 C 3.28125 -5.859375 3.6875 -5.5 3.8125 -4.875 L 4.625 -4.875 C 4.46875 -5.953125 3.765625 -6.59375 2.765625 -6.59375 C 1.234375 -6.59375 0.40625 -5.296875 0.40625 -3 C 0.40625 -0.953125 1.109375 0.140625 2.609375 0.140625 C 3.875 0.140625 4.765625 -0.75 4.765625 -2.046875 Z M 3.9375 -1.984375 C 3.9375 -1.15625 3.375 -0.578125 2.625 -0.578125 C 1.859375 -0.578125 1.28125 -1.1875 1.28125 -2.03125 C 1.28125 -2.84375 1.84375 -3.375 2.65625 -3.375 C 3.4375 -3.375 3.9375 -2.859375 3.9375 -1.984375 Z M 3.9375 -1.984375 \"/>\n</symbol>\n<symbol overflow=\"visible\" id=\"glyph0-5\">\n<path style=\"stroke:none;\" d=\"M 4.765625 -1.859375 C 4.765625 -2.59375 4.390625 -3.109375 3.640625 -3.46875 C 4.3125 -3.875 4.53125 -4.21875 4.53125 -4.828125 C 4.53125 -5.859375 3.734375 -6.59375 2.5625 -6.59375 C 1.390625 -6.59375 0.578125 -5.859375 0.578125 -4.828125 C 0.578125 -4.21875 0.796875 -3.890625 1.46875 -3.46875 C 0.71875 -3.109375 0.34375 -2.59375 0.34375 -1.875 C 0.34375 -0.65625 1.25 0.140625 2.5625 0.140625 C 3.859375 0.140625 4.765625 -0.65625 4.765625 -1.859375 Z M 3.703125 -4.8125 C 3.703125 -4.203125 3.25 -3.796875 2.5625 -3.796875 C 1.875 -3.796875 1.40625 -4.203125 1.40625 -4.828125 C 1.40625 -5.453125 1.875 -5.859375 2.5625 -5.859375 C 3.25 -5.859375 3.703125 -5.453125 3.703125 -4.8125 Z M 3.9375 -1.84375 C 3.9375 -1.0625 3.375 -0.578125 2.53125 -0.578125 C 1.734375 -0.578125 1.1875 -1.078125 1.1875 -1.84375 C 1.1875 -2.625 1.734375 -3.109375 2.5625 -3.109375 C 3.375 -3.109375 3.9375 -2.625 3.9375 -1.84375 Z M 3.9375 -1.84375 \"/>\n</symbol>\n<symbol overflow=\"visible\" id=\"glyph0-6\">\n<path style=\"stroke:none;\" d=\"M 3.21875 0 L 3.21875 -6.59375 L 2.6875 -6.59375 C 2.40625 -5.578125 2.21875 -5.4375 0.953125 -5.28125 L 0.953125 -4.6875 L 2.40625 -4.6875 L 2.40625 0 Z M 3.21875 0 \"/>\n</symbol>\n<symbol overflow=\"visible\" id=\"glyph0-7\">\n<path style=\"stroke:none;\" d=\"M 2.40625 -4.234375 L 2.40625 -4.875 L 1.59375 -4.875 L 1.59375 -5.640625 C 1.59375 -5.953125 1.78125 -6.125 2.125 -6.125 C 2.1875 -6.125 2.21875 -6.125 2.40625 -6.125 L 2.40625 -6.765625 C 2.21875 -6.796875 2.125 -6.8125 1.96875 -6.8125 C 1.25 -6.8125 0.8125 -6.390625 0.8125 -5.703125 L 0.8125 -4.875 L 0.171875 -4.875 L 0.171875 -4.234375 L 0.8125 -4.234375 L 0.8125 0 L 1.59375 0 L 1.59375 -4.234375 Z M 2.40625 -4.234375 \"/>\n</symbol>\n<symbol overflow=\"visible\" id=\"glyph0-8\">\n<path style=\"stroke:none;\" d=\"M 2.984375 -4.1875 L 2.984375 -4.984375 C 2.859375 -5 2.796875 -5.015625 2.6875 -5.015625 C 2.1875 -5.015625 1.796875 -4.71875 1.359375 -3.984375 L 1.359375 -4.875 L 0.65625 -4.875 L 0.65625 0 L 1.421875 0 L 1.421875 -2.53125 C 1.421875 -3.625 1.78125 -4.171875 2.984375 -4.1875 Z M 2.984375 -4.1875 \"/>\n</symbol>\n<symbol overflow=\"visible\" id=\"glyph0-9\">\n<path style=\"stroke:none;\" d=\"M 4.765625 -2.21875 C 4.765625 -2.921875 4.71875 -3.359375 4.578125 -3.734375 C 4.265625 -4.53125 3.515625 -5.015625 2.609375 -5.015625 C 1.25 -5.015625 0.375 -4 0.375 -2.40625 C 0.375 -0.8125 1.21875 0.140625 2.578125 0.140625 C 3.703125 0.140625 4.46875 -0.5 4.671875 -1.484375 L 3.890625 -1.484375 C 3.671875 -0.84375 3.234375 -0.578125 2.609375 -0.578125 C 1.796875 -0.578125 1.203125 -1.09375 1.1875 -2.21875 Z M 3.9375 -2.90625 C 3.9375 -2.90625 3.9375 -2.859375 3.9375 -2.84375 L 1.203125 -2.84375 C 1.265625 -3.703125 1.8125 -4.296875 2.59375 -4.296875 C 3.359375 -4.296875 3.9375 -3.65625 3.9375 -2.90625 Z M 3.9375 -2.90625 \"/>\n</symbol>\n<symbol overflow=\"visible\" id=\"glyph0-10\">\n<path style=\"stroke:none;\" d=\"M 2.640625 -6.78125 L 2.125 -6.78125 L -0.078125 0.1875 L 0.4375 0.1875 Z M 2.640625 -6.78125 \"/>\n</symbol>\n<symbol overflow=\"visible\" id=\"glyph0-11\">\n<path style=\"stroke:none;\" d=\"M 4.609375 0 L 4.609375 -6.78125 L 3.828125 -6.78125 L 3.828125 -4.265625 C 3.5 -4.75 2.984375 -5.015625 2.328125 -5.015625 C 1.0625 -5.015625 0.234375 -4.03125 0.234375 -2.484375 C 0.234375 -0.84375 1.046875 0.140625 2.359375 0.140625 C 3.03125 0.140625 3.5 -0.109375 3.90625 -0.71875 L 3.90625 0 Z M 3.828125 -2.421875 C 3.828125 -1.296875 3.296875 -0.578125 2.46875 -0.578125 C 1.625 -0.578125 1.046875 -1.296875 1.046875 -2.4375 C 1.046875 -3.5625 1.625 -4.28125 2.46875 -4.28125 C 3.296875 -4.28125 3.828125 -3.546875 3.828125 -2.421875 Z M 3.828125 -2.421875 \"/>\n</symbol>\n<symbol overflow=\"visible\" id=\"glyph0-12\">\n<path style=\"stroke:none;\" d=\"M 4.484375 0 L 4.484375 -4.875 L 3.703125 -4.875 L 3.703125 -2.1875 C 3.703125 -1.1875 3.1875 -0.546875 2.375 -0.546875 C 1.765625 -0.546875 1.375 -0.90625 1.375 -1.5 L 1.375 -4.875 L 0.609375 -4.875 L 0.609375 -1.1875 C 0.609375 -0.375 1.203125 0.140625 2.15625 0.140625 C 2.875 0.140625 3.328125 -0.109375 3.78125 -0.75 L 3.78125 0 Z M 4.484375 0 \"/>\n</symbol>\n<symbol overflow=\"visible\" id=\"glyph0-13\">\n<path style=\"stroke:none;\" d=\"M 4.4375 -1.671875 L 3.65625 -1.671875 C 3.53125 -0.890625 3.125 -0.578125 2.46875 -0.578125 C 1.609375 -0.578125 1.09375 -1.234375 1.09375 -2.390625 C 1.09375 -3.609375 1.59375 -4.296875 2.4375 -4.296875 C 3.09375 -4.296875 3.5 -3.90625 3.59375 -3.234375 L 4.375 -3.234375 C 4.28125 -4.421875 3.546875 -5.015625 2.453125 -5.015625 C 1.140625 -5.015625 0.28125 -4 0.28125 -2.390625 C 0.28125 -0.8125 1.125 0.140625 2.4375 0.140625 C 3.609375 0.140625 4.34375 -0.5625 4.4375 -1.671875 Z M 4.4375 -1.671875 \"/>\n</symbol>\n<symbol overflow=\"visible\" id=\"glyph0-14\">\n<path style=\"stroke:none;\" d=\"M 4.265625 -1.359375 C 4.265625 -2.09375 3.859375 -2.453125 2.890625 -2.6875 L 2.140625 -2.859375 C 1.515625 -3.015625 1.25 -3.21875 1.25 -3.5625 C 1.25 -4 1.640625 -4.296875 2.28125 -4.296875 C 2.90625 -4.296875 3.234375 -4.03125 3.25 -3.515625 L 4.078125 -3.515625 C 4.0625 -4.46875 3.4375 -5.015625 2.3125 -5.015625 C 1.171875 -5.015625 0.4375 -4.421875 0.4375 -3.53125 C 0.4375 -2.765625 0.828125 -2.40625 1.984375 -2.125 L 2.703125 -1.9375 C 3.25 -1.8125 3.453125 -1.65625 3.453125 -1.296875 C 3.453125 -0.84375 3 -0.578125 2.328125 -0.578125 C 1.625 -0.578125 1.234375 -0.75 1.140625 -1.484375 L 0.3125 -1.484375 C 0.359375 -0.359375 0.984375 0.140625 2.265625 0.140625 C 3.484375 0.140625 4.265625 -0.421875 4.265625 -1.359375 Z M 4.265625 -1.359375 \"/>\n</symbol>\n<symbol overflow=\"visible\" id=\"glyph0-15\">\n<path style=\"stroke:none;\" d=\"M 2.359375 0 L 2.359375 -0.65625 C 2.265625 -0.625 2.140625 -0.609375 1.984375 -0.609375 C 1.65625 -0.609375 1.5625 -0.703125 1.5625 -1.046875 L 1.5625 -4.234375 L 2.359375 -4.234375 L 2.359375 -4.875 L 1.5625 -4.875 L 1.5625 -6.203125 L 0.796875 -6.203125 L 0.796875 -4.875 L 0.125 -4.875 L 0.125 -4.234375 L 0.796875 -4.234375 L 0.796875 -0.703125 C 0.796875 -0.21875 1.125 0.0625 1.734375 0.0625 C 1.921875 0.0625 2.09375 0.046875 2.359375 0 Z M 2.359375 0 \"/>\n</symbol>\n<symbol overflow=\"visible\" id=\"glyph0-16\">\n<path style=\"stroke:none;\" d=\"M 4.96875 -0.015625 L 4.96875 -0.609375 C 4.890625 -0.578125 4.859375 -0.578125 4.8125 -0.578125 C 4.53125 -0.578125 4.390625 -0.71875 4.390625 -0.96875 L 4.390625 -3.6875 C 4.390625 -4.546875 3.75 -5.015625 2.5625 -5.015625 C 1.375 -5.015625 0.65625 -4.5625 0.609375 -3.4375 L 1.390625 -3.4375 C 1.453125 -4.03125 1.796875 -4.296875 2.53125 -4.296875 C 3.21875 -4.296875 3.609375 -4.03125 3.609375 -3.5625 L 3.609375 -3.359375 C 3.609375 -3.046875 3.421875 -2.90625 2.8125 -2.828125 C 1.703125 -2.6875 1.546875 -2.65625 1.25 -2.53125 C 0.671875 -2.296875 0.390625 -1.859375 0.390625 -1.265625 C 0.390625 -0.375 1 0.140625 1.984375 0.140625 C 2.609375 0.140625 3.21875 -0.125 3.640625 -0.578125 C 3.734375 -0.203125 4.0625 0.0625 4.4375 0.0625 C 4.609375 0.0625 4.71875 0.046875 4.96875 -0.015625 Z M 3.609375 -1.6875 C 3.609375 -0.984375 2.90625 -0.546875 2.15625 -0.546875 C 1.546875 -0.546875 1.203125 -0.75 1.203125 -1.28125 C 1.203125 -1.796875 1.546875 -2.015625 2.375 -2.140625 C 3.1875 -2.25 3.359375 -2.28125 3.609375 -2.40625 Z M 3.609375 -1.6875 \"/>\n</symbol>\n<symbol overflow=\"visible\" id=\"glyph0-17\">\n<path style=\"stroke:none;\" d=\"M 4.53125 0 L 4.53125 -3.6875 C 4.53125 -4.484375 3.921875 -5.015625 2.984375 -5.015625 C 2.265625 -5.015625 1.796875 -4.734375 1.359375 -4.046875 L 1.359375 -4.875 L 0.65625 -4.875 L 0.65625 0 L 1.421875 0 L 1.421875 -2.6875 C 1.421875 -3.6875 1.96875 -4.328125 2.75 -4.328125 C 3.359375 -4.328125 3.75 -3.953125 3.75 -3.375 L 3.75 0 Z M 4.53125 0 \"/>\n</symbol>\n<symbol overflow=\"visible\" id=\"glyph1-0\">\n<path style=\"stroke:none;\" d=\"\"/>\n</symbol>\n<symbol overflow=\"visible\" id=\"glyph1-1\">\n<path style=\"stroke:none;\" d=\"M 1.734375 0 L 1.734375 -8.390625 L 0.78125 -8.390625 L 0.78125 0 Z M 1.734375 0 \"/>\n</symbol>\n<symbol overflow=\"visible\" id=\"glyph1-2\">\n<path style=\"stroke:none;\" d=\"M 5.546875 0 L 5.546875 -6.03125 L 4.59375 -6.03125 L 4.59375 -2.703125 C 4.59375 -1.46875 3.9375 -0.671875 2.9375 -0.671875 C 2.1875 -0.671875 1.703125 -1.125 1.703125 -1.84375 L 1.703125 -6.03125 L 0.75 -6.03125 L 0.75 -1.46875 C 0.75 -0.46875 1.5 0.171875 2.671875 0.171875 C 3.546875 0.171875 4.109375 -0.140625 4.6875 -0.9375 L 4.6875 0 Z M 5.546875 0 \"/>\n</symbol>\n<symbol overflow=\"visible\" id=\"glyph1-3\">\n<path style=\"stroke:none;\" d=\"M 5.59375 0 L 5.59375 -4.546875 C 5.59375 -5.546875 4.859375 -6.203125 3.6875 -6.203125 C 2.796875 -6.203125 2.21875 -5.859375 1.6875 -5.015625 L 1.6875 -6.03125 L 0.8125 -6.03125 L 0.8125 0 L 1.765625 0 L 1.765625 -3.328125 C 1.765625 -4.546875 2.421875 -5.359375 3.40625 -5.359375 C 4.15625 -5.359375 4.640625 -4.90625 4.640625 -4.171875 L 4.640625 0 Z M 5.59375 0 \"/>\n</symbol>\n<symbol overflow=\"visible\" id=\"glyph1-4\">\n<path style=\"stroke:none;\" d=\"M 5.484375 -2.0625 L 4.515625 -2.0625 C 4.359375 -1.109375 3.859375 -0.71875 3.046875 -0.71875 C 1.984375 -0.71875 1.359375 -1.53125 1.359375 -2.953125 C 1.359375 -4.46875 1.984375 -5.3125 3.03125 -5.3125 C 3.828125 -5.3125 4.328125 -4.84375 4.453125 -4 L 5.421875 -4 C 5.296875 -5.46875 4.375 -6.203125 3.03125 -6.203125 C 1.421875 -6.203125 0.359375 -4.953125 0.359375 -2.953125 C 0.359375 -1.015625 1.390625 0.171875 3.03125 0.171875 C 4.46875 0.171875 5.375 -0.6875 5.484375 -2.0625 Z M 5.484375 -2.0625 \"/>\n</symbol>\n<symbol overflow=\"visible\" id=\"glyph1-5\">\n<path style=\"stroke:none;\" d=\"M 5.59375 0 L 5.59375 -4.546875 C 5.59375 -5.5625 4.859375 -6.203125 3.6875 -6.203125 C 2.84375 -6.203125 2.328125 -5.9375 1.765625 -5.203125 L 1.765625 -8.390625 L 0.8125 -8.390625 L 0.8125 0 L 1.765625 0 L 1.765625 -3.328125 C 1.765625 -4.546875 2.40625 -5.359375 3.390625 -5.359375 C 4.078125 -5.359375 4.640625 -4.96875 4.640625 -4.171875 L 4.640625 0 Z M 5.59375 0 \"/>\n</symbol>\n<symbol overflow=\"visible\" id=\"glyph2-0\">\n<path style=\"stroke:none;\" d=\"\"/>\n</symbol>\n<symbol overflow=\"visible\" id=\"glyph2-1\">\n<path style=\"stroke:none;\" d=\"M 0 -8.734375 L -4.515625 -8.734375 C -5.59375 -8.734375 -6.203125 -8.140625 -6.203125 -7.015625 C -6.203125 -6.203125 -5.953125 -5.734375 -5.28125 -5.15625 C -5.921875 -4.8125 -6.203125 -4.328125 -6.203125 -3.546875 C -6.203125 -2.734375 -5.90625 -2.203125 -5.171875 -1.6875 L -6.03125 -1.6875 L -6.03125 -0.8125 L 0 -0.8125 L 0 -1.765625 L -3.78125 -1.765625 C -4.65625 -1.765625 -5.359375 -2.40625 -5.359375 -3.1875 C -5.359375 -3.90625 -4.921875 -4.296875 -4.15625 -4.296875 L 0 -4.296875 L 0 -5.25 L -3.78125 -5.25 C -4.65625 -5.25 -5.359375 -5.90625 -5.359375 -6.6875 C -5.359375 -7.390625 -4.90625 -7.78125 -4.15625 -7.78125 L 0 -7.78125 Z M 0 -8.734375 \"/>\n</symbol>\n<symbol overflow=\"visible\" id=\"glyph2-2\">\n<path style=\"stroke:none;\" d=\"M -0.015625 -6.15625 L -0.75 -6.15625 C -0.71875 -6.046875 -0.71875 -6 -0.71875 -5.953125 C -0.71875 -5.609375 -0.890625 -5.421875 -1.203125 -5.421875 L -4.546875 -5.421875 C -5.625 -5.421875 -6.203125 -4.640625 -6.203125 -3.15625 C -6.203125 -1.703125 -5.640625 -0.8125 -4.25 -0.75 L -4.25 -1.71875 C -4.984375 -1.796875 -5.3125 -2.234375 -5.3125 -3.125 C -5.3125 -3.984375 -4.984375 -4.46875 -4.421875 -4.46875 L -4.15625 -4.46875 C -3.765625 -4.46875 -3.59375 -4.234375 -3.5 -3.46875 C -3.328125 -2.109375 -3.28125 -1.90625 -3.125 -1.546875 C -2.84375 -0.84375 -2.296875 -0.484375 -1.5625 -0.484375 C -0.46875 -0.484375 0.171875 -1.234375 0.171875 -2.46875 C 0.171875 -3.234375 -0.15625 -3.984375 -0.71875 -4.515625 C -0.25 -4.609375 0.078125 -5.03125 0.078125 -5.5 C 0.078125 -5.6875 0.0625 -5.84375 -0.015625 -6.15625 Z M -2.078125 -4.46875 C -1.21875 -4.46875 -0.671875 -3.59375 -0.671875 -2.671875 C -0.671875 -1.921875 -0.9375 -1.484375 -1.59375 -1.484375 C -2.21875 -1.484375 -2.5 -1.90625 -2.640625 -2.9375 C -2.78125 -3.9375 -2.828125 -4.15625 -2.984375 -4.46875 Z M -2.078125 -4.46875 \"/>\n</symbol>\n<symbol overflow=\"visible\" id=\"glyph2-3\">\n<path style=\"stroke:none;\" d=\"M 0 -2.921875 L -0.8125 -2.921875 C -0.765625 -2.796875 -0.765625 -2.640625 -0.765625 -2.46875 C -0.765625 -2.046875 -0.875 -1.9375 -1.296875 -1.9375 L -5.25 -1.9375 L -5.25 -2.921875 L -6.03125 -2.921875 L -6.03125 -1.9375 L -7.6875 -1.9375 L -7.6875 -0.984375 L -6.03125 -0.984375 L -6.03125 -0.15625 L -5.25 -0.15625 L -5.25 -0.984375 L -0.875 -0.984375 C -0.265625 -0.984375 0.078125 -1.390625 0.078125 -2.140625 C 0.078125 -2.375 0.0625 -2.59375 0 -2.921875 Z M 0 -2.921875 \"/>\n</symbol>\n<symbol overflow=\"visible\" id=\"glyph2-4\">\n<path style=\"stroke:none;\" d=\"M 0 -5.59375 L -4.546875 -5.59375 C -5.5625 -5.59375 -6.203125 -4.859375 -6.203125 -3.6875 C -6.203125 -2.84375 -5.9375 -2.328125 -5.203125 -1.765625 L -8.390625 -1.765625 L -8.390625 -0.8125 L 0 -0.8125 L 0 -1.765625 L -3.328125 -1.765625 C -4.546875 -1.765625 -5.359375 -2.40625 -5.359375 -3.390625 C -5.359375 -4.078125 -4.96875 -4.640625 -4.171875 -4.640625 L 0 -4.640625 Z M 0 -5.59375 \"/>\n</symbol>\n<symbol overflow=\"visible\" id=\"glyph2-5\">\n<path style=\"stroke:none;\" d=\"M -1.6875 -5.28125 C -2.59375 -5.28125 -3.03125 -4.765625 -3.328125 -3.578125 L -3.546875 -2.65625 C -3.71875 -1.875 -3.984375 -1.546875 -4.40625 -1.546875 C -4.953125 -1.546875 -5.3125 -2.03125 -5.3125 -2.8125 C -5.3125 -3.59375 -4.984375 -4 -4.34375 -4.03125 L -4.34375 -5.03125 C -5.53125 -5.03125 -6.203125 -4.25 -6.203125 -2.859375 C -6.203125 -1.453125 -5.46875 -0.546875 -4.359375 -0.546875 C -3.421875 -0.546875 -2.96875 -1.03125 -2.625 -2.453125 L -2.40625 -3.34375 C -2.25 -4.015625 -2.046875 -4.28125 -1.609375 -4.28125 C -1.046875 -4.28125 -0.71875 -3.71875 -0.71875 -2.875 C -0.71875 -2.015625 -0.921875 -1.53125 -1.84375 -1.40625 L -1.84375 -0.390625 C -0.453125 -0.4375 0.171875 -1.21875 0.171875 -2.796875 C 0.171875 -4.3125 -0.53125 -5.28125 -1.6875 -5.28125 Z M -1.6875 -5.28125 \"/>\n</symbol>\n<symbol overflow=\"visible\" id=\"glyph2-6\">\n<path style=\"stroke:none;\" d=\"M -2.0625 -5.484375 L -2.0625 -4.515625 C -1.109375 -4.359375 -0.71875 -3.859375 -0.71875 -3.046875 C -0.71875 -1.984375 -1.53125 -1.359375 -2.953125 -1.359375 C -4.46875 -1.359375 -5.3125 -1.984375 -5.3125 -3.03125 C -5.3125 -3.828125 -4.84375 -4.328125 -4 -4.453125 L -4 -5.421875 C -5.46875 -5.296875 -6.203125 -4.375 -6.203125 -3.03125 C -6.203125 -1.421875 -4.953125 -0.359375 -2.953125 -0.359375 C -1.015625 -0.359375 0.171875 -1.390625 0.171875 -3.03125 C 0.171875 -4.46875 -0.6875 -5.375 -2.0625 -5.484375 Z M -2.0625 -5.484375 \"/>\n</symbol>\n<symbol overflow=\"visible\" id=\"glyph2-7\">\n<path style=\"stroke:none;\" d=\"M -2.96875 -5.859375 C -5.046875 -5.859375 -6.203125 -4.859375 -6.203125 -3.125 C -6.203125 -1.4375 -5.03125 -0.40625 -3.015625 -0.40625 C -0.984375 -0.40625 0.171875 -1.421875 0.171875 -3.140625 C 0.171875 -4.828125 -0.984375 -5.859375 -2.96875 -5.859375 Z M -2.984375 -4.859375 C -1.5625 -4.859375 -0.71875 -4.203125 -0.71875 -3.140625 C -0.71875 -2.0625 -1.546875 -1.421875 -3.015625 -1.421875 C -4.46875 -1.421875 -5.3125 -2.0625 -5.3125 -3.140625 C -5.3125 -4.21875 -4.46875 -4.859375 -2.984375 -4.859375 Z M -2.984375 -4.859375 \"/>\n</symbol>\n<symbol overflow=\"visible\" id=\"glyph2-8\">\n<path style=\"stroke:none;\" d=\"M -5.1875 -3.6875 L -6.15625 -3.6875 C -6.1875 -3.53125 -6.203125 -3.453125 -6.203125 -3.328125 C -6.203125 -2.703125 -5.828125 -2.234375 -4.9375 -1.671875 L -6.03125 -1.671875 L -6.03125 -0.8125 L 0 -0.8125 L 0 -1.765625 L -3.125 -1.765625 C -4.484375 -1.765625 -5.15625 -2.203125 -5.1875 -3.6875 Z M -5.1875 -3.6875 \"/>\n</symbol>\n<symbol overflow=\"visible\" id=\"glyph2-9\">\n<path style=\"stroke:none;\" d=\"M -2.734375 -5.90625 C -3.609375 -5.90625 -4.15625 -5.828125 -4.609375 -5.65625 C -5.59375 -5.265625 -6.203125 -4.34375 -6.203125 -3.21875 C -6.203125 -1.546875 -4.953125 -0.453125 -2.984375 -0.453125 C -1 -0.453125 0.171875 -1.5 0.171875 -3.203125 C 0.171875 -4.578125 -0.609375 -5.53125 -1.828125 -5.765625 L -1.828125 -4.8125 C -1.03125 -4.546875 -0.71875 -4 -0.71875 -3.234375 C -0.71875 -2.234375 -1.359375 -1.484375 -2.734375 -1.453125 Z M -3.59375 -4.875 C -3.59375 -4.875 -3.546875 -4.875 -3.515625 -4.859375 L -3.515625 -1.484375 C -4.59375 -1.5625 -5.3125 -2.25 -5.3125 -3.203125 C -5.3125 -4.15625 -4.53125 -4.875 -3.59375 -4.875 Z M -3.59375 -4.875 \"/>\n</symbol>\n</g>\n<clipPath id=\"clip1\">\n  <path d=\"M 40.046875 5.480469 L 499 5.480469 L 499 470 L 40.046875 470 Z M 40.046875 5.480469 \"/>\n</clipPath>\n<clipPath id=\"clip2\">\n  <path d=\"M 40.046875 390 L 499 390 L 499 392 L 40.046875 392 Z M 40.046875 390 \"/>\n</clipPath>\n<clipPath id=\"clip3\">\n  <path d=\"M 40.046875 286 L 499 286 L 499 288 L 40.046875 288 Z M 40.046875 286 \"/>\n</clipPath>\n<clipPath id=\"clip4\">\n  <path d=\"M 40.046875 182 L 499 182 L 499 184 L 40.046875 184 Z M 40.046875 182 \"/>\n</clipPath>\n<clipPath id=\"clip5\">\n  <path d=\"M 40.046875 78 L 499 78 L 499 80 L 40.046875 80 Z M 40.046875 78 \"/>\n</clipPath>\n<clipPath id=\"clip6\">\n  <path d=\"M 40.046875 442 L 499.519531 442 L 499.519531 445 L 40.046875 445 Z M 40.046875 442 \"/>\n</clipPath>\n<clipPath id=\"clip7\">\n  <path d=\"M 40.046875 338 L 499.519531 338 L 499.519531 340 L 40.046875 340 Z M 40.046875 338 \"/>\n</clipPath>\n<clipPath id=\"clip8\">\n  <path d=\"M 40.046875 234 L 499.519531 234 L 499.519531 236 L 40.046875 236 Z M 40.046875 234 \"/>\n</clipPath>\n<clipPath id=\"clip9\">\n  <path d=\"M 40.046875 130 L 499.519531 130 L 499.519531 132 L 40.046875 132 Z M 40.046875 130 \"/>\n</clipPath>\n<clipPath id=\"clip10\">\n  <path d=\"M 40.046875 25 L 499.519531 25 L 499.519531 28 L 40.046875 28 Z M 40.046875 25 \"/>\n</clipPath>\n<clipPath id=\"clip11\">\n  <path d=\"M 164 5.480469 L 166 5.480469 L 166 470.6875 L 164 470.6875 Z M 164 5.480469 \"/>\n</clipPath>\n<clipPath id=\"clip12\">\n  <path d=\"M 372 5.480469 L 375 5.480469 L 375 470.6875 L 372 470.6875 Z M 372 5.480469 \"/>\n</clipPath>\n</defs>\n<g id=\"surface91\">\n<rect x=\"0\" y=\"0\" width=\"504\" height=\"504\" style=\"fill:rgb(100%,100%,100%);fill-opacity:1;stroke:none;\"/>\n<rect x=\"0\" y=\"0\" width=\"504\" height=\"504\" style=\"fill:rgb(100%,100%,100%);fill-opacity:1;stroke:none;\"/>\n<path style=\"fill:none;stroke-width:1.422638;stroke-linecap:round;stroke-linejoin:round;stroke:rgb(100%,100%,100%);stroke-opacity:1;stroke-miterlimit:10;\" d=\"M 0 0 L 504 0 L 504 504 L 0 504 Z M 0 0 \"/>\n<g clip-path=\"url(#clip1)\" clip-rule=\"nonzero\">\n<path style=\" stroke:none;fill-rule:nonzero;fill:rgb(92.156863%,92.156863%,92.156863%);fill-opacity:1;\" d=\"M 40.046875 5.480469 L 498.519531 5.480469 L 498.519531 469.6875 L 40.046875 469.6875 Z M 40.046875 5.480469 \"/>\n</g>\n<g clip-path=\"url(#clip2)\" clip-rule=\"nonzero\">\n<path style=\"fill:none;stroke-width:0.711319;stroke-linecap:butt;stroke-linejoin:round;stroke:rgb(100%,100%,100%);stroke-opacity:1;stroke-miterlimit:10;\" d=\"M 40.046875 391.277344 L 498.519531 391.277344 \"/>\n</g>\n<g clip-path=\"url(#clip3)\" clip-rule=\"nonzero\">\n<path style=\"fill:none;stroke-width:0.711319;stroke-linecap:butt;stroke-linejoin:round;stroke:rgb(100%,100%,100%);stroke-opacity:1;stroke-miterlimit:10;\" d=\"M 40.046875 287.078125 L 498.519531 287.078125 \"/>\n</g>\n<g clip-path=\"url(#clip4)\" clip-rule=\"nonzero\">\n<path style=\"fill:none;stroke-width:0.711319;stroke-linecap:butt;stroke-linejoin:round;stroke:rgb(100%,100%,100%);stroke-opacity:1;stroke-miterlimit:10;\" d=\"M 40.046875 182.878906 L 498.519531 182.878906 \"/>\n</g>\n<g clip-path=\"url(#clip5)\" clip-rule=\"nonzero\">\n<path style=\"fill:none;stroke-width:0.711319;stroke-linecap:butt;stroke-linejoin:round;stroke:rgb(100%,100%,100%);stroke-opacity:1;stroke-miterlimit:10;\" d=\"M 40.046875 78.679688 L 498.519531 78.679688 \"/>\n</g>\n<g clip-path=\"url(#clip6)\" clip-rule=\"nonzero\">\n<path style=\"fill:none;stroke-width:1.422638;stroke-linecap:butt;stroke-linejoin:round;stroke:rgb(100%,100%,100%);stroke-opacity:1;stroke-miterlimit:10;\" d=\"M 40.046875 443.375 L 498.519531 443.375 \"/>\n</g>\n<g clip-path=\"url(#clip7)\" clip-rule=\"nonzero\">\n<path style=\"fill:none;stroke-width:1.422638;stroke-linecap:butt;stroke-linejoin:round;stroke:rgb(100%,100%,100%);stroke-opacity:1;stroke-miterlimit:10;\" d=\"M 40.046875 339.175781 L 498.519531 339.175781 \"/>\n</g>\n<g clip-path=\"url(#clip8)\" clip-rule=\"nonzero\">\n<path style=\"fill:none;stroke-width:1.422638;stroke-linecap:butt;stroke-linejoin:round;stroke:rgb(100%,100%,100%);stroke-opacity:1;stroke-miterlimit:10;\" d=\"M 40.046875 234.976562 L 498.519531 234.976562 \"/>\n</g>\n<g clip-path=\"url(#clip9)\" clip-rule=\"nonzero\">\n<path style=\"fill:none;stroke-width:1.422638;stroke-linecap:butt;stroke-linejoin:round;stroke:rgb(100%,100%,100%);stroke-opacity:1;stroke-miterlimit:10;\" d=\"M 40.046875 130.777344 L 498.519531 130.777344 \"/>\n</g>\n<g clip-path=\"url(#clip10)\" clip-rule=\"nonzero\">\n<path style=\"fill:none;stroke-width:1.422638;stroke-linecap:butt;stroke-linejoin:round;stroke:rgb(100%,100%,100%);stroke-opacity:1;stroke-miterlimit:10;\" d=\"M 40.046875 26.578125 L 498.519531 26.578125 \"/>\n</g>\n<g clip-path=\"url(#clip11)\" clip-rule=\"nonzero\">\n<path style=\"fill:none;stroke-width:1.422638;stroke-linecap:butt;stroke-linejoin:round;stroke:rgb(100%,100%,100%);stroke-opacity:1;stroke-miterlimit:10;\" d=\"M 165.085938 469.6875 L 165.085938 5.480469 \"/>\n</g>\n<g clip-path=\"url(#clip12)\" clip-rule=\"nonzero\">\n<path style=\"fill:none;stroke-width:1.422638;stroke-linecap:butt;stroke-linejoin:round;stroke:rgb(100%,100%,100%);stroke-opacity:1;stroke-miterlimit:10;\" d=\"M 373.480469 469.6875 L 373.480469 5.480469 \"/>\n</g>\n<path style=\"fill-rule:nonzero;fill:rgb(20%,20%,20%);fill-opacity:1;stroke-width:0.944882;stroke-linecap:round;stroke-linejoin:round;stroke:rgb(20%,20%,20%);stroke-opacity:1;stroke-miterlimit:10;\" d=\"M 167.539062 443.375 C 167.539062 446.648438 162.628906 446.648438 162.628906 443.375 C 162.628906 440.101562 167.539062 440.101562 167.539062 443.375 \"/>\n<path style=\"fill-rule:nonzero;fill:rgb(20%,20%,20%);fill-opacity:1;stroke-width:0.944882;stroke-linecap:round;stroke-linejoin:round;stroke:rgb(20%,20%,20%);stroke-opacity:1;stroke-miterlimit:10;\" d=\"M 167.539062 448.585938 C 167.539062 451.859375 162.628906 451.859375 162.628906 448.585938 C 162.628906 445.3125 167.539062 445.3125 167.539062 448.585938 \"/>\n<path style=\"fill:none;stroke-width:1.422638;stroke-linecap:butt;stroke-linejoin:round;stroke:rgb(20%,20%,20%);stroke-opacity:1;stroke-miterlimit:10;\" d=\"M 165.085938 193.296875 L 165.085938 47.417969 \"/>\n<path style=\"fill:none;stroke-width:1.422638;stroke-linecap:butt;stroke-linejoin:round;stroke:rgb(20%,20%,20%);stroke-opacity:1;stroke-miterlimit:10;\" d=\"M 165.085938 292.289062 L 165.085938 438.164062 \"/>\n<path style=\"fill-rule:nonzero;fill:rgb(100%,100%,100%);fill-opacity:1;stroke-width:1.422638;stroke-linecap:round;stroke-linejoin:round;stroke:rgb(20%,20%,20%);stroke-opacity:1;stroke-miterlimit:10;\" d=\"M 86.9375 193.296875 L 86.9375 292.289062 L 243.234375 292.289062 L 243.234375 193.296875 Z M 86.9375 193.296875 \"/>\n<path style=\"fill:none;stroke-width:2.845276;stroke-linecap:butt;stroke-linejoin:round;stroke:rgb(20%,20%,20%);stroke-opacity:1;stroke-miterlimit:10;\" d=\"M 86.9375 240.1875 L 243.234375 240.1875 \"/>\n<path style=\"fill-rule:nonzero;fill:rgb(20%,20%,20%);fill-opacity:1;stroke-width:0.944882;stroke-linecap:round;stroke-linejoin:round;stroke:rgb(20%,20%,20%);stroke-opacity:1;stroke-miterlimit:10;\" d=\"M 375.9375 386.066406 C 375.9375 389.339844 371.027344 389.339844 371.027344 386.066406 C 371.027344 382.792969 375.9375 382.792969 375.9375 386.066406 \"/>\n<path style=\"fill-rule:nonzero;fill:rgb(20%,20%,20%);fill-opacity:1;stroke-width:0.944882;stroke-linecap:round;stroke-linejoin:round;stroke:rgb(20%,20%,20%);stroke-opacity:1;stroke-miterlimit:10;\" d=\"M 375.9375 375.648438 C 375.9375 378.917969 371.027344 378.917969 371.027344 375.648438 C 371.027344 372.375 375.9375 372.375 375.9375 375.648438 \"/>\n<path style=\"fill-rule:nonzero;fill:rgb(20%,20%,20%);fill-opacity:1;stroke-width:0.944882;stroke-linecap:round;stroke-linejoin:round;stroke:rgb(20%,20%,20%);stroke-opacity:1;stroke-miterlimit:10;\" d=\"M 375.9375 427.746094 C 375.9375 431.019531 371.027344 431.019531 371.027344 427.746094 C 371.027344 424.472656 375.9375 424.472656 375.9375 427.746094 \"/>\n<path style=\"fill:none;stroke-width:1.422638;stroke-linecap:butt;stroke-linejoin:round;stroke:rgb(20%,20%,20%);stroke-opacity:1;stroke-miterlimit:10;\" d=\"M 373.480469 125.570312 L 373.480469 26.578125 \"/>\n<path style=\"fill:none;stroke-width:1.422638;stroke-linecap:butt;stroke-linejoin:round;stroke:rgb(20%,20%,20%);stroke-opacity:1;stroke-miterlimit:10;\" d=\"M 373.480469 219.347656 L 373.480469 360.015625 \"/>\n<path style=\"fill-rule:nonzero;fill:rgb(100%,100%,100%);fill-opacity:1;stroke-width:1.422638;stroke-linecap:round;stroke-linejoin:round;stroke:rgb(20%,20%,20%);stroke-opacity:1;stroke-miterlimit:10;\" d=\"M 295.332031 125.570312 L 295.332031 219.347656 L 451.632812 219.347656 L 451.632812 125.570312 Z M 295.332031 125.570312 \"/>\n<path style=\"fill:none;stroke-width:2.845276;stroke-linecap:butt;stroke-linejoin:round;stroke:rgb(20%,20%,20%);stroke-opacity:1;stroke-miterlimit:10;\" d=\"M 295.332031 177.667969 L 451.632812 177.667969 \"/>\n<g style=\"fill:rgb(30.196078%,30.196078%,30.196078%);fill-opacity:1;\">\n  <use xlink:href=\"#glyph0-1\" x=\"24.773438\" y=\"446.765625\"/>\n  <use xlink:href=\"#glyph0-2\" x=\"29.944237\" y=\"446.765625\"/>\n</g>\n<g style=\"fill:rgb(30.196078%,30.196078%,30.196078%);fill-opacity:1;\">\n  <use xlink:href=\"#glyph0-3\" x=\"24.773438\" y=\"342.566406\"/>\n  <use xlink:href=\"#glyph0-2\" x=\"29.944237\" y=\"342.566406\"/>\n</g>\n<g style=\"fill:rgb(30.196078%,30.196078%,30.196078%);fill-opacity:1;\">\n  <use xlink:href=\"#glyph0-4\" x=\"24.773438\" y=\"238.367188\"/>\n  <use xlink:href=\"#glyph0-2\" x=\"29.944237\" y=\"238.367188\"/>\n</g>\n<g style=\"fill:rgb(30.196078%,30.196078%,30.196078%);fill-opacity:1;\">\n  <use xlink:href=\"#glyph0-5\" x=\"24.773438\" y=\"134.167969\"/>\n  <use xlink:href=\"#glyph0-2\" x=\"29.944237\" y=\"134.167969\"/>\n</g>\n<g style=\"fill:rgb(30.196078%,30.196078%,30.196078%);fill-opacity:1;\">\n  <use xlink:href=\"#glyph0-6\" x=\"19.601562\" y=\"29.96875\"/>\n  <use xlink:href=\"#glyph0-2\" x=\"24.772362\" y=\"29.96875\"/>\n  <use xlink:href=\"#glyph0-2\" x=\"29.943162\" y=\"29.96875\"/>\n</g>\n<path style=\"fill:none;stroke-width:1.422638;stroke-linecap:butt;stroke-linejoin:round;stroke:rgb(20%,20%,20%);stroke-opacity:1;stroke-miterlimit:10;\" d=\"M 37.308594 443.375 L 40.046875 443.375 \"/>\n<path style=\"fill:none;stroke-width:1.422638;stroke-linecap:butt;stroke-linejoin:round;stroke:rgb(20%,20%,20%);stroke-opacity:1;stroke-miterlimit:10;\" d=\"M 37.308594 339.175781 L 40.046875 339.175781 \"/>\n<path style=\"fill:none;stroke-width:1.422638;stroke-linecap:butt;stroke-linejoin:round;stroke:rgb(20%,20%,20%);stroke-opacity:1;stroke-miterlimit:10;\" d=\"M 37.308594 234.976562 L 40.046875 234.976562 \"/>\n<path style=\"fill:none;stroke-width:1.422638;stroke-linecap:butt;stroke-linejoin:round;stroke:rgb(20%,20%,20%);stroke-opacity:1;stroke-miterlimit:10;\" d=\"M 37.308594 130.777344 L 40.046875 130.777344 \"/>\n<path style=\"fill:none;stroke-width:1.422638;stroke-linecap:butt;stroke-linejoin:round;stroke:rgb(20%,20%,20%);stroke-opacity:1;stroke-miterlimit:10;\" d=\"M 37.308594 26.578125 L 40.046875 26.578125 \"/>\n<path style=\"fill:none;stroke-width:1.422638;stroke-linecap:butt;stroke-linejoin:round;stroke:rgb(20%,20%,20%);stroke-opacity:1;stroke-miterlimit:10;\" d=\"M 165.085938 472.425781 L 165.085938 469.6875 \"/>\n<path style=\"fill:none;stroke-width:1.422638;stroke-linecap:butt;stroke-linejoin:round;stroke:rgb(20%,20%,20%);stroke-opacity:1;stroke-miterlimit:10;\" d=\"M 373.480469 472.425781 L 373.480469 469.6875 \"/>\n<g style=\"fill:rgb(30.196078%,30.196078%,30.196078%);fill-opacity:1;\">\n  <use xlink:href=\"#glyph0-7\" x=\"138.980469\" y=\"481.398438\"/>\n  <use xlink:href=\"#glyph0-8\" x=\"141.565869\" y=\"481.398438\"/>\n  <use xlink:href=\"#glyph0-9\" x=\"144.662769\" y=\"481.398438\"/>\n  <use xlink:href=\"#glyph0-9\" x=\"149.833569\" y=\"481.398438\"/>\n  <use xlink:href=\"#glyph0-10\" x=\"155.004369\" y=\"481.398438\"/>\n  <use xlink:href=\"#glyph0-8\" x=\"157.589769\" y=\"481.398438\"/>\n  <use xlink:href=\"#glyph0-9\" x=\"160.686669\" y=\"481.398438\"/>\n  <use xlink:href=\"#glyph0-11\" x=\"165.857469\" y=\"481.398438\"/>\n  <use xlink:href=\"#glyph0-12\" x=\"171.028269\" y=\"481.398438\"/>\n  <use xlink:href=\"#glyph0-13\" x=\"176.199069\" y=\"481.398438\"/>\n  <use xlink:href=\"#glyph0-9\" x=\"180.849069\" y=\"481.398438\"/>\n  <use xlink:href=\"#glyph0-11\" x=\"186.019869\" y=\"481.398438\"/>\n</g>\n<g style=\"fill:rgb(30.196078%,30.196078%,30.196078%);fill-opacity:1;\">\n  <use xlink:href=\"#glyph0-14\" x=\"355.386719\" y=\"481.398438\"/>\n  <use xlink:href=\"#glyph0-15\" x=\"360.036719\" y=\"481.398438\"/>\n  <use xlink:href=\"#glyph0-16\" x=\"362.622119\" y=\"481.398438\"/>\n  <use xlink:href=\"#glyph0-17\" x=\"367.792919\" y=\"481.398438\"/>\n  <use xlink:href=\"#glyph0-11\" x=\"372.963719\" y=\"481.398438\"/>\n  <use xlink:href=\"#glyph0-16\" x=\"378.134519\" y=\"481.398438\"/>\n  <use xlink:href=\"#glyph0-8\" x=\"383.305319\" y=\"481.398438\"/>\n  <use xlink:href=\"#glyph0-11\" x=\"386.402219\" y=\"481.398438\"/>\n</g>\n<g style=\"fill:rgb(0%,0%,0%);fill-opacity:1;\">\n  <use xlink:href=\"#glyph1-1\" x=\"255.542969\" y=\"495.519531\"/>\n  <use xlink:href=\"#glyph1-2\" x=\"258.095969\" y=\"495.519531\"/>\n  <use xlink:href=\"#glyph1-3\" x=\"264.489969\" y=\"495.519531\"/>\n  <use xlink:href=\"#glyph1-4\" x=\"270.883969\" y=\"495.519531\"/>\n  <use xlink:href=\"#glyph1-5\" x=\"276.633969\" y=\"495.519531\"/>\n</g>\n<g style=\"fill:rgb(0%,0%,0%);fill-opacity:1;\">\n  <use xlink:href=\"#glyph2-1\" x=\"13.863281\" y=\"264.421875\"/>\n  <use xlink:href=\"#glyph2-2\" x=\"13.863281\" y=\"254.842375\"/>\n  <use xlink:href=\"#glyph2-3\" x=\"13.863281\" y=\"248.448375\"/>\n  <use xlink:href=\"#glyph2-4\" x=\"13.863281\" y=\"245.251375\"/>\n  <use xlink:href=\"#glyph2-5\" x=\"13.863281\" y=\"238.857375\"/>\n  <use xlink:href=\"#glyph2-6\" x=\"13.863281\" y=\"233.107375\"/>\n  <use xlink:href=\"#glyph2-7\" x=\"13.863281\" y=\"227.357375\"/>\n  <use xlink:href=\"#glyph2-8\" x=\"13.863281\" y=\"220.963375\"/>\n  <use xlink:href=\"#glyph2-9\" x=\"13.863281\" y=\"217.133875\"/>\n</g>\n</g>\n</svg>\n"
     },
     "execution_count": 15,
     "metadata": {
      "image/svg+xml": {
       "isolated": true
      }
     },
     "output_type": "execute_result"
    }
   ],
   "source": [
    "ggplot(data=exams, aes(x=lunch, y=mathscore, group=lunch))+geom_boxplot()\n",
    "exams %>%\n",
    "  group_by(lunch) %>%\n",
    "  summarise(mean_lunch = mean(mathscore), sd_lunch = sd(mathscore), n = n())\n",
    "exams<-exams %>%\n",
    "    mutate(numLunch=ifelse(lunch==\"free/reduced\", 1, 0))\n",
    "simpleLunch<-lm(mathscore~numLunch, data=exams)\n",
    "summary(simpleLunch)"
   ]
  },
  {
   "cell_type": "markdown",
   "metadata": {
    "collapsed": false
   },
   "source": [
    "**Question** What we have learned about the effect of free/reduced lunch has on the expected math scores of students."
   ]
  },
  {
   "cell_type": "code",
   "execution_count": 0,
   "metadata": {
    "collapsed": false
   },
   "outputs": [
   ],
   "source": [
   ]
  },
  {
   "cell_type": "markdown",
   "metadata": {
    "collapsed": false
   },
   "source": [
    "**Question** Run a similar analysis on testprep. Discuss effect of test prep on math scores."
   ]
  },
  {
   "cell_type": "code",
   "execution_count": 16,
   "metadata": {
    "collapsed": false
   },
   "outputs": [
    {
     "data": {
      "text/html": [
       "<table>\n",
       "<thead><tr><th scope=col>testprep</th><th scope=col>mean_testprep</th><th scope=col>sd_testprep</th><th scope=col>n</th></tr></thead>\n",
       "<tbody>\n",
       "\t<tr><td>completed</td><td>68.94817 </td><td>14.70382 </td><td>328      </td></tr>\n",
       "\t<tr><td>none     </td><td>65.82440 </td><td>15.10674 </td><td>672      </td></tr>\n",
       "</tbody>\n",
       "</table>\n"
      ]
     },
     "execution_count": 16,
     "metadata": {
     },
     "output_type": "execute_result"
    },
    {
     "data": {
      "text/plain": [
       "\n",
       "Call:\n",
       "lm(formula = mathscore ~ numtestprep, data = exams)\n",
       "\n",
       "Residuals:\n",
       "    Min      1Q  Median      3Q     Max \n",
       "-49.948  -9.948   1.052  10.052  34.176 \n",
       "\n",
       "Coefficients:\n",
       "            Estimate Std. Error t value Pr(>|t|)    \n",
       "(Intercept)  65.8244     0.5777 113.941  < 2e-16 ***\n",
       "numtestprep   3.1238     1.0087   3.097  0.00201 ** \n",
       "---\n",
       "Signif. codes:  0 ‘***’ 0.001 ‘**’ 0.01 ‘*’ 0.05 ‘.’ 0.1 ‘ ’ 1\n",
       "\n",
       "Residual standard error: 14.98 on 998 degrees of freedom\n",
       "Multiple R-squared:  0.009518,\tAdjusted R-squared:  0.008525 \n",
       "F-statistic:  9.59 on 1 and 998 DF,  p-value: 0.002011\n"
      ]
     },
     "execution_count": 16,
     "metadata": {
     },
     "output_type": "execute_result"
    },
    {
     "data": {
      "image/svg+xml": "<?xml version=\"1.0\" encoding=\"UTF-8\"?>\n<svg xmlns=\"http://www.w3.org/2000/svg\" xmlns:xlink=\"http://www.w3.org/1999/xlink\" width=\"504pt\" height=\"504pt\" viewBox=\"0 0 504 504\" version=\"1.1\">\n<defs>\n<g>\n<symbol overflow=\"visible\" id=\"glyph0-0\">\n<path style=\"stroke:none;\" d=\"\"/>\n</symbol>\n<symbol overflow=\"visible\" id=\"glyph0-1\">\n<path style=\"stroke:none;\" d=\"M 4.75 -4.65625 C 4.75 -5.765625 3.890625 -6.59375 2.640625 -6.59375 C 1.296875 -6.59375 0.515625 -5.90625 0.46875 -4.296875 L 1.28125 -4.296875 C 1.34375 -5.40625 1.796875 -5.875 2.609375 -5.875 C 3.359375 -5.875 3.90625 -5.34375 3.90625 -4.640625 C 3.90625 -4.125 3.609375 -3.671875 3.015625 -3.34375 L 2.171875 -2.859375 C 0.796875 -2.078125 0.390625 -1.453125 0.3125 0 L 4.703125 0 L 4.703125 -0.8125 L 1.234375 -0.8125 C 1.3125 -1.34375 1.625 -1.6875 2.421875 -2.171875 L 3.359375 -2.671875 C 4.28125 -3.15625 4.75 -3.84375 4.75 -4.65625 Z M 4.75 -4.65625 \"/>\n</symbol>\n<symbol overflow=\"visible\" id=\"glyph0-2\">\n<path style=\"stroke:none;\" d=\"M 4.71875 -3.171875 C 4.71875 -5.453125 3.984375 -6.59375 2.5625 -6.59375 C 1.140625 -6.59375 0.40625 -5.4375 0.40625 -3.21875 C 0.40625 -1 1.140625 0.140625 2.5625 0.140625 C 3.953125 0.140625 4.71875 -1 4.71875 -3.171875 Z M 3.875 -3.25 C 3.875 -1.375 3.453125 -0.546875 2.53125 -0.546875 C 1.671875 -0.546875 1.234375 -1.40625 1.234375 -3.21875 C 1.234375 -5.015625 1.671875 -5.859375 2.5625 -5.859375 C 3.4375 -5.859375 3.875 -5.015625 3.875 -3.25 Z M 3.875 -3.25 \"/>\n</symbol>\n<symbol overflow=\"visible\" id=\"glyph0-3\">\n<path style=\"stroke:none;\" d=\"M 4.828125 -1.578125 L 4.828125 -2.3125 L 3.859375 -2.3125 L 3.859375 -6.59375 L 3.25 -6.59375 L 0.265625 -2.4375 L 0.265625 -1.578125 L 3.046875 -1.578125 L 3.046875 0 L 3.859375 0 L 3.859375 -1.578125 Z M 3.046875 -2.3125 L 0.96875 -2.3125 L 3.046875 -5.203125 Z M 3.046875 -2.3125 \"/>\n</symbol>\n<symbol overflow=\"visible\" id=\"glyph0-4\">\n<path style=\"stroke:none;\" d=\"M 4.765625 -2.046875 C 4.765625 -3.265625 3.9375 -4.09375 2.75 -4.09375 C 2.09375 -4.09375 1.59375 -3.84375 1.234375 -3.359375 C 1.25 -4.96875 1.765625 -5.859375 2.703125 -5.859375 C 3.28125 -5.859375 3.6875 -5.5 3.8125 -4.875 L 4.625 -4.875 C 4.46875 -5.953125 3.765625 -6.59375 2.765625 -6.59375 C 1.234375 -6.59375 0.40625 -5.296875 0.40625 -3 C 0.40625 -0.953125 1.109375 0.140625 2.609375 0.140625 C 3.875 0.140625 4.765625 -0.75 4.765625 -2.046875 Z M 3.9375 -1.984375 C 3.9375 -1.15625 3.375 -0.578125 2.625 -0.578125 C 1.859375 -0.578125 1.28125 -1.1875 1.28125 -2.03125 C 1.28125 -2.84375 1.84375 -3.375 2.65625 -3.375 C 3.4375 -3.375 3.9375 -2.859375 3.9375 -1.984375 Z M 3.9375 -1.984375 \"/>\n</symbol>\n<symbol overflow=\"visible\" id=\"glyph0-5\">\n<path style=\"stroke:none;\" d=\"M 4.765625 -1.859375 C 4.765625 -2.59375 4.390625 -3.109375 3.640625 -3.46875 C 4.3125 -3.875 4.53125 -4.21875 4.53125 -4.828125 C 4.53125 -5.859375 3.734375 -6.59375 2.5625 -6.59375 C 1.390625 -6.59375 0.578125 -5.859375 0.578125 -4.828125 C 0.578125 -4.21875 0.796875 -3.890625 1.46875 -3.46875 C 0.71875 -3.109375 0.34375 -2.59375 0.34375 -1.875 C 0.34375 -0.65625 1.25 0.140625 2.5625 0.140625 C 3.859375 0.140625 4.765625 -0.65625 4.765625 -1.859375 Z M 3.703125 -4.8125 C 3.703125 -4.203125 3.25 -3.796875 2.5625 -3.796875 C 1.875 -3.796875 1.40625 -4.203125 1.40625 -4.828125 C 1.40625 -5.453125 1.875 -5.859375 2.5625 -5.859375 C 3.25 -5.859375 3.703125 -5.453125 3.703125 -4.8125 Z M 3.9375 -1.84375 C 3.9375 -1.0625 3.375 -0.578125 2.53125 -0.578125 C 1.734375 -0.578125 1.1875 -1.078125 1.1875 -1.84375 C 1.1875 -2.625 1.734375 -3.109375 2.5625 -3.109375 C 3.375 -3.109375 3.9375 -2.625 3.9375 -1.84375 Z M 3.9375 -1.84375 \"/>\n</symbol>\n<symbol overflow=\"visible\" id=\"glyph0-6\">\n<path style=\"stroke:none;\" d=\"M 3.21875 0 L 3.21875 -6.59375 L 2.6875 -6.59375 C 2.40625 -5.578125 2.21875 -5.4375 0.953125 -5.28125 L 0.953125 -4.6875 L 2.40625 -4.6875 L 2.40625 0 Z M 3.21875 0 \"/>\n</symbol>\n<symbol overflow=\"visible\" id=\"glyph0-7\">\n<path style=\"stroke:none;\" d=\"M 4.4375 -1.671875 L 3.65625 -1.671875 C 3.53125 -0.890625 3.125 -0.578125 2.46875 -0.578125 C 1.609375 -0.578125 1.09375 -1.234375 1.09375 -2.390625 C 1.09375 -3.609375 1.59375 -4.296875 2.4375 -4.296875 C 3.09375 -4.296875 3.5 -3.90625 3.59375 -3.234375 L 4.375 -3.234375 C 4.28125 -4.421875 3.546875 -5.015625 2.453125 -5.015625 C 1.140625 -5.015625 0.28125 -4 0.28125 -2.390625 C 0.28125 -0.8125 1.125 0.140625 2.4375 0.140625 C 3.609375 0.140625 4.34375 -0.5625 4.4375 -1.671875 Z M 4.4375 -1.671875 \"/>\n</symbol>\n<symbol overflow=\"visible\" id=\"glyph0-8\">\n<path style=\"stroke:none;\" d=\"M 4.734375 -2.40625 C 4.734375 -4.078125 3.9375 -5.015625 2.53125 -5.015625 C 1.15625 -5.015625 0.328125 -4.078125 0.328125 -2.4375 C 0.328125 -0.796875 1.15625 0.140625 2.53125 0.140625 C 3.90625 0.140625 4.734375 -0.796875 4.734375 -2.40625 Z M 3.9375 -2.40625 C 3.9375 -1.265625 3.390625 -0.578125 2.53125 -0.578125 C 1.671875 -0.578125 1.140625 -1.25 1.140625 -2.4375 C 1.140625 -3.609375 1.671875 -4.296875 2.53125 -4.296875 C 3.40625 -4.296875 3.9375 -3.609375 3.9375 -2.40625 Z M 3.9375 -2.40625 \"/>\n</symbol>\n<symbol overflow=\"visible\" id=\"glyph0-9\">\n<path style=\"stroke:none;\" d=\"M 7.0625 0 L 7.0625 -3.65625 C 7.0625 -4.53125 6.578125 -5.015625 5.671875 -5.015625 C 5.015625 -5.015625 4.625 -4.8125 4.171875 -4.265625 C 3.890625 -4.78125 3.5 -5.015625 2.859375 -5.015625 C 2.21875 -5.015625 1.78125 -4.765625 1.359375 -4.1875 L 1.359375 -4.875 L 0.65625 -4.875 L 0.65625 0 L 1.4375 0 L 1.4375 -3.0625 C 1.4375 -3.765625 1.9375 -4.328125 2.578125 -4.328125 C 3.15625 -4.328125 3.484375 -3.984375 3.484375 -3.359375 L 3.484375 0 L 4.25 0 L 4.25 -3.0625 C 4.25 -3.765625 4.765625 -4.328125 5.40625 -4.328125 C 5.96875 -4.328125 6.296875 -3.96875 6.296875 -3.359375 L 6.296875 0 Z M 7.0625 0 \"/>\n</symbol>\n<symbol overflow=\"visible\" id=\"glyph0-10\">\n<path style=\"stroke:none;\" d=\"M 4.859375 -2.390625 C 4.859375 -4.03125 4.0625 -5.015625 2.765625 -5.015625 C 2.109375 -5.015625 1.578125 -4.71875 1.21875 -4.140625 L 1.21875 -4.875 L 0.515625 -4.875 L 0.515625 2.03125 L 1.28125 2.03125 L 1.28125 -0.578125 C 1.6875 -0.078125 2.140625 0.140625 2.78125 0.140625 C 4.03125 0.140625 4.859375 -0.84375 4.859375 -2.390625 Z M 4.046875 -2.40625 C 4.046875 -1.296875 3.484375 -0.578125 2.640625 -0.578125 C 1.828125 -0.578125 1.28125 -1.25 1.28125 -2.40625 C 1.28125 -3.546875 1.828125 -4.28125 2.640625 -4.28125 C 3.5 -4.28125 4.046875 -3.5625 4.046875 -2.40625 Z M 4.046875 -2.40625 \"/>\n</symbol>\n<symbol overflow=\"visible\" id=\"glyph0-11\">\n<path style=\"stroke:none;\" d=\"M 1.40625 0 L 1.40625 -6.78125 L 0.625 -6.78125 L 0.625 0 Z M 1.40625 0 \"/>\n</symbol>\n<symbol overflow=\"visible\" id=\"glyph0-12\">\n<path style=\"stroke:none;\" d=\"M 4.765625 -2.21875 C 4.765625 -2.921875 4.71875 -3.359375 4.578125 -3.734375 C 4.265625 -4.53125 3.515625 -5.015625 2.609375 -5.015625 C 1.25 -5.015625 0.375 -4 0.375 -2.40625 C 0.375 -0.8125 1.21875 0.140625 2.578125 0.140625 C 3.703125 0.140625 4.46875 -0.5 4.671875 -1.484375 L 3.890625 -1.484375 C 3.671875 -0.84375 3.234375 -0.578125 2.609375 -0.578125 C 1.796875 -0.578125 1.203125 -1.09375 1.1875 -2.21875 Z M 3.9375 -2.90625 C 3.9375 -2.90625 3.9375 -2.859375 3.9375 -2.84375 L 1.203125 -2.84375 C 1.265625 -3.703125 1.8125 -4.296875 2.59375 -4.296875 C 3.359375 -4.296875 3.9375 -3.65625 3.9375 -2.90625 Z M 3.9375 -2.90625 \"/>\n</symbol>\n<symbol overflow=\"visible\" id=\"glyph0-13\">\n<path style=\"stroke:none;\" d=\"M 2.359375 0 L 2.359375 -0.65625 C 2.265625 -0.625 2.140625 -0.609375 1.984375 -0.609375 C 1.65625 -0.609375 1.5625 -0.703125 1.5625 -1.046875 L 1.5625 -4.234375 L 2.359375 -4.234375 L 2.359375 -4.875 L 1.5625 -4.875 L 1.5625 -6.203125 L 0.796875 -6.203125 L 0.796875 -4.875 L 0.125 -4.875 L 0.125 -4.234375 L 0.796875 -4.234375 L 0.796875 -0.703125 C 0.796875 -0.21875 1.125 0.0625 1.734375 0.0625 C 1.921875 0.0625 2.09375 0.046875 2.359375 0 Z M 2.359375 0 \"/>\n</symbol>\n<symbol overflow=\"visible\" id=\"glyph0-14\">\n<path style=\"stroke:none;\" d=\"M 4.609375 0 L 4.609375 -6.78125 L 3.828125 -6.78125 L 3.828125 -4.265625 C 3.5 -4.75 2.984375 -5.015625 2.328125 -5.015625 C 1.0625 -5.015625 0.234375 -4.03125 0.234375 -2.484375 C 0.234375 -0.84375 1.046875 0.140625 2.359375 0.140625 C 3.03125 0.140625 3.5 -0.109375 3.90625 -0.71875 L 3.90625 0 Z M 3.828125 -2.421875 C 3.828125 -1.296875 3.296875 -0.578125 2.46875 -0.578125 C 1.625 -0.578125 1.046875 -1.296875 1.046875 -2.4375 C 1.046875 -3.5625 1.625 -4.28125 2.46875 -4.28125 C 3.296875 -4.28125 3.828125 -3.546875 3.828125 -2.421875 Z M 3.828125 -2.421875 \"/>\n</symbol>\n<symbol overflow=\"visible\" id=\"glyph0-15\">\n<path style=\"stroke:none;\" d=\"M 4.53125 0 L 4.53125 -3.6875 C 4.53125 -4.484375 3.921875 -5.015625 2.984375 -5.015625 C 2.265625 -5.015625 1.796875 -4.734375 1.359375 -4.046875 L 1.359375 -4.875 L 0.65625 -4.875 L 0.65625 0 L 1.421875 0 L 1.421875 -2.6875 C 1.421875 -3.6875 1.96875 -4.328125 2.75 -4.328125 C 3.359375 -4.328125 3.75 -3.953125 3.75 -3.375 L 3.75 0 Z M 4.53125 0 \"/>\n</symbol>\n<symbol overflow=\"visible\" id=\"glyph1-0\">\n<path style=\"stroke:none;\" d=\"\"/>\n</symbol>\n<symbol overflow=\"visible\" id=\"glyph1-1\">\n<path style=\"stroke:none;\" d=\"M 2.921875 0 L 2.921875 -0.8125 C 2.796875 -0.765625 2.640625 -0.765625 2.46875 -0.765625 C 2.046875 -0.765625 1.9375 -0.875 1.9375 -1.296875 L 1.9375 -5.25 L 2.921875 -5.25 L 2.921875 -6.03125 L 1.9375 -6.03125 L 1.9375 -7.6875 L 0.984375 -7.6875 L 0.984375 -6.03125 L 0.15625 -6.03125 L 0.15625 -5.25 L 0.984375 -5.25 L 0.984375 -0.875 C 0.984375 -0.265625 1.390625 0.078125 2.140625 0.078125 C 2.375 0.078125 2.59375 0.0625 2.921875 0 Z M 2.921875 0 \"/>\n</symbol>\n<symbol overflow=\"visible\" id=\"glyph1-2\">\n<path style=\"stroke:none;\" d=\"M 5.90625 -2.734375 C 5.90625 -3.609375 5.828125 -4.15625 5.65625 -4.609375 C 5.265625 -5.59375 4.34375 -6.203125 3.21875 -6.203125 C 1.546875 -6.203125 0.453125 -4.953125 0.453125 -2.984375 C 0.453125 -1 1.5 0.171875 3.203125 0.171875 C 4.578125 0.171875 5.53125 -0.609375 5.765625 -1.828125 L 4.8125 -1.828125 C 4.546875 -1.03125 4 -0.71875 3.234375 -0.71875 C 2.234375 -0.71875 1.484375 -1.359375 1.453125 -2.734375 Z M 4.875 -3.59375 C 4.875 -3.59375 4.875 -3.546875 4.859375 -3.515625 L 1.484375 -3.515625 C 1.5625 -4.59375 2.25 -5.3125 3.203125 -5.3125 C 4.15625 -5.3125 4.875 -4.53125 4.875 -3.59375 Z M 4.875 -3.59375 \"/>\n</symbol>\n<symbol overflow=\"visible\" id=\"glyph1-3\">\n<path style=\"stroke:none;\" d=\"M 5.28125 -1.6875 C 5.28125 -2.59375 4.765625 -3.03125 3.578125 -3.328125 L 2.65625 -3.546875 C 1.875 -3.71875 1.546875 -3.984375 1.546875 -4.40625 C 1.546875 -4.953125 2.03125 -5.3125 2.8125 -5.3125 C 3.59375 -5.3125 4 -4.984375 4.03125 -4.34375 L 5.03125 -4.34375 C 5.03125 -5.53125 4.25 -6.203125 2.859375 -6.203125 C 1.453125 -6.203125 0.546875 -5.46875 0.546875 -4.359375 C 0.546875 -3.421875 1.03125 -2.96875 2.453125 -2.625 L 3.34375 -2.40625 C 4.015625 -2.25 4.28125 -2.046875 4.28125 -1.609375 C 4.28125 -1.046875 3.71875 -0.71875 2.875 -0.71875 C 2.015625 -0.71875 1.53125 -0.921875 1.40625 -1.84375 L 0.390625 -1.84375 C 0.4375 -0.453125 1.21875 0.171875 2.796875 0.171875 C 4.3125 0.171875 5.28125 -0.53125 5.28125 -1.6875 Z M 5.28125 -1.6875 \"/>\n</symbol>\n<symbol overflow=\"visible\" id=\"glyph1-4\">\n<path style=\"stroke:none;\" d=\"M 6.015625 -2.953125 C 6.015625 -4.984375 5.03125 -6.203125 3.421875 -6.203125 C 2.609375 -6.203125 1.953125 -5.828125 1.5 -5.125 L 1.5 -6.03125 L 0.625 -6.03125 L 0.625 2.5 L 1.59375 2.5 L 1.59375 -0.71875 C 2.09375 -0.109375 2.65625 0.171875 3.4375 0.171875 C 4.984375 0.171875 6.015625 -1.03125 6.015625 -2.953125 Z M 5.015625 -2.984375 C 5.015625 -1.609375 4.3125 -0.71875 3.265625 -0.71875 C 2.25 -0.71875 1.59375 -1.546875 1.59375 -2.96875 C 1.59375 -4.375 2.25 -5.296875 3.265625 -5.296875 C 4.328125 -5.296875 5.015625 -4.421875 5.015625 -2.984375 Z M 5.015625 -2.984375 \"/>\n</symbol>\n<symbol overflow=\"visible\" id=\"glyph1-5\">\n<path style=\"stroke:none;\" d=\"M 3.6875 -5.1875 L 3.6875 -6.15625 C 3.53125 -6.1875 3.453125 -6.203125 3.328125 -6.203125 C 2.703125 -6.203125 2.234375 -5.828125 1.671875 -4.9375 L 1.671875 -6.03125 L 0.8125 -6.03125 L 0.8125 0 L 1.765625 0 L 1.765625 -3.125 C 1.765625 -4.484375 2.203125 -5.15625 3.6875 -5.1875 Z M 3.6875 -5.1875 \"/>\n</symbol>\n<symbol overflow=\"visible\" id=\"glyph2-0\">\n<path style=\"stroke:none;\" d=\"\"/>\n</symbol>\n<symbol overflow=\"visible\" id=\"glyph2-1\">\n<path style=\"stroke:none;\" d=\"M 0 -8.734375 L -4.515625 -8.734375 C -5.59375 -8.734375 -6.203125 -8.140625 -6.203125 -7.015625 C -6.203125 -6.203125 -5.953125 -5.734375 -5.28125 -5.15625 C -5.921875 -4.8125 -6.203125 -4.328125 -6.203125 -3.546875 C -6.203125 -2.734375 -5.90625 -2.203125 -5.171875 -1.6875 L -6.03125 -1.6875 L -6.03125 -0.8125 L 0 -0.8125 L 0 -1.765625 L -3.78125 -1.765625 C -4.65625 -1.765625 -5.359375 -2.40625 -5.359375 -3.1875 C -5.359375 -3.90625 -4.921875 -4.296875 -4.15625 -4.296875 L 0 -4.296875 L 0 -5.25 L -3.78125 -5.25 C -4.65625 -5.25 -5.359375 -5.90625 -5.359375 -6.6875 C -5.359375 -7.390625 -4.90625 -7.78125 -4.15625 -7.78125 L 0 -7.78125 Z M 0 -8.734375 \"/>\n</symbol>\n<symbol overflow=\"visible\" id=\"glyph2-2\">\n<path style=\"stroke:none;\" d=\"M -0.015625 -6.15625 L -0.75 -6.15625 C -0.71875 -6.046875 -0.71875 -6 -0.71875 -5.953125 C -0.71875 -5.609375 -0.890625 -5.421875 -1.203125 -5.421875 L -4.546875 -5.421875 C -5.625 -5.421875 -6.203125 -4.640625 -6.203125 -3.15625 C -6.203125 -1.703125 -5.640625 -0.8125 -4.25 -0.75 L -4.25 -1.71875 C -4.984375 -1.796875 -5.3125 -2.234375 -5.3125 -3.125 C -5.3125 -3.984375 -4.984375 -4.46875 -4.421875 -4.46875 L -4.15625 -4.46875 C -3.765625 -4.46875 -3.59375 -4.234375 -3.5 -3.46875 C -3.328125 -2.109375 -3.28125 -1.90625 -3.125 -1.546875 C -2.84375 -0.84375 -2.296875 -0.484375 -1.5625 -0.484375 C -0.46875 -0.484375 0.171875 -1.234375 0.171875 -2.46875 C 0.171875 -3.234375 -0.15625 -3.984375 -0.71875 -4.515625 C -0.25 -4.609375 0.078125 -5.03125 0.078125 -5.5 C 0.078125 -5.6875 0.0625 -5.84375 -0.015625 -6.15625 Z M -2.078125 -4.46875 C -1.21875 -4.46875 -0.671875 -3.59375 -0.671875 -2.671875 C -0.671875 -1.921875 -0.9375 -1.484375 -1.59375 -1.484375 C -2.21875 -1.484375 -2.5 -1.90625 -2.640625 -2.9375 C -2.78125 -3.9375 -2.828125 -4.15625 -2.984375 -4.46875 Z M -2.078125 -4.46875 \"/>\n</symbol>\n<symbol overflow=\"visible\" id=\"glyph2-3\">\n<path style=\"stroke:none;\" d=\"M 0 -2.921875 L -0.8125 -2.921875 C -0.765625 -2.796875 -0.765625 -2.640625 -0.765625 -2.46875 C -0.765625 -2.046875 -0.875 -1.9375 -1.296875 -1.9375 L -5.25 -1.9375 L -5.25 -2.921875 L -6.03125 -2.921875 L -6.03125 -1.9375 L -7.6875 -1.9375 L -7.6875 -0.984375 L -6.03125 -0.984375 L -6.03125 -0.15625 L -5.25 -0.15625 L -5.25 -0.984375 L -0.875 -0.984375 C -0.265625 -0.984375 0.078125 -1.390625 0.078125 -2.140625 C 0.078125 -2.375 0.0625 -2.59375 0 -2.921875 Z M 0 -2.921875 \"/>\n</symbol>\n<symbol overflow=\"visible\" id=\"glyph2-4\">\n<path style=\"stroke:none;\" d=\"M 0 -5.59375 L -4.546875 -5.59375 C -5.5625 -5.59375 -6.203125 -4.859375 -6.203125 -3.6875 C -6.203125 -2.84375 -5.9375 -2.328125 -5.203125 -1.765625 L -8.390625 -1.765625 L -8.390625 -0.8125 L 0 -0.8125 L 0 -1.765625 L -3.328125 -1.765625 C -4.546875 -1.765625 -5.359375 -2.40625 -5.359375 -3.390625 C -5.359375 -4.078125 -4.96875 -4.640625 -4.171875 -4.640625 L 0 -4.640625 Z M 0 -5.59375 \"/>\n</symbol>\n<symbol overflow=\"visible\" id=\"glyph2-5\">\n<path style=\"stroke:none;\" d=\"M -1.6875 -5.28125 C -2.59375 -5.28125 -3.03125 -4.765625 -3.328125 -3.578125 L -3.546875 -2.65625 C -3.71875 -1.875 -3.984375 -1.546875 -4.40625 -1.546875 C -4.953125 -1.546875 -5.3125 -2.03125 -5.3125 -2.8125 C -5.3125 -3.59375 -4.984375 -4 -4.34375 -4.03125 L -4.34375 -5.03125 C -5.53125 -5.03125 -6.203125 -4.25 -6.203125 -2.859375 C -6.203125 -1.453125 -5.46875 -0.546875 -4.359375 -0.546875 C -3.421875 -0.546875 -2.96875 -1.03125 -2.625 -2.453125 L -2.40625 -3.34375 C -2.25 -4.015625 -2.046875 -4.28125 -1.609375 -4.28125 C -1.046875 -4.28125 -0.71875 -3.71875 -0.71875 -2.875 C -0.71875 -2.015625 -0.921875 -1.53125 -1.84375 -1.40625 L -1.84375 -0.390625 C -0.453125 -0.4375 0.171875 -1.21875 0.171875 -2.796875 C 0.171875 -4.3125 -0.53125 -5.28125 -1.6875 -5.28125 Z M -1.6875 -5.28125 \"/>\n</symbol>\n<symbol overflow=\"visible\" id=\"glyph2-6\">\n<path style=\"stroke:none;\" d=\"M -2.0625 -5.484375 L -2.0625 -4.515625 C -1.109375 -4.359375 -0.71875 -3.859375 -0.71875 -3.046875 C -0.71875 -1.984375 -1.53125 -1.359375 -2.953125 -1.359375 C -4.46875 -1.359375 -5.3125 -1.984375 -5.3125 -3.03125 C -5.3125 -3.828125 -4.84375 -4.328125 -4 -4.453125 L -4 -5.421875 C -5.46875 -5.296875 -6.203125 -4.375 -6.203125 -3.03125 C -6.203125 -1.421875 -4.953125 -0.359375 -2.953125 -0.359375 C -1.015625 -0.359375 0.171875 -1.390625 0.171875 -3.03125 C 0.171875 -4.46875 -0.6875 -5.375 -2.0625 -5.484375 Z M -2.0625 -5.484375 \"/>\n</symbol>\n<symbol overflow=\"visible\" id=\"glyph2-7\">\n<path style=\"stroke:none;\" d=\"M -2.96875 -5.859375 C -5.046875 -5.859375 -6.203125 -4.859375 -6.203125 -3.125 C -6.203125 -1.4375 -5.03125 -0.40625 -3.015625 -0.40625 C -0.984375 -0.40625 0.171875 -1.421875 0.171875 -3.140625 C 0.171875 -4.828125 -0.984375 -5.859375 -2.96875 -5.859375 Z M -2.984375 -4.859375 C -1.5625 -4.859375 -0.71875 -4.203125 -0.71875 -3.140625 C -0.71875 -2.0625 -1.546875 -1.421875 -3.015625 -1.421875 C -4.46875 -1.421875 -5.3125 -2.0625 -5.3125 -3.140625 C -5.3125 -4.21875 -4.46875 -4.859375 -2.984375 -4.859375 Z M -2.984375 -4.859375 \"/>\n</symbol>\n<symbol overflow=\"visible\" id=\"glyph2-8\">\n<path style=\"stroke:none;\" d=\"M -5.1875 -3.6875 L -6.15625 -3.6875 C -6.1875 -3.53125 -6.203125 -3.453125 -6.203125 -3.328125 C -6.203125 -2.703125 -5.828125 -2.234375 -4.9375 -1.671875 L -6.03125 -1.671875 L -6.03125 -0.8125 L 0 -0.8125 L 0 -1.765625 L -3.125 -1.765625 C -4.484375 -1.765625 -5.15625 -2.203125 -5.1875 -3.6875 Z M -5.1875 -3.6875 \"/>\n</symbol>\n<symbol overflow=\"visible\" id=\"glyph2-9\">\n<path style=\"stroke:none;\" d=\"M -2.734375 -5.90625 C -3.609375 -5.90625 -4.15625 -5.828125 -4.609375 -5.65625 C -5.59375 -5.265625 -6.203125 -4.34375 -6.203125 -3.21875 C -6.203125 -1.546875 -4.953125 -0.453125 -2.984375 -0.453125 C -1 -0.453125 0.171875 -1.5 0.171875 -3.203125 C 0.171875 -4.578125 -0.609375 -5.53125 -1.828125 -5.765625 L -1.828125 -4.8125 C -1.03125 -4.546875 -0.71875 -4 -0.71875 -3.234375 C -0.71875 -2.234375 -1.359375 -1.484375 -2.734375 -1.453125 Z M -3.59375 -4.875 C -3.59375 -4.875 -3.546875 -4.875 -3.515625 -4.859375 L -3.515625 -1.484375 C -4.59375 -1.5625 -5.3125 -2.25 -5.3125 -3.203125 C -5.3125 -4.15625 -4.53125 -4.875 -3.59375 -4.875 Z M -3.59375 -4.875 \"/>\n</symbol>\n</g>\n<clipPath id=\"clip1\">\n  <path d=\"M 40.046875 5.480469 L 499 5.480469 L 499 470 L 40.046875 470 Z M 40.046875 5.480469 \"/>\n</clipPath>\n<clipPath id=\"clip2\">\n  <path d=\"M 40.046875 390 L 499 390 L 499 392 L 40.046875 392 Z M 40.046875 390 \"/>\n</clipPath>\n<clipPath id=\"clip3\">\n  <path d=\"M 40.046875 286 L 499 286 L 499 288 L 40.046875 288 Z M 40.046875 286 \"/>\n</clipPath>\n<clipPath id=\"clip4\">\n  <path d=\"M 40.046875 182 L 499 182 L 499 184 L 40.046875 184 Z M 40.046875 182 \"/>\n</clipPath>\n<clipPath id=\"clip5\">\n  <path d=\"M 40.046875 78 L 499 78 L 499 80 L 40.046875 80 Z M 40.046875 78 \"/>\n</clipPath>\n<clipPath id=\"clip6\">\n  <path d=\"M 40.046875 442 L 499.519531 442 L 499.519531 445 L 40.046875 445 Z M 40.046875 442 \"/>\n</clipPath>\n<clipPath id=\"clip7\">\n  <path d=\"M 40.046875 338 L 499.519531 338 L 499.519531 340 L 40.046875 340 Z M 40.046875 338 \"/>\n</clipPath>\n<clipPath id=\"clip8\">\n  <path d=\"M 40.046875 234 L 499.519531 234 L 499.519531 236 L 40.046875 236 Z M 40.046875 234 \"/>\n</clipPath>\n<clipPath id=\"clip9\">\n  <path d=\"M 40.046875 130 L 499.519531 130 L 499.519531 132 L 40.046875 132 Z M 40.046875 130 \"/>\n</clipPath>\n<clipPath id=\"clip10\">\n  <path d=\"M 40.046875 25 L 499.519531 25 L 499.519531 28 L 40.046875 28 Z M 40.046875 25 \"/>\n</clipPath>\n<clipPath id=\"clip11\">\n  <path d=\"M 164 5.480469 L 166 5.480469 L 166 470.6875 L 164 470.6875 Z M 164 5.480469 \"/>\n</clipPath>\n<clipPath id=\"clip12\">\n  <path d=\"M 372 5.480469 L 375 5.480469 L 375 470.6875 L 372 470.6875 Z M 372 5.480469 \"/>\n</clipPath>\n</defs>\n<g id=\"surface112\">\n<rect x=\"0\" y=\"0\" width=\"504\" height=\"504\" style=\"fill:rgb(100%,100%,100%);fill-opacity:1;stroke:none;\"/>\n<rect x=\"0\" y=\"0\" width=\"504\" height=\"504\" style=\"fill:rgb(100%,100%,100%);fill-opacity:1;stroke:none;\"/>\n<path style=\"fill:none;stroke-width:1.422638;stroke-linecap:round;stroke-linejoin:round;stroke:rgb(100%,100%,100%);stroke-opacity:1;stroke-miterlimit:10;\" d=\"M 0 0 L 504 0 L 504 504 L 0 504 Z M 0 0 \"/>\n<g clip-path=\"url(#clip1)\" clip-rule=\"nonzero\">\n<path style=\" stroke:none;fill-rule:nonzero;fill:rgb(92.156863%,92.156863%,92.156863%);fill-opacity:1;\" d=\"M 40.046875 5.480469 L 498.519531 5.480469 L 498.519531 469.6875 L 40.046875 469.6875 Z M 40.046875 5.480469 \"/>\n</g>\n<g clip-path=\"url(#clip2)\" clip-rule=\"nonzero\">\n<path style=\"fill:none;stroke-width:0.711319;stroke-linecap:butt;stroke-linejoin:round;stroke:rgb(100%,100%,100%);stroke-opacity:1;stroke-miterlimit:10;\" d=\"M 40.046875 391.277344 L 498.519531 391.277344 \"/>\n</g>\n<g clip-path=\"url(#clip3)\" clip-rule=\"nonzero\">\n<path style=\"fill:none;stroke-width:0.711319;stroke-linecap:butt;stroke-linejoin:round;stroke:rgb(100%,100%,100%);stroke-opacity:1;stroke-miterlimit:10;\" d=\"M 40.046875 287.078125 L 498.519531 287.078125 \"/>\n</g>\n<g clip-path=\"url(#clip4)\" clip-rule=\"nonzero\">\n<path style=\"fill:none;stroke-width:0.711319;stroke-linecap:butt;stroke-linejoin:round;stroke:rgb(100%,100%,100%);stroke-opacity:1;stroke-miterlimit:10;\" d=\"M 40.046875 182.878906 L 498.519531 182.878906 \"/>\n</g>\n<g clip-path=\"url(#clip5)\" clip-rule=\"nonzero\">\n<path style=\"fill:none;stroke-width:0.711319;stroke-linecap:butt;stroke-linejoin:round;stroke:rgb(100%,100%,100%);stroke-opacity:1;stroke-miterlimit:10;\" d=\"M 40.046875 78.679688 L 498.519531 78.679688 \"/>\n</g>\n<g clip-path=\"url(#clip6)\" clip-rule=\"nonzero\">\n<path style=\"fill:none;stroke-width:1.422638;stroke-linecap:butt;stroke-linejoin:round;stroke:rgb(100%,100%,100%);stroke-opacity:1;stroke-miterlimit:10;\" d=\"M 40.046875 443.375 L 498.519531 443.375 \"/>\n</g>\n<g clip-path=\"url(#clip7)\" clip-rule=\"nonzero\">\n<path style=\"fill:none;stroke-width:1.422638;stroke-linecap:butt;stroke-linejoin:round;stroke:rgb(100%,100%,100%);stroke-opacity:1;stroke-miterlimit:10;\" d=\"M 40.046875 339.175781 L 498.519531 339.175781 \"/>\n</g>\n<g clip-path=\"url(#clip8)\" clip-rule=\"nonzero\">\n<path style=\"fill:none;stroke-width:1.422638;stroke-linecap:butt;stroke-linejoin:round;stroke:rgb(100%,100%,100%);stroke-opacity:1;stroke-miterlimit:10;\" d=\"M 40.046875 234.976562 L 498.519531 234.976562 \"/>\n</g>\n<g clip-path=\"url(#clip9)\" clip-rule=\"nonzero\">\n<path style=\"fill:none;stroke-width:1.422638;stroke-linecap:butt;stroke-linejoin:round;stroke:rgb(100%,100%,100%);stroke-opacity:1;stroke-miterlimit:10;\" d=\"M 40.046875 130.777344 L 498.519531 130.777344 \"/>\n</g>\n<g clip-path=\"url(#clip10)\" clip-rule=\"nonzero\">\n<path style=\"fill:none;stroke-width:1.422638;stroke-linecap:butt;stroke-linejoin:round;stroke:rgb(100%,100%,100%);stroke-opacity:1;stroke-miterlimit:10;\" d=\"M 40.046875 26.578125 L 498.519531 26.578125 \"/>\n</g>\n<g clip-path=\"url(#clip11)\" clip-rule=\"nonzero\">\n<path style=\"fill:none;stroke-width:1.422638;stroke-linecap:butt;stroke-linejoin:round;stroke:rgb(100%,100%,100%);stroke-opacity:1;stroke-miterlimit:10;\" d=\"M 165.085938 469.6875 L 165.085938 5.480469 \"/>\n</g>\n<g clip-path=\"url(#clip12)\" clip-rule=\"nonzero\">\n<path style=\"fill:none;stroke-width:1.422638;stroke-linecap:butt;stroke-linejoin:round;stroke:rgb(100%,100%,100%);stroke-opacity:1;stroke-miterlimit:10;\" d=\"M 373.480469 469.6875 L 373.480469 5.480469 \"/>\n</g>\n<path style=\"fill-rule:nonzero;fill:rgb(20%,20%,20%);fill-opacity:1;stroke-width:0.944882;stroke-linecap:round;stroke-linejoin:round;stroke:rgb(20%,20%,20%);stroke-opacity:1;stroke-miterlimit:10;\" d=\"M 167.539062 438.164062 C 167.539062 441.4375 162.628906 441.4375 162.628906 438.164062 C 162.628906 434.894531 167.539062 434.894531 167.539062 438.164062 \"/>\n<path style=\"fill-rule:nonzero;fill:rgb(20%,20%,20%);fill-opacity:1;stroke-width:0.944882;stroke-linecap:round;stroke-linejoin:round;stroke:rgb(20%,20%,20%);stroke-opacity:1;stroke-miterlimit:10;\" d=\"M 167.539062 448.585938 C 167.539062 451.859375 162.628906 451.859375 162.628906 448.585938 C 162.628906 445.3125 167.539062 445.3125 167.539062 448.585938 \"/>\n<path style=\"fill:none;stroke-width:1.422638;stroke-linecap:butt;stroke-linejoin:round;stroke:rgb(20%,20%,20%);stroke-opacity:1;stroke-miterlimit:10;\" d=\"M 165.085938 135.988281 L 165.085938 26.578125 \"/>\n<path style=\"fill:none;stroke-width:1.422638;stroke-linecap:butt;stroke-linejoin:round;stroke:rgb(20%,20%,20%);stroke-opacity:1;stroke-miterlimit:10;\" d=\"M 165.085938 245.398438 L 165.085938 380.855469 \"/>\n<path style=\"fill-rule:nonzero;fill:rgb(100%,100%,100%);fill-opacity:1;stroke-width:1.422638;stroke-linecap:round;stroke-linejoin:round;stroke:rgb(20%,20%,20%);stroke-opacity:1;stroke-miterlimit:10;\" d=\"M 86.9375 135.988281 L 86.9375 245.398438 L 243.234375 245.398438 L 243.234375 135.988281 Z M 86.9375 135.988281 \"/>\n<path style=\"fill:none;stroke-width:2.845276;stroke-linecap:butt;stroke-linejoin:round;stroke:rgb(20%,20%,20%);stroke-opacity:1;stroke-miterlimit:10;\" d=\"M 86.9375 180.273438 L 243.234375 180.273438 \"/>\n<path style=\"fill-rule:nonzero;fill:rgb(20%,20%,20%);fill-opacity:1;stroke-width:0.944882;stroke-linecap:round;stroke-linejoin:round;stroke:rgb(20%,20%,20%);stroke-opacity:1;stroke-miterlimit:10;\" d=\"M 375.9375 432.957031 C 375.9375 436.230469 371.027344 436.230469 371.027344 432.957031 C 371.027344 429.683594 375.9375 429.683594 375.9375 432.957031 \"/>\n<path style=\"fill-rule:nonzero;fill:rgb(20%,20%,20%);fill-opacity:1;stroke-width:0.944882;stroke-linecap:round;stroke-linejoin:round;stroke:rgb(20%,20%,20%);stroke-opacity:1;stroke-miterlimit:10;\" d=\"M 375.9375 412.117188 C 375.9375 415.390625 371.027344 415.390625 371.027344 412.117188 C 371.027344 408.84375 375.9375 408.84375 375.9375 412.117188 \"/>\n<path style=\"fill-rule:nonzero;fill:rgb(20%,20%,20%);fill-opacity:1;stroke-width:0.944882;stroke-linecap:round;stroke-linejoin:round;stroke:rgb(20%,20%,20%);stroke-opacity:1;stroke-miterlimit:10;\" d=\"M 375.9375 443.375 C 375.9375 446.648438 371.027344 446.648438 371.027344 443.375 C 371.027344 440.101562 375.9375 440.101562 375.9375 443.375 \"/>\n<path style=\"fill-rule:nonzero;fill:rgb(20%,20%,20%);fill-opacity:1;stroke-width:0.944882;stroke-linecap:round;stroke-linejoin:round;stroke:rgb(20%,20%,20%);stroke-opacity:1;stroke-miterlimit:10;\" d=\"M 375.9375 427.746094 C 375.9375 431.019531 371.027344 431.019531 371.027344 427.746094 C 371.027344 424.472656 375.9375 424.472656 375.9375 427.746094 \"/>\n<path style=\"fill-rule:nonzero;fill:rgb(20%,20%,20%);fill-opacity:1;stroke-width:0.944882;stroke-linecap:round;stroke-linejoin:round;stroke:rgb(20%,20%,20%);stroke-opacity:1;stroke-miterlimit:10;\" d=\"M 375.9375 427.746094 C 375.9375 431.019531 371.027344 431.019531 371.027344 427.746094 C 371.027344 424.472656 375.9375 424.472656 375.9375 427.746094 \"/>\n<path style=\"fill:none;stroke-width:1.422638;stroke-linecap:butt;stroke-linejoin:round;stroke:rgb(20%,20%,20%);stroke-opacity:1;stroke-miterlimit:10;\" d=\"M 373.480469 156.828125 L 373.480469 26.578125 \"/>\n<path style=\"fill:none;stroke-width:1.422638;stroke-linecap:butt;stroke-linejoin:round;stroke:rgb(20%,20%,20%);stroke-opacity:1;stroke-miterlimit:10;\" d=\"M 373.480469 255.816406 L 373.480469 396.484375 \"/>\n<path style=\"fill-rule:nonzero;fill:rgb(100%,100%,100%);fill-opacity:1;stroke-width:1.422638;stroke-linecap:round;stroke-linejoin:round;stroke:rgb(20%,20%,20%);stroke-opacity:1;stroke-miterlimit:10;\" d=\"M 295.332031 156.828125 L 295.332031 255.816406 L 451.632812 255.816406 L 451.632812 156.828125 Z M 295.332031 156.828125 \"/>\n<path style=\"fill:none;stroke-width:2.845276;stroke-linecap:butt;stroke-linejoin:round;stroke:rgb(20%,20%,20%);stroke-opacity:1;stroke-miterlimit:10;\" d=\"M 295.332031 203.71875 L 451.632812 203.71875 \"/>\n<g style=\"fill:rgb(30.196078%,30.196078%,30.196078%);fill-opacity:1;\">\n  <use xlink:href=\"#glyph0-1\" x=\"24.773438\" y=\"446.765625\"/>\n  <use xlink:href=\"#glyph0-2\" x=\"29.944237\" y=\"446.765625\"/>\n</g>\n<g style=\"fill:rgb(30.196078%,30.196078%,30.196078%);fill-opacity:1;\">\n  <use xlink:href=\"#glyph0-3\" x=\"24.773438\" y=\"342.566406\"/>\n  <use xlink:href=\"#glyph0-2\" x=\"29.944237\" y=\"342.566406\"/>\n</g>\n<g style=\"fill:rgb(30.196078%,30.196078%,30.196078%);fill-opacity:1;\">\n  <use xlink:href=\"#glyph0-4\" x=\"24.773438\" y=\"238.367188\"/>\n  <use xlink:href=\"#glyph0-2\" x=\"29.944237\" y=\"238.367188\"/>\n</g>\n<g style=\"fill:rgb(30.196078%,30.196078%,30.196078%);fill-opacity:1;\">\n  <use xlink:href=\"#glyph0-5\" x=\"24.773438\" y=\"134.167969\"/>\n  <use xlink:href=\"#glyph0-2\" x=\"29.944237\" y=\"134.167969\"/>\n</g>\n<g style=\"fill:rgb(30.196078%,30.196078%,30.196078%);fill-opacity:1;\">\n  <use xlink:href=\"#glyph0-6\" x=\"19.601562\" y=\"29.96875\"/>\n  <use xlink:href=\"#glyph0-2\" x=\"24.772362\" y=\"29.96875\"/>\n  <use xlink:href=\"#glyph0-2\" x=\"29.943162\" y=\"29.96875\"/>\n</g>\n<path style=\"fill:none;stroke-width:1.422638;stroke-linecap:butt;stroke-linejoin:round;stroke:rgb(20%,20%,20%);stroke-opacity:1;stroke-miterlimit:10;\" d=\"M 37.308594 443.375 L 40.046875 443.375 \"/>\n<path style=\"fill:none;stroke-width:1.422638;stroke-linecap:butt;stroke-linejoin:round;stroke:rgb(20%,20%,20%);stroke-opacity:1;stroke-miterlimit:10;\" d=\"M 37.308594 339.175781 L 40.046875 339.175781 \"/>\n<path style=\"fill:none;stroke-width:1.422638;stroke-linecap:butt;stroke-linejoin:round;stroke:rgb(20%,20%,20%);stroke-opacity:1;stroke-miterlimit:10;\" d=\"M 37.308594 234.976562 L 40.046875 234.976562 \"/>\n<path style=\"fill:none;stroke-width:1.422638;stroke-linecap:butt;stroke-linejoin:round;stroke:rgb(20%,20%,20%);stroke-opacity:1;stroke-miterlimit:10;\" d=\"M 37.308594 130.777344 L 40.046875 130.777344 \"/>\n<path style=\"fill:none;stroke-width:1.422638;stroke-linecap:butt;stroke-linejoin:round;stroke:rgb(20%,20%,20%);stroke-opacity:1;stroke-miterlimit:10;\" d=\"M 37.308594 26.578125 L 40.046875 26.578125 \"/>\n<path style=\"fill:none;stroke-width:1.422638;stroke-linecap:butt;stroke-linejoin:round;stroke:rgb(20%,20%,20%);stroke-opacity:1;stroke-miterlimit:10;\" d=\"M 165.085938 472.425781 L 165.085938 469.6875 \"/>\n<path style=\"fill:none;stroke-width:1.422638;stroke-linecap:butt;stroke-linejoin:round;stroke:rgb(20%,20%,20%);stroke-opacity:1;stroke-miterlimit:10;\" d=\"M 373.480469 472.425781 L 373.480469 469.6875 \"/>\n<g style=\"fill:rgb(30.196078%,30.196078%,30.196078%);fill-opacity:1;\">\n  <use xlink:href=\"#glyph0-7\" x=\"143.636719\" y=\"481.398438\"/>\n  <use xlink:href=\"#glyph0-8\" x=\"148.286719\" y=\"481.398438\"/>\n  <use xlink:href=\"#glyph0-9\" x=\"153.457519\" y=\"481.398438\"/>\n  <use xlink:href=\"#glyph0-10\" x=\"161.204419\" y=\"481.398438\"/>\n  <use xlink:href=\"#glyph0-11\" x=\"166.375219\" y=\"481.398438\"/>\n  <use xlink:href=\"#glyph0-12\" x=\"168.439819\" y=\"481.398438\"/>\n  <use xlink:href=\"#glyph0-13\" x=\"173.610619\" y=\"481.398438\"/>\n  <use xlink:href=\"#glyph0-12\" x=\"176.196019\" y=\"481.398438\"/>\n  <use xlink:href=\"#glyph0-14\" x=\"181.366819\" y=\"481.398438\"/>\n</g>\n<g style=\"fill:rgb(30.196078%,30.196078%,30.196078%);fill-opacity:1;\">\n  <use xlink:href=\"#glyph0-15\" x=\"363.140625\" y=\"481.398438\"/>\n  <use xlink:href=\"#glyph0-8\" x=\"368.311425\" y=\"481.398438\"/>\n  <use xlink:href=\"#glyph0-15\" x=\"373.482225\" y=\"481.398438\"/>\n  <use xlink:href=\"#glyph0-12\" x=\"378.653025\" y=\"481.398438\"/>\n</g>\n<g style=\"fill:rgb(0%,0%,0%);fill-opacity:1;\">\n  <use xlink:href=\"#glyph1-1\" x=\"248.511719\" y=\"495.519531\"/>\n  <use xlink:href=\"#glyph1-2\" x=\"251.708719\" y=\"495.519531\"/>\n  <use xlink:href=\"#glyph1-3\" x=\"258.102719\" y=\"495.519531\"/>\n  <use xlink:href=\"#glyph1-1\" x=\"263.852719\" y=\"495.519531\"/>\n  <use xlink:href=\"#glyph1-4\" x=\"267.049719\" y=\"495.519531\"/>\n  <use xlink:href=\"#glyph1-5\" x=\"273.443719\" y=\"495.519531\"/>\n  <use xlink:href=\"#glyph1-2\" x=\"277.273219\" y=\"495.519531\"/>\n  <use xlink:href=\"#glyph1-4\" x=\"283.667219\" y=\"495.519531\"/>\n</g>\n<g style=\"fill:rgb(0%,0%,0%);fill-opacity:1;\">\n  <use xlink:href=\"#glyph2-1\" x=\"13.863281\" y=\"264.421875\"/>\n  <use xlink:href=\"#glyph2-2\" x=\"13.863281\" y=\"254.842375\"/>\n  <use xlink:href=\"#glyph2-3\" x=\"13.863281\" y=\"248.448375\"/>\n  <use xlink:href=\"#glyph2-4\" x=\"13.863281\" y=\"245.251375\"/>\n  <use xlink:href=\"#glyph2-5\" x=\"13.863281\" y=\"238.857375\"/>\n  <use xlink:href=\"#glyph2-6\" x=\"13.863281\" y=\"233.107375\"/>\n  <use xlink:href=\"#glyph2-7\" x=\"13.863281\" y=\"227.357375\"/>\n  <use xlink:href=\"#glyph2-8\" x=\"13.863281\" y=\"220.963375\"/>\n  <use xlink:href=\"#glyph2-9\" x=\"13.863281\" y=\"217.133875\"/>\n</g>\n</g>\n</svg>\n"
     },
     "execution_count": 16,
     "metadata": {
      "image/svg+xml": {
       "isolated": true
      }
     },
     "output_type": "execute_result"
    }
   ],
   "source": [
    "ggplot(data=exams, aes(x=testprep, y=mathscore, group=testprep))+geom_boxplot()\n",
    "exams %>%\n",
    "  group_by(testprep) %>%\n",
    "  summarise(mean_testprep = mean(mathscore), sd_testprep = sd(mathscore), n = n())\n",
    "exams<-exams %>%\n",
    "    mutate(numtestprep=ifelse(testprep==\"completed\", 1, 0))\n",
    "simpletestprep<-lm(mathscore~numtestprep, data=exams)\n",
    "summary(simpletestprep)"
   ]
  },
  {
   "cell_type": "markdown",
   "metadata": {
    "collapsed": false
   },
   "source": [
    "## Putting it together with Multilinear regression\n",
    "\n",
    "It is possible that there are connections between the effects of these variables. For instance, between testprep and lunch. Both of these can be connected to family resources. Using multilinear regression we can look to separate the effects of those. Let's create a model that incorporates all the variables we have so far. \n",
    "\n",
    "```\n",
    "mult1<-lm(mathscore~numGender+numLunch+numtestprep, data=exams)\n",
    "summary(mult1)\n",
    "```"
   ]
  },
  {
   "cell_type": "code",
   "execution_count": 20,
   "metadata": {
    "collapsed": false
   },
   "outputs": [
    {
     "data": {
      "text/plain": [
       "\n",
       "Call:\n",
       "lm(formula = mathscore ~ numGender + numLunch + numtestprep + \n",
       "    race, data = exams)\n",
       "\n",
       "Residuals:\n",
       "    Min      1Q  Median      3Q     Max \n",
       "-54.816  -8.484   0.531   9.644  34.644 \n",
       "\n",
       "Coefficients:\n",
       "            Estimate Std. Error t value Pr(>|t|)    \n",
       "(Intercept)  65.7375     1.5015  43.781  < 2e-16 ***\n",
       "numGender     3.9202     0.8226   4.766 2.16e-06 ***\n",
       "numLunch    -13.1928     0.8666 -15.225  < 2e-16 ***\n",
       "numtestprep   3.3591     0.8768   3.831 0.000135 ***\n",
       "racegroup B  -0.0154     1.6549  -0.009 0.992575    \n",
       "racegroup C   0.8117     1.5649   0.519 0.604068    \n",
       "racegroup D   3.3008     1.5823   2.086 0.037227 *  \n",
       "racegroup E  12.0787     1.7979   6.718 3.10e-11 ***\n",
       "---\n",
       "Signif. codes:  0 ‘***’ 0.001 ‘**’ 0.01 ‘*’ 0.05 ‘.’ 0.1 ‘ ’ 1\n",
       "\n",
       "Residual standard error: 12.98 on 992 degrees of freedom\n",
       "Multiple R-squared:  0.2609,\tAdjusted R-squared:  0.2556 \n",
       "F-statistic: 50.01 on 7 and 992 DF,  p-value: < 2.2e-16\n"
      ]
     },
     "execution_count": 20,
     "metadata": {
     },
     "output_type": "execute_result"
    }
   ],
   "source": [
    "mult1<-lm(mathscore~numGender+numLunch+numtestprep+race, data=exams)\n",
    "summary(mult1)"
   ]
  },
  {
   "cell_type": "markdown",
   "metadata": {
    "collapsed": false
   },
   "source": [
    "**Question** Do these results support the theory that there is a connection between the testprep and lunch variables?"
   ]
  },
  {
   "cell_type": "code",
   "execution_count": 0,
   "metadata": {
    "collapsed": false
   },
   "outputs": [
   ],
   "source": [
   ]
  },
  {
   "cell_type": "markdown",
   "metadata": {
    "collapsed": false
   },
   "source": [
    "Try this linear regression with the categorical variables. \n",
    "\n",
    "```\n",
    "mult2<-lm(mathscore~gender+lunch+testprep, data=exams)\n",
    "summary(mult2)\n",
    "\n",
    "```"
   ]
  },
  {
   "cell_type": "code",
   "execution_count": 21,
   "metadata": {
    "collapsed": false
   },
   "outputs": [
    {
     "data": {
      "text/plain": [
       "\n",
       "Call:\n",
       "lm(formula = mathscore ~ gender + lunch + testprep, data = exams)\n",
       "\n",
       "Residuals:\n",
       "    Min      1Q  Median      3Q     Max \n",
       "-45.218  -9.218   0.193   9.701  33.693 \n",
       "\n",
       "Coefficients:\n",
       "              Estimate Std. Error t value Pr(>|t|)    \n",
       "(Intercept)    58.7656     1.0177  57.744  < 2e-16 ***\n",
       "gendermale      4.0819     0.8547   4.776 2.06e-06 ***\n",
       "lunchstandard  12.9108     0.8983  14.373  < 2e-16 ***\n",
       "testprepnone   -3.4588     0.9093  -3.804 0.000151 ***\n",
       "---\n",
       "Signif. codes:  0 ‘***’ 0.001 ‘**’ 0.01 ‘*’ 0.05 ‘.’ 0.1 ‘ ’ 1\n",
       "\n",
       "Residual standard error: 13.5 on 996 degrees of freedom\n",
       "Multiple R-squared:  0.1972,\tAdjusted R-squared:  0.1948 \n",
       "F-statistic: 81.58 on 3 and 996 DF,  p-value: < 2.2e-16\n"
      ]
     },
     "execution_count": 21,
     "metadata": {
     },
     "output_type": "execute_result"
    }
   ],
   "source": [
    "mult2<-lm(mathscore~gender+lunch+testprep, data=exams)\n",
    "summary(mult2)"
   ]
  },
  {
   "cell_type": "markdown",
   "metadata": {
    "collapsed": false
   },
   "source": [
    "**Question** How is this different from what we have done above? "
   ]
  },
  {
   "cell_type": "code",
   "execution_count": 0,
   "metadata": {
    "collapsed": false
   },
   "outputs": [
   ],
   "source": [
   ]
  },
  {
   "cell_type": "markdown",
   "metadata": {
    "collapsed": false
   },
   "source": [
    "## You try\n",
    "\n",
    "Find the effects of the ```lunch```, ```gender```, and ```testprep``` on writing score. **Question** Describe the quantitative expected effect of each variable on reading scores. "
   ]
  },
  {
   "cell_type": "code",
   "execution_count": 22,
   "metadata": {
    "collapsed": false
   },
   "outputs": [
    {
     "data": {
      "text/plain": [
       "\n",
       "Call:\n",
       "lm(formula = readingscore ~ gender + lunch + testprep, data = exams)\n",
       "\n",
       "Residuals:\n",
       "    Min      1Q  Median      3Q     Max \n",
       "-48.300  -8.544   0.247   8.602  33.087 \n",
       "\n",
       "Coefficients:\n",
       "              Estimate Std. Error t value Pr(>|t|)    \n",
       "(Intercept)    71.8621     0.9932  72.357  < 2e-16 ***\n",
       "gendermale     -8.3878     0.8341 -10.056  < 2e-16 ***\n",
       "lunchstandard   8.5474     0.8766   9.751  < 2e-16 ***\n",
       "testprepnone   -5.1090     0.8874  -5.757 1.14e-08 ***\n",
       "---\n",
       "Signif. codes:  0 ‘***’ 0.001 ‘**’ 0.01 ‘*’ 0.05 ‘.’ 0.1 ‘ ’ 1\n",
       "\n",
       "Residual standard error: 13.17 on 996 degrees of freedom\n",
       "Multiple R-squared:  0.1833,\tAdjusted R-squared:  0.1809 \n",
       "F-statistic: 74.53 on 3 and 996 DF,  p-value: < 2.2e-16\n"
      ]
     },
     "execution_count": 22,
     "metadata": {
     },
     "output_type": "execute_result"
    }
   ],
   "source": [
    "mult3<-lm(readingscore~gender+lunch+testprep, data=exams)\n",
    "summary(mult3)"
   ]
  },
  {
   "cell_type": "code",
   "execution_count": 0,
   "metadata": {
    "collapsed": false
   },
   "outputs": [
   ],
   "source": [
   ]
  },
  {
   "cell_type": "markdown",
   "metadata": {
    "collapsed": false
   },
   "source": [
    "**Question** A friend is considering taking a test prep course to improve their reading scores. Their current score is a 58. They feel that they need at least a 65 to have a chance at their goals. Is such a gain likely given the data here?"
   ]
  },
  {
   "cell_type": "code",
   "execution_count": 0,
   "metadata": {
    "collapsed": false
   },
   "outputs": [
   ],
   "source": [
   ]
  }
 ],
 "metadata": {
  "kernelspec": {
   "display_name": "R (SageMath)",
   "language": "r",
   "name": "ir-sage"
  }
 },
 "nbformat": 4,
 "nbformat_minor": 0
}