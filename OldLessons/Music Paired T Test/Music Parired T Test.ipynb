{
 "cells": [
  {
   "cell_type": "markdown",
   "metadata": {
    "collapsed": false
   },
   "source": [
    "# Parired t tests and confidence intervals"
   ]
  },
  {
   "cell_type": "markdown",
   "metadata": {
    "collapsed": false
   },
   "source": [
    "Load up the Libraries"
   ]
  },
  {
   "cell_type": "code",
   "execution_count": 1,
   "metadata": {
    "collapsed": false
   },
   "outputs": [
    {
     "name": "stderr",
     "output_type": "stream",
     "text": [
      "\n",
      "Attaching package: ‘dplyr’\n",
      "\n"
     ]
    },
    {
     "name": "stderr",
     "output_type": "stream",
     "text": [
      "The following objects are masked from ‘package:stats’:\n",
      "\n",
      "    filter, lag\n",
      "\n"
     ]
    },
    {
     "name": "stderr",
     "output_type": "stream",
     "text": [
      "The following objects are masked from ‘package:base’:\n",
      "\n",
      "    intersect, setdiff, setequal, union\n",
      "\n"
     ]
    }
   ],
   "source": [
    "library(dplyr)\n",
    "library(ggplot2)"
   ]
  },
  {
   "cell_type": "markdown",
   "metadata": {
    "collapsed": false
   },
   "source": [
    "Load up the mpg data set:\n",
    "\n",
    "```\n",
    "data(mpg)\n",
    "```"
   ]
  },
  {
   "cell_type": "code",
   "execution_count": 2,
   "metadata": {
    "collapsed": false
   },
   "outputs": [
   ],
   "source": [
    "data(mpg)"
   ]
  },
  {
   "cell_type": "markdown",
   "metadata": {
    "collapsed": false
   },
   "source": [
    "Examine the data set\n",
    "```\n",
    "head(mpg)\n",
    "```"
   ]
  },
  {
   "cell_type": "code",
   "execution_count": 3,
   "metadata": {
    "collapsed": false
   },
   "outputs": [
    {
     "data": {
      "text/html": [
       "<table>\n",
       "<thead>\n",
       "\t<tr><th scope=col>manufacturer</th><th scope=col>model</th><th scope=col>displ</th><th scope=col>year</th><th scope=col>cyl</th><th scope=col>trans</th><th scope=col>drv</th><th scope=col>cty</th><th scope=col>hwy</th><th scope=col>fl</th><th scope=col>class</th></tr>\n",
       "</thead>\n",
       "<tbody>\n",
       "\t<tr><td>audi      </td><td>a4        </td><td>1.8       </td><td>1999      </td><td>4         </td><td>auto(l5)  </td><td>f         </td><td>18        </td><td>29        </td><td>p         </td><td>compact   </td></tr>\n",
       "\t<tr><td>audi      </td><td>a4        </td><td>1.8       </td><td>1999      </td><td>4         </td><td>manual(m5)</td><td>f         </td><td>21        </td><td>29        </td><td>p         </td><td>compact   </td></tr>\n",
       "\t<tr><td>audi      </td><td>a4        </td><td>2.0       </td><td>2008      </td><td>4         </td><td>manual(m6)</td><td>f         </td><td>20        </td><td>31        </td><td>p         </td><td>compact   </td></tr>\n",
       "\t<tr><td>audi      </td><td>a4        </td><td>2.0       </td><td>2008      </td><td>4         </td><td>auto(av)  </td><td>f         </td><td>21        </td><td>30        </td><td>p         </td><td>compact   </td></tr>\n",
       "\t<tr><td>audi      </td><td>a4        </td><td>2.8       </td><td>1999      </td><td>6         </td><td>auto(l5)  </td><td>f         </td><td>16        </td><td>26        </td><td>p         </td><td>compact   </td></tr>\n",
       "\t<tr><td>audi      </td><td>a4        </td><td>2.8       </td><td>1999      </td><td>6         </td><td>manual(m5)</td><td>f         </td><td>18        </td><td>26        </td><td>p         </td><td>compact   </td></tr>\n",
       "</tbody>\n",
       "</table>\n"
      ]
     },
     "execution_count": 3,
     "metadata": {
     },
     "output_type": "execute_result"
    }
   ],
   "source": [
    "head(mpg)"
   ]
  },
  {
   "cell_type": "markdown",
   "metadata": {
    "collapsed": false
   },
   "source": [
    "Do cars actually have a different average mpg in city driving vs highway driving?\n",
    "\n",
    "```\n",
    "summary(mpg$cty)\n",
    "summary(mpg$hwy)\n",
    "```"
   ]
  },
  {
   "cell_type": "code",
   "execution_count": 4,
   "metadata": {
    "collapsed": false
   },
   "outputs": [
    {
     "data": {
      "text/plain": [
       "   Min. 1st Qu.  Median    Mean 3rd Qu.    Max. \n",
       "   9.00   14.00   17.00   16.86   19.00   35.00 "
      ]
     },
     "execution_count": 4,
     "metadata": {
     },
     "output_type": "execute_result"
    },
    {
     "data": {
      "text/plain": [
       "   Min. 1st Qu.  Median    Mean 3rd Qu.    Max. \n",
       "  12.00   18.00   24.00   23.44   27.00   44.00 "
      ]
     },
     "execution_count": 4,
     "metadata": {
     },
     "output_type": "execute_result"
    }
   ],
   "source": [
    "summary(mpg$cty)\n",
    "summary(mpg$hwy)"
   ]
  },
  {
   "cell_type": "markdown",
   "metadata": {
    "collapsed": false
   },
   "source": [
    "Lets look at the histograms of the data sets\n",
    "```\n",
    "ggplot(data=mpg, aes(cty)) + \n",
    "  geom_histogram(binwidth=5)\n",
    "  \n",
    "ggplot(data=mpg, aes(hwy)) + \n",
    "  geom_histogram(binwidth=5)\n",
    "```"
   ]
  },
  {
   "cell_type": "code",
   "execution_count": 6,
   "metadata": {
    "collapsed": false
   },
   "outputs": [
    {
     "data": {
      "image/svg+xml": "<?xml version=\"1.0\" encoding=\"UTF-8\"?>\n<svg xmlns=\"http://www.w3.org/2000/svg\" xmlns:xlink=\"http://www.w3.org/1999/xlink\" width=\"504pt\" height=\"504pt\" viewBox=\"0 0 504 504\" version=\"1.1\">\n<defs>\n<g>\n<symbol overflow=\"visible\" id=\"glyph0-0\">\n<path style=\"stroke:none;\" d=\"\"/>\n</symbol>\n<symbol overflow=\"visible\" id=\"glyph0-1\">\n<path style=\"stroke:none;\" d=\"M 4.71875 -3.171875 C 4.71875 -5.453125 3.984375 -6.59375 2.5625 -6.59375 C 1.140625 -6.59375 0.40625 -5.4375 0.40625 -3.21875 C 0.40625 -1 1.140625 0.140625 2.5625 0.140625 C 3.953125 0.140625 4.71875 -1 4.71875 -3.171875 Z M 3.875 -3.25 C 3.875 -1.375 3.453125 -0.546875 2.53125 -0.546875 C 1.671875 -0.546875 1.234375 -1.40625 1.234375 -3.21875 C 1.234375 -5.015625 1.671875 -5.859375 2.5625 -5.859375 C 3.4375 -5.859375 3.875 -5.015625 3.875 -3.25 Z M 3.875 -3.25 \"/>\n</symbol>\n<symbol overflow=\"visible\" id=\"glyph0-2\">\n<path style=\"stroke:none;\" d=\"M 4.75 -4.65625 C 4.75 -5.765625 3.890625 -6.59375 2.640625 -6.59375 C 1.296875 -6.59375 0.515625 -5.90625 0.46875 -4.296875 L 1.28125 -4.296875 C 1.34375 -5.40625 1.796875 -5.875 2.609375 -5.875 C 3.359375 -5.875 3.90625 -5.34375 3.90625 -4.640625 C 3.90625 -4.125 3.609375 -3.671875 3.015625 -3.34375 L 2.171875 -2.859375 C 0.796875 -2.078125 0.390625 -1.453125 0.3125 0 L 4.703125 0 L 4.703125 -0.8125 L 1.234375 -0.8125 C 1.3125 -1.34375 1.625 -1.6875 2.421875 -2.171875 L 3.359375 -2.671875 C 4.28125 -3.15625 4.75 -3.84375 4.75 -4.65625 Z M 4.75 -4.65625 \"/>\n</symbol>\n<symbol overflow=\"visible\" id=\"glyph0-3\">\n<path style=\"stroke:none;\" d=\"M 4.828125 -1.578125 L 4.828125 -2.3125 L 3.859375 -2.3125 L 3.859375 -6.59375 L 3.25 -6.59375 L 0.265625 -2.4375 L 0.265625 -1.578125 L 3.046875 -1.578125 L 3.046875 0 L 3.859375 0 L 3.859375 -1.578125 Z M 3.046875 -2.3125 L 0.96875 -2.3125 L 3.046875 -5.203125 Z M 3.046875 -2.3125 \"/>\n</symbol>\n<symbol overflow=\"visible\" id=\"glyph0-4\">\n<path style=\"stroke:none;\" d=\"M 4.765625 -2.046875 C 4.765625 -3.265625 3.9375 -4.09375 2.75 -4.09375 C 2.09375 -4.09375 1.59375 -3.84375 1.234375 -3.359375 C 1.25 -4.96875 1.765625 -5.859375 2.703125 -5.859375 C 3.28125 -5.859375 3.6875 -5.5 3.8125 -4.875 L 4.625 -4.875 C 4.46875 -5.953125 3.765625 -6.59375 2.765625 -6.59375 C 1.234375 -6.59375 0.40625 -5.296875 0.40625 -3 C 0.40625 -0.953125 1.109375 0.140625 2.609375 0.140625 C 3.875 0.140625 4.765625 -0.75 4.765625 -2.046875 Z M 3.9375 -1.984375 C 3.9375 -1.15625 3.375 -0.578125 2.625 -0.578125 C 1.859375 -0.578125 1.28125 -1.1875 1.28125 -2.03125 C 1.28125 -2.84375 1.84375 -3.375 2.65625 -3.375 C 3.4375 -3.375 3.9375 -2.859375 3.9375 -1.984375 Z M 3.9375 -1.984375 \"/>\n</symbol>\n<symbol overflow=\"visible\" id=\"glyph0-5\">\n<path style=\"stroke:none;\" d=\"M 4.765625 -1.859375 C 4.765625 -2.59375 4.390625 -3.109375 3.640625 -3.46875 C 4.3125 -3.875 4.53125 -4.21875 4.53125 -4.828125 C 4.53125 -5.859375 3.734375 -6.59375 2.5625 -6.59375 C 1.390625 -6.59375 0.578125 -5.859375 0.578125 -4.828125 C 0.578125 -4.21875 0.796875 -3.890625 1.46875 -3.46875 C 0.71875 -3.109375 0.34375 -2.59375 0.34375 -1.875 C 0.34375 -0.65625 1.25 0.140625 2.5625 0.140625 C 3.859375 0.140625 4.765625 -0.65625 4.765625 -1.859375 Z M 3.703125 -4.8125 C 3.703125 -4.203125 3.25 -3.796875 2.5625 -3.796875 C 1.875 -3.796875 1.40625 -4.203125 1.40625 -4.828125 C 1.40625 -5.453125 1.875 -5.859375 2.5625 -5.859375 C 3.25 -5.859375 3.703125 -5.453125 3.703125 -4.8125 Z M 3.9375 -1.84375 C 3.9375 -1.0625 3.375 -0.578125 2.53125 -0.578125 C 1.734375 -0.578125 1.1875 -1.078125 1.1875 -1.84375 C 1.1875 -2.625 1.734375 -3.109375 2.5625 -3.109375 C 3.375 -3.109375 3.9375 -2.625 3.9375 -1.84375 Z M 3.9375 -1.84375 \"/>\n</symbol>\n<symbol overflow=\"visible\" id=\"glyph0-6\">\n<path style=\"stroke:none;\" d=\"M 3.21875 0 L 3.21875 -6.59375 L 2.6875 -6.59375 C 2.40625 -5.578125 2.21875 -5.4375 0.953125 -5.28125 L 0.953125 -4.6875 L 2.40625 -4.6875 L 2.40625 0 Z M 3.21875 0 \"/>\n</symbol>\n<symbol overflow=\"visible\" id=\"glyph0-7\">\n<path style=\"stroke:none;\" d=\"M 4.703125 -1.921875 C 4.703125 -2.71875 4.375 -3.171875 3.59375 -3.453125 C 4.203125 -3.6875 4.515625 -4.125 4.515625 -4.78125 C 4.515625 -5.90625 3.75 -6.59375 2.5 -6.59375 C 1.171875 -6.59375 0.46875 -5.859375 0.4375 -4.46875 L 1.25 -4.46875 C 1.28125 -5.4375 1.671875 -5.875 2.515625 -5.875 C 3.234375 -5.875 3.671875 -5.453125 3.671875 -4.75 C 3.671875 -4.046875 3.359375 -3.75 2.046875 -3.75 L 2.046875 -3.0625 L 2.5 -3.0625 C 3.40625 -3.0625 3.875 -2.640625 3.875 -1.90625 C 3.875 -1.078125 3.359375 -0.578125 2.5 -0.578125 C 1.609375 -0.578125 1.171875 -1.03125 1.109375 -1.984375 L 0.296875 -1.984375 C 0.40625 -0.515625 1.125 0.140625 2.46875 0.140625 C 3.828125 0.140625 4.703125 -0.671875 4.703125 -1.921875 Z M 4.703125 -1.921875 \"/>\n</symbol>\n<symbol overflow=\"visible\" id=\"glyph1-0\">\n<path style=\"stroke:none;\" d=\"\"/>\n</symbol>\n<symbol overflow=\"visible\" id=\"glyph1-1\">\n<path style=\"stroke:none;\" d=\"M 5.484375 -2.0625 L 4.515625 -2.0625 C 4.359375 -1.109375 3.859375 -0.71875 3.046875 -0.71875 C 1.984375 -0.71875 1.359375 -1.53125 1.359375 -2.953125 C 1.359375 -4.46875 1.984375 -5.3125 3.03125 -5.3125 C 3.828125 -5.3125 4.328125 -4.84375 4.453125 -4 L 5.421875 -4 C 5.296875 -5.46875 4.375 -6.203125 3.03125 -6.203125 C 1.421875 -6.203125 0.359375 -4.953125 0.359375 -2.953125 C 0.359375 -1.015625 1.390625 0.171875 3.03125 0.171875 C 4.46875 0.171875 5.375 -0.6875 5.484375 -2.0625 Z M 5.484375 -2.0625 \"/>\n</symbol>\n<symbol overflow=\"visible\" id=\"glyph1-2\">\n<path style=\"stroke:none;\" d=\"M 2.921875 0 L 2.921875 -0.8125 C 2.796875 -0.765625 2.640625 -0.765625 2.46875 -0.765625 C 2.046875 -0.765625 1.9375 -0.875 1.9375 -1.296875 L 1.9375 -5.25 L 2.921875 -5.25 L 2.921875 -6.03125 L 1.9375 -6.03125 L 1.9375 -7.6875 L 0.984375 -7.6875 L 0.984375 -6.03125 L 0.15625 -6.03125 L 0.15625 -5.25 L 0.984375 -5.25 L 0.984375 -0.875 C 0.984375 -0.265625 1.390625 0.078125 2.140625 0.078125 C 2.375 0.078125 2.59375 0.0625 2.921875 0 Z M 2.921875 0 \"/>\n</symbol>\n<symbol overflow=\"visible\" id=\"glyph1-3\">\n<path style=\"stroke:none;\" d=\"M 5.5 -6.03125 L 4.46875 -6.03125 L 2.796875 -1.328125 L 1.25 -6.03125 L 0.234375 -6.03125 L 2.265625 0.015625 L 1.890625 0.984375 C 1.734375 1.40625 1.546875 1.5625 1.125 1.5625 C 0.984375 1.5625 0.828125 1.546875 0.625 1.5 L 0.625 2.359375 C 0.8125 2.46875 1.015625 2.5 1.265625 2.5 C 1.9375 2.5 2.5 2.125 2.8125 1.265625 Z M 5.5 -6.03125 \"/>\n</symbol>\n<symbol overflow=\"visible\" id=\"glyph2-0\">\n<path style=\"stroke:none;\" d=\"\"/>\n</symbol>\n<symbol overflow=\"visible\" id=\"glyph2-1\">\n<path style=\"stroke:none;\" d=\"M -2.0625 -5.484375 L -2.0625 -4.515625 C -1.109375 -4.359375 -0.71875 -3.859375 -0.71875 -3.046875 C -0.71875 -1.984375 -1.53125 -1.359375 -2.953125 -1.359375 C -4.46875 -1.359375 -5.3125 -1.984375 -5.3125 -3.03125 C -5.3125 -3.828125 -4.84375 -4.328125 -4 -4.453125 L -4 -5.421875 C -5.46875 -5.296875 -6.203125 -4.375 -6.203125 -3.03125 C -6.203125 -1.421875 -4.953125 -0.359375 -2.953125 -0.359375 C -1.015625 -0.359375 0.171875 -1.390625 0.171875 -3.03125 C 0.171875 -4.46875 -0.6875 -5.375 -2.0625 -5.484375 Z M -2.0625 -5.484375 \"/>\n</symbol>\n<symbol overflow=\"visible\" id=\"glyph2-2\">\n<path style=\"stroke:none;\" d=\"M -2.96875 -5.859375 C -5.046875 -5.859375 -6.203125 -4.859375 -6.203125 -3.125 C -6.203125 -1.4375 -5.03125 -0.40625 -3.015625 -0.40625 C -0.984375 -0.40625 0.171875 -1.421875 0.171875 -3.140625 C 0.171875 -4.828125 -0.984375 -5.859375 -2.96875 -5.859375 Z M -2.984375 -4.859375 C -1.5625 -4.859375 -0.71875 -4.203125 -0.71875 -3.140625 C -0.71875 -2.0625 -1.546875 -1.421875 -3.015625 -1.421875 C -4.46875 -1.421875 -5.3125 -2.0625 -5.3125 -3.140625 C -5.3125 -4.21875 -4.46875 -4.859375 -2.984375 -4.859375 Z M -2.984375 -4.859375 \"/>\n</symbol>\n<symbol overflow=\"visible\" id=\"glyph2-3\">\n<path style=\"stroke:none;\" d=\"M 0 -5.546875 L -6.03125 -5.546875 L -6.03125 -4.59375 L -2.703125 -4.59375 C -1.46875 -4.59375 -0.671875 -3.9375 -0.671875 -2.9375 C -0.671875 -2.1875 -1.125 -1.703125 -1.84375 -1.703125 L -6.03125 -1.703125 L -6.03125 -0.75 L -1.46875 -0.75 C -0.46875 -0.75 0.171875 -1.5 0.171875 -2.671875 C 0.171875 -3.546875 -0.140625 -4.109375 -0.9375 -4.6875 L 0 -4.6875 Z M 0 -5.546875 \"/>\n</symbol>\n<symbol overflow=\"visible\" id=\"glyph2-4\">\n<path style=\"stroke:none;\" d=\"M 0 -5.59375 L -4.546875 -5.59375 C -5.546875 -5.59375 -6.203125 -4.859375 -6.203125 -3.6875 C -6.203125 -2.796875 -5.859375 -2.21875 -5.015625 -1.6875 L -6.03125 -1.6875 L -6.03125 -0.8125 L 0 -0.8125 L 0 -1.765625 L -3.328125 -1.765625 C -4.546875 -1.765625 -5.359375 -2.421875 -5.359375 -3.40625 C -5.359375 -4.15625 -4.90625 -4.640625 -4.171875 -4.640625 L 0 -4.640625 Z M 0 -5.59375 \"/>\n</symbol>\n<symbol overflow=\"visible\" id=\"glyph2-5\">\n<path style=\"stroke:none;\" d=\"M 0 -2.921875 L -0.8125 -2.921875 C -0.765625 -2.796875 -0.765625 -2.640625 -0.765625 -2.46875 C -0.765625 -2.046875 -0.875 -1.9375 -1.296875 -1.9375 L -5.25 -1.9375 L -5.25 -2.921875 L -6.03125 -2.921875 L -6.03125 -1.9375 L -7.6875 -1.9375 L -7.6875 -0.984375 L -6.03125 -0.984375 L -6.03125 -0.15625 L -5.25 -0.15625 L -5.25 -0.984375 L -0.875 -0.984375 C -0.265625 -0.984375 0.078125 -1.390625 0.078125 -2.140625 C 0.078125 -2.375 0.0625 -2.59375 0 -2.921875 Z M 0 -2.921875 \"/>\n</symbol>\n</g>\n<clipPath id=\"clip1\">\n  <path d=\"M 34.875 5.480469 L 499 5.480469 L 499 470 L 34.875 470 Z M 34.875 5.480469 \"/>\n</clipPath>\n<clipPath id=\"clip2\">\n  <path d=\"M 34.875 398 L 499 398 L 499 400 L 34.875 400 Z M 34.875 398 \"/>\n</clipPath>\n<clipPath id=\"clip3\">\n  <path d=\"M 34.875 299 L 499 299 L 499 300 L 34.875 300 Z M 34.875 299 \"/>\n</clipPath>\n<clipPath id=\"clip4\">\n  <path d=\"M 34.875 199 L 499 199 L 499 201 L 34.875 201 Z M 34.875 199 \"/>\n</clipPath>\n<clipPath id=\"clip5\">\n  <path d=\"M 34.875 100 L 499 100 L 499 102 L 34.875 102 Z M 34.875 100 \"/>\n</clipPath>\n<clipPath id=\"clip6\">\n  <path d=\"M 42 5.480469 L 44 5.480469 L 44 470.6875 L 42 470.6875 Z M 42 5.480469 \"/>\n</clipPath>\n<clipPath id=\"clip7\">\n  <path d=\"M 174 5.480469 L 175 5.480469 L 175 470.6875 L 174 470.6875 Z M 174 5.480469 \"/>\n</clipPath>\n<clipPath id=\"clip8\">\n  <path d=\"M 305 5.480469 L 307 5.480469 L 307 470.6875 L 305 470.6875 Z M 305 5.480469 \"/>\n</clipPath>\n<clipPath id=\"clip9\">\n  <path d=\"M 437 5.480469 L 439 5.480469 L 439 470.6875 L 437 470.6875 Z M 437 5.480469 \"/>\n</clipPath>\n<clipPath id=\"clip10\">\n  <path d=\"M 34.875 447 L 499.519531 447 L 499.519531 450 L 34.875 450 Z M 34.875 447 \"/>\n</clipPath>\n<clipPath id=\"clip11\">\n  <path d=\"M 34.875 348 L 499.519531 348 L 499.519531 350 L 34.875 350 Z M 34.875 348 \"/>\n</clipPath>\n<clipPath id=\"clip12\">\n  <path d=\"M 34.875 249 L 499.519531 249 L 499.519531 251 L 34.875 251 Z M 34.875 249 \"/>\n</clipPath>\n<clipPath id=\"clip13\">\n  <path d=\"M 34.875 149 L 499.519531 149 L 499.519531 152 L 34.875 152 Z M 34.875 149 \"/>\n</clipPath>\n<clipPath id=\"clip14\">\n  <path d=\"M 34.875 50 L 499.519531 50 L 499.519531 53 L 34.875 53 Z M 34.875 50 \"/>\n</clipPath>\n<clipPath id=\"clip15\">\n  <path d=\"M 107 5.480469 L 110 5.480469 L 110 470.6875 L 107 470.6875 Z M 107 5.480469 \"/>\n</clipPath>\n<clipPath id=\"clip16\">\n  <path d=\"M 239 5.480469 L 242 5.480469 L 242 470.6875 L 239 470.6875 Z M 239 5.480469 \"/>\n</clipPath>\n<clipPath id=\"clip17\">\n  <path d=\"M 371 5.480469 L 373 5.480469 L 373 470.6875 L 371 470.6875 Z M 371 5.480469 \"/>\n</clipPath>\n</defs>\n<g id=\"surface84\">\n<rect x=\"0\" y=\"0\" width=\"504\" height=\"504\" style=\"fill:rgb(100%,100%,100%);fill-opacity:1;stroke:none;\"/>\n<rect x=\"0\" y=\"0\" width=\"504\" height=\"504\" style=\"fill:rgb(100%,100%,100%);fill-opacity:1;stroke:none;\"/>\n<path style=\"fill:none;stroke-width:1.422638;stroke-linecap:round;stroke-linejoin:round;stroke:rgb(100%,100%,100%);stroke-opacity:1;stroke-miterlimit:10;\" d=\"M 0 0 L 504 0 L 504 504 L 0 504 Z M 0 0 \"/>\n<g clip-path=\"url(#clip1)\" clip-rule=\"nonzero\">\n<path style=\" stroke:none;fill-rule:nonzero;fill:rgb(92.156863%,92.156863%,92.156863%);fill-opacity:1;\" d=\"M 34.875 5.480469 L 498.519531 5.480469 L 498.519531 469.6875 L 34.875 469.6875 Z M 34.875 5.480469 \"/>\n</g>\n<g clip-path=\"url(#clip2)\" clip-rule=\"nonzero\">\n<path style=\"fill:none;stroke-width:0.711319;stroke-linecap:butt;stroke-linejoin:round;stroke:rgb(100%,100%,100%);stroke-opacity:1;stroke-miterlimit:10;\" d=\"M 34.875 398.9375 L 498.519531 398.9375 \"/>\n</g>\n<g clip-path=\"url(#clip3)\" clip-rule=\"nonzero\">\n<path style=\"fill:none;stroke-width:0.711319;stroke-linecap:butt;stroke-linejoin:round;stroke:rgb(100%,100%,100%);stroke-opacity:1;stroke-miterlimit:10;\" d=\"M 34.875 299.640625 L 498.519531 299.640625 \"/>\n</g>\n<g clip-path=\"url(#clip4)\" clip-rule=\"nonzero\">\n<path style=\"fill:none;stroke-width:0.711319;stroke-linecap:butt;stroke-linejoin:round;stroke:rgb(100%,100%,100%);stroke-opacity:1;stroke-miterlimit:10;\" d=\"M 34.875 200.347656 L 498.519531 200.347656 \"/>\n</g>\n<g clip-path=\"url(#clip5)\" clip-rule=\"nonzero\">\n<path style=\"fill:none;stroke-width:0.711319;stroke-linecap:butt;stroke-linejoin:round;stroke:rgb(100%,100%,100%);stroke-opacity:1;stroke-miterlimit:10;\" d=\"M 34.875 101.050781 L 498.519531 101.050781 \"/>\n</g>\n<g clip-path=\"url(#clip6)\" clip-rule=\"nonzero\">\n<path style=\"fill:none;stroke-width:0.711319;stroke-linecap:butt;stroke-linejoin:round;stroke:rgb(100%,100%,100%);stroke-opacity:1;stroke-miterlimit:10;\" d=\"M 42.777344 469.6875 L 42.777344 5.480469 \"/>\n</g>\n<g clip-path=\"url(#clip7)\" clip-rule=\"nonzero\">\n<path style=\"fill:none;stroke-width:0.711319;stroke-linecap:butt;stroke-linejoin:round;stroke:rgb(100%,100%,100%);stroke-opacity:1;stroke-miterlimit:10;\" d=\"M 174.496094 469.6875 L 174.496094 5.480469 \"/>\n</g>\n<g clip-path=\"url(#clip8)\" clip-rule=\"nonzero\">\n<path style=\"fill:none;stroke-width:0.711319;stroke-linecap:butt;stroke-linejoin:round;stroke:rgb(100%,100%,100%);stroke-opacity:1;stroke-miterlimit:10;\" d=\"M 306.214844 469.6875 L 306.214844 5.480469 \"/>\n</g>\n<g clip-path=\"url(#clip9)\" clip-rule=\"nonzero\">\n<path style=\"fill:none;stroke-width:0.711319;stroke-linecap:butt;stroke-linejoin:round;stroke:rgb(100%,100%,100%);stroke-opacity:1;stroke-miterlimit:10;\" d=\"M 437.929688 469.6875 L 437.929688 5.480469 \"/>\n</g>\n<g clip-path=\"url(#clip10)\" clip-rule=\"nonzero\">\n<path style=\"fill:none;stroke-width:1.422638;stroke-linecap:butt;stroke-linejoin:round;stroke:rgb(100%,100%,100%);stroke-opacity:1;stroke-miterlimit:10;\" d=\"M 34.875 448.585938 L 498.519531 448.585938 \"/>\n</g>\n<g clip-path=\"url(#clip11)\" clip-rule=\"nonzero\">\n<path style=\"fill:none;stroke-width:1.422638;stroke-linecap:butt;stroke-linejoin:round;stroke:rgb(100%,100%,100%);stroke-opacity:1;stroke-miterlimit:10;\" d=\"M 34.875 349.289062 L 498.519531 349.289062 \"/>\n</g>\n<g clip-path=\"url(#clip12)\" clip-rule=\"nonzero\">\n<path style=\"fill:none;stroke-width:1.422638;stroke-linecap:butt;stroke-linejoin:round;stroke:rgb(100%,100%,100%);stroke-opacity:1;stroke-miterlimit:10;\" d=\"M 34.875 249.996094 L 498.519531 249.996094 \"/>\n</g>\n<g clip-path=\"url(#clip13)\" clip-rule=\"nonzero\">\n<path style=\"fill:none;stroke-width:1.422638;stroke-linecap:butt;stroke-linejoin:round;stroke:rgb(100%,100%,100%);stroke-opacity:1;stroke-miterlimit:10;\" d=\"M 34.875 150.699219 L 498.519531 150.699219 \"/>\n</g>\n<g clip-path=\"url(#clip14)\" clip-rule=\"nonzero\">\n<path style=\"fill:none;stroke-width:1.422638;stroke-linecap:butt;stroke-linejoin:round;stroke:rgb(100%,100%,100%);stroke-opacity:1;stroke-miterlimit:10;\" d=\"M 34.875 51.402344 L 498.519531 51.402344 \"/>\n</g>\n<g clip-path=\"url(#clip15)\" clip-rule=\"nonzero\">\n<path style=\"fill:none;stroke-width:1.422638;stroke-linecap:butt;stroke-linejoin:round;stroke:rgb(100%,100%,100%);stroke-opacity:1;stroke-miterlimit:10;\" d=\"M 108.636719 469.6875 L 108.636719 5.480469 \"/>\n</g>\n<g clip-path=\"url(#clip16)\" clip-rule=\"nonzero\">\n<path style=\"fill:none;stroke-width:1.422638;stroke-linecap:butt;stroke-linejoin:round;stroke:rgb(100%,100%,100%);stroke-opacity:1;stroke-miterlimit:10;\" d=\"M 240.355469 469.6875 L 240.355469 5.480469 \"/>\n</g>\n<g clip-path=\"url(#clip17)\" clip-rule=\"nonzero\">\n<path style=\"fill:none;stroke-width:1.422638;stroke-linecap:butt;stroke-linejoin:round;stroke:rgb(100%,100%,100%);stroke-opacity:1;stroke-miterlimit:10;\" d=\"M 372.070312 469.6875 L 372.070312 5.480469 \"/>\n</g>\n<path style=\" stroke:none;fill-rule:nonzero;fill:rgb(34.901961%,34.901961%,34.901961%);fill-opacity:1;\" d=\"M 55.949219 423.761719 L 108.636719 423.761719 L 108.636719 448.585938 L 55.949219 448.585938 Z M 55.949219 423.761719 \"/>\n<path style=\" stroke:none;fill-rule:nonzero;fill:rgb(34.901961%,34.901961%,34.901961%);fill-opacity:1;\" d=\"M 108.636719 110.980469 L 161.324219 110.980469 L 161.324219 448.585938 L 108.636719 448.585938 Z M 108.636719 110.980469 \"/>\n<path style=\" stroke:none;fill-rule:nonzero;fill:rgb(34.901961%,34.901961%,34.901961%);fill-opacity:1;\" d=\"M 161.324219 26.578125 L 214.011719 26.578125 L 214.011719 448.585938 L 161.324219 448.585938 Z M 161.324219 26.578125 \"/>\n<path style=\" stroke:none;fill-rule:nonzero;fill:rgb(34.901961%,34.901961%,34.901961%);fill-opacity:1;\" d=\"M 214.011719 160.628906 L 266.699219 160.628906 L 266.699219 448.585938 L 214.011719 448.585938 Z M 214.011719 160.628906 \"/>\n<path style=\" stroke:none;fill-rule:nonzero;fill:rgb(34.901961%,34.901961%,34.901961%);fill-opacity:1;\" d=\"M 266.699219 384.042969 L 319.386719 384.042969 L 319.386719 448.585938 L 266.699219 448.585938 Z M 266.699219 384.042969 \"/>\n<path style=\" stroke:none;fill-rule:nonzero;fill:rgb(34.901961%,34.901961%,34.901961%);fill-opacity:1;\" d=\"M 319.386719 433.691406 L 372.074219 433.691406 L 372.074219 448.585938 L 319.386719 448.585938 Z M 319.386719 433.691406 \"/>\n<path style=\" stroke:none;fill-rule:nonzero;fill:rgb(34.901961%,34.901961%,34.901961%);fill-opacity:1;\" d=\"M 372.070312 443.621094 L 424.757812 443.621094 L 424.757812 448.585938 L 372.070312 448.585938 Z M 372.070312 443.621094 \"/>\n<path style=\" stroke:none;fill-rule:nonzero;fill:rgb(34.901961%,34.901961%,34.901961%);fill-opacity:1;\" d=\"M 424.757812 443.621094 L 477.445312 443.621094 L 477.445312 448.585938 L 424.757812 448.585938 Z M 424.757812 443.621094 \"/>\n<g style=\"fill:rgb(30.196078%,30.196078%,30.196078%);fill-opacity:1;\">\n  <use xlink:href=\"#glyph0-1\" x=\"24.773438\" y=\"451.976562\"/>\n</g>\n<g style=\"fill:rgb(30.196078%,30.196078%,30.196078%);fill-opacity:1;\">\n  <use xlink:href=\"#glyph0-2\" x=\"19.605469\" y=\"352.679688\"/>\n  <use xlink:href=\"#glyph0-1\" x=\"24.776269\" y=\"352.679688\"/>\n</g>\n<g style=\"fill:rgb(30.196078%,30.196078%,30.196078%);fill-opacity:1;\">\n  <use xlink:href=\"#glyph0-3\" x=\"19.605469\" y=\"253.382812\"/>\n  <use xlink:href=\"#glyph0-1\" x=\"24.776269\" y=\"253.382812\"/>\n</g>\n<g style=\"fill:rgb(30.196078%,30.196078%,30.196078%);fill-opacity:1;\">\n  <use xlink:href=\"#glyph0-4\" x=\"19.605469\" y=\"154.089844\"/>\n  <use xlink:href=\"#glyph0-1\" x=\"24.776269\" y=\"154.089844\"/>\n</g>\n<g style=\"fill:rgb(30.196078%,30.196078%,30.196078%);fill-opacity:1;\">\n  <use xlink:href=\"#glyph0-5\" x=\"19.605469\" y=\"54.792969\"/>\n  <use xlink:href=\"#glyph0-1\" x=\"24.776269\" y=\"54.792969\"/>\n</g>\n<path style=\"fill:none;stroke-width:1.422638;stroke-linecap:butt;stroke-linejoin:round;stroke:rgb(20%,20%,20%);stroke-opacity:1;stroke-miterlimit:10;\" d=\"M 32.136719 448.585938 L 34.875 448.585938 \"/>\n<path style=\"fill:none;stroke-width:1.422638;stroke-linecap:butt;stroke-linejoin:round;stroke:rgb(20%,20%,20%);stroke-opacity:1;stroke-miterlimit:10;\" d=\"M 32.136719 349.289062 L 34.875 349.289062 \"/>\n<path style=\"fill:none;stroke-width:1.422638;stroke-linecap:butt;stroke-linejoin:round;stroke:rgb(20%,20%,20%);stroke-opacity:1;stroke-miterlimit:10;\" d=\"M 32.136719 249.996094 L 34.875 249.996094 \"/>\n<path style=\"fill:none;stroke-width:1.422638;stroke-linecap:butt;stroke-linejoin:round;stroke:rgb(20%,20%,20%);stroke-opacity:1;stroke-miterlimit:10;\" d=\"M 32.136719 150.699219 L 34.875 150.699219 \"/>\n<path style=\"fill:none;stroke-width:1.422638;stroke-linecap:butt;stroke-linejoin:round;stroke:rgb(20%,20%,20%);stroke-opacity:1;stroke-miterlimit:10;\" d=\"M 32.136719 51.402344 L 34.875 51.402344 \"/>\n<path style=\"fill:none;stroke-width:1.422638;stroke-linecap:butt;stroke-linejoin:round;stroke:rgb(20%,20%,20%);stroke-opacity:1;stroke-miterlimit:10;\" d=\"M 108.636719 472.425781 L 108.636719 469.6875 \"/>\n<path style=\"fill:none;stroke-width:1.422638;stroke-linecap:butt;stroke-linejoin:round;stroke:rgb(20%,20%,20%);stroke-opacity:1;stroke-miterlimit:10;\" d=\"M 240.355469 472.425781 L 240.355469 469.6875 \"/>\n<path style=\"fill:none;stroke-width:1.422638;stroke-linecap:butt;stroke-linejoin:round;stroke:rgb(20%,20%,20%);stroke-opacity:1;stroke-miterlimit:10;\" d=\"M 372.070312 472.425781 L 372.070312 469.6875 \"/>\n<g style=\"fill:rgb(30.196078%,30.196078%,30.196078%);fill-opacity:1;\">\n  <use xlink:href=\"#glyph0-6\" x=\"103.464844\" y=\"481.398438\"/>\n  <use xlink:href=\"#glyph0-1\" x=\"108.635644\" y=\"481.398438\"/>\n</g>\n<g style=\"fill:rgb(30.196078%,30.196078%,30.196078%);fill-opacity:1;\">\n  <use xlink:href=\"#glyph0-2\" x=\"235.183594\" y=\"481.398438\"/>\n  <use xlink:href=\"#glyph0-1\" x=\"240.354394\" y=\"481.398438\"/>\n</g>\n<g style=\"fill:rgb(30.196078%,30.196078%,30.196078%);fill-opacity:1;\">\n  <use xlink:href=\"#glyph0-7\" x=\"366.898438\" y=\"481.398438\"/>\n  <use xlink:href=\"#glyph0-1\" x=\"372.069237\" y=\"481.398438\"/>\n</g>\n<g style=\"fill:rgb(0%,0%,0%);fill-opacity:1;\">\n  <use xlink:href=\"#glyph1-1\" x=\"259.351562\" y=\"495.519531\"/>\n  <use xlink:href=\"#glyph1-2\" x=\"265.101562\" y=\"495.519531\"/>\n  <use xlink:href=\"#glyph1-3\" x=\"268.298563\" y=\"495.519531\"/>\n</g>\n<g style=\"fill:rgb(0%,0%,0%);fill-opacity:1;\">\n  <use xlink:href=\"#glyph2-1\" x=\"13.863281\" y=\"251.648438\"/>\n  <use xlink:href=\"#glyph2-2\" x=\"13.863281\" y=\"245.898438\"/>\n  <use xlink:href=\"#glyph2-3\" x=\"13.863281\" y=\"239.504437\"/>\n  <use xlink:href=\"#glyph2-4\" x=\"13.863281\" y=\"233.110437\"/>\n  <use xlink:href=\"#glyph2-5\" x=\"13.863281\" y=\"226.716437\"/>\n</g>\n</g>\n</svg>\n"
     },
     "execution_count": 6,
     "metadata": {
      "image/svg+xml": {
       "isolated": true
      }
     },
     "output_type": "execute_result"
    },
    {
     "data": {
      "image/svg+xml": "<?xml version=\"1.0\" encoding=\"UTF-8\"?>\n<svg xmlns=\"http://www.w3.org/2000/svg\" xmlns:xlink=\"http://www.w3.org/1999/xlink\" width=\"504pt\" height=\"504pt\" viewBox=\"0 0 504 504\" version=\"1.1\">\n<defs>\n<g>\n<symbol overflow=\"visible\" id=\"glyph0-0\">\n<path style=\"stroke:none;\" d=\"\"/>\n</symbol>\n<symbol overflow=\"visible\" id=\"glyph0-1\">\n<path style=\"stroke:none;\" d=\"M 4.71875 -3.171875 C 4.71875 -5.453125 3.984375 -6.59375 2.5625 -6.59375 C 1.140625 -6.59375 0.40625 -5.4375 0.40625 -3.21875 C 0.40625 -1 1.140625 0.140625 2.5625 0.140625 C 3.953125 0.140625 4.71875 -1 4.71875 -3.171875 Z M 3.875 -3.25 C 3.875 -1.375 3.453125 -0.546875 2.53125 -0.546875 C 1.671875 -0.546875 1.234375 -1.40625 1.234375 -3.21875 C 1.234375 -5.015625 1.671875 -5.859375 2.5625 -5.859375 C 3.4375 -5.859375 3.875 -5.015625 3.875 -3.25 Z M 3.875 -3.25 \"/>\n</symbol>\n<symbol overflow=\"visible\" id=\"glyph0-2\">\n<path style=\"stroke:none;\" d=\"M 4.75 -4.65625 C 4.75 -5.765625 3.890625 -6.59375 2.640625 -6.59375 C 1.296875 -6.59375 0.515625 -5.90625 0.46875 -4.296875 L 1.28125 -4.296875 C 1.34375 -5.40625 1.796875 -5.875 2.609375 -5.875 C 3.359375 -5.875 3.90625 -5.34375 3.90625 -4.640625 C 3.90625 -4.125 3.609375 -3.671875 3.015625 -3.34375 L 2.171875 -2.859375 C 0.796875 -2.078125 0.390625 -1.453125 0.3125 0 L 4.703125 0 L 4.703125 -0.8125 L 1.234375 -0.8125 C 1.3125 -1.34375 1.625 -1.6875 2.421875 -2.171875 L 3.359375 -2.671875 C 4.28125 -3.15625 4.75 -3.84375 4.75 -4.65625 Z M 4.75 -4.65625 \"/>\n</symbol>\n<symbol overflow=\"visible\" id=\"glyph0-3\">\n<path style=\"stroke:none;\" d=\"M 4.828125 -1.578125 L 4.828125 -2.3125 L 3.859375 -2.3125 L 3.859375 -6.59375 L 3.25 -6.59375 L 0.265625 -2.4375 L 0.265625 -1.578125 L 3.046875 -1.578125 L 3.046875 0 L 3.859375 0 L 3.859375 -1.578125 Z M 3.046875 -2.3125 L 0.96875 -2.3125 L 3.046875 -5.203125 Z M 3.046875 -2.3125 \"/>\n</symbol>\n<symbol overflow=\"visible\" id=\"glyph0-4\">\n<path style=\"stroke:none;\" d=\"M 4.765625 -2.046875 C 4.765625 -3.265625 3.9375 -4.09375 2.75 -4.09375 C 2.09375 -4.09375 1.59375 -3.84375 1.234375 -3.359375 C 1.25 -4.96875 1.765625 -5.859375 2.703125 -5.859375 C 3.28125 -5.859375 3.6875 -5.5 3.8125 -4.875 L 4.625 -4.875 C 4.46875 -5.953125 3.765625 -6.59375 2.765625 -6.59375 C 1.234375 -6.59375 0.40625 -5.296875 0.40625 -3 C 0.40625 -0.953125 1.109375 0.140625 2.609375 0.140625 C 3.875 0.140625 4.765625 -0.75 4.765625 -2.046875 Z M 3.9375 -1.984375 C 3.9375 -1.15625 3.375 -0.578125 2.625 -0.578125 C 1.859375 -0.578125 1.28125 -1.1875 1.28125 -2.03125 C 1.28125 -2.84375 1.84375 -3.375 2.65625 -3.375 C 3.4375 -3.375 3.9375 -2.859375 3.9375 -1.984375 Z M 3.9375 -1.984375 \"/>\n</symbol>\n<symbol overflow=\"visible\" id=\"glyph0-5\">\n<path style=\"stroke:none;\" d=\"M 4.765625 -1.859375 C 4.765625 -2.59375 4.390625 -3.109375 3.640625 -3.46875 C 4.3125 -3.875 4.53125 -4.21875 4.53125 -4.828125 C 4.53125 -5.859375 3.734375 -6.59375 2.5625 -6.59375 C 1.390625 -6.59375 0.578125 -5.859375 0.578125 -4.828125 C 0.578125 -4.21875 0.796875 -3.890625 1.46875 -3.46875 C 0.71875 -3.109375 0.34375 -2.59375 0.34375 -1.875 C 0.34375 -0.65625 1.25 0.140625 2.5625 0.140625 C 3.859375 0.140625 4.765625 -0.65625 4.765625 -1.859375 Z M 3.703125 -4.8125 C 3.703125 -4.203125 3.25 -3.796875 2.5625 -3.796875 C 1.875 -3.796875 1.40625 -4.203125 1.40625 -4.828125 C 1.40625 -5.453125 1.875 -5.859375 2.5625 -5.859375 C 3.25 -5.859375 3.703125 -5.453125 3.703125 -4.8125 Z M 3.9375 -1.84375 C 3.9375 -1.0625 3.375 -0.578125 2.53125 -0.578125 C 1.734375 -0.578125 1.1875 -1.078125 1.1875 -1.84375 C 1.1875 -2.625 1.734375 -3.109375 2.5625 -3.109375 C 3.375 -3.109375 3.9375 -2.625 3.9375 -1.84375 Z M 3.9375 -1.84375 \"/>\n</symbol>\n<symbol overflow=\"visible\" id=\"glyph0-6\">\n<path style=\"stroke:none;\" d=\"M 3.21875 0 L 3.21875 -6.59375 L 2.6875 -6.59375 C 2.40625 -5.578125 2.21875 -5.4375 0.953125 -5.28125 L 0.953125 -4.6875 L 2.40625 -4.6875 L 2.40625 0 Z M 3.21875 0 \"/>\n</symbol>\n<symbol overflow=\"visible\" id=\"glyph0-7\">\n<path style=\"stroke:none;\" d=\"M 4.703125 -1.921875 C 4.703125 -2.71875 4.375 -3.171875 3.59375 -3.453125 C 4.203125 -3.6875 4.515625 -4.125 4.515625 -4.78125 C 4.515625 -5.90625 3.75 -6.59375 2.5 -6.59375 C 1.171875 -6.59375 0.46875 -5.859375 0.4375 -4.46875 L 1.25 -4.46875 C 1.28125 -5.4375 1.671875 -5.875 2.515625 -5.875 C 3.234375 -5.875 3.671875 -5.453125 3.671875 -4.75 C 3.671875 -4.046875 3.359375 -3.75 2.046875 -3.75 L 2.046875 -3.0625 L 2.5 -3.0625 C 3.40625 -3.0625 3.875 -2.640625 3.875 -1.90625 C 3.875 -1.078125 3.359375 -0.578125 2.5 -0.578125 C 1.609375 -0.578125 1.171875 -1.03125 1.109375 -1.984375 L 0.296875 -1.984375 C 0.40625 -0.515625 1.125 0.140625 2.46875 0.140625 C 3.828125 0.140625 4.703125 -0.671875 4.703125 -1.921875 Z M 4.703125 -1.921875 \"/>\n</symbol>\n<symbol overflow=\"visible\" id=\"glyph1-0\">\n<path style=\"stroke:none;\" d=\"\"/>\n</symbol>\n<symbol overflow=\"visible\" id=\"glyph1-1\">\n<path style=\"stroke:none;\" d=\"M 5.59375 0 L 5.59375 -4.546875 C 5.59375 -5.5625 4.859375 -6.203125 3.6875 -6.203125 C 2.84375 -6.203125 2.328125 -5.9375 1.765625 -5.203125 L 1.765625 -8.390625 L 0.8125 -8.390625 L 0.8125 0 L 1.765625 0 L 1.765625 -3.328125 C 1.765625 -4.546875 2.40625 -5.359375 3.390625 -5.359375 C 4.078125 -5.359375 4.640625 -4.96875 4.640625 -4.171875 L 4.640625 0 Z M 5.59375 0 \"/>\n</symbol>\n<symbol overflow=\"visible\" id=\"glyph1-2\">\n<path style=\"stroke:none;\" d=\"M 8.140625 -6.03125 L 7.0625 -6.03125 L 5.859375 -1.328125 L 4.6875 -6.03125 L 3.5 -6.03125 L 2.359375 -1.328125 L 1.125 -6.03125 L 0.0625 -6.03125 L 1.8125 0 L 2.890625 0 L 4.0625 -4.71875 L 5.28125 0 L 6.375 0 Z M 8.140625 -6.03125 \"/>\n</symbol>\n<symbol overflow=\"visible\" id=\"glyph1-3\">\n<path style=\"stroke:none;\" d=\"M 5.5 -6.03125 L 4.46875 -6.03125 L 2.796875 -1.328125 L 1.25 -6.03125 L 0.234375 -6.03125 L 2.265625 0.015625 L 1.890625 0.984375 C 1.734375 1.40625 1.546875 1.5625 1.125 1.5625 C 0.984375 1.5625 0.828125 1.546875 0.625 1.5 L 0.625 2.359375 C 0.8125 2.46875 1.015625 2.5 1.265625 2.5 C 1.9375 2.5 2.5 2.125 2.8125 1.265625 Z M 5.5 -6.03125 \"/>\n</symbol>\n<symbol overflow=\"visible\" id=\"glyph2-0\">\n<path style=\"stroke:none;\" d=\"\"/>\n</symbol>\n<symbol overflow=\"visible\" id=\"glyph2-1\">\n<path style=\"stroke:none;\" d=\"M -2.0625 -5.484375 L -2.0625 -4.515625 C -1.109375 -4.359375 -0.71875 -3.859375 -0.71875 -3.046875 C -0.71875 -1.984375 -1.53125 -1.359375 -2.953125 -1.359375 C -4.46875 -1.359375 -5.3125 -1.984375 -5.3125 -3.03125 C -5.3125 -3.828125 -4.84375 -4.328125 -4 -4.453125 L -4 -5.421875 C -5.46875 -5.296875 -6.203125 -4.375 -6.203125 -3.03125 C -6.203125 -1.421875 -4.953125 -0.359375 -2.953125 -0.359375 C -1.015625 -0.359375 0.171875 -1.390625 0.171875 -3.03125 C 0.171875 -4.46875 -0.6875 -5.375 -2.0625 -5.484375 Z M -2.0625 -5.484375 \"/>\n</symbol>\n<symbol overflow=\"visible\" id=\"glyph2-2\">\n<path style=\"stroke:none;\" d=\"M -2.96875 -5.859375 C -5.046875 -5.859375 -6.203125 -4.859375 -6.203125 -3.125 C -6.203125 -1.4375 -5.03125 -0.40625 -3.015625 -0.40625 C -0.984375 -0.40625 0.171875 -1.421875 0.171875 -3.140625 C 0.171875 -4.828125 -0.984375 -5.859375 -2.96875 -5.859375 Z M -2.984375 -4.859375 C -1.5625 -4.859375 -0.71875 -4.203125 -0.71875 -3.140625 C -0.71875 -2.0625 -1.546875 -1.421875 -3.015625 -1.421875 C -4.46875 -1.421875 -5.3125 -2.0625 -5.3125 -3.140625 C -5.3125 -4.21875 -4.46875 -4.859375 -2.984375 -4.859375 Z M -2.984375 -4.859375 \"/>\n</symbol>\n<symbol overflow=\"visible\" id=\"glyph2-3\">\n<path style=\"stroke:none;\" d=\"M 0 -5.546875 L -6.03125 -5.546875 L -6.03125 -4.59375 L -2.703125 -4.59375 C -1.46875 -4.59375 -0.671875 -3.9375 -0.671875 -2.9375 C -0.671875 -2.1875 -1.125 -1.703125 -1.84375 -1.703125 L -6.03125 -1.703125 L -6.03125 -0.75 L -1.46875 -0.75 C -0.46875 -0.75 0.171875 -1.5 0.171875 -2.671875 C 0.171875 -3.546875 -0.140625 -4.109375 -0.9375 -4.6875 L 0 -4.6875 Z M 0 -5.546875 \"/>\n</symbol>\n<symbol overflow=\"visible\" id=\"glyph2-4\">\n<path style=\"stroke:none;\" d=\"M 0 -5.59375 L -4.546875 -5.59375 C -5.546875 -5.59375 -6.203125 -4.859375 -6.203125 -3.6875 C -6.203125 -2.796875 -5.859375 -2.21875 -5.015625 -1.6875 L -6.03125 -1.6875 L -6.03125 -0.8125 L 0 -0.8125 L 0 -1.765625 L -3.328125 -1.765625 C -4.546875 -1.765625 -5.359375 -2.421875 -5.359375 -3.40625 C -5.359375 -4.15625 -4.90625 -4.640625 -4.171875 -4.640625 L 0 -4.640625 Z M 0 -5.59375 \"/>\n</symbol>\n<symbol overflow=\"visible\" id=\"glyph2-5\">\n<path style=\"stroke:none;\" d=\"M 0 -2.921875 L -0.8125 -2.921875 C -0.765625 -2.796875 -0.765625 -2.640625 -0.765625 -2.46875 C -0.765625 -2.046875 -0.875 -1.9375 -1.296875 -1.9375 L -5.25 -1.9375 L -5.25 -2.921875 L -6.03125 -2.921875 L -6.03125 -1.9375 L -7.6875 -1.9375 L -7.6875 -0.984375 L -6.03125 -0.984375 L -6.03125 -0.15625 L -5.25 -0.15625 L -5.25 -0.984375 L -0.875 -0.984375 C -0.265625 -0.984375 0.078125 -1.390625 0.078125 -2.140625 C 0.078125 -2.375 0.0625 -2.59375 0 -2.921875 Z M 0 -2.921875 \"/>\n</symbol>\n</g>\n<clipPath id=\"clip1\">\n  <path d=\"M 34.875 5.480469 L 499 5.480469 L 499 470 L 34.875 470 Z M 34.875 5.480469 \"/>\n</clipPath>\n<clipPath id=\"clip2\">\n  <path d=\"M 34.875 396 L 499 396 L 499 397 L 34.875 397 Z M 34.875 396 \"/>\n</clipPath>\n<clipPath id=\"clip3\">\n  <path d=\"M 34.875 291 L 499 291 L 499 293 L 34.875 293 Z M 34.875 291 \"/>\n</clipPath>\n<clipPath id=\"clip4\">\n  <path d=\"M 34.875 187 L 499 187 L 499 189 L 34.875 189 Z M 34.875 187 \"/>\n</clipPath>\n<clipPath id=\"clip5\">\n  <path d=\"M 34.875 83 L 499 83 L 499 85 L 34.875 85 Z M 34.875 83 \"/>\n</clipPath>\n<clipPath id=\"clip6\">\n  <path d=\"M 134 5.480469 L 136 5.480469 L 136 470.6875 L 134 470.6875 Z M 134 5.480469 \"/>\n</clipPath>\n<clipPath id=\"clip7\">\n  <path d=\"M 240 5.480469 L 241 5.480469 L 241 470.6875 L 240 470.6875 Z M 240 5.480469 \"/>\n</clipPath>\n<clipPath id=\"clip8\">\n  <path d=\"M 345 5.480469 L 347 5.480469 L 347 470.6875 L 345 470.6875 Z M 345 5.480469 \"/>\n</clipPath>\n<clipPath id=\"clip9\">\n  <path d=\"M 450 5.480469 L 452 5.480469 L 452 470.6875 L 450 470.6875 Z M 450 5.480469 \"/>\n</clipPath>\n<clipPath id=\"clip10\">\n  <path d=\"M 34.875 447 L 499.519531 447 L 499.519531 450 L 34.875 450 Z M 34.875 447 \"/>\n</clipPath>\n<clipPath id=\"clip11\">\n  <path d=\"M 34.875 343 L 499.519531 343 L 499.519531 346 L 34.875 346 Z M 34.875 343 \"/>\n</clipPath>\n<clipPath id=\"clip12\">\n  <path d=\"M 34.875 239 L 499.519531 239 L 499.519531 241 L 34.875 241 Z M 34.875 239 \"/>\n</clipPath>\n<clipPath id=\"clip13\">\n  <path d=\"M 34.875 135 L 499.519531 135 L 499.519531 137 L 34.875 137 Z M 34.875 135 \"/>\n</clipPath>\n<clipPath id=\"clip14\">\n  <path d=\"M 34.875 31 L 499.519531 31 L 499.519531 33 L 34.875 33 Z M 34.875 31 \"/>\n</clipPath>\n<clipPath id=\"clip15\">\n  <path d=\"M 81 5.480469 L 84 5.480469 L 84 470.6875 L 81 470.6875 Z M 81 5.480469 \"/>\n</clipPath>\n<clipPath id=\"clip16\">\n  <path d=\"M 186 5.480469 L 189 5.480469 L 189 470.6875 L 186 470.6875 Z M 186 5.480469 \"/>\n</clipPath>\n<clipPath id=\"clip17\">\n  <path d=\"M 292 5.480469 L 294 5.480469 L 294 470.6875 L 292 470.6875 Z M 292 5.480469 \"/>\n</clipPath>\n<clipPath id=\"clip18\">\n  <path d=\"M 397 5.480469 L 400 5.480469 L 400 470.6875 L 397 470.6875 Z M 397 5.480469 \"/>\n</clipPath>\n</defs>\n<g id=\"surface89\">\n<rect x=\"0\" y=\"0\" width=\"504\" height=\"504\" style=\"fill:rgb(100%,100%,100%);fill-opacity:1;stroke:none;\"/>\n<rect x=\"0\" y=\"0\" width=\"504\" height=\"504\" style=\"fill:rgb(100%,100%,100%);fill-opacity:1;stroke:none;\"/>\n<path style=\"fill:none;stroke-width:1.422638;stroke-linecap:round;stroke-linejoin:round;stroke:rgb(100%,100%,100%);stroke-opacity:1;stroke-miterlimit:10;\" d=\"M 0 0 L 504 0 L 504 504 L 0 504 Z M 0 0 \"/>\n<g clip-path=\"url(#clip1)\" clip-rule=\"nonzero\">\n<path style=\" stroke:none;fill-rule:nonzero;fill:rgb(92.156863%,92.156863%,92.156863%);fill-opacity:1;\" d=\"M 34.875 5.480469 L 498.519531 5.480469 L 498.519531 469.6875 L 34.875 469.6875 Z M 34.875 5.480469 \"/>\n</g>\n<g clip-path=\"url(#clip2)\" clip-rule=\"nonzero\">\n<path style=\"fill:none;stroke-width:0.711319;stroke-linecap:butt;stroke-linejoin:round;stroke:rgb(100%,100%,100%);stroke-opacity:1;stroke-miterlimit:10;\" d=\"M 34.875 396.484375 L 498.519531 396.484375 \"/>\n</g>\n<g clip-path=\"url(#clip3)\" clip-rule=\"nonzero\">\n<path style=\"fill:none;stroke-width:0.711319;stroke-linecap:butt;stroke-linejoin:round;stroke:rgb(100%,100%,100%);stroke-opacity:1;stroke-miterlimit:10;\" d=\"M 34.875 292.289062 L 498.519531 292.289062 \"/>\n</g>\n<g clip-path=\"url(#clip4)\" clip-rule=\"nonzero\">\n<path style=\"fill:none;stroke-width:0.711319;stroke-linecap:butt;stroke-linejoin:round;stroke:rgb(100%,100%,100%);stroke-opacity:1;stroke-miterlimit:10;\" d=\"M 34.875 188.089844 L 498.519531 188.089844 \"/>\n</g>\n<g clip-path=\"url(#clip5)\" clip-rule=\"nonzero\">\n<path style=\"fill:none;stroke-width:0.711319;stroke-linecap:butt;stroke-linejoin:round;stroke:rgb(100%,100%,100%);stroke-opacity:1;stroke-miterlimit:10;\" d=\"M 34.875 83.890625 L 498.519531 83.890625 \"/>\n</g>\n<g clip-path=\"url(#clip6)\" clip-rule=\"nonzero\">\n<path style=\"fill:none;stroke-width:0.711319;stroke-linecap:butt;stroke-linejoin:round;stroke:rgb(100%,100%,100%);stroke-opacity:1;stroke-miterlimit:10;\" d=\"M 134.980469 469.6875 L 134.980469 5.480469 \"/>\n</g>\n<g clip-path=\"url(#clip7)\" clip-rule=\"nonzero\">\n<path style=\"fill:none;stroke-width:0.711319;stroke-linecap:butt;stroke-linejoin:round;stroke:rgb(100%,100%,100%);stroke-opacity:1;stroke-miterlimit:10;\" d=\"M 240.355469 469.6875 L 240.355469 5.480469 \"/>\n</g>\n<g clip-path=\"url(#clip8)\" clip-rule=\"nonzero\">\n<path style=\"fill:none;stroke-width:0.711319;stroke-linecap:butt;stroke-linejoin:round;stroke:rgb(100%,100%,100%);stroke-opacity:1;stroke-miterlimit:10;\" d=\"M 345.730469 469.6875 L 345.730469 5.480469 \"/>\n</g>\n<g clip-path=\"url(#clip9)\" clip-rule=\"nonzero\">\n<path style=\"fill:none;stroke-width:0.711319;stroke-linecap:butt;stroke-linejoin:round;stroke:rgb(100%,100%,100%);stroke-opacity:1;stroke-miterlimit:10;\" d=\"M 451.101562 469.6875 L 451.101562 5.480469 \"/>\n</g>\n<g clip-path=\"url(#clip10)\" clip-rule=\"nonzero\">\n<path style=\"fill:none;stroke-width:1.422638;stroke-linecap:butt;stroke-linejoin:round;stroke:rgb(100%,100%,100%);stroke-opacity:1;stroke-miterlimit:10;\" d=\"M 34.875 448.585938 L 498.519531 448.585938 \"/>\n</g>\n<g clip-path=\"url(#clip11)\" clip-rule=\"nonzero\">\n<path style=\"fill:none;stroke-width:1.422638;stroke-linecap:butt;stroke-linejoin:round;stroke:rgb(100%,100%,100%);stroke-opacity:1;stroke-miterlimit:10;\" d=\"M 34.875 344.386719 L 498.519531 344.386719 \"/>\n</g>\n<g clip-path=\"url(#clip12)\" clip-rule=\"nonzero\">\n<path style=\"fill:none;stroke-width:1.422638;stroke-linecap:butt;stroke-linejoin:round;stroke:rgb(100%,100%,100%);stroke-opacity:1;stroke-miterlimit:10;\" d=\"M 34.875 240.1875 L 498.519531 240.1875 \"/>\n</g>\n<g clip-path=\"url(#clip13)\" clip-rule=\"nonzero\">\n<path style=\"fill:none;stroke-width:1.422638;stroke-linecap:butt;stroke-linejoin:round;stroke:rgb(100%,100%,100%);stroke-opacity:1;stroke-miterlimit:10;\" d=\"M 34.875 135.988281 L 498.519531 135.988281 \"/>\n</g>\n<g clip-path=\"url(#clip14)\" clip-rule=\"nonzero\">\n<path style=\"fill:none;stroke-width:1.422638;stroke-linecap:butt;stroke-linejoin:round;stroke:rgb(100%,100%,100%);stroke-opacity:1;stroke-miterlimit:10;\" d=\"M 34.875 31.789062 L 498.519531 31.789062 \"/>\n</g>\n<g clip-path=\"url(#clip15)\" clip-rule=\"nonzero\">\n<path style=\"fill:none;stroke-width:1.422638;stroke-linecap:butt;stroke-linejoin:round;stroke:rgb(100%,100%,100%);stroke-opacity:1;stroke-miterlimit:10;\" d=\"M 82.292969 469.6875 L 82.292969 5.480469 \"/>\n</g>\n<g clip-path=\"url(#clip16)\" clip-rule=\"nonzero\">\n<path style=\"fill:none;stroke-width:1.422638;stroke-linecap:butt;stroke-linejoin:round;stroke:rgb(100%,100%,100%);stroke-opacity:1;stroke-miterlimit:10;\" d=\"M 187.667969 469.6875 L 187.667969 5.480469 \"/>\n</g>\n<g clip-path=\"url(#clip17)\" clip-rule=\"nonzero\">\n<path style=\"fill:none;stroke-width:1.422638;stroke-linecap:butt;stroke-linejoin:round;stroke:rgb(100%,100%,100%);stroke-opacity:1;stroke-miterlimit:10;\" d=\"M 293.042969 469.6875 L 293.042969 5.480469 \"/>\n</g>\n<g clip-path=\"url(#clip18)\" clip-rule=\"nonzero\">\n<path style=\"fill:none;stroke-width:1.422638;stroke-linecap:butt;stroke-linejoin:round;stroke:rgb(100%,100%,100%);stroke-opacity:1;stroke-miterlimit:10;\" d=\"M 398.414062 469.6875 L 398.414062 5.480469 \"/>\n</g>\n<path style=\" stroke:none;fill-rule:nonzero;fill:rgb(34.901961%,34.901961%,34.901961%);fill-opacity:1;\" d=\"M 55.949219 422.535156 L 108.636719 422.535156 L 108.636719 448.585938 L 55.949219 448.585938 Z M 55.949219 422.535156 \"/>\n<path style=\" stroke:none;fill-rule:nonzero;fill:rgb(34.901961%,34.901961%,34.901961%);fill-opacity:1;\" d=\"M 108.636719 188.089844 L 161.324219 188.089844 L 161.324219 448.585938 L 108.636719 448.585938 Z M 108.636719 188.089844 \"/>\n<path style=\" stroke:none;fill-rule:nonzero;fill:rgb(34.901961%,34.901961%,34.901961%);fill-opacity:1;\" d=\"M 161.324219 224.558594 L 214.011719 224.558594 L 214.011719 448.585938 L 161.324219 448.585938 Z M 161.324219 224.558594 \"/>\n<path style=\" stroke:none;fill-rule:nonzero;fill:rgb(34.901961%,34.901961%,34.901961%);fill-opacity:1;\" d=\"M 214.011719 26.578125 L 266.699219 26.578125 L 266.699219 448.585938 L 214.011719 448.585938 Z M 214.011719 26.578125 \"/>\n<path style=\" stroke:none;fill-rule:nonzero;fill:rgb(34.901961%,34.901961%,34.901961%);fill-opacity:1;\" d=\"M 266.699219 219.347656 L 319.386719 219.347656 L 319.386719 448.585938 L 266.699219 448.585938 Z M 266.699219 219.347656 \"/>\n<path style=\" stroke:none;fill-rule:nonzero;fill:rgb(34.901961%,34.901961%,34.901961%);fill-opacity:1;\" d=\"M 319.386719 406.90625 L 372.074219 406.90625 L 372.074219 448.585938 L 319.386719 448.585938 Z M 319.386719 406.90625 \"/>\n<path style=\" stroke:none;fill-rule:nonzero;fill:rgb(34.901961%,34.901961%,34.901961%);fill-opacity:1;\" d=\"M 372.070312 443.375 L 424.757812 443.375 L 424.757812 448.585938 L 372.070312 448.585938 Z M 372.070312 443.375 \"/>\n<path style=\" stroke:none;fill-rule:nonzero;fill:rgb(34.901961%,34.901961%,34.901961%);fill-opacity:1;\" d=\"M 424.757812 438.164062 L 477.445312 438.164062 L 477.445312 448.582031 L 424.757812 448.582031 Z M 424.757812 438.164062 \"/>\n<g style=\"fill:rgb(30.196078%,30.196078%,30.196078%);fill-opacity:1;\">\n  <use xlink:href=\"#glyph0-1\" x=\"24.773438\" y=\"451.976562\"/>\n</g>\n<g style=\"fill:rgb(30.196078%,30.196078%,30.196078%);fill-opacity:1;\">\n  <use xlink:href=\"#glyph0-2\" x=\"19.605469\" y=\"347.777344\"/>\n  <use xlink:href=\"#glyph0-1\" x=\"24.776269\" y=\"347.777344\"/>\n</g>\n<g style=\"fill:rgb(30.196078%,30.196078%,30.196078%);fill-opacity:1;\">\n  <use xlink:href=\"#glyph0-3\" x=\"19.605469\" y=\"243.578125\"/>\n  <use xlink:href=\"#glyph0-1\" x=\"24.776269\" y=\"243.578125\"/>\n</g>\n<g style=\"fill:rgb(30.196078%,30.196078%,30.196078%);fill-opacity:1;\">\n  <use xlink:href=\"#glyph0-4\" x=\"19.605469\" y=\"139.378906\"/>\n  <use xlink:href=\"#glyph0-1\" x=\"24.776269\" y=\"139.378906\"/>\n</g>\n<g style=\"fill:rgb(30.196078%,30.196078%,30.196078%);fill-opacity:1;\">\n  <use xlink:href=\"#glyph0-5\" x=\"19.605469\" y=\"35.179688\"/>\n  <use xlink:href=\"#glyph0-1\" x=\"24.776269\" y=\"35.179688\"/>\n</g>\n<path style=\"fill:none;stroke-width:1.422638;stroke-linecap:butt;stroke-linejoin:round;stroke:rgb(20%,20%,20%);stroke-opacity:1;stroke-miterlimit:10;\" d=\"M 32.136719 448.585938 L 34.875 448.585938 \"/>\n<path style=\"fill:none;stroke-width:1.422638;stroke-linecap:butt;stroke-linejoin:round;stroke:rgb(20%,20%,20%);stroke-opacity:1;stroke-miterlimit:10;\" d=\"M 32.136719 344.386719 L 34.875 344.386719 \"/>\n<path style=\"fill:none;stroke-width:1.422638;stroke-linecap:butt;stroke-linejoin:round;stroke:rgb(20%,20%,20%);stroke-opacity:1;stroke-miterlimit:10;\" d=\"M 32.136719 240.1875 L 34.875 240.1875 \"/>\n<path style=\"fill:none;stroke-width:1.422638;stroke-linecap:butt;stroke-linejoin:round;stroke:rgb(20%,20%,20%);stroke-opacity:1;stroke-miterlimit:10;\" d=\"M 32.136719 135.988281 L 34.875 135.988281 \"/>\n<path style=\"fill:none;stroke-width:1.422638;stroke-linecap:butt;stroke-linejoin:round;stroke:rgb(20%,20%,20%);stroke-opacity:1;stroke-miterlimit:10;\" d=\"M 32.136719 31.789062 L 34.875 31.789062 \"/>\n<path style=\"fill:none;stroke-width:1.422638;stroke-linecap:butt;stroke-linejoin:round;stroke:rgb(20%,20%,20%);stroke-opacity:1;stroke-miterlimit:10;\" d=\"M 82.292969 472.425781 L 82.292969 469.6875 \"/>\n<path style=\"fill:none;stroke-width:1.422638;stroke-linecap:butt;stroke-linejoin:round;stroke:rgb(20%,20%,20%);stroke-opacity:1;stroke-miterlimit:10;\" d=\"M 187.667969 472.425781 L 187.667969 469.6875 \"/>\n<path style=\"fill:none;stroke-width:1.422638;stroke-linecap:butt;stroke-linejoin:round;stroke:rgb(20%,20%,20%);stroke-opacity:1;stroke-miterlimit:10;\" d=\"M 293.042969 472.425781 L 293.042969 469.6875 \"/>\n<path style=\"fill:none;stroke-width:1.422638;stroke-linecap:butt;stroke-linejoin:round;stroke:rgb(20%,20%,20%);stroke-opacity:1;stroke-miterlimit:10;\" d=\"M 398.414062 472.425781 L 398.414062 469.6875 \"/>\n<g style=\"fill:rgb(30.196078%,30.196078%,30.196078%);fill-opacity:1;\">\n  <use xlink:href=\"#glyph0-6\" x=\"77.121094\" y=\"481.398438\"/>\n  <use xlink:href=\"#glyph0-1\" x=\"82.291894\" y=\"481.398438\"/>\n</g>\n<g style=\"fill:rgb(30.196078%,30.196078%,30.196078%);fill-opacity:1;\">\n  <use xlink:href=\"#glyph0-2\" x=\"182.496094\" y=\"481.398438\"/>\n  <use xlink:href=\"#glyph0-1\" x=\"187.666894\" y=\"481.398438\"/>\n</g>\n<g style=\"fill:rgb(30.196078%,30.196078%,30.196078%);fill-opacity:1;\">\n  <use xlink:href=\"#glyph0-7\" x=\"287.871094\" y=\"481.398438\"/>\n  <use xlink:href=\"#glyph0-1\" x=\"293.041894\" y=\"481.398438\"/>\n</g>\n<g style=\"fill:rgb(30.196078%,30.196078%,30.196078%);fill-opacity:1;\">\n  <use xlink:href=\"#glyph0-3\" x=\"393.242188\" y=\"481.398438\"/>\n  <use xlink:href=\"#glyph0-1\" x=\"398.412987\" y=\"481.398438\"/>\n</g>\n<g style=\"fill:rgb(0%,0%,0%);fill-opacity:1;\">\n  <use xlink:href=\"#glyph1-1\" x=\"256.476562\" y=\"495.519531\"/>\n  <use xlink:href=\"#glyph1-2\" x=\"262.870563\" y=\"495.519531\"/>\n  <use xlink:href=\"#glyph1-3\" x=\"271.173563\" y=\"495.519531\"/>\n</g>\n<g style=\"fill:rgb(0%,0%,0%);fill-opacity:1;\">\n  <use xlink:href=\"#glyph2-1\" x=\"13.863281\" y=\"251.648438\"/>\n  <use xlink:href=\"#glyph2-2\" x=\"13.863281\" y=\"245.898438\"/>\n  <use xlink:href=\"#glyph2-3\" x=\"13.863281\" y=\"239.504437\"/>\n  <use xlink:href=\"#glyph2-4\" x=\"13.863281\" y=\"233.110437\"/>\n  <use xlink:href=\"#glyph2-5\" x=\"13.863281\" y=\"226.716437\"/>\n</g>\n</g>\n</svg>\n"
     },
     "execution_count": 6,
     "metadata": {
      "image/svg+xml": {
       "isolated": true
      }
     },
     "output_type": "execute_result"
    }
   ],
   "source": [
    "ggplot(data=mpg, aes(cty)) + \n",
    "  geom_histogram(binwidth=4)\n",
    "  \n",
    "ggplot(data=mpg, aes(hwy)) + \n",
    "  geom_histogram(binwidth=5)"
   ]
  },
  {
   "cell_type": "markdown",
   "metadata": {
    "collapsed": false
   },
   "source": [
    "Describe the shape center and spread of the two histograms."
   ]
  },
  {
   "cell_type": "markdown",
   "metadata": {
    "collapsed": false
   },
   "source": [
    "Both unimodal\n",
    "city has median of: 17 and IQR: 5\n",
    "highway has median of: 24 and IQR: 9"
   ]
  },
  {
   "cell_type": "markdown",
   "metadata": {
    "collapsed": false
   },
   "source": [
    "Do you think that there is a difference in the true means of city miles vs highway miles or is the observed difference just a result of sampling variability?"
   ]
  },
  {
   "cell_type": "markdown",
   "metadata": {
    "collapsed": false
   },
   "source": [
    "looks might be a real difference"
   ]
  },
  {
   "cell_type": "markdown",
   "metadata": {
    "collapsed": false
   },
   "source": [
    "Lets run a t test and confidence interval\n",
    "```\n",
    "t.test(mpg$cty, mpg$hwy, paired = TRUE, alternative = \"two.sided\")\n",
    "```"
   ]
  },
  {
   "cell_type": "code",
   "execution_count": 7,
   "metadata": {
    "collapsed": false
   },
   "outputs": [
    {
     "data": {
      "text/plain": [
       "\n",
       "\tPaired t-test\n",
       "\n",
       "data:  mpg$cty and mpg$hwy\n",
       "t = -44.492, df = 233, p-value < 2.2e-16\n",
       "alternative hypothesis: true difference in means is not equal to 0\n",
       "95 percent confidence interval:\n",
       " -6.872628 -6.289765\n",
       "sample estimates:\n",
       "mean of the differences \n",
       "              -6.581197 \n"
      ]
     },
     "execution_count": 7,
     "metadata": {
     },
     "output_type": "execute_result"
    }
   ],
   "source": [
    "t.test(mpg$cty, mpg$hwy, paired = TRUE, alternative = \"two.sided\")"
   ]
  },
  {
   "cell_type": "markdown",
   "metadata": {
    "collapsed": false
   },
   "source": [
    "What does all the information above mean?"
   ]
  },
  {
   "cell_type": "code",
   "execution_count": 0,
   "metadata": {
    "collapsed": false
   },
   "outputs": [
   ],
   "source": [
   ]
  },
  {
   "cell_type": "markdown",
   "metadata": {
    "collapsed": false
   },
   "source": [
    "# Now your turn #\n",
    "\n",
    "Load up the data that we collected in class"
   ]
  },
  {
   "cell_type": "code",
   "execution_count": 0,
   "metadata": {
    "collapsed": false
   },
   "outputs": [
   ],
   "source": [
   ]
  },
  {
   "cell_type": "code",
   "execution_count": 0,
   "metadata": {
    "collapsed": false
   },
   "outputs": [
   ],
   "source": [
   ]
  },
  {
   "cell_type": "markdown",
   "metadata": {
    "collapsed": false
   },
   "source": [
    "Find the summary statistics of our variables."
   ]
  },
  {
   "cell_type": "code",
   "execution_count": 0,
   "metadata": {
    "collapsed": false
   },
   "outputs": [
   ],
   "source": [
   ]
  },
  {
   "cell_type": "markdown",
   "metadata": {
    "collapsed": false
   },
   "source": [
    "Create a histogram of the variables."
   ]
  },
  {
   "cell_type": "code",
   "execution_count": 0,
   "metadata": {
    "collapsed": false
   },
   "outputs": [
   ],
   "source": [
   ]
  },
  {
   "cell_type": "markdown",
   "metadata": {
    "collapsed": false
   },
   "source": [
    "Run a t test"
   ]
  },
  {
   "cell_type": "code",
   "execution_count": 0,
   "metadata": {
    "collapsed": false
   },
   "outputs": [
   ],
   "source": [
   ]
  },
  {
   "cell_type": "code",
   "execution_count": 0,
   "metadata": {
    "collapsed": false
   },
   "outputs": [
   ],
   "source": [
    "Explain what the t test tells us in this context."
   ]
  }
 ],
 "metadata": {
  "kernelspec": {
   "display_name": "R (SageMath)",
   "language": "r",
   "metadata": {
    "cocalc": {
     "description": "SageMath's R language environment",
     "priority": 0,
     "url": "https://www.sagemath.org/"
    }
   },
   "name": "ir-sage"
  },
  "language_info": {
   "codemirror_mode": "r",
   "file_extension": ".r",
   "mimetype": "text/x-r-source",
   "name": "R",
   "pygments_lexer": "r",
   "version": "3.5.2"
  }
 },
 "nbformat": 4,
 "nbformat_minor": 0
}