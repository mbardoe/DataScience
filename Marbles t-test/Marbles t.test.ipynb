{
 "cells": [
  {
   "cell_type": "markdown",
   "metadata": {
    "collapsed": false
   },
   "source": [
    "Which type of marbles are faster in completing the marble run- the smaller or the larger ones? Or is there no significant difference? State the null hypothesis below. "
   ]
  },
  {
   "cell_type": "markdown",
   "metadata": {
    "collapsed": false
   },
   "source": [
   ]
  },
  {
   "cell_type": "markdown",
   "metadata": {
    "collapsed": false
   },
   "source": [
    "Recall that we discussed the difference between directional and non-directional alternative hypotheses in class. For this analysis, we are going to use a non-directional alternative hypothesis. State the alternative hypothesis below."
   ]
  },
  {
   "cell_type": "markdown",
   "metadata": {
    "collapsed": false
   },
   "source": [
   ]
  },
  {
   "cell_type": "markdown",
   "metadata": {
    "collapsed": false
   },
   "source": [
    "A t-test is used to compare the means between two samples to see if there is a significant difference between the two means. In order to perform a t-test, both samples need to \n",
    "-be continuous (not discrete or categorical)\n",
    "-be independent of each other\n",
    "-be from simple random samples\n",
    "-be normally distributed (or close to normally distributed)\n",
    "-have the same number of data points (or close) \n",
    "   (if not, a t-test could be done if the variances are similar, but that is beyond the scope of this lesson)\n",
    "-have a large enough number of data points (generally 30 or more is considered acceptable)\n",
    "\n",
    "\n",
    "Here is some code you will use today. You will change the \"yourdata\" to an appropriate name.\n",
    "yourdata<-c(1,2,3) will create a list of numbers 1, 2, 3 and would be named \"yourdata\"\n",
    "median(yourdata) will show the median of the data.\n",
    "mean(yourdata) will show the mean of the data.\n",
    "hist(yourdata) will create a histogram of the data.\n",
    "length(yourdata) will show how many entries you have in the list of data.\n",
    "t.test(yourdata1,yourdata2)"
   ]
  },
  {
   "cell_type": "markdown",
   "metadata": {
    "collapsed": false
   },
   "source": [
    "Today, you are going to build a marble run and time a number of small marbles while they complete the course.\n",
    "Record their times as a list of numbers."
   ]
  },
  {
   "cell_type": "code",
   "execution_count": 0,
   "metadata": {
    "collapsed": false
   },
   "outputs": [
   ],
   "source": [
    "smallmarbles<-c(1,2,3...)"
   ]
  },
  {
   "cell_type": "markdown",
   "metadata": {
    "collapsed": false
   },
   "source": [
    "In order to perform a t-test, your data must be approximately normally distributed. Is it? What does the histogram look like? How close are the mean and median? Add more data if needed."
   ]
  },
  {
   "cell_type": "code",
   "execution_count": 0,
   "metadata": {
    "collapsed": false
   },
   "outputs": [
   ],
   "source": [
   ]
  },
  {
   "cell_type": "code",
   "execution_count": 0,
   "metadata": {
    "collapsed": false
   },
   "outputs": [
   ],
   "source": [
   ]
  },
  {
   "cell_type": "markdown",
   "metadata": {
    "collapsed": false
   },
   "source": [
    "Now time the same number of large marbles while they complete the course. Record their times as a list of numbers. "
   ]
  },
  {
   "cell_type": "code",
   "execution_count": 0,
   "metadata": {
    "collapsed": false
   },
   "outputs": [
   ],
   "source": [
   ]
  },
  {
   "cell_type": "markdown",
   "metadata": {
    "collapsed": false
   },
   "source": [
    "As before, show that this data is also approximately normally distributed. What does the histogram look like? How close are the mean and median? "
   ]
  },
  {
   "cell_type": "code",
   "execution_count": 0,
   "metadata": {
    "collapsed": false
   },
   "outputs": [
   ],
   "source": [
   ]
  },
  {
   "cell_type": "code",
   "execution_count": 0,
   "metadata": {
    "collapsed": false
   },
   "outputs": [
   ],
   "source": [
   ]
  },
  {
   "cell_type": "markdown",
   "metadata": {
    "collapsed": false
   },
   "source": [
    "In order to perform a t-test, the sizes of both samples need to be close to equivalent. Are they? "
   ]
  },
  {
   "cell_type": "code",
   "execution_count": 0,
   "metadata": {
    "collapsed": false
   },
   "outputs": [
   ],
   "source": [
   ]
  },
  {
   "cell_type": "markdown",
   "metadata": {
    "collapsed": false
   },
   "source": [
    "Run the t-test. What are the means for each sample? "
   ]
  },
  {
   "cell_type": "code",
   "execution_count": 0,
   "metadata": {
    "collapsed": false
   },
   "outputs": [
   ],
   "source": [
   ]
  },
  {
   "cell_type": "markdown",
   "metadata": {
    "collapsed": false
   },
   "source": [
    "What is the p-value? What does the p-value mean? Which hypothesis does it support? "
   ]
  },
  {
   "cell_type": "code",
   "execution_count": 0,
   "metadata": {
    "collapsed": false
   },
   "outputs": [
   ],
   "source": [
   ]
  },
  {
   "cell_type": "markdown",
   "metadata": {
    "collapsed": false
   },
   "source": [
    "Do you know for certain that this hypothesis is correct? Explain. "
   ]
  },
  {
   "cell_type": "code",
   "execution_count": 0,
   "metadata": {
    "collapsed": false
   },
   "outputs": [
   ],
   "source": [
   ]
  },
  {
   "cell_type": "markdown",
   "metadata": {
    "collapsed": false
   },
   "source": [
    "Plan another similar experiment that we could realistically run in class or on campus in the coming weeks. Explain your experiment below. "
   ]
  },
  {
   "cell_type": "code",
   "execution_count": 0,
   "metadata": {
    "collapsed": false
   },
   "outputs": [
   ],
   "source": [
   ]
  }
 ],
 "metadata": {
  "kernelspec": {
   "display_name": "R (SageMath)",
   "language": "r",
   "metadata": {
    "cocalc": {
     "description": "SageMath's R language environment",
     "priority": 0,
     "url": "https://www.sagemath.org/"
    }
   },
   "name": "ir-sage"
  },
  "language_info": {
   "codemirror_mode": "r",
   "file_extension": ".r",
   "mimetype": "text/x-r-source",
   "name": "R",
   "pygments_lexer": "r",
   "version": "3.5.2"
  }
 },
 "nbformat": 4,
 "nbformat_minor": 0
}