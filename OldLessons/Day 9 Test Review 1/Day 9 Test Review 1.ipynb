{
 "cells": [
  {
   "cell_type": "markdown",
   "metadata": {
    "collapsed": false
   },
   "source": [
    "# Test Review 1\n",
    "\n",
    "The main topics that we want to cover for this test are the following ideas:\n",
    "\n",
    " * Scatter plots with and without the line of best fit (we can ask them to put specific titles and/or change the way the graph looks)\n",
    " * Simple linear regression\n",
    " * Multilinear regression\n",
    " * R-squared\n",
    " * Correlation\n",
    " * Residual plots\n",
    " * Finding predictions based on the models\n",
    "\n",
    "In this worksheet you will get to practice doing the calculations as well as improve your explanations of your work. "
   ]
  },
  {
   "cell_type": "code",
   "execution_count": 1,
   "metadata": {
    "collapsed": false
   },
   "outputs": [
    {
     "name": "stderr",
     "output_type": "stream",
     "text": [
      "\n",
      "Attaching package: ‘dplyr’\n",
      "\n"
     ]
    },
    {
     "name": "stderr",
     "output_type": "stream",
     "text": [
      "The following objects are masked from ‘package:stats’:\n",
      "\n",
      "    filter, lag\n",
      "\n"
     ]
    },
    {
     "name": "stderr",
     "output_type": "stream",
     "text": [
      "The following objects are masked from ‘package:base’:\n",
      "\n",
      "    intersect, setdiff, setequal, union\n",
      "\n"
     ]
    }
   ],
   "source": [
    "library(dplyr)\n",
    "library(ggplot2)\n"
   ]
  },
  {
   "cell_type": "code",
   "execution_count": 2,
   "metadata": {
    "collapsed": false
   },
   "outputs": [
   ],
   "source": [
    "iq<-read.csv(\"iqsize.csv\")"
   ]
  },
  {
   "cell_type": "code",
   "execution_count": 3,
   "metadata": {
    "collapsed": false
   },
   "outputs": [
    {
     "name": "stdout",
     "output_type": "stream",
     "text": [
      "'data.frame':\t38 obs. of  4 variables:\n",
      " $ PIQ   : int  124 150 128 134 110 131 98 84 147 124 ...\n",
      " $ Brain : num  81.7 103.8 96.5 95.2 92.9 ...\n",
      " $ Height: num  64.5 73.3 68.8 65 69 64.5 66 66.3 68.8 64.5 ...\n",
      " $ Weight: int  118 143 172 147 146 138 175 134 172 118 ...\n"
     ]
    }
   ],
   "source": [
    "str(iq)"
   ]
  },
  {
   "cell_type": "code",
   "execution_count": 4,
   "metadata": {
    "collapsed": false
   },
   "outputs": [
    {
     "data": {
      "text/html": [
       "<table>\n",
       "<thead><tr><th scope=col>PIQ</th><th scope=col>Brain</th><th scope=col>Height</th><th scope=col>Weight</th></tr></thead>\n",
       "<tbody>\n",
       "\t<tr><td>124   </td><td> 81.69</td><td>64.5  </td><td>118   </td></tr>\n",
       "\t<tr><td>150   </td><td>103.84</td><td>73.3  </td><td>143   </td></tr>\n",
       "\t<tr><td>128   </td><td> 96.54</td><td>68.8  </td><td>172   </td></tr>\n",
       "\t<tr><td>134   </td><td> 95.15</td><td>65.0  </td><td>147   </td></tr>\n",
       "\t<tr><td>110   </td><td> 92.88</td><td>69.0  </td><td>146   </td></tr>\n",
       "\t<tr><td>131   </td><td> 99.13</td><td>64.5  </td><td>138   </td></tr>\n",
       "</tbody>\n",
       "</table>\n"
      ]
     },
     "execution_count": 4,
     "metadata": {
     },
     "output_type": "execute_result"
    }
   ],
   "source": [
    "head(iq)"
   ]
  },
  {
   "cell_type": "markdown",
   "metadata": {
    "collapsed": false
   },
   "source": [
    "## Dataset iq\n",
    "\n",
    "The iq dataset looks at the relationship between iq and various measurements of the physical size of the brain. \n",
    "\n",
    "| Attribute | Explanation|\n",
    "|-----------|------------|\n",
    "|PIQ| The IQ score of the subject (unit: IQ Points)|\n",
    "|Brain| The size of the brain of the subject (unit: grams)|\n",
    "|Height| The height of the subject (unit: inches)|\n",
    "|Weight| The weight of the subject (unit: pounds)|"
   ]
  },
  {
   "cell_type": "markdown",
   "metadata": {
    "collapsed": false
   },
   "source": [
    "### Task 1\n",
    "\n",
    "Create a scatterplot that shows the relationship between IQ and Brain Size. (See Day 4)"
   ]
  },
  {
   "cell_type": "code",
   "execution_count": 0,
   "metadata": {
    "collapsed": false
   },
   "outputs": [
   ],
   "source": [
   ]
  },
  {
   "cell_type": "markdown",
   "metadata": {
    "collapsed": false
   },
   "source": [
    "### Task 2 \n",
    "\n",
    "Create a linear model that predicts the IQ based on the Brain Size. **Write a markdown cell that gives the equation that predicts IQ from Brain Size. Does your calculation indicate that Brain Size is a useful predictor for IQ?** (See Day 4)"
   ]
  },
  {
   "cell_type": "code",
   "execution_count": 0,
   "metadata": {
    "collapsed": false
   },
   "outputs": [
   ],
   "source": [
   ]
  },
  {
   "cell_type": "markdown",
   "metadata": {
    "collapsed": false
   },
   "source": [
   ]
  },
  {
   "cell_type": "markdown",
   "metadata": {
    "collapsed": false
   },
   "source": [
    "### Task 3\n",
    "\n",
    "Create a scatterplot that shows the relationship between the IQ and Brain Size and add in the line of best fit that you found in Task 2. (See Day 4)"
   ]
  },
  {
   "cell_type": "code",
   "execution_count": 0,
   "metadata": {
    "collapsed": false
   },
   "outputs": [
   ],
   "source": [
   ]
  },
  {
   "cell_type": "markdown",
   "metadata": {
    "collapsed": false
   },
   "source": [
    "### Task 4\n",
    "\n",
    "Create a table that shows the correlations between the all the quantitative variables in this dataset. **Write a markdown cell indicating the strength of the correlation between PIQ and the other attributes.** (See Day 5)"
   ]
  },
  {
   "cell_type": "code",
   "execution_count": 0,
   "metadata": {
    "collapsed": false
   },
   "outputs": [
   ],
   "source": [
   ]
  },
  {
   "cell_type": "markdown",
   "metadata": {
    "collapsed": false
   },
   "source": [
   ]
  },
  {
   "cell_type": "markdown",
   "metadata": {
    "collapsed": false
   },
   "source": [
    "### Task 5\n",
    "\n",
    "Create a residual plot for the model that you have found in Task 2. **What does the residual plot say about the model that we have found in Task 2?** (See Day 4)"
   ]
  },
  {
   "cell_type": "code",
   "execution_count": 0,
   "metadata": {
    "collapsed": false
   },
   "outputs": [
   ],
   "source": [
   ]
  },
  {
   "cell_type": "markdown",
   "metadata": {
    "collapsed": false
   },
   "source": [
   ]
  },
  {
   "cell_type": "markdown",
   "metadata": {
    "collapsed": false
   },
   "source": [
    "### Task 6\n",
    "\n",
    "Create a multilinear model for PIQ from the attributes in this dataset. Only use those attributes that seem demonstrated to be relevant to PIQ. **In a markdown cell, write the equation for PIQ that is given by your model. And then describe what the is the meaning of the $R^2$ value given by the model.** (See Day 5)"
   ]
  },
  {
   "cell_type": "code",
   "execution_count": 0,
   "metadata": {
    "collapsed": false
   },
   "outputs": [
   ],
   "source": [
   ]
  },
  {
   "cell_type": "markdown",
   "metadata": {
    "collapsed": false
   },
   "source": [
   ]
  },
  {
   "cell_type": "markdown",
   "metadata": {
    "collapsed": false
   },
   "source": [
    "### Task 7\n",
    "\n",
    "Use your simple model from Task 2 and your model from Task 6 to create two different predictions for an individuls with the following values (See Day 4 and Day 5):\n",
    "\n",
    "|Attribute| Value|\n",
    "|---------|------|\n",
    "|Brain|93.4|\n",
    "|Height|71.4|\n",
    "|Weight|190.2|"
   ]
  },
  {
   "cell_type": "code",
   "execution_count": 0,
   "metadata": {
    "collapsed": false
   },
   "outputs": [
   ],
   "source": [
   ]
  },
  {
   "cell_type": "markdown",
   "metadata": {
    "collapsed": false
   },
   "source": [
    "### Task 8\n",
    "\n",
    "**Create a plot showing scatterplots of all the numeric variables in pairs.** (See Day 5)"
   ]
  },
  {
   "cell_type": "code",
   "execution_count": 0,
   "metadata": {
    "collapsed": false
   },
   "outputs": [
   ],
   "source": [
   ]
  },
  {
   "cell_type": "markdown",
   "metadata": {
    "collapsed": false
   },
   "source": [
    "### Task 9\n",
    "\n",
    "Create a boxplot for the residuals from your multilinear model in Task 6. In a markdown cell explain what the boxplot tells you about the possible errors from your model. "
   ]
  },
  {
   "cell_type": "code",
   "execution_count": 0,
   "metadata": {
    "collapsed": false
   },
   "outputs": [
   ],
   "source": [
   ]
  },
  {
   "cell_type": "markdown",
   "metadata": {
    "collapsed": false
   },
   "source": [
   ]
  },
  {
   "cell_type": "markdown",
   "metadata": {
    "collapsed": false
   },
   "source": [
    "### Task 10\n",
    "\n",
    "**Explain what each of the coefficients of your multilinear model from Task 6 mean in context of the dataset.**\n"
   ]
  },
  {
   "cell_type": "markdown",
   "metadata": {
    "collapsed": false
   },
   "source": [
   ]
  }
 ],
 "metadata": {
  "kernelspec": {
   "display_name": "R (SageMath)",
   "language": "r",
   "name": "ir-sage"
  }
 },
 "nbformat": 4,
 "nbformat_minor": 0
}