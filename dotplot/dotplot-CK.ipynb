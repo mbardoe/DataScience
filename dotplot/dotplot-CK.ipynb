{
 "cells": [
  {
   "cell_type": "code",
   "execution_count": 1,
   "metadata": {
    "collapsed": false
   },
   "outputs": [
    {
     "name": "stderr",
     "output_type": "stream",
     "text": [
      "\n",
      "Attaching package: ‘dplyr’\n",
      "\n"
     ]
    },
    {
     "name": "stderr",
     "output_type": "stream",
     "text": [
      "The following objects are masked from ‘package:stats’:\n",
      "\n",
      "    filter, lag\n",
      "\n"
     ]
    },
    {
     "name": "stderr",
     "output_type": "stream",
     "text": [
      "The following objects are masked from ‘package:base’:\n",
      "\n",
      "    intersect, setdiff, setequal, union\n",
      "\n"
     ]
    }
   ],
   "source": [
    "library(ggplot2) \n",
    "library(dplyr)"
   ]
  },
  {
   "cell_type": "code",
   "execution_count": 2,
   "metadata": {
    "collapsed": false
   },
   "outputs": [
   ],
   "source": [
    "data<-read.csv(\"prop.csv\")"
   ]
  },
  {
   "cell_type": "code",
   "execution_count": 3,
   "metadata": {
    "collapsed": false
   },
   "outputs": [
    {
     "name": "stdout",
     "output_type": "stream",
     "text": [
      "'data.frame':\t120 obs. of  15 variables:\n",
      " $ Burns    : int  12 17 6 19 17 11 12 19 12 17 ...\n",
      " $ Deluca   : logi  NA NA NA NA NA NA ...\n",
      " $ Juma     : int  10 15 24 12 16 15 11 21 8 11 ...\n",
      " $ Kassinove: int  14 12 11 11 13 12 8 15 14 18 ...\n",
      " $ Knaus    : int  12 18 14 11 20 11 12 17 15 14 ...\n",
      " $ Nzeako   : int  14 12 10 11 12 12 9 12 13 15 ...\n",
      " $ Offenberg: int  12 21 9 9 11 11 21 9 19 16 ...\n",
      " $ Peters   : int  12 18 14 11 20 11 12 17 15 14 ...\n",
      " $ Polansky : int  18 17 12 13 14 10 13 14 14 15 ...\n",
      " $ Propper  : int  17 13 12 15 12 14 15 14 14 14 ...\n",
      " $ Sanborn  : int  10 11 11 16 11 13 13 14 11 12 ...\n",
      " $ Silich   : int  14 14 14 20 17 14 21 16 20 16 ...\n",
      " $ Wareck   : int  17 17 12 21 21 9 15 16 19 14 ...\n",
      " $ X        : logi  NA NA NA NA NA NA ...\n",
      " $ Combined : int  12 17 6 19 17 11 12 19 12 17 ...\n"
     ]
    },
    {
     "data": {
      "text/html": [
       "<table>\n",
       "<thead><tr><th scope=col>Burns</th><th scope=col>Deluca</th><th scope=col>Juma</th><th scope=col>Kassinove</th><th scope=col>Knaus</th><th scope=col>Nzeako</th><th scope=col>Offenberg</th><th scope=col>Peters</th><th scope=col>Polansky</th><th scope=col>Propper</th><th scope=col>Sanborn</th><th scope=col>Silich</th><th scope=col>Wareck</th><th scope=col>X</th><th scope=col>Combined</th></tr></thead>\n",
       "<tbody>\n",
       "\t<tr><td>12</td><td>NA</td><td>10</td><td>14</td><td>12</td><td>14</td><td>12</td><td>12</td><td>18</td><td>17</td><td>10</td><td>14</td><td>17</td><td>NA</td><td>12</td></tr>\n",
       "\t<tr><td>17</td><td>NA</td><td>15</td><td>12</td><td>18</td><td>12</td><td>21</td><td>18</td><td>17</td><td>13</td><td>11</td><td>14</td><td>17</td><td>NA</td><td>17</td></tr>\n",
       "\t<tr><td> 6</td><td>NA</td><td>24</td><td>11</td><td>14</td><td>10</td><td> 9</td><td>14</td><td>12</td><td>12</td><td>11</td><td>14</td><td>12</td><td>NA</td><td> 6</td></tr>\n",
       "\t<tr><td>19</td><td>NA</td><td>12</td><td>11</td><td>11</td><td>11</td><td> 9</td><td>11</td><td>13</td><td>15</td><td>16</td><td>20</td><td>21</td><td>NA</td><td>19</td></tr>\n",
       "\t<tr><td>17</td><td>NA</td><td>16</td><td>13</td><td>20</td><td>12</td><td>11</td><td>20</td><td>14</td><td>12</td><td>11</td><td>17</td><td>21</td><td>NA</td><td>17</td></tr>\n",
       "\t<tr><td>11</td><td>NA</td><td>15</td><td>12</td><td>11</td><td>12</td><td>11</td><td>11</td><td>10</td><td>14</td><td>13</td><td>14</td><td> 9</td><td>NA</td><td>11</td></tr>\n",
       "</tbody>\n",
       "</table>\n"
      ]
     },
     "execution_count": 3,
     "metadata": {
     },
     "output_type": "execute_result"
    }
   ],
   "source": [
    "str(data)\n",
    "head(data)"
   ]
  },
  {
   "cell_type": "code",
   "execution_count": 19,
   "metadata": {
    "collapsed": false
   },
   "outputs": [
   ],
   "source": [
    "data <- data %>%\n",
    "mutate (percent= Porportion/200)"
   ]
  },
  {
   "cell_type": "code",
   "execution_count": 20,
   "metadata": {
    "collapsed": false
   },
   "outputs": [
    {
     "name": "stdout",
     "output_type": "stream",
     "text": [
      "'data.frame':\t121 obs. of  2 variables:\n",
      " $ Porportion: int  134 119 125 127 128 124 127 112 131 123 ...\n",
      " $ percent   : num  0.67 0.595 0.625 0.635 0.64 0.62 0.635 0.56 0.655 0.615 ...\n"
     ]
    },
    {
     "data": {
      "text/html": [
       "<table>\n",
       "<thead><tr><th scope=col>Porportion</th><th scope=col>percent</th></tr></thead>\n",
       "<tbody>\n",
       "\t<tr><td>134  </td><td>0.670</td></tr>\n",
       "\t<tr><td>119  </td><td>0.595</td></tr>\n",
       "\t<tr><td>125  </td><td>0.625</td></tr>\n",
       "\t<tr><td>127  </td><td>0.635</td></tr>\n",
       "\t<tr><td>128  </td><td>0.640</td></tr>\n",
       "\t<tr><td>124  </td><td>0.620</td></tr>\n",
       "</tbody>\n",
       "</table>\n"
      ]
     },
     "execution_count": 20,
     "metadata": {
     },
     "output_type": "execute_result"
    }
   ],
   "source": [
    "\n",
    "str(data)\n",
    "head(data)"
   ]
  },
  {
   "cell_type": "code",
   "execution_count": 4,
   "metadata": {
    "collapsed": false
   },
   "outputs": [
    {
     "name": "stderr",
     "output_type": "stream",
     "text": [
      "`stat_bindot()` using `bins = 30`. Pick better value with `binwidth`.\n"
     ]
    },
    {
     "name": "stderr",
     "output_type": "stream",
     "text": [
      "WARNING: Some output was deleted.\n"
     ]
    }
   ],
   "source": [
    "ggplot(data, aes(x=Combined)) + geom_dotplot(binaxis='x') +\n",
    "  scale_y_continuous(NULL, breaks = NULL)"
   ]
  },
  {
   "cell_type": "code",
   "execution_count": 24,
   "metadata": {
    "collapsed": false
   },
   "outputs": [
    {
     "data": {
      "text/html": [
       "50.372201618959"
      ]
     },
     "execution_count": 24,
     "metadata": {
     },
     "output_type": "execute_result"
    }
   ],
   "source": [
    "mean(data$Normal)"
   ]
  },
  {
   "cell_type": "code",
   "execution_count": 25,
   "metadata": {
    "collapsed": false
   },
   "outputs": [
    {
     "data": {
      "text/html": [
       "15.9809406859038"
      ]
     },
     "execution_count": 25,
     "metadata": {
     },
     "output_type": "execute_result"
    }
   ],
   "source": [
    "sd(data$Normal)"
   ]
  },
  {
   "cell_type": "code",
   "execution_count": 12,
   "metadata": {
    "collapsed": false
   },
   "outputs": [
    {
     "data": {
      "text/html": [
       "3"
      ]
     },
     "execution_count": 12,
     "metadata": {
     },
     "output_type": "execute_result"
    }
   ],
   "source": [
    "sqrt(9)"
   ]
  },
  {
   "cell_type": "code",
   "execution_count": 13,
   "metadata": {
    "collapsed": false
   },
   "outputs": [
    {
     "data": {
      "text/html": [
       "0.0678822509939086"
      ]
     },
     "execution_count": 13,
     "metadata": {
     },
     "output_type": "execute_result"
    }
   ],
   "source": [
    "2*sqrt(.64*(1-.64)/200)"
   ]
  },
  {
   "cell_type": "code",
   "execution_count": 14,
   "metadata": {
    "collapsed": false
   },
   "outputs": [
    {
     "data": {
      "text/html": [
       "0.135764501987817"
      ]
     },
     "execution_count": 14,
     "metadata": {
     },
     "output_type": "execute_result"
    }
   ],
   "source": [
    "2*sqrt(.64*(1-.64)/50)"
   ]
  },
  {
   "cell_type": "code",
   "execution_count": 0,
   "metadata": {
    "collapsed": false
   },
   "outputs": [
   ],
   "source": [
   ]
  }
 ],
 "metadata": {
  "kernelspec": {
   "display_name": "R (SageMath)",
   "language": "r",
   "name": "ir-sage"
  },
  "language_info": {
   "codemirror_mode": "r",
   "file_extension": ".r",
   "mimetype": "text/x-r-source",
   "name": "R",
   "pygments_lexer": "r",
   "version": "3.4.4"
  }
 },
 "nbformat": 4,
 "nbformat_minor": 0
}